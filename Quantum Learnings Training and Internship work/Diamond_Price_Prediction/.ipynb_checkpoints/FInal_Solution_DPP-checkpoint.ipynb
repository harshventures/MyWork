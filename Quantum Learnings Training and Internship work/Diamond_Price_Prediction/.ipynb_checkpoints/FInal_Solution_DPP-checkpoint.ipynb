{
 "cells": [
  {
   "cell_type": "markdown",
   "id": "715172f2",
   "metadata": {},
   "source": [
    "# Diamond Price Modelling"
   ]
  },
  {
   "cell_type": "markdown",
   "id": "34f42dfa",
   "metadata": {},
   "source": [
    "<a id=\"link1\"></a>\n"
   ]
  },
  {
   "cell_type": "markdown",
   "id": "6559ea42",
   "metadata": {},
   "source": [
    "### Importing the important libraries required for this project and getting the data from the dataset"
   ]
  },
  {
   "cell_type": "code",
   "execution_count": 1,
   "id": "73bf409b",
   "metadata": {},
   "outputs": [],
   "source": [
    "import pandas as pd\n",
    "import numpy as np\n",
    "import math\n",
    "import matplotlib.pyplot as plt\n",
    "import seaborn as sns\n",
    "sns.set()\n",
    "import warnings\n",
    "warnings.filterwarnings(action = \"ignore\")"
   ]
  },
  {
   "cell_type": "code",
   "execution_count": 2,
   "id": "e3b038b4",
   "metadata": {},
   "outputs": [],
   "source": [
    "diamonds = pd.read_csv(\"Diamond Price Prediction.csv\")"
   ]
  },
  {
   "cell_type": "markdown",
   "id": "14d37f59",
   "metadata": {},
   "source": [
    "**Now let's take a look at our diamond dataset.**"
   ]
  },
  {
   "cell_type": "code",
   "execution_count": 3,
   "id": "96b42a27",
   "metadata": {},
   "outputs": [
    {
     "data": {
      "text/html": [
       "<div>\n",
       "<style scoped>\n",
       "    .dataframe tbody tr th:only-of-type {\n",
       "        vertical-align: middle;\n",
       "    }\n",
       "\n",
       "    .dataframe tbody tr th {\n",
       "        vertical-align: top;\n",
       "    }\n",
       "\n",
       "    .dataframe thead th {\n",
       "        text-align: right;\n",
       "    }\n",
       "</style>\n",
       "<table border=\"1\" class=\"dataframe\">\n",
       "  <thead>\n",
       "    <tr style=\"text-align: right;\">\n",
       "      <th></th>\n",
       "      <th>Unnamed: 0</th>\n",
       "      <th>carat</th>\n",
       "      <th>cut</th>\n",
       "      <th>color</th>\n",
       "      <th>clarity</th>\n",
       "      <th>depth</th>\n",
       "      <th>table</th>\n",
       "      <th>price</th>\n",
       "      <th>x</th>\n",
       "      <th>y</th>\n",
       "      <th>z</th>\n",
       "    </tr>\n",
       "  </thead>\n",
       "  <tbody>\n",
       "    <tr>\n",
       "      <th>0</th>\n",
       "      <td>1</td>\n",
       "      <td>0.23</td>\n",
       "      <td>Ideal</td>\n",
       "      <td>E</td>\n",
       "      <td>SI2</td>\n",
       "      <td>61.5</td>\n",
       "      <td>55.0</td>\n",
       "      <td>326</td>\n",
       "      <td>3.95</td>\n",
       "      <td>3.98</td>\n",
       "      <td>2.43</td>\n",
       "    </tr>\n",
       "    <tr>\n",
       "      <th>1</th>\n",
       "      <td>2</td>\n",
       "      <td>0.21</td>\n",
       "      <td>Premium</td>\n",
       "      <td>E</td>\n",
       "      <td>SI1</td>\n",
       "      <td>59.8</td>\n",
       "      <td>61.0</td>\n",
       "      <td>326</td>\n",
       "      <td>3.89</td>\n",
       "      <td>3.84</td>\n",
       "      <td>2.31</td>\n",
       "    </tr>\n",
       "    <tr>\n",
       "      <th>2</th>\n",
       "      <td>3</td>\n",
       "      <td>0.23</td>\n",
       "      <td>Good</td>\n",
       "      <td>E</td>\n",
       "      <td>VS1</td>\n",
       "      <td>56.9</td>\n",
       "      <td>65.0</td>\n",
       "      <td>327</td>\n",
       "      <td>4.05</td>\n",
       "      <td>4.07</td>\n",
       "      <td>2.31</td>\n",
       "    </tr>\n",
       "    <tr>\n",
       "      <th>3</th>\n",
       "      <td>4</td>\n",
       "      <td>0.29</td>\n",
       "      <td>Premium</td>\n",
       "      <td>I</td>\n",
       "      <td>VS2</td>\n",
       "      <td>62.4</td>\n",
       "      <td>58.0</td>\n",
       "      <td>334</td>\n",
       "      <td>4.20</td>\n",
       "      <td>4.23</td>\n",
       "      <td>2.63</td>\n",
       "    </tr>\n",
       "    <tr>\n",
       "      <th>4</th>\n",
       "      <td>5</td>\n",
       "      <td>0.31</td>\n",
       "      <td>Good</td>\n",
       "      <td>J</td>\n",
       "      <td>SI2</td>\n",
       "      <td>63.3</td>\n",
       "      <td>58.0</td>\n",
       "      <td>335</td>\n",
       "      <td>4.34</td>\n",
       "      <td>4.35</td>\n",
       "      <td>2.75</td>\n",
       "    </tr>\n",
       "  </tbody>\n",
       "</table>\n",
       "</div>"
      ],
      "text/plain": [
       "   Unnamed: 0  carat      cut color clarity  depth  table  price     x     y  \\\n",
       "0           1   0.23    Ideal     E     SI2   61.5   55.0    326  3.95  3.98   \n",
       "1           2   0.21  Premium     E     SI1   59.8   61.0    326  3.89  3.84   \n",
       "2           3   0.23     Good     E     VS1   56.9   65.0    327  4.05  4.07   \n",
       "3           4   0.29  Premium     I     VS2   62.4   58.0    334  4.20  4.23   \n",
       "4           5   0.31     Good     J     SI2   63.3   58.0    335  4.34  4.35   \n",
       "\n",
       "      z  \n",
       "0  2.43  \n",
       "1  2.31  \n",
       "2  2.31  \n",
       "3  2.63  \n",
       "4  2.75  "
      ]
     },
     "execution_count": 3,
     "metadata": {},
     "output_type": "execute_result"
    }
   ],
   "source": [
    "diamonds.head()"
   ]
  },
  {
   "cell_type": "code",
   "execution_count": 4,
   "id": "a22b6eb7",
   "metadata": {},
   "outputs": [
    {
     "name": "stdout",
     "output_type": "stream",
     "text": [
      "<class 'pandas.core.frame.DataFrame'>\n",
      "RangeIndex: 53940 entries, 0 to 53939\n",
      "Data columns (total 11 columns):\n",
      " #   Column      Non-Null Count  Dtype  \n",
      "---  ------      --------------  -----  \n",
      " 0   Unnamed: 0  53940 non-null  int64  \n",
      " 1   carat       53940 non-null  float64\n",
      " 2   cut         53940 non-null  object \n",
      " 3   color       53940 non-null  object \n",
      " 4   clarity     53940 non-null  object \n",
      " 5   depth       53940 non-null  float64\n",
      " 6   table       53940 non-null  float64\n",
      " 7   price       53940 non-null  int64  \n",
      " 8   x           53940 non-null  float64\n",
      " 9   y           53940 non-null  float64\n",
      " 10  z           53940 non-null  float64\n",
      "dtypes: float64(6), int64(2), object(3)\n",
      "memory usage: 4.5+ MB\n"
     ]
    }
   ],
   "source": [
    "diamonds.info()"
   ]
  },
  {
   "cell_type": "markdown",
   "id": "24fc0d2d",
   "metadata": {},
   "source": [
    "### Features of the Dataset\n",
    "\n",
    "- **Carat** weight of the diamond\n",
    "- **cut** Describe cut quality of the diamond. Quality in increasing order Fair, Good, Very Good, Premium, Ideal - - - **color** Color of the diamond, with D being the best and J the worst\n",
    "- **clarity** How obvious inclusions are within the diamond:(in order from best to worst, FL = flawless, I3= level 3 inclusions) FL,IF, VVS1, VVS2, VS1, VS2, SI1, SI2, I1, I2, I3\n",
    "- **depth** The height of a diamond, measured from the culet to the table, divided by its average girdle diameter\n",
    "- **table** The width of the diamond's table expressed as a percentage of its average diameter\n",
    "- **price** the price of the diamond\n",
    "- **x** length mm\n",
    "- **y** width mm\n",
    "- **z** depth mm"
   ]
  },
  {
   "cell_type": "code",
   "execution_count": 5,
   "id": "3b97e2cf",
   "metadata": {},
   "outputs": [
    {
     "data": {
      "text/plain": [
       "cut\n",
       "Ideal        21551\n",
       "Premium      13791\n",
       "Very Good    12082\n",
       "Good          4906\n",
       "Fair          1610\n",
       "Name: count, dtype: int64"
      ]
     },
     "execution_count": 5,
     "metadata": {},
     "output_type": "execute_result"
    }
   ],
   "source": [
    "diamonds[\"cut\"].value_counts()"
   ]
  },
  {
   "cell_type": "code",
   "execution_count": 6,
   "id": "52c1f657",
   "metadata": {},
   "outputs": [
    {
     "data": {
      "text/plain": [
       "color\n",
       "G    11292\n",
       "E     9797\n",
       "F     9542\n",
       "H     8304\n",
       "D     6775\n",
       "I     5422\n",
       "J     2808\n",
       "Name: count, dtype: int64"
      ]
     },
     "execution_count": 6,
     "metadata": {},
     "output_type": "execute_result"
    }
   ],
   "source": [
    "diamonds[\"color\"].value_counts()"
   ]
  },
  {
   "cell_type": "code",
   "execution_count": 7,
   "id": "abcc9c1b",
   "metadata": {},
   "outputs": [
    {
     "data": {
      "text/plain": [
       "clarity\n",
       "SI1     13065\n",
       "VS2     12258\n",
       "SI2      9194\n",
       "VS1      8171\n",
       "VVS2     5066\n",
       "VVS1     3655\n",
       "IF       1790\n",
       "I1        741\n",
       "Name: count, dtype: int64"
      ]
     },
     "execution_count": 7,
     "metadata": {},
     "output_type": "execute_result"
    }
   ],
   "source": [
    "diamonds[\"clarity\"].value_counts()"
   ]
  },
  {
   "cell_type": "markdown",
   "id": "8c568666",
   "metadata": {},
   "source": [
    "### Dropping the unnecessary column Unnamed: 0"
   ]
  },
  {
   "cell_type": "code",
   "execution_count": 8,
   "id": "c283b852",
   "metadata": {},
   "outputs": [],
   "source": [
    "# Price is of different data type and unnecessary column \"Unnamed\"\n",
    "diamonds = diamonds.drop(\"Unnamed: 0\",axis = 1)\n",
    "diamonds[\"price\"] = diamonds[\"price\"].astype(\"float64\")"
   ]
  },
  {
   "cell_type": "code",
   "execution_count": 9,
   "id": "8441c550",
   "metadata": {},
   "outputs": [
    {
     "data": {
      "text/html": [
       "<div>\n",
       "<style scoped>\n",
       "    .dataframe tbody tr th:only-of-type {\n",
       "        vertical-align: middle;\n",
       "    }\n",
       "\n",
       "    .dataframe tbody tr th {\n",
       "        vertical-align: top;\n",
       "    }\n",
       "\n",
       "    .dataframe thead th {\n",
       "        text-align: right;\n",
       "    }\n",
       "</style>\n",
       "<table border=\"1\" class=\"dataframe\">\n",
       "  <thead>\n",
       "    <tr style=\"text-align: right;\">\n",
       "      <th></th>\n",
       "      <th>carat</th>\n",
       "      <th>cut</th>\n",
       "      <th>color</th>\n",
       "      <th>clarity</th>\n",
       "      <th>depth</th>\n",
       "      <th>table</th>\n",
       "      <th>price</th>\n",
       "      <th>x</th>\n",
       "      <th>y</th>\n",
       "      <th>z</th>\n",
       "    </tr>\n",
       "  </thead>\n",
       "  <tbody>\n",
       "    <tr>\n",
       "      <th>0</th>\n",
       "      <td>0.23</td>\n",
       "      <td>Ideal</td>\n",
       "      <td>E</td>\n",
       "      <td>SI2</td>\n",
       "      <td>61.5</td>\n",
       "      <td>55.0</td>\n",
       "      <td>326.0</td>\n",
       "      <td>3.95</td>\n",
       "      <td>3.98</td>\n",
       "      <td>2.43</td>\n",
       "    </tr>\n",
       "    <tr>\n",
       "      <th>1</th>\n",
       "      <td>0.21</td>\n",
       "      <td>Premium</td>\n",
       "      <td>E</td>\n",
       "      <td>SI1</td>\n",
       "      <td>59.8</td>\n",
       "      <td>61.0</td>\n",
       "      <td>326.0</td>\n",
       "      <td>3.89</td>\n",
       "      <td>3.84</td>\n",
       "      <td>2.31</td>\n",
       "    </tr>\n",
       "    <tr>\n",
       "      <th>2</th>\n",
       "      <td>0.23</td>\n",
       "      <td>Good</td>\n",
       "      <td>E</td>\n",
       "      <td>VS1</td>\n",
       "      <td>56.9</td>\n",
       "      <td>65.0</td>\n",
       "      <td>327.0</td>\n",
       "      <td>4.05</td>\n",
       "      <td>4.07</td>\n",
       "      <td>2.31</td>\n",
       "    </tr>\n",
       "    <tr>\n",
       "      <th>3</th>\n",
       "      <td>0.29</td>\n",
       "      <td>Premium</td>\n",
       "      <td>I</td>\n",
       "      <td>VS2</td>\n",
       "      <td>62.4</td>\n",
       "      <td>58.0</td>\n",
       "      <td>334.0</td>\n",
       "      <td>4.20</td>\n",
       "      <td>4.23</td>\n",
       "      <td>2.63</td>\n",
       "    </tr>\n",
       "    <tr>\n",
       "      <th>4</th>\n",
       "      <td>0.31</td>\n",
       "      <td>Good</td>\n",
       "      <td>J</td>\n",
       "      <td>SI2</td>\n",
       "      <td>63.3</td>\n",
       "      <td>58.0</td>\n",
       "      <td>335.0</td>\n",
       "      <td>4.34</td>\n",
       "      <td>4.35</td>\n",
       "      <td>2.75</td>\n",
       "    </tr>\n",
       "  </tbody>\n",
       "</table>\n",
       "</div>"
      ],
      "text/plain": [
       "   carat      cut color clarity  depth  table  price     x     y     z\n",
       "0   0.23    Ideal     E     SI2   61.5   55.0  326.0  3.95  3.98  2.43\n",
       "1   0.21  Premium     E     SI1   59.8   61.0  326.0  3.89  3.84  2.31\n",
       "2   0.23     Good     E     VS1   56.9   65.0  327.0  4.05  4.07  2.31\n",
       "3   0.29  Premium     I     VS2   62.4   58.0  334.0  4.20  4.23  2.63\n",
       "4   0.31     Good     J     SI2   63.3   58.0  335.0  4.34  4.35  2.75"
      ]
     },
     "execution_count": 9,
     "metadata": {},
     "output_type": "execute_result"
    }
   ],
   "source": [
    "diamonds.head()"
   ]
  },
  {
   "cell_type": "code",
   "execution_count": 10,
   "id": "f1c065f3",
   "metadata": {},
   "outputs": [
    {
     "data": {
      "text/html": [
       "<div>\n",
       "<style scoped>\n",
       "    .dataframe tbody tr th:only-of-type {\n",
       "        vertical-align: middle;\n",
       "    }\n",
       "\n",
       "    .dataframe tbody tr th {\n",
       "        vertical-align: top;\n",
       "    }\n",
       "\n",
       "    .dataframe thead th {\n",
       "        text-align: right;\n",
       "    }\n",
       "</style>\n",
       "<table border=\"1\" class=\"dataframe\">\n",
       "  <thead>\n",
       "    <tr style=\"text-align: right;\">\n",
       "      <th></th>\n",
       "      <th>carat</th>\n",
       "      <th>depth</th>\n",
       "      <th>table</th>\n",
       "      <th>price</th>\n",
       "      <th>x</th>\n",
       "      <th>y</th>\n",
       "      <th>z</th>\n",
       "    </tr>\n",
       "  </thead>\n",
       "  <tbody>\n",
       "    <tr>\n",
       "      <th>count</th>\n",
       "      <td>53940.000000</td>\n",
       "      <td>53940.000000</td>\n",
       "      <td>53940.000000</td>\n",
       "      <td>53940.000000</td>\n",
       "      <td>53940.000000</td>\n",
       "      <td>53940.000000</td>\n",
       "      <td>53940.000000</td>\n",
       "    </tr>\n",
       "    <tr>\n",
       "      <th>mean</th>\n",
       "      <td>0.797940</td>\n",
       "      <td>61.749405</td>\n",
       "      <td>57.457184</td>\n",
       "      <td>3932.799722</td>\n",
       "      <td>5.731157</td>\n",
       "      <td>5.734526</td>\n",
       "      <td>3.538734</td>\n",
       "    </tr>\n",
       "    <tr>\n",
       "      <th>std</th>\n",
       "      <td>0.474011</td>\n",
       "      <td>1.432621</td>\n",
       "      <td>2.234491</td>\n",
       "      <td>3989.439738</td>\n",
       "      <td>1.121761</td>\n",
       "      <td>1.142135</td>\n",
       "      <td>0.705699</td>\n",
       "    </tr>\n",
       "    <tr>\n",
       "      <th>min</th>\n",
       "      <td>0.200000</td>\n",
       "      <td>43.000000</td>\n",
       "      <td>43.000000</td>\n",
       "      <td>326.000000</td>\n",
       "      <td>0.000000</td>\n",
       "      <td>0.000000</td>\n",
       "      <td>0.000000</td>\n",
       "    </tr>\n",
       "    <tr>\n",
       "      <th>25%</th>\n",
       "      <td>0.400000</td>\n",
       "      <td>61.000000</td>\n",
       "      <td>56.000000</td>\n",
       "      <td>950.000000</td>\n",
       "      <td>4.710000</td>\n",
       "      <td>4.720000</td>\n",
       "      <td>2.910000</td>\n",
       "    </tr>\n",
       "    <tr>\n",
       "      <th>50%</th>\n",
       "      <td>0.700000</td>\n",
       "      <td>61.800000</td>\n",
       "      <td>57.000000</td>\n",
       "      <td>2401.000000</td>\n",
       "      <td>5.700000</td>\n",
       "      <td>5.710000</td>\n",
       "      <td>3.530000</td>\n",
       "    </tr>\n",
       "    <tr>\n",
       "      <th>75%</th>\n",
       "      <td>1.040000</td>\n",
       "      <td>62.500000</td>\n",
       "      <td>59.000000</td>\n",
       "      <td>5324.250000</td>\n",
       "      <td>6.540000</td>\n",
       "      <td>6.540000</td>\n",
       "      <td>4.040000</td>\n",
       "    </tr>\n",
       "    <tr>\n",
       "      <th>max</th>\n",
       "      <td>5.010000</td>\n",
       "      <td>79.000000</td>\n",
       "      <td>95.000000</td>\n",
       "      <td>18823.000000</td>\n",
       "      <td>10.740000</td>\n",
       "      <td>58.900000</td>\n",
       "      <td>31.800000</td>\n",
       "    </tr>\n",
       "  </tbody>\n",
       "</table>\n",
       "</div>"
      ],
      "text/plain": [
       "              carat         depth         table         price             x  \\\n",
       "count  53940.000000  53940.000000  53940.000000  53940.000000  53940.000000   \n",
       "mean       0.797940     61.749405     57.457184   3932.799722      5.731157   \n",
       "std        0.474011      1.432621      2.234491   3989.439738      1.121761   \n",
       "min        0.200000     43.000000     43.000000    326.000000      0.000000   \n",
       "25%        0.400000     61.000000     56.000000    950.000000      4.710000   \n",
       "50%        0.700000     61.800000     57.000000   2401.000000      5.700000   \n",
       "75%        1.040000     62.500000     59.000000   5324.250000      6.540000   \n",
       "max        5.010000     79.000000     95.000000  18823.000000     10.740000   \n",
       "\n",
       "                  y             z  \n",
       "count  53940.000000  53940.000000  \n",
       "mean       5.734526      3.538734  \n",
       "std        1.142135      0.705699  \n",
       "min        0.000000      0.000000  \n",
       "25%        4.720000      2.910000  \n",
       "50%        5.710000      3.530000  \n",
       "75%        6.540000      4.040000  \n",
       "max       58.900000     31.800000  "
      ]
     },
     "execution_count": 10,
     "metadata": {},
     "output_type": "execute_result"
    }
   ],
   "source": [
    "diamonds.describe()"
   ]
  },
  {
   "cell_type": "markdown",
   "id": "a57dec42",
   "metadata": {},
   "source": [
    "### Plotting Histogram to get an idea about the different features/attributes of the dataset"
   ]
  },
  {
   "cell_type": "code",
   "execution_count": 11,
   "id": "3cdae4ea",
   "metadata": {},
   "outputs": [
    {
     "data": {
      "image/png": "[encoded data removed]",
      "text/plain": [
       "<Figure size 2000x1500 with 9 Axes>"
      ]
     },
     "metadata": {},
     "output_type": "display_data"
    }
   ],
   "source": [
    "diamonds.hist(bins = 50, figsize = (20,15))\n",
    "plt.show()"
   ]
  },
  {
   "cell_type": "markdown",
   "id": "5be19b14",
   "metadata": {},
   "source": [
    "<a id=\"link2\"></a>"
   ]
  },
  {
   "cell_type": "markdown",
   "id": "3a0739b1",
   "metadata": {},
   "source": [
    "## Exploring Correlation between Features"
   ]
  },
  {
   "cell_type": "code",
   "execution_count": 12,
   "id": "db8474be",
   "metadata": {},
   "outputs": [
    {
     "ename": "ValueError",
     "evalue": "could not convert string to float: 'Ideal'",
     "output_type": "error",
     "traceback": [
      "\u001b[1;31m---------------------------------------------------------------------------\u001b[0m",
      "\u001b[1;31mValueError\u001b[0m                                Traceback (most recent call last)",
      "Cell \u001b[1;32mIn[12], line 1\u001b[0m\n\u001b[1;32m----> 1\u001b[0m corr_matrix \u001b[38;5;241m=\u001b[39m \u001b[43mdiamonds\u001b[49m\u001b[38;5;241;43m.\u001b[39;49m\u001b[43mcorr\u001b[49m\u001b[43m(\u001b[49m\u001b[43m)\u001b[49m\n\u001b[0;32m      3\u001b[0m plt\u001b[38;5;241m.\u001b[39msubplots(figsize \u001b[38;5;241m=\u001b[39m (\u001b[38;5;241m10\u001b[39m,\u001b[38;5;241m8\u001b[39m))\n\u001b[0;32m      4\u001b[0m sns\u001b[38;5;241m.\u001b[39mheatmap(corr_matrix, annot \u001b[38;5;241m=\u001b[39m \u001b[38;5;28;01mTrue\u001b[39;00m, cmap \u001b[38;5;241m=\u001b[39m \u001b[38;5;124m\"\u001b[39m\u001b[38;5;124mBlues\u001b[39m\u001b[38;5;124m\"\u001b[39m)\n",
      "File \u001b[1;32m~\\AppData\\Local\\Programs\\Python\\Python311\\Lib\\site-packages\\pandas\\core\\frame.py:10707\u001b[0m, in \u001b[0;36mDataFrame.corr\u001b[1;34m(self, method, min_periods, numeric_only)\u001b[0m\n\u001b[0;32m  10705\u001b[0m cols \u001b[38;5;241m=\u001b[39m data\u001b[38;5;241m.\u001b[39mcolumns\n\u001b[0;32m  10706\u001b[0m idx \u001b[38;5;241m=\u001b[39m cols\u001b[38;5;241m.\u001b[39mcopy()\n\u001b[1;32m> 10707\u001b[0m mat \u001b[38;5;241m=\u001b[39m \u001b[43mdata\u001b[49m\u001b[38;5;241;43m.\u001b[39;49m\u001b[43mto_numpy\u001b[49m\u001b[43m(\u001b[49m\u001b[43mdtype\u001b[49m\u001b[38;5;241;43m=\u001b[39;49m\u001b[38;5;28;43mfloat\u001b[39;49m\u001b[43m,\u001b[49m\u001b[43m \u001b[49m\u001b[43mna_value\u001b[49m\u001b[38;5;241;43m=\u001b[39;49m\u001b[43mnp\u001b[49m\u001b[38;5;241;43m.\u001b[39;49m\u001b[43mnan\u001b[49m\u001b[43m,\u001b[49m\u001b[43m \u001b[49m\u001b[43mcopy\u001b[49m\u001b[38;5;241;43m=\u001b[39;49m\u001b[38;5;28;43;01mFalse\u001b[39;49;00m\u001b[43m)\u001b[49m\n\u001b[0;32m  10709\u001b[0m \u001b[38;5;28;01mif\u001b[39;00m method \u001b[38;5;241m==\u001b[39m \u001b[38;5;124m\"\u001b[39m\u001b[38;5;124mpearson\u001b[39m\u001b[38;5;124m\"\u001b[39m:\n\u001b[0;32m  10710\u001b[0m     correl \u001b[38;5;241m=\u001b[39m libalgos\u001b[38;5;241m.\u001b[39mnancorr(mat, minp\u001b[38;5;241m=\u001b[39mmin_periods)\n",
      "File \u001b[1;32m~\\AppData\\Local\\Programs\\Python\\Python311\\Lib\\site-packages\\pandas\\core\\frame.py:1892\u001b[0m, in \u001b[0;36mDataFrame.to_numpy\u001b[1;34m(self, dtype, copy, na_value)\u001b[0m\n\u001b[0;32m   1890\u001b[0m \u001b[38;5;28;01mif\u001b[39;00m dtype \u001b[38;5;129;01mis\u001b[39;00m \u001b[38;5;129;01mnot\u001b[39;00m \u001b[38;5;28;01mNone\u001b[39;00m:\n\u001b[0;32m   1891\u001b[0m     dtype \u001b[38;5;241m=\u001b[39m np\u001b[38;5;241m.\u001b[39mdtype(dtype)\n\u001b[1;32m-> 1892\u001b[0m result \u001b[38;5;241m=\u001b[39m \u001b[38;5;28;43mself\u001b[39;49m\u001b[38;5;241;43m.\u001b[39;49m\u001b[43m_mgr\u001b[49m\u001b[38;5;241;43m.\u001b[39;49m\u001b[43mas_array\u001b[49m\u001b[43m(\u001b[49m\u001b[43mdtype\u001b[49m\u001b[38;5;241;43m=\u001b[39;49m\u001b[43mdtype\u001b[49m\u001b[43m,\u001b[49m\u001b[43m \u001b[49m\u001b[43mcopy\u001b[49m\u001b[38;5;241;43m=\u001b[39;49m\u001b[43mcopy\u001b[49m\u001b[43m,\u001b[49m\u001b[43m \u001b[49m\u001b[43mna_value\u001b[49m\u001b[38;5;241;43m=\u001b[39;49m\u001b[43mna_value\u001b[49m\u001b[43m)\u001b[49m\n\u001b[0;32m   1893\u001b[0m \u001b[38;5;28;01mif\u001b[39;00m result\u001b[38;5;241m.\u001b[39mdtype \u001b[38;5;129;01mis\u001b[39;00m \u001b[38;5;129;01mnot\u001b[39;00m dtype:\n\u001b[0;32m   1894\u001b[0m     result \u001b[38;5;241m=\u001b[39m np\u001b[38;5;241m.\u001b[39marray(result, dtype\u001b[38;5;241m=\u001b[39mdtype, copy\u001b[38;5;241m=\u001b[39m\u001b[38;5;28;01mFalse\u001b[39;00m)\n",
      "File \u001b[1;32m~\\AppData\\Local\\Programs\\Python\\Python311\\Lib\\site-packages\\pandas\\core\\internals\\managers.py:1656\u001b[0m, in \u001b[0;36mBlockManager.as_array\u001b[1;34m(self, dtype, copy, na_value)\u001b[0m\n\u001b[0;32m   1654\u001b[0m         arr\u001b[38;5;241m.\u001b[39mflags\u001b[38;5;241m.\u001b[39mwriteable \u001b[38;5;241m=\u001b[39m \u001b[38;5;28;01mFalse\u001b[39;00m\n\u001b[0;32m   1655\u001b[0m \u001b[38;5;28;01melse\u001b[39;00m:\n\u001b[1;32m-> 1656\u001b[0m     arr \u001b[38;5;241m=\u001b[39m \u001b[38;5;28;43mself\u001b[39;49m\u001b[38;5;241;43m.\u001b[39;49m\u001b[43m_interleave\u001b[49m\u001b[43m(\u001b[49m\u001b[43mdtype\u001b[49m\u001b[38;5;241;43m=\u001b[39;49m\u001b[43mdtype\u001b[49m\u001b[43m,\u001b[49m\u001b[43m \u001b[49m\u001b[43mna_value\u001b[49m\u001b[38;5;241;43m=\u001b[39;49m\u001b[43mna_value\u001b[49m\u001b[43m)\u001b[49m\n\u001b[0;32m   1657\u001b[0m     \u001b[38;5;66;03m# The underlying data was copied within _interleave, so no need\u001b[39;00m\n\u001b[0;32m   1658\u001b[0m     \u001b[38;5;66;03m# to further copy if copy=True or setting na_value\u001b[39;00m\n\u001b[0;32m   1660\u001b[0m \u001b[38;5;28;01mif\u001b[39;00m na_value \u001b[38;5;129;01mis\u001b[39;00m lib\u001b[38;5;241m.\u001b[39mno_default:\n",
      "File \u001b[1;32m~\\AppData\\Local\\Programs\\Python\\Python311\\Lib\\site-packages\\pandas\\core\\internals\\managers.py:1715\u001b[0m, in \u001b[0;36mBlockManager._interleave\u001b[1;34m(self, dtype, na_value)\u001b[0m\n\u001b[0;32m   1713\u001b[0m     \u001b[38;5;28;01melse\u001b[39;00m:\n\u001b[0;32m   1714\u001b[0m         arr \u001b[38;5;241m=\u001b[39m blk\u001b[38;5;241m.\u001b[39mget_values(dtype)\n\u001b[1;32m-> 1715\u001b[0m     \u001b[43mresult\u001b[49m\u001b[43m[\u001b[49m\u001b[43mrl\u001b[49m\u001b[38;5;241;43m.\u001b[39;49m\u001b[43mindexer\u001b[49m\u001b[43m]\u001b[49m \u001b[38;5;241m=\u001b[39m arr\n\u001b[0;32m   1716\u001b[0m     itemmask[rl\u001b[38;5;241m.\u001b[39mindexer] \u001b[38;5;241m=\u001b[39m \u001b[38;5;241m1\u001b[39m\n\u001b[0;32m   1718\u001b[0m \u001b[38;5;28;01mif\u001b[39;00m \u001b[38;5;129;01mnot\u001b[39;00m itemmask\u001b[38;5;241m.\u001b[39mall():\n",
      "\u001b[1;31mValueError\u001b[0m: could not convert string to float: 'Ideal'"
     ]
    }
   ],
   "source": [
    "corr_matrix = diamonds.corr()\n",
    "\n",
    "plt.subplots(figsize = (10,8))\n",
    "sns.heatmap(corr_matrix, annot = True, cmap = \"Blues\")\n",
    "plt.show()"
   ]
  },
  {
   "cell_type": "markdown",
   "id": "11dac65a",
   "metadata": {},
   "source": [
    "### Conclusions\n",
    " - **x , y and z are correlated with the price.** \n",
    " - **Price of the diamond and carat weight of the diamond are highly correlated**\n",
    " - **Depth and Table are weakly correlated with the price of the diamond.**\n",
    " - **Carat is one of the main features to predict the price of a diamond.**"
   ]
  },
  {
   "cell_type": "markdown",
   "id": "4525ea4d",
   "metadata": {},
   "source": [
    "<a id=\"link3\"></a>\n"
   ]
  },
  {
   "cell_type": "markdown",
   "id": "cbdbf303",
   "metadata": {},
   "source": [
    "### Splitting Data into Test and Train Set\n",
    "\n",
    "It is advisable to split the dataset into Test set (80%) and Train set (20%). The test set allows our model to make \n",
    "predictions on values which it has never seen before.\n",
    "\n",
    "But taking random samples from our dataset can introduce significant **sampling bias**. Therefore, in order to avoid sampling bias, the data will be divide into different homogenous subgroups called strata. This is called **Stratified Sampling**. Since, we know that carat is the most important parameter to predict the price of the diamonds we will use it for Stratified sampling "
   ]
  },
  {
   "cell_type": "code",
   "execution_count": null,
   "id": "7093ace1",
   "metadata": {},
   "outputs": [],
   "source": [
    "diamonds[\"carat\"].hist(bins = 50)\n",
    "plt.show()"
   ]
  },
  {
   "cell_type": "code",
   "execution_count": null,
   "id": "e812fda2",
   "metadata": {},
   "outputs": [],
   "source": [
    "diamonds[\"carat\"].max()"
   ]
  },
  {
   "cell_type": "code",
   "execution_count": null,
   "id": "bf0535d5",
   "metadata": {},
   "outputs": [],
   "source": [
    "diamonds[\"carat\"].min()"
   ]
  },
  {
   "cell_type": "markdown",
   "id": "ef0f208e",
   "metadata": {},
   "source": [
    "Most of the carat value ranges from 0.3 to 1.2. So, we will divide the carat into 5 categories."
   ]
  },
  {
   "cell_type": "code",
   "execution_count": null,
   "id": "647152e6",
   "metadata": {},
   "outputs": [],
   "source": [
    "# Divide by 0.4 to limit the number of carat strata\n",
    "\n",
    "diamonds[\"carat_cat\"] = np.ceil(diamonds[\"carat\"]/0.4)\n",
    "\n",
    "# Label those above 5 as 5\n",
    "diamonds[\"carat_cat\"].where(diamonds[\"carat_cat\"] < 5, 5.0, inplace = True)"
   ]
  },
  {
   "cell_type": "code",
   "execution_count": null,
   "id": "4c267664",
   "metadata": {},
   "outputs": [],
   "source": [
    "diamonds[\"carat_cat\"].value_counts()"
   ]
  },
  {
   "cell_type": "code",
   "execution_count": null,
   "id": "30cd826b",
   "metadata": {},
   "outputs": [],
   "source": [
    "diamonds[\"carat_cat\"].hist()"
   ]
  },
  {
   "cell_type": "markdown",
   "id": "a33ca29d",
   "metadata": {},
   "source": [
    "Now we will perform the stratified splitting of the dataset using sklearn's StratifiedShuffleSplit class"
   ]
  },
  {
   "cell_type": "code",
   "execution_count": null,
   "id": "e7162504",
   "metadata": {},
   "outputs": [],
   "source": [
    "from sklearn.model_selection import StratifiedShuffleSplit\n",
    "\n",
    "split = StratifiedShuffleSplit(n_splits=1, test_size=0.2, random_state=42)\n",
    "for train_index,test_index in split.split(diamonds,diamonds[\"carat_cat\"]):\n",
    "    strat_train_set = diamonds.loc[train_index]\n",
    "    strat_test_set = diamonds.loc[test_index]\n",
    "    "
   ]
  },
  {
   "cell_type": "code",
   "execution_count": null,
   "id": "aed55ffe",
   "metadata": {},
   "outputs": [],
   "source": [
    "strat_test_set[\"carat_cat\"].value_counts() / len(strat_test_set)"
   ]
  },
  {
   "cell_type": "markdown",
   "id": "b6667580",
   "metadata": {},
   "source": [
    "We will now drop the carat category columns."
   ]
  },
  {
   "cell_type": "code",
   "execution_count": null,
   "id": "339a2c5f",
   "metadata": {},
   "outputs": [],
   "source": [
    "for x in (strat_test_set, strat_train_set):\n",
    "    x.drop(\"carat_cat\", axis=1,inplace = True)"
   ]
  },
  {
   "cell_type": "code",
   "execution_count": null,
   "id": "5d443a85",
   "metadata": {},
   "outputs": [],
   "source": [
    "strat_test_set.describe()"
   ]
  },
  {
   "cell_type": "markdown",
   "id": "87cac590",
   "metadata": {},
   "source": [
    "Size of Test Set = 10788"
   ]
  },
  {
   "cell_type": "code",
   "execution_count": null,
   "id": "48d657b3",
   "metadata": {},
   "outputs": [],
   "source": [
    "strat_train_set.describe()"
   ]
  },
  {
   "cell_type": "markdown",
   "id": "5736170a",
   "metadata": {},
   "source": [
    "Size of Train Set = 43152"
   ]
  },
  {
   "cell_type": "markdown",
   "id": "0b8a5d97",
   "metadata": {},
   "source": [
    "<a id=\"link4\"></a>\n"
   ]
  },
  {
   "cell_type": "markdown",
   "id": "0951d5aa",
   "metadata": {},
   "source": [
    "## Data Visualisation \n",
    "\n",
    "We will be using training set to plot varoius graphs to visualise and draw conclusions from the data."
   ]
  },
  {
   "cell_type": "code",
   "execution_count": null,
   "id": "02fe923a",
   "metadata": {},
   "outputs": [],
   "source": [
    "diamonds = strat_train_set.copy()"
   ]
  },
  {
   "cell_type": "markdown",
   "id": "e9497ea8",
   "metadata": {},
   "source": [
    "### Plotting scatterplot between price and carat"
   ]
  },
  {
   "cell_type": "code",
   "execution_count": null,
   "id": "d6b745a1",
   "metadata": {},
   "outputs": [],
   "source": [
    "diamonds.plot(kind=\"scatter\", x=\"price\", y=\"carat\",alpha = 0.1)\n",
    "plt.show()"
   ]
  },
  {
   "cell_type": "markdown",
   "id": "53b83da8",
   "metadata": {},
   "source": [
    "### Count plots of different categorical features of diamonds"
   ]
  },
  {
   "cell_type": "code",
   "execution_count": null,
   "id": "fc4ff7d1",
   "metadata": {},
   "outputs": [],
   "source": [
    "fig, ax = plt.subplots(3, figsize = (14,18))\n",
    "sns.countplot('cut',data = diamonds, ax=ax[0],palette=\"Spectral\")\n",
    "sns.countplot('clarity',data = diamonds, ax=ax[1],palette=\"deep\")\n",
    "sns.countplot('color',data = diamonds, ax=ax[2],palette=\"colorblind\")\n",
    "ax[0].set_title(\"Diamond cut\")\n",
    "ax[1].set_title(\"Diamond Clarity\")\n",
    "ax[2].set_title(\"Diamond Color\")\n",
    "plt.show()"
   ]
  },
  {
   "cell_type": "markdown",
   "id": "5cd843cb",
   "metadata": {},
   "source": [
    "### Comparison of carat with price based on diamond cut."
   ]
  },
  {
   "cell_type": "code",
   "execution_count": null,
   "id": "6b888a75",
   "metadata": {
    "scrolled": true
   },
   "outputs": [],
   "source": [
    "sns.pairplot(diamonds[[\"price\",\"carat\",\"cut\"]], markers = [\"o\",\"v\",\"s\",\"p\",\"d\"],hue=\"cut\", height=5)\n",
    "plt.show()\n",
    "\n",
    "f, ax = plt.subplots(2,figsize = (12,10))\n",
    "sns.barplot(x=\"cut\",y=\"price\",data = diamonds,ax=ax[0])\n",
    "sns.barplot(x=\"cut\",y=\"carat\",data = diamonds, ax=ax[1])\n",
    "ax[0].set_title(\"Cut vs Price\")\n",
    "ax[1].set_title(\"Cut vs Carat\")\n",
    "plt.show()"
   ]
  },
  {
   "cell_type": "markdown",
   "id": "c1ee4a09",
   "metadata": {},
   "source": [
    "**Conclusion**\n",
    "- Fair cut diamonds weigh the most but are not the most expensive diamonds.\n",
    "- Premium cut diamonds are the most expensive diamonds.\n",
    "- Ideal cut diamonds weigh less and are cheapest diamonds.\n",
    "\n",
    "We can see that price of diamond is dependent on the cut."
   ]
  },
  {
   "cell_type": "markdown",
   "id": "2000c990",
   "metadata": {},
   "source": [
    "### Comparison of carat with price based on diamond color"
   ]
  },
  {
   "cell_type": "code",
   "execution_count": null,
   "id": "93edee7f",
   "metadata": {},
   "outputs": [],
   "source": [
    "sns.pairplot(diamonds[[\"price\",\"carat\",\"color\"]], hue=\"color\", height=5, palette=\"husl\")\n",
    "plt.show()\n",
    "\n",
    "f, ax = plt.subplots(2,figsize = (12,10))\n",
    "sns.barplot(x=\"color\",y=\"price\",data = diamonds,ax=ax[0])\n",
    "sns.barplot(x=\"color\",y=\"carat\",data = diamonds, ax=ax[1])\n",
    "ax[0].set_title(\"Color vs Price\")\n",
    "ax[1].set_title(\"Color vs Carat\")\n",
    "plt.show()"
   ]
  },
  {
   "cell_type": "markdown",
   "id": "42ff3ee0",
   "metadata": {},
   "source": [
    "**Conclusions**\n",
    "- J color diamonds are the most expensive and the heaviest diamonds.\n",
    "- The two plots are very similar.\n",
    "\n",
    "Thus, it can be concluded that the heavier diamond is expensive, if only color is considered."
   ]
  },
  {
   "cell_type": "markdown",
   "id": "d524ff3f",
   "metadata": {},
   "source": [
    "### Comparison of carat with price based on diamond clarity"
   ]
  },
  {
   "cell_type": "code",
   "execution_count": null,
   "id": "6d43d6a9",
   "metadata": {},
   "outputs": [],
   "source": [
    "sns.pairplot(diamonds[[\"price\",\"carat\",\"clarity\"]],hue=\"clarity\", height=5)\n",
    "plt.show()\n",
    "\n",
    "f, ax = plt.subplots(2,figsize = (12,10))\n",
    "sns.barplot(x=\"clarity\",y=\"price\",data = diamonds,ax=ax[0])\n",
    "sns.barplot(x=\"clarity\",y=\"carat\",data = diamonds, ax=ax[1])\n",
    "ax[0].set_title(\"Clarity vs Price\")\n",
    "ax[1].set_title(\"Clarity vs Carat\")\n",
    "plt.show()"
   ]
  },
  {
   "cell_type": "markdown",
   "id": "64663659",
   "metadata": {},
   "source": [
    "### More plots to understand the realtion between cut,color and clarity with prices"
   ]
  },
  {
   "cell_type": "code",
   "execution_count": null,
   "id": "a131fc8e",
   "metadata": {},
   "outputs": [],
   "source": [
    "fig, ax = plt.subplots(3, figsize = (14,18))\n",
    "sns.violinplot(x='cut',y='price',data = diamonds, ax=ax[0],palette=\"Spectral\")\n",
    "sns.violinplot(x='clarity',y='price',data = diamonds, ax=ax[1],palette=\"deep\")\n",
    "sns.violinplot(x='color',y='price',data = diamonds, ax=ax[2],palette=\"colorblind\")\n",
    "ax[0].set_title(\"Cut vs Price\")\n",
    "ax[1].set_title(\"Clarity vs Price\")\n",
    "ax[2].set_title(\"Color vs Price \")\n",
    "plt.show()"
   ]
  },
  {
   "cell_type": "code",
   "execution_count": null,
   "id": "fb5767f5",
   "metadata": {},
   "outputs": [],
   "source": [
    "from pandas.plotting import scatter_matrix\n",
    "\n",
    "attributes = [\"depth\",\"table\",\"x\",\"y\",\"z\",\"price\"]\n",
    "scatter_matrix(diamonds[attributes], figsize=(12, 8))"
   ]
  },
  {
   "cell_type": "markdown",
   "id": "de6cf78e",
   "metadata": {},
   "source": [
    "<a id=\"link5\"></a>\n"
   ]
  },
  {
   "cell_type": "markdown",
   "id": "c826b1b0",
   "metadata": {},
   "source": [
    "## Preparing data for the ML Algorithms\n"
   ]
  },
  {
   "cell_type": "code",
   "execution_count": null,
   "id": "ae94d287",
   "metadata": {},
   "outputs": [],
   "source": [
    "sample_incomplete_rows = diamonds[diamonds.isnull().any(axis=1)].head()\n",
    "sample_incomplete_rows"
   ]
  },
  {
   "cell_type": "code",
   "execution_count": null,
   "id": "59c07f7e",
   "metadata": {},
   "outputs": [],
   "source": [
    "diamonds = strat_train_set.drop(\"price\", axis=1)\n",
    "diamonds_label = strat_train_set[\"price\"].copy()\n",
    "diamonds_only_num = diamonds.drop([\"cut\",\"clarity\",\"color\"],axis=1)\n",
    "\n",
    "diamonds_only_num.head()"
   ]
  },
  {
   "cell_type": "markdown",
   "id": "fc486e0d",
   "metadata": {},
   "source": [
    "\n",
    "### Feature Scaling\n",
    "\n",
    "\n",
    "Machine Learning algorithms don’t perform well when the input numerical attributes have very different scales. Therefore, it is necessary to feature scale all the features of diamond dataset. There are two ways of doing feature scaling -min-max scaling and standardization. I will be using standardization as it is not affected by any outliers."
   ]
  },
  {
   "cell_type": "code",
   "execution_count": null,
   "id": "92bd6902",
   "metadata": {},
   "outputs": [],
   "source": [
    "from sklearn.preprocessing import StandardScaler\n",
    "\n",
    "std_scaler = StandardScaler()\n",
    "diamonds_scaled_num = std_scaler.fit_transform(diamonds_only_num)\n",
    "\n",
    "diamonds_scaled_num"
   ]
  },
  {
   "cell_type": "code",
   "execution_count": null,
   "id": "865207df",
   "metadata": {},
   "outputs": [],
   "source": [
    "pd.DataFrame(diamonds_scaled_num).head()"
   ]
  },
  {
   "cell_type": "markdown",
   "id": "667c7a91",
   "metadata": {},
   "source": [
    "### Encoding Categorical Attributes\n",
    "\n",
    "In this dataset, we have three categorical attributes.ML algorithms work better with numbers.Thus, we will convert them into numbers using OneHotEncoder of scikit learn."
   ]
  },
  {
   "cell_type": "code",
   "execution_count": null,
   "id": "19af7333",
   "metadata": {},
   "outputs": [],
   "source": [
    "diamonds_cat = diamonds[[\"cut\",\"color\",\"clarity\"]]\n",
    "diamonds_cat.head()"
   ]
  },
  {
   "cell_type": "code",
   "execution_count": null,
   "id": "bdff713f",
   "metadata": {},
   "outputs": [],
   "source": [
    "from sklearn.preprocessing import OneHotEncoder\n",
    "\n",
    "cat_encoder = OneHotEncoder()\n",
    "diamonds_cat_encoded = cat_encoder.fit_transform(diamonds_cat)\n",
    "\n",
    "diamonds_cat_encoded.toarray()"
   ]
  },
  {
   "cell_type": "code",
   "execution_count": null,
   "id": "8c286eab",
   "metadata": {},
   "outputs": [],
   "source": [
    "cat_encoder.categories_"
   ]
  },
  {
   "cell_type": "markdown",
   "id": "61e8c289",
   "metadata": {},
   "source": [
    "### Transformation Pipeline\n",
    "\n",
    "We have to perform feature scaling and label encoding on dataset before feeding it into ML algorithms. So, to simplify the process we will create a pipeline using ColumnTransformer which successively performs feature scaling and Label encoding.  "
   ]
  },
  {
   "cell_type": "code",
   "execution_count": null,
   "id": "e5d2ced9",
   "metadata": {},
   "outputs": [],
   "source": [
    "from sklearn.compose import ColumnTransformer\n",
    "\n",
    "num_attribs = list(diamonds_only_num)\n",
    "cat_attribs = [\"cut\",\"color\",\"clarity\"]\n",
    "pipeline = ColumnTransformer([\n",
    "    (\"num\", StandardScaler(),num_attribs),\n",
    "    (\"cat\",OneHotEncoder(),cat_attribs),\n",
    "])\n",
    "\n",
    "diamonds_prepared = pipeline.fit_transform(diamonds)"
   ]
  },
  {
   "cell_type": "code",
   "execution_count": null,
   "id": "e72aa8fc",
   "metadata": {},
   "outputs": [],
   "source": [
    "diamonds_prepared"
   ]
  },
  {
   "cell_type": "code",
   "execution_count": null,
   "id": "f9a80015",
   "metadata": {},
   "outputs": [],
   "source": [
    "pd.DataFrame(diamonds_prepared).head()"
   ]
  },
  {
   "cell_type": "code",
   "execution_count": null,
   "id": "3a99d97e",
   "metadata": {},
   "outputs": [],
   "source": [
    "diamonds_prepared.shape"
   ]
  },
  {
   "cell_type": "markdown",
   "id": "5658d67f",
   "metadata": {},
   "source": [
    "<a id=\"link6\"></a>\n"
   ]
  },
  {
   "cell_type": "markdown",
   "id": "ab44e230",
   "metadata": {},
   "source": [
    "## Applying ML Algorithms on the Dataset\n"
   ]
  },
  {
   "cell_type": "markdown",
   "id": "e138aa31",
   "metadata": {},
   "source": [
    "Now, it is time to select a model, train it and evaluate its performance using test set.\n",
    "First of all we will import mean_squared_error and cross_val_score from sklearn to evaluate the models.\n",
    "\n",
    "We will create one function that will run through each algorithm. We'll also have variables that hold results of the algorithms for future comparisons. RMSE and CV_scores are used to check the performance. The function will plot a graph to show how well our algorithm has predicted the data."
   ]
  },
  {
   "cell_type": "code",
   "execution_count": null,
   "id": "cdf92c62",
   "metadata": {},
   "outputs": [],
   "source": [
    "from sklearn.metrics import mean_squared_error\n",
    "from random import randint\n",
    "\n",
    "X_test = strat_test_set.drop(\"price\",axis=1)\n",
    "y_test = strat_test_set[\"price\"].copy()\n",
    "\n",
    "model_name = []\n",
    "rmse_train_scores = []\n",
    "accuracy_models = []\n",
    "rmse_test_scores = []\n",
    "\n",
    "def model_performance(modelname,model,diamonds = diamonds_prepared, diamonds_labels = diamonds_label,\n",
    "                      X_test = X_test,y_test = y_test,\n",
    "                      pipeline=pipeline, cv = True):\n",
    "    \n",
    "    model_name.append(modelname)\n",
    "    \n",
    "    model.fit(diamonds,diamonds_labels)\n",
    "    \n",
    "    predictions = model.predict(diamonds)\n",
    "    mse_train_score = mean_squared_error(diamonds_labels, predictions)\n",
    "    rmse_train_score = np.sqrt(mse_train_score)\n",
    "    \n",
    "    print(\"RMSE_Train: %.4f\" %rmse_train_score)\n",
    "    rmse_train_scores.append(rmse_train_score)\n",
    "    \n",
    "    print(\"---------------------TEST-------------------\")\n",
    "    \n",
    "    X_test_prepared = pipeline.transform(X_test)\n",
    "    \n",
    "    test_predictions = model.predict(X_test_prepared)\n",
    "    mse_score = mean_squared_error(y_test,test_predictions)\n",
    "    rmse_score = np.sqrt(mse_score)\n",
    "    \n",
    "    print(\"RMSE_Test: %.4f\" %rmse_score)\n",
    "    rmse_test_scores.append(rmse_score)\n",
    "    \n",
    "    accuracy = (model.score(X_test_prepared,y_test)*100)\n",
    "    print(\"accuracy: \"+ str(accuracy) + \"%\")\n",
    "    accuracy_models.append(accuracy)\n",
    "    \n",
    "    start = randint(1, len(y_test))\n",
    "    some_data = X_test.iloc[start:start + 5]\n",
    "    some_labels = y_test.iloc[start:start + 5]\n",
    "    some_data_prepared = pipeline.transform(some_data)\n",
    "    print(\"Predictions:\", model.predict(some_data_prepared))\n",
    "    print(\"Labels:    :\", list(some_labels))\n",
    "    \n",
    "    \n",
    "    plt.scatter(y_test,test_predictions)\n",
    "    plt.xlabel(\"Actual\")\n",
    "    plt.ylabel(\"Predicted\")\n",
    "    x_lim = plt.xlim()\n",
    "    y_lim = plt.ylim()\n",
    "    plt.plot(x_lim, y_lim, \"go--\")\n",
    "    plt.show()\n",
    "    \n",
    "    "
   ]
  },
  {
   "cell_type": "markdown",
   "id": "4eb348cd",
   "metadata": {},
   "source": [
    "**Linear Regression**"
   ]
  },
  {
   "cell_type": "code",
   "execution_count": null,
   "id": "167ecdc4",
   "metadata": {},
   "outputs": [],
   "source": [
    "from sklearn.linear_model import LinearRegression\n",
    "\n",
    "lin_reg = LinearRegression(normalize=True)\n",
    "model_performance(\"Linear Regression\",lin_reg)"
   ]
  },
  {
   "cell_type": "markdown",
   "id": "92882be8",
   "metadata": {},
   "source": [
    "**Decision Tree Regression**"
   ]
  },
  {
   "cell_type": "code",
   "execution_count": null,
   "id": "09777436",
   "metadata": {},
   "outputs": [],
   "source": [
    "from sklearn.tree import DecisionTreeRegressor\n",
    "\n",
    "dec_tree = DecisionTreeRegressor(random_state=42)\n",
    "model_performance(\"Decision Tree Regression\",dec_tree)"
   ]
  },
  {
   "cell_type": "markdown",
   "id": "c5cb3236",
   "metadata": {},
   "source": [
    "**Random Forest Regression**"
   ]
  },
  {
   "cell_type": "code",
   "execution_count": null,
   "id": "7c433428",
   "metadata": {},
   "outputs": [],
   "source": [
    "from sklearn.ensemble import RandomForestRegressor\n",
    "\n",
    "forest_reg = RandomForestRegressor(n_estimators = 10, random_state = 42)\n",
    "model_performance(\"Random Forest Regression\",forest_reg)"
   ]
  },
  {
   "cell_type": "markdown",
   "id": "6646308d",
   "metadata": {},
   "source": [
    "### Comparing the Accuracies of different Regression Models"
   ]
  },
  {
   "cell_type": "code",
   "execution_count": null,
   "id": "5e435292",
   "metadata": {},
   "outputs": [],
   "source": [
    "compare_models = pd.DataFrame({\"Algorithms\" : model_name, \"Models RMSE\" : rmse_test_scores, \n",
    "                              \"Accuracy\" : accuracy_models})\n",
    "compare_models.sort_values(by = \"Accuracy\", ascending=False)"
   ]
  },
  {
   "cell_type": "code",
   "execution_count": null,
   "id": "9427fbeb",
   "metadata": {},
   "outputs": [],
   "source": [
    "sns.pointplot(\"Accuracy\",\"Algorithms\",data=pd.DataFrame({'Algorithms':model_name,\"Accuracy\":accuracy_models}));"
   ]
  },
  {
   "cell_type": "markdown",
   "id": "31ce729e",
   "metadata": {},
   "source": [
    "<a id=\"link7\"></a>\n"
   ]
  },
  {
   "cell_type": "markdown",
   "id": "c0870c43",
   "metadata": {},
   "source": [
    "## Conclusion\n",
    "\n",
    "**Random Forest Regressor gives us the Highest accuracy.**\n",
    "\n",
    "**THANK YOU**"
   ]
  }
 ],
 "metadata": {
  "kernelspec": {
   "display_name": "Python 3 (ipykernel)",
   "language": "python",
   "name": "python3"
  },
  "language_info": {
   "codemirror_mode": {
    "name": "ipython",
    "version": 3
   },
   "file_extension": ".py",
   "mimetype": "text/x-python",
   "name": "python",
   "nbconvert_exporter": "python",
   "pygments_lexer": "ipython3",
   "version": "3.11.4"
  }
 },
 "nbformat": 4,
 "nbformat_minor": 5
}
