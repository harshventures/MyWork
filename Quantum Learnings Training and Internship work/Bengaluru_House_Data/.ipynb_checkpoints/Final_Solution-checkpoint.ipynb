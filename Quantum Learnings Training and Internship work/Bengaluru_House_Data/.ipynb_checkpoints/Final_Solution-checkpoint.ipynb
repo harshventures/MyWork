{
 "cells": [
  {
   "cell_type": "markdown",
   "id": "304a3f02",
   "metadata": {},
   "source": [
    "# Problem Statement"
   ]
  },
  {
   "cell_type": "markdown",
   "id": "e9a89b11",
   "metadata": {},
   "source": [
    "### By analyzing these Bangalore house data we have to determine the approximate price for the houses."
   ]
  },
  {
   "cell_type": "code",
   "execution_count": 1,
   "id": "e7ed0c66",
   "metadata": {},
   "outputs": [],
   "source": [
    "import numpy as np\n",
    "import pandas as pd\n",
    "import matplotlib.pyplot as plt\n",
    "import seaborn as sns\n",
    "import matplotlib"
   ]
  },
  {
   "cell_type": "markdown",
   "id": "dd0233f5",
   "metadata": {},
   "source": [
    "### Reading the Data from the CSV file"
   ]
  },
  {
   "cell_type": "code",
   "execution_count": 2,
   "id": "d2106dbb",
   "metadata": {},
   "outputs": [
    {
     "data": {
      "text/html": [
       "<div>\n",
       "<style scoped>\n",
       "    .dataframe tbody tr th:only-of-type {\n",
       "        vertical-align: middle;\n",
       "    }\n",
       "\n",
       "    .dataframe tbody tr th {\n",
       "        vertical-align: top;\n",
       "    }\n",
       "\n",
       "    .dataframe thead th {\n",
       "        text-align: right;\n",
       "    }\n",
       "</style>\n",
       "<table border=\"1\" class=\"dataframe\">\n",
       "  <thead>\n",
       "    <tr style=\"text-align: right;\">\n",
       "      <th></th>\n",
       "      <th>area_type</th>\n",
       "      <th>availability</th>\n",
       "      <th>location</th>\n",
       "      <th>size</th>\n",
       "      <th>society</th>\n",
       "      <th>total_sqft</th>\n",
       "      <th>bath</th>\n",
       "      <th>balcony</th>\n",
       "      <th>price</th>\n",
       "    </tr>\n",
       "  </thead>\n",
       "  <tbody>\n",
       "    <tr>\n",
       "      <th>0</th>\n",
       "      <td>Super built-up  Area</td>\n",
       "      <td>19-Dec</td>\n",
       "      <td>Electronic City Phase II</td>\n",
       "      <td>2 BHK</td>\n",
       "      <td>Coomee</td>\n",
       "      <td>1056</td>\n",
       "      <td>2.0</td>\n",
       "      <td>1.0</td>\n",
       "      <td>39.07</td>\n",
       "    </tr>\n",
       "    <tr>\n",
       "      <th>1</th>\n",
       "      <td>Plot  Area</td>\n",
       "      <td>Ready To Move</td>\n",
       "      <td>Chikka Tirupathi</td>\n",
       "      <td>4 Bedroom</td>\n",
       "      <td>Theanmp</td>\n",
       "      <td>2600</td>\n",
       "      <td>5.0</td>\n",
       "      <td>3.0</td>\n",
       "      <td>120.00</td>\n",
       "    </tr>\n",
       "    <tr>\n",
       "      <th>2</th>\n",
       "      <td>Built-up  Area</td>\n",
       "      <td>Ready To Move</td>\n",
       "      <td>Uttarahalli</td>\n",
       "      <td>3 BHK</td>\n",
       "      <td>NaN</td>\n",
       "      <td>1440</td>\n",
       "      <td>2.0</td>\n",
       "      <td>3.0</td>\n",
       "      <td>62.00</td>\n",
       "    </tr>\n",
       "    <tr>\n",
       "      <th>3</th>\n",
       "      <td>Super built-up  Area</td>\n",
       "      <td>Ready To Move</td>\n",
       "      <td>Lingadheeranahalli</td>\n",
       "      <td>3 BHK</td>\n",
       "      <td>Soiewre</td>\n",
       "      <td>1521</td>\n",
       "      <td>3.0</td>\n",
       "      <td>1.0</td>\n",
       "      <td>95.00</td>\n",
       "    </tr>\n",
       "    <tr>\n",
       "      <th>4</th>\n",
       "      <td>Super built-up  Area</td>\n",
       "      <td>Ready To Move</td>\n",
       "      <td>Kothanur</td>\n",
       "      <td>2 BHK</td>\n",
       "      <td>NaN</td>\n",
       "      <td>1200</td>\n",
       "      <td>2.0</td>\n",
       "      <td>1.0</td>\n",
       "      <td>51.00</td>\n",
       "    </tr>\n",
       "  </tbody>\n",
       "</table>\n",
       "</div>"
      ],
      "text/plain": [
       "              area_type   availability                  location       size  \\\n",
       "0  Super built-up  Area         19-Dec  Electronic City Phase II      2 BHK   \n",
       "1            Plot  Area  Ready To Move          Chikka Tirupathi  4 Bedroom   \n",
       "2        Built-up  Area  Ready To Move               Uttarahalli      3 BHK   \n",
       "3  Super built-up  Area  Ready To Move        Lingadheeranahalli      3 BHK   \n",
       "4  Super built-up  Area  Ready To Move                  Kothanur      2 BHK   \n",
       "\n",
       "   society total_sqft  bath  balcony   price  \n",
       "0  Coomee        1056   2.0      1.0   39.07  \n",
       "1  Theanmp       2600   5.0      3.0  120.00  \n",
       "2      NaN       1440   2.0      3.0   62.00  \n",
       "3  Soiewre       1521   3.0      1.0   95.00  \n",
       "4      NaN       1200   2.0      1.0   51.00  "
      ]
     },
     "execution_count": 2,
     "metadata": {},
     "output_type": "execute_result"
    }
   ],
   "source": [
    "df = pd.read_csv(\"E:\\QuantumLearnings\\PROJECT\\Bengaluru_House_Data\\Bengaluru_House_Data.csv\")\n",
    "df.head()"
   ]
  },
  {
   "cell_type": "code",
   "execution_count": 3,
   "id": "2846ecb9",
   "metadata": {},
   "outputs": [
    {
     "data": {
      "text/plain": [
       "Index(['area_type', 'availability', 'location', 'size', 'society',\n",
       "       'total_sqft', 'bath', 'balcony', 'price'],\n",
       "      dtype='object')"
      ]
     },
     "execution_count": 3,
     "metadata": {},
     "output_type": "execute_result"
    }
   ],
   "source": [
    "df.columns"
   ]
  },
  {
   "cell_type": "markdown",
   "id": "054ea8f0",
   "metadata": {},
   "source": [
    "# Exploratory Data Analysis"
   ]
  },
  {
   "cell_type": "markdown",
   "id": "2e849d08",
   "metadata": {},
   "source": [
    "### Printing the shape of the dataset"
   ]
  },
  {
   "cell_type": "code",
   "execution_count": 4,
   "id": "023fd51a",
   "metadata": {},
   "outputs": [
    {
     "data": {
      "text/plain": [
       "(13320, 9)"
      ]
     },
     "execution_count": 4,
     "metadata": {},
     "output_type": "execute_result"
    }
   ],
   "source": [
    "df.shape"
   ]
  },
  {
   "cell_type": "markdown",
   "id": "3fb598d6",
   "metadata": {},
   "source": [
    "### Total number of columns in the dataset\n"
   ]
  },
  {
   "cell_type": "code",
   "execution_count": 5,
   "id": "1e738240",
   "metadata": {},
   "outputs": [
    {
     "data": {
      "text/plain": [
       "Index(['area_type', 'availability', 'location', 'size', 'society',\n",
       "       'total_sqft', 'bath', 'balcony', 'price'],\n",
       "      dtype='object')"
      ]
     },
     "execution_count": 5,
     "metadata": {},
     "output_type": "execute_result"
    }
   ],
   "source": [
    "df.columns"
   ]
  },
  {
   "cell_type": "markdown",
   "id": "f0827e34",
   "metadata": {},
   "source": [
    "### Information about the dataset"
   ]
  },
  {
   "cell_type": "code",
   "execution_count": 6,
   "id": "616af7be",
   "metadata": {},
   "outputs": [
    {
     "name": "stdout",
     "output_type": "stream",
     "text": [
      "<class 'pandas.core.frame.DataFrame'>\n",
      "RangeIndex: 13320 entries, 0 to 13319\n",
      "Data columns (total 9 columns):\n",
      " #   Column        Non-Null Count  Dtype  \n",
      "---  ------        --------------  -----  \n",
      " 0   area_type     13320 non-null  object \n",
      " 1   availability  13320 non-null  object \n",
      " 2   location      13319 non-null  object \n",
      " 3   size          13304 non-null  object \n",
      " 4   society       7818 non-null   object \n",
      " 5   total_sqft    13320 non-null  object \n",
      " 6   bath          13247 non-null  float64\n",
      " 7   balcony       12711 non-null  float64\n",
      " 8   price         13320 non-null  float64\n",
      "dtypes: float64(3), object(6)\n",
      "memory usage: 936.7+ KB\n"
     ]
    }
   ],
   "source": [
    "df.info();"
   ]
  },
  {
   "cell_type": "markdown",
   "id": "b5481eb2",
   "metadata": {},
   "source": [
    "### To know the description about the dataset"
   ]
  },
  {
   "cell_type": "code",
   "execution_count": 7,
   "id": "57c52eac",
   "metadata": {},
   "outputs": [
    {
     "data": {
      "text/html": [
       "<div>\n",
       "<style scoped>\n",
       "    .dataframe tbody tr th:only-of-type {\n",
       "        vertical-align: middle;\n",
       "    }\n",
       "\n",
       "    .dataframe tbody tr th {\n",
       "        vertical-align: top;\n",
       "    }\n",
       "\n",
       "    .dataframe thead th {\n",
       "        text-align: right;\n",
       "    }\n",
       "</style>\n",
       "<table border=\"1\" class=\"dataframe\">\n",
       "  <thead>\n",
       "    <tr style=\"text-align: right;\">\n",
       "      <th></th>\n",
       "      <th>bath</th>\n",
       "      <th>balcony</th>\n",
       "      <th>price</th>\n",
       "    </tr>\n",
       "  </thead>\n",
       "  <tbody>\n",
       "    <tr>\n",
       "      <th>count</th>\n",
       "      <td>13247.000000</td>\n",
       "      <td>12711.000000</td>\n",
       "      <td>13320.000000</td>\n",
       "    </tr>\n",
       "    <tr>\n",
       "      <th>mean</th>\n",
       "      <td>2.692610</td>\n",
       "      <td>1.584376</td>\n",
       "      <td>112.565627</td>\n",
       "    </tr>\n",
       "    <tr>\n",
       "      <th>std</th>\n",
       "      <td>1.341458</td>\n",
       "      <td>0.817263</td>\n",
       "      <td>148.971674</td>\n",
       "    </tr>\n",
       "    <tr>\n",
       "      <th>min</th>\n",
       "      <td>1.000000</td>\n",
       "      <td>0.000000</td>\n",
       "      <td>8.000000</td>\n",
       "    </tr>\n",
       "    <tr>\n",
       "      <th>25%</th>\n",
       "      <td>2.000000</td>\n",
       "      <td>1.000000</td>\n",
       "      <td>50.000000</td>\n",
       "    </tr>\n",
       "    <tr>\n",
       "      <th>50%</th>\n",
       "      <td>2.000000</td>\n",
       "      <td>2.000000</td>\n",
       "      <td>72.000000</td>\n",
       "    </tr>\n",
       "    <tr>\n",
       "      <th>75%</th>\n",
       "      <td>3.000000</td>\n",
       "      <td>2.000000</td>\n",
       "      <td>120.000000</td>\n",
       "    </tr>\n",
       "    <tr>\n",
       "      <th>max</th>\n",
       "      <td>40.000000</td>\n",
       "      <td>3.000000</td>\n",
       "      <td>3600.000000</td>\n",
       "    </tr>\n",
       "  </tbody>\n",
       "</table>\n",
       "</div>"
      ],
      "text/plain": [
       "               bath       balcony         price\n",
       "count  13247.000000  12711.000000  13320.000000\n",
       "mean       2.692610      1.584376    112.565627\n",
       "std        1.341458      0.817263    148.971674\n",
       "min        1.000000      0.000000      8.000000\n",
       "25%        2.000000      1.000000     50.000000\n",
       "50%        2.000000      2.000000     72.000000\n",
       "75%        3.000000      2.000000    120.000000\n",
       "max       40.000000      3.000000   3600.000000"
      ]
     },
     "execution_count": 7,
     "metadata": {},
     "output_type": "execute_result"
    }
   ],
   "source": [
    "df.describe()"
   ]
  },
  {
   "cell_type": "code",
   "execution_count": 8,
   "id": "fac2200c",
   "metadata": {},
   "outputs": [
    {
     "data": {
      "text/html": [
       "<div>\n",
       "<style scoped>\n",
       "    .dataframe tbody tr th:only-of-type {\n",
       "        vertical-align: middle;\n",
       "    }\n",
       "\n",
       "    .dataframe tbody tr th {\n",
       "        vertical-align: top;\n",
       "    }\n",
       "\n",
       "    .dataframe thead th {\n",
       "        text-align: right;\n",
       "    }\n",
       "</style>\n",
       "<table border=\"1\" class=\"dataframe\">\n",
       "  <thead>\n",
       "    <tr style=\"text-align: right;\">\n",
       "      <th></th>\n",
       "      <th>count</th>\n",
       "      <th>mean</th>\n",
       "      <th>std</th>\n",
       "      <th>min</th>\n",
       "      <th>25%</th>\n",
       "      <th>50%</th>\n",
       "      <th>75%</th>\n",
       "      <th>max</th>\n",
       "    </tr>\n",
       "  </thead>\n",
       "  <tbody>\n",
       "    <tr>\n",
       "      <th>bath</th>\n",
       "      <td>13247.0</td>\n",
       "      <td>2.692610</td>\n",
       "      <td>1.341458</td>\n",
       "      <td>1.0</td>\n",
       "      <td>2.0</td>\n",
       "      <td>2.0</td>\n",
       "      <td>3.0</td>\n",
       "      <td>40.0</td>\n",
       "    </tr>\n",
       "    <tr>\n",
       "      <th>balcony</th>\n",
       "      <td>12711.0</td>\n",
       "      <td>1.584376</td>\n",
       "      <td>0.817263</td>\n",
       "      <td>0.0</td>\n",
       "      <td>1.0</td>\n",
       "      <td>2.0</td>\n",
       "      <td>2.0</td>\n",
       "      <td>3.0</td>\n",
       "    </tr>\n",
       "    <tr>\n",
       "      <th>price</th>\n",
       "      <td>13320.0</td>\n",
       "      <td>112.565627</td>\n",
       "      <td>148.971674</td>\n",
       "      <td>8.0</td>\n",
       "      <td>50.0</td>\n",
       "      <td>72.0</td>\n",
       "      <td>120.0</td>\n",
       "      <td>3600.0</td>\n",
       "    </tr>\n",
       "  </tbody>\n",
       "</table>\n",
       "</div>"
      ],
      "text/plain": [
       "           count        mean         std  min   25%   50%    75%     max\n",
       "bath     13247.0    2.692610    1.341458  1.0   2.0   2.0    3.0    40.0\n",
       "balcony  12711.0    1.584376    0.817263  0.0   1.0   2.0    2.0     3.0\n",
       "price    13320.0  112.565627  148.971674  8.0  50.0  72.0  120.0  3600.0"
      ]
     },
     "execution_count": 8,
     "metadata": {},
     "output_type": "execute_result"
    }
   ],
   "source": [
    "df.describe().T"
   ]
  },
  {
   "cell_type": "markdown",
   "id": "4630f868",
   "metadata": {},
   "source": [
    "### Checking if there is some null values or not"
   ]
  },
  {
   "cell_type": "code",
   "execution_count": 9,
   "id": "51ce3664",
   "metadata": {},
   "outputs": [
    {
     "data": {
      "text/html": [
       "<div>\n",
       "<style scoped>\n",
       "    .dataframe tbody tr th:only-of-type {\n",
       "        vertical-align: middle;\n",
       "    }\n",
       "\n",
       "    .dataframe tbody tr th {\n",
       "        vertical-align: top;\n",
       "    }\n",
       "\n",
       "    .dataframe thead th {\n",
       "        text-align: right;\n",
       "    }\n",
       "</style>\n",
       "<table border=\"1\" class=\"dataframe\">\n",
       "  <thead>\n",
       "    <tr style=\"text-align: right;\">\n",
       "      <th></th>\n",
       "      <th>area_type</th>\n",
       "      <th>availability</th>\n",
       "      <th>location</th>\n",
       "      <th>size</th>\n",
       "      <th>society</th>\n",
       "      <th>total_sqft</th>\n",
       "      <th>bath</th>\n",
       "      <th>balcony</th>\n",
       "      <th>price</th>\n",
       "    </tr>\n",
       "  </thead>\n",
       "  <tbody>\n",
       "    <tr>\n",
       "      <th>0</th>\n",
       "      <td>False</td>\n",
       "      <td>False</td>\n",
       "      <td>False</td>\n",
       "      <td>False</td>\n",
       "      <td>False</td>\n",
       "      <td>False</td>\n",
       "      <td>False</td>\n",
       "      <td>False</td>\n",
       "      <td>False</td>\n",
       "    </tr>\n",
       "    <tr>\n",
       "      <th>1</th>\n",
       "      <td>False</td>\n",
       "      <td>False</td>\n",
       "      <td>False</td>\n",
       "      <td>False</td>\n",
       "      <td>False</td>\n",
       "      <td>False</td>\n",
       "      <td>False</td>\n",
       "      <td>False</td>\n",
       "      <td>False</td>\n",
       "    </tr>\n",
       "    <tr>\n",
       "      <th>2</th>\n",
       "      <td>False</td>\n",
       "      <td>False</td>\n",
       "      <td>False</td>\n",
       "      <td>False</td>\n",
       "      <td>True</td>\n",
       "      <td>False</td>\n",
       "      <td>False</td>\n",
       "      <td>False</td>\n",
       "      <td>False</td>\n",
       "    </tr>\n",
       "    <tr>\n",
       "      <th>3</th>\n",
       "      <td>False</td>\n",
       "      <td>False</td>\n",
       "      <td>False</td>\n",
       "      <td>False</td>\n",
       "      <td>False</td>\n",
       "      <td>False</td>\n",
       "      <td>False</td>\n",
       "      <td>False</td>\n",
       "      <td>False</td>\n",
       "    </tr>\n",
       "    <tr>\n",
       "      <th>4</th>\n",
       "      <td>False</td>\n",
       "      <td>False</td>\n",
       "      <td>False</td>\n",
       "      <td>False</td>\n",
       "      <td>True</td>\n",
       "      <td>False</td>\n",
       "      <td>False</td>\n",
       "      <td>False</td>\n",
       "      <td>False</td>\n",
       "    </tr>\n",
       "    <tr>\n",
       "      <th>...</th>\n",
       "      <td>...</td>\n",
       "      <td>...</td>\n",
       "      <td>...</td>\n",
       "      <td>...</td>\n",
       "      <td>...</td>\n",
       "      <td>...</td>\n",
       "      <td>...</td>\n",
       "      <td>...</td>\n",
       "      <td>...</td>\n",
       "    </tr>\n",
       "    <tr>\n",
       "      <th>13315</th>\n",
       "      <td>False</td>\n",
       "      <td>False</td>\n",
       "      <td>False</td>\n",
       "      <td>False</td>\n",
       "      <td>False</td>\n",
       "      <td>False</td>\n",
       "      <td>False</td>\n",
       "      <td>False</td>\n",
       "      <td>False</td>\n",
       "    </tr>\n",
       "    <tr>\n",
       "      <th>13316</th>\n",
       "      <td>False</td>\n",
       "      <td>False</td>\n",
       "      <td>False</td>\n",
       "      <td>False</td>\n",
       "      <td>True</td>\n",
       "      <td>False</td>\n",
       "      <td>False</td>\n",
       "      <td>True</td>\n",
       "      <td>False</td>\n",
       "    </tr>\n",
       "    <tr>\n",
       "      <th>13317</th>\n",
       "      <td>False</td>\n",
       "      <td>False</td>\n",
       "      <td>False</td>\n",
       "      <td>False</td>\n",
       "      <td>False</td>\n",
       "      <td>False</td>\n",
       "      <td>False</td>\n",
       "      <td>False</td>\n",
       "      <td>False</td>\n",
       "    </tr>\n",
       "    <tr>\n",
       "      <th>13318</th>\n",
       "      <td>False</td>\n",
       "      <td>False</td>\n",
       "      <td>False</td>\n",
       "      <td>False</td>\n",
       "      <td>False</td>\n",
       "      <td>False</td>\n",
       "      <td>False</td>\n",
       "      <td>False</td>\n",
       "      <td>False</td>\n",
       "    </tr>\n",
       "    <tr>\n",
       "      <th>13319</th>\n",
       "      <td>False</td>\n",
       "      <td>False</td>\n",
       "      <td>False</td>\n",
       "      <td>False</td>\n",
       "      <td>True</td>\n",
       "      <td>False</td>\n",
       "      <td>False</td>\n",
       "      <td>False</td>\n",
       "      <td>False</td>\n",
       "    </tr>\n",
       "  </tbody>\n",
       "</table>\n",
       "<p>13320 rows × 9 columns</p>\n",
       "</div>"
      ],
      "text/plain": [
       "       area_type  availability  location   size  society  total_sqft   bath  \\\n",
       "0          False         False     False  False    False       False  False   \n",
       "1          False         False     False  False    False       False  False   \n",
       "2          False         False     False  False     True       False  False   \n",
       "3          False         False     False  False    False       False  False   \n",
       "4          False         False     False  False     True       False  False   \n",
       "...          ...           ...       ...    ...      ...         ...    ...   \n",
       "13315      False         False     False  False    False       False  False   \n",
       "13316      False         False     False  False     True       False  False   \n",
       "13317      False         False     False  False    False       False  False   \n",
       "13318      False         False     False  False    False       False  False   \n",
       "13319      False         False     False  False     True       False  False   \n",
       "\n",
       "       balcony  price  \n",
       "0        False  False  \n",
       "1        False  False  \n",
       "2        False  False  \n",
       "3        False  False  \n",
       "4        False  False  \n",
       "...        ...    ...  \n",
       "13315    False  False  \n",
       "13316     True  False  \n",
       "13317    False  False  \n",
       "13318    False  False  \n",
       "13319    False  False  \n",
       "\n",
       "[13320 rows x 9 columns]"
      ]
     },
     "execution_count": 9,
     "metadata": {},
     "output_type": "execute_result"
    }
   ],
   "source": [
    "df.isnull()"
   ]
  },
  {
   "cell_type": "markdown",
   "id": "727312ac",
   "metadata": {},
   "source": [
    "### Checking if there is some null values or not (Sum)"
   ]
  },
  {
   "cell_type": "code",
   "execution_count": 10,
   "id": "ab32bab4",
   "metadata": {},
   "outputs": [
    {
     "data": {
      "text/plain": [
       "area_type          0\n",
       "availability       0\n",
       "location           1\n",
       "size              16\n",
       "society         5502\n",
       "total_sqft         0\n",
       "bath              73\n",
       "balcony          609\n",
       "price              0\n",
       "dtype: int64"
      ]
     },
     "execution_count": 10,
     "metadata": {},
     "output_type": "execute_result"
    }
   ],
   "source": [
    "df.isnull().sum()"
   ]
  },
  {
   "cell_type": "markdown",
   "id": "92c4bc7c",
   "metadata": {},
   "source": [
    "### Performing Group by operation on Area Type"
   ]
  },
  {
   "cell_type": "code",
   "execution_count": 11,
   "id": "b46bd58d",
   "metadata": {},
   "outputs": [
    {
     "data": {
      "text/plain": [
       "area_type\n",
       "Built-up  Area          2418\n",
       "Carpet  Area              87\n",
       "Plot  Area              2025\n",
       "Super built-up  Area    8790\n",
       "Name: area_type, dtype: int64"
      ]
     },
     "execution_count": 11,
     "metadata": {},
     "output_type": "execute_result"
    }
   ],
   "source": [
    "df.groupby(\"area_type\")[\"area_type\"].agg(\"count\")"
   ]
  },
  {
   "cell_type": "markdown",
   "id": "b4eae8ca",
   "metadata": {},
   "source": [
    "### Checking what different \"Area Types\" are present in the Dataset"
   ]
  },
  {
   "cell_type": "code",
   "execution_count": 12,
   "id": "d034a6c5",
   "metadata": {},
   "outputs": [
    {
     "data": {
      "text/plain": [
       "array(['Super built-up  Area', 'Plot  Area', 'Built-up  Area',\n",
       "       'Carpet  Area'], dtype=object)"
      ]
     },
     "execution_count": 12,
     "metadata": {},
     "output_type": "execute_result"
    }
   ],
   "source": [
    "df['area_type'].unique()"
   ]
  },
  {
   "cell_type": "markdown",
   "id": "433607e8",
   "metadata": {},
   "source": [
    "# Data Visualization"
   ]
  },
  {
   "cell_type": "code",
   "execution_count": 13,
   "id": "69ebad7d",
   "metadata": {},
   "outputs": [],
   "source": [
    "matplotlib.rcParams[\"figure.figsize\"] = (20,10)"
   ]
  },
  {
   "cell_type": "code",
   "execution_count": 14,
   "id": "659b0f83",
   "metadata": {},
   "outputs": [
    {
     "data": {
      "image/png": "[encoded data removed]",
      "text/plain": [
       "<Figure size 1440x720 with 1 Axes>"
      ]
     },
     "metadata": {
      "needs_background": "light"
     },
     "output_type": "display_data"
    }
   ],
   "source": [
    "df.area_type.value_counts().plot(kind='bar');"
   ]
  },
  {
   "cell_type": "code",
   "execution_count": 15,
   "id": "2f92d622",
   "metadata": {},
   "outputs": [
    {
     "data": {
      "text/plain": [
       "array([ 2.,  5.,  3.,  4.,  6.,  1.,  9., nan,  8.,  7., 11., 10., 14.,\n",
       "       27., 12., 16., 40., 15., 13., 18.])"
      ]
     },
     "execution_count": 15,
     "metadata": {},
     "output_type": "execute_result"
    }
   ],
   "source": [
    "df['bath'].unique()"
   ]
  },
  {
   "cell_type": "code",
   "execution_count": 16,
   "id": "1c54ebd2",
   "metadata": {},
   "outputs": [
    {
     "data": {
      "image/png": "[encoded data removed]",
      "text/plain": [
       "<Figure size 1440x720 with 1 Axes>"
      ]
     },
     "metadata": {
      "needs_background": "light"
     },
     "output_type": "display_data"
    }
   ],
   "source": [
    "df.bath.value_counts().plot(kind='bar');"
   ]
  },
  {
   "cell_type": "code",
   "execution_count": 17,
   "id": "51a80fcc",
   "metadata": {},
   "outputs": [
    {
     "data": {
      "image/png": "[encoded data removed]",
      "text/plain": [
       "<Figure size 1440x720 with 1 Axes>"
      ]
     },
     "metadata": {},
     "output_type": "display_data"
    }
   ],
   "source": [
    "(df[\"area_type\"].value_counts()).plot.pie(autopct=\"%.1f%%\", shadow=True,rotatelabels=True, wedgeprops={'linewidth': 6}, radius=2)\n",
    "plt.show()"
   ]
  },
  {
   "cell_type": "code",
   "execution_count": 18,
   "id": "ad5ea322",
   "metadata": {},
   "outputs": [
    {
     "data": {
      "image/png": "[encoded data removed]",
      "text/plain": [
       "<Figure size 1440x576 with 1 Axes>"
      ]
     },
     "metadata": {
      "needs_background": "light"
     },
     "output_type": "display_data"
    }
   ],
   "source": [
    "plt.figure(figsize = (20,8))\n",
    "ax=sns.countplot(x = 'balcony', data = df)\n",
    "plt.xticks(rotation = 90)\n",
    "for p in ax.patches:\n",
    "    ax.annotate(int(p.get_height()), (p.get_x()+0.25, p.get_height()+1), va = 'bottom', color = 'black')"
   ]
  },
  {
   "cell_type": "code",
   "execution_count": 19,
   "id": "627d7af1",
   "metadata": {},
   "outputs": [
    {
     "data": {
      "image/png": "[encoded data removed]",
      "text/plain": [
       "<Figure size 568x432 with 1 Axes>"
      ]
     },
     "metadata": {
      "needs_background": "light"
     },
     "output_type": "display_data"
    }
   ],
   "source": [
    "import warnings\n",
    "warnings.filterwarnings('ignore')\n",
    "\n",
    "sns.FacetGrid(df, hue='area_type', height=6).map(sns.distplot, 'bath').add_legend()\n",
    "plt.show()"
   ]
  },
  {
   "cell_type": "code",
   "execution_count": 20,
   "id": "ade80859",
   "metadata": {},
   "outputs": [
    {
     "data": {
      "image/png": "[encoded data removed]",
      "text/plain": [
       "<Figure size 568x432 with 1 Axes>"
      ]
     },
     "metadata": {
      "needs_background": "light"
     },
     "output_type": "display_data"
    }
   ],
   "source": [
    "sns.FacetGrid(df, hue='area_type', height=6).map(sns.distplot, 'balcony').add_legend()\n",
    "plt.show()"
   ]
  },
  {
   "cell_type": "markdown",
   "id": "ec16d23d",
   "metadata": {},
   "source": [
    "## **Drop the features that are not required to build our model**"
   ]
  },
  {
   "cell_type": "code",
   "execution_count": 21,
   "id": "5db44378",
   "metadata": {
    "execution": {
     "iopub.execute_input": "2022-01-09T15:42:19.387850Z",
     "iopub.status.busy": "2022-01-09T15:42:19.383616Z",
     "iopub.status.idle": "2022-01-09T15:42:19.396464Z",
     "shell.execute_reply": "2022-01-09T15:42:19.397100Z",
     "shell.execute_reply.started": "2022-01-09T15:38:55.141105Z"
    },
    "id": "9CK_IJuR-nvb",
    "outputId": "93893fcc-66a6-44ac-9ee0-c4a355b27559",
    "papermill": {
     "duration": 0.073157,
     "end_time": "2022-01-09T15:42:19.397301",
     "exception": false,
     "start_time": "2022-01-09T15:42:19.324144",
     "status": "completed"
    },
    "tags": []
   },
   "outputs": [
    {
     "data": {
      "text/plain": [
       "array(['Super built-up  Area', 'Plot  Area', 'Built-up  Area',\n",
       "       'Carpet  Area'], dtype=object)"
      ]
     },
     "execution_count": 21,
     "metadata": {},
     "output_type": "execute_result"
    }
   ],
   "source": [
    "## area's in the dataset \n",
    "df['area_type'].unique()"
   ]
  },
  {
   "cell_type": "code",
   "execution_count": 22,
   "id": "0b5c7bc0",
   "metadata": {
    "execution": {
     "iopub.execute_input": "2022-01-09T15:42:19.534071Z",
     "iopub.status.busy": "2022-01-09T15:42:19.533462Z",
     "iopub.status.idle": "2022-01-09T15:42:19.541970Z",
     "shell.execute_reply": "2022-01-09T15:42:19.542491Z",
     "shell.execute_reply.started": "2022-01-09T15:38:55.161285Z"
    },
    "id": "98CS9nba-xwC",
    "outputId": "7d9583a3-196a-49e7-c039-c47d8280891d",
    "papermill": {
     "duration": 0.071044,
     "end_time": "2022-01-09T15:42:19.542650",
     "exception": false,
     "start_time": "2022-01-09T15:42:19.471606",
     "status": "completed"
    },
    "tags": []
   },
   "outputs": [
    {
     "data": {
      "text/plain": [
       "Super built-up  Area    8790\n",
       "Built-up  Area          2418\n",
       "Plot  Area              2025\n",
       "Carpet  Area              87\n",
       "Name: area_type, dtype: int64"
      ]
     },
     "execution_count": 22,
     "metadata": {},
     "output_type": "execute_result"
    }
   ],
   "source": [
    "df['area_type'].value_counts()"
   ]
  },
  {
   "cell_type": "code",
   "execution_count": 23,
   "id": "711d04b9",
   "metadata": {
    "execution": {
     "iopub.execute_input": "2022-01-09T15:42:19.769179Z",
     "iopub.status.busy": "2022-01-09T15:42:19.768618Z",
     "iopub.status.idle": "2022-01-09T15:42:19.775597Z",
     "shell.execute_reply": "2022-01-09T15:42:19.776141Z",
     "shell.execute_reply.started": "2022-01-09T15:38:55.174456Z"
    },
    "id": "qwkrRVvr-43d",
    "papermill": {
     "duration": 0.065699,
     "end_time": "2022-01-09T15:42:19.776296",
     "exception": false,
     "start_time": "2022-01-09T15:42:19.710597",
     "status": "completed"
    },
    "tags": []
   },
   "outputs": [],
   "source": [
    "data1 = df.drop(['area_type','society','balcony','availability'],axis='columns')"
   ]
  },
  {
   "cell_type": "markdown",
   "id": "2c2b46ea",
   "metadata": {
    "id": "8fqq3rvK_Oxa",
    "papermill": {
     "duration": 0.061942,
     "end_time": "2022-01-09T15:42:19.897513",
     "exception": false,
     "start_time": "2022-01-09T15:42:19.835571",
     "status": "completed"
    },
    "tags": []
   },
   "source": [
    "# **Data Cleaning : Handle the NA values**"
   ]
  },
  {
   "cell_type": "code",
   "execution_count": 24,
   "id": "e914b522",
   "metadata": {
    "execution": {
     "iopub.execute_input": "2022-01-09T15:42:20.017954Z",
     "iopub.status.busy": "2022-01-09T15:42:20.017421Z",
     "iopub.status.idle": "2022-01-09T15:42:20.025719Z",
     "shell.execute_reply": "2022-01-09T15:42:20.026259Z",
     "shell.execute_reply.started": "2022-01-09T15:38:55.192387Z"
    },
    "id": "_Cer28FV_MKr",
    "outputId": "6bd18e29-eb13-412c-e763-61e69503661d",
    "papermill": {
     "duration": 0.067471,
     "end_time": "2022-01-09T15:42:20.026415",
     "exception": false,
     "start_time": "2022-01-09T15:42:19.958944",
     "status": "completed"
    },
    "tags": []
   },
   "outputs": [
    {
     "data": {
      "text/plain": [
       "location       1\n",
       "size          16\n",
       "total_sqft     0\n",
       "bath          73\n",
       "price          0\n",
       "dtype: int64"
      ]
     },
     "execution_count": 24,
     "metadata": {},
     "output_type": "execute_result"
    }
   ],
   "source": [
    "data1.isnull().sum()"
   ]
  },
  {
   "cell_type": "code",
   "execution_count": 25,
   "id": "d9b2c57e",
   "metadata": {
    "execution": {
     "iopub.execute_input": "2022-01-09T15:42:20.141696Z",
     "iopub.status.busy": "2022-01-09T15:42:20.141170Z",
     "iopub.status.idle": "2022-01-09T15:42:20.145285Z",
     "shell.execute_reply": "2022-01-09T15:42:20.145805Z",
     "shell.execute_reply.started": "2022-01-09T15:38:55.209783Z"
    },
    "id": "eyKYRjTF_YjZ",
    "outputId": "a2ce6a96-9006-4bda-a740-0edcd7bd6876",
    "papermill": {
     "duration": 0.063104,
     "end_time": "2022-01-09T15:42:20.145959",
     "exception": false,
     "start_time": "2022-01-09T15:42:20.082855",
     "status": "completed"
    },
    "tags": []
   },
   "outputs": [
    {
     "data": {
      "text/plain": [
       "(13320, 5)"
      ]
     },
     "execution_count": 25,
     "metadata": {},
     "output_type": "execute_result"
    }
   ],
   "source": [
    "data1.shape"
   ]
  },
  {
   "cell_type": "code",
   "execution_count": 26,
   "id": "8f816d14",
   "metadata": {
    "execution": {
     "iopub.execute_input": "2022-01-09T15:42:20.261419Z",
     "iopub.status.busy": "2022-01-09T15:42:20.260867Z",
     "iopub.status.idle": "2022-01-09T15:42:20.273996Z",
     "shell.execute_reply": "2022-01-09T15:42:20.274509Z",
     "shell.execute_reply.started": "2022-01-09T15:38:55.221212Z"
    },
    "id": "Ze0h6phr_bQw",
    "outputId": "6afd3b63-eaf1-4021-e58f-0cc7393225c7",
    "papermill": {
     "duration": 0.072483,
     "end_time": "2022-01-09T15:42:20.274675",
     "exception": false,
     "start_time": "2022-01-09T15:42:20.202192",
     "status": "completed"
    },
    "tags": []
   },
   "outputs": [
    {
     "data": {
      "text/plain": [
       "location      0\n",
       "size          0\n",
       "total_sqft    0\n",
       "bath          0\n",
       "price         0\n",
       "dtype: int64"
      ]
     },
     "execution_count": 26,
     "metadata": {},
     "output_type": "execute_result"
    }
   ],
   "source": [
    "house_data = data1.dropna()\n",
    "house_data.isnull().sum()"
   ]
  },
  {
   "cell_type": "code",
   "execution_count": 27,
   "id": "18ec4927",
   "metadata": {
    "execution": {
     "iopub.execute_input": "2022-01-09T15:42:20.392829Z",
     "iopub.status.busy": "2022-01-09T15:42:20.391937Z",
     "iopub.status.idle": "2022-01-09T15:42:20.396460Z",
     "shell.execute_reply": "2022-01-09T15:42:20.396970Z",
     "shell.execute_reply.started": "2022-01-09T15:38:55.244425Z"
    },
    "id": "C6Ml9Vwh_km9",
    "outputId": "68ec7a06-8256-439b-91f5-6bff866a1ac7",
    "papermill": {
     "duration": 0.065094,
     "end_time": "2022-01-09T15:42:20.397154",
     "exception": false,
     "start_time": "2022-01-09T15:42:20.332060",
     "status": "completed"
    },
    "tags": []
   },
   "outputs": [
    {
     "data": {
      "text/plain": [
       "(13246, 5)"
      ]
     },
     "execution_count": 27,
     "metadata": {},
     "output_type": "execute_result"
    }
   ],
   "source": [
    "house_data.shape"
   ]
  },
  {
   "cell_type": "code",
   "execution_count": 28,
   "id": "58625d3b",
   "metadata": {
    "execution": {
     "iopub.execute_input": "2022-01-09T15:42:20.514730Z",
     "iopub.status.busy": "2022-01-09T15:42:20.514141Z",
     "iopub.status.idle": "2022-01-09T15:42:20.520059Z",
     "shell.execute_reply": "2022-01-09T15:42:20.520573Z",
     "shell.execute_reply.started": "2022-01-09T15:38:55.272429Z"
    },
    "id": "Ch7C2Z93_nhJ",
    "outputId": "d5d61546-f058-4267-d1fa-c76b73373475",
    "papermill": {
     "duration": 0.06607,
     "end_time": "2022-01-09T15:42:20.520740",
     "exception": false,
     "start_time": "2022-01-09T15:42:20.454670",
     "status": "completed"
    },
    "tags": []
   },
   "outputs": [
    {
     "data": {
      "text/plain": [
       "location       object\n",
       "size           object\n",
       "total_sqft     object\n",
       "bath          float64\n",
       "price         float64\n",
       "dtype: object"
      ]
     },
     "execution_count": 28,
     "metadata": {},
     "output_type": "execute_result"
    }
   ],
   "source": [
    "house_data.dtypes"
   ]
  },
  {
   "cell_type": "code",
   "execution_count": 29,
   "id": "19457466",
   "metadata": {
    "execution": {
     "iopub.execute_input": "2022-01-09T15:42:20.640315Z",
     "iopub.status.busy": "2022-01-09T15:42:20.639396Z",
     "iopub.status.idle": "2022-01-09T15:42:20.650035Z",
     "shell.execute_reply": "2022-01-09T15:42:20.650557Z",
     "shell.execute_reply.started": "2022-01-09T15:38:55.282855Z"
    },
    "id": "VMWsOUcS_xrT",
    "outputId": "9b0651c8-27fb-424a-84a2-ab4d4f60a8e2",
    "papermill": {
     "duration": 0.071757,
     "end_time": "2022-01-09T15:42:20.650723",
     "exception": false,
     "start_time": "2022-01-09T15:42:20.578966",
     "status": "completed"
    },
    "tags": []
   },
   "outputs": [
    {
     "data": {
      "text/html": [
       "<div>\n",
       "<style scoped>\n",
       "    .dataframe tbody tr th:only-of-type {\n",
       "        vertical-align: middle;\n",
       "    }\n",
       "\n",
       "    .dataframe tbody tr th {\n",
       "        vertical-align: top;\n",
       "    }\n",
       "\n",
       "    .dataframe thead th {\n",
       "        text-align: right;\n",
       "    }\n",
       "</style>\n",
       "<table border=\"1\" class=\"dataframe\">\n",
       "  <thead>\n",
       "    <tr style=\"text-align: right;\">\n",
       "      <th></th>\n",
       "      <th>location</th>\n",
       "      <th>size</th>\n",
       "      <th>total_sqft</th>\n",
       "      <th>bath</th>\n",
       "      <th>price</th>\n",
       "    </tr>\n",
       "  </thead>\n",
       "  <tbody>\n",
       "    <tr>\n",
       "      <th>0</th>\n",
       "      <td>Electronic City Phase II</td>\n",
       "      <td>2 BHK</td>\n",
       "      <td>1056</td>\n",
       "      <td>2.0</td>\n",
       "      <td>39.07</td>\n",
       "    </tr>\n",
       "    <tr>\n",
       "      <th>1</th>\n",
       "      <td>Chikka Tirupathi</td>\n",
       "      <td>4 Bedroom</td>\n",
       "      <td>2600</td>\n",
       "      <td>5.0</td>\n",
       "      <td>120.00</td>\n",
       "    </tr>\n",
       "    <tr>\n",
       "      <th>2</th>\n",
       "      <td>Uttarahalli</td>\n",
       "      <td>3 BHK</td>\n",
       "      <td>1440</td>\n",
       "      <td>2.0</td>\n",
       "      <td>62.00</td>\n",
       "    </tr>\n",
       "    <tr>\n",
       "      <th>3</th>\n",
       "      <td>Lingadheeranahalli</td>\n",
       "      <td>3 BHK</td>\n",
       "      <td>1521</td>\n",
       "      <td>3.0</td>\n",
       "      <td>95.00</td>\n",
       "    </tr>\n",
       "    <tr>\n",
       "      <th>4</th>\n",
       "      <td>Kothanur</td>\n",
       "      <td>2 BHK</td>\n",
       "      <td>1200</td>\n",
       "      <td>2.0</td>\n",
       "      <td>51.00</td>\n",
       "    </tr>\n",
       "  </tbody>\n",
       "</table>\n",
       "</div>"
      ],
      "text/plain": [
       "                   location       size total_sqft  bath   price\n",
       "0  Electronic City Phase II      2 BHK       1056   2.0   39.07\n",
       "1          Chikka Tirupathi  4 Bedroom       2600   5.0  120.00\n",
       "2               Uttarahalli      3 BHK       1440   2.0   62.00\n",
       "3        Lingadheeranahalli      3 BHK       1521   3.0   95.00\n",
       "4                  Kothanur      2 BHK       1200   2.0   51.00"
      ]
     },
     "execution_count": 29,
     "metadata": {},
     "output_type": "execute_result"
    }
   ],
   "source": [
    "house_data.head()"
   ]
  },
  {
   "cell_type": "code",
   "execution_count": 30,
   "id": "c92d6db3",
   "metadata": {
    "execution": {
     "iopub.execute_input": "2022-01-09T15:42:20.772646Z",
     "iopub.status.busy": "2022-01-09T15:42:20.772062Z",
     "iopub.status.idle": "2022-01-09T15:42:20.777424Z",
     "shell.execute_reply": "2022-01-09T15:42:20.776971Z",
     "shell.execute_reply.started": "2022-01-09T15:38:55.300333Z"
    },
    "id": "hr6Uon4mBzRc",
    "outputId": "d249bec6-9d9b-4336-81e9-3c7651442a07",
    "papermill": {
     "duration": 0.068446,
     "end_time": "2022-01-09T15:42:20.777554",
     "exception": false,
     "start_time": "2022-01-09T15:42:20.709108",
     "status": "completed"
    },
    "tags": []
   },
   "outputs": [
    {
     "data": {
      "text/plain": [
       "array(['2 BHK', '4 Bedroom', '3 BHK', '4 BHK', '6 Bedroom', '3 Bedroom',\n",
       "       '1 BHK', '1 RK', '1 Bedroom', '8 Bedroom', '2 Bedroom',\n",
       "       '7 Bedroom', '5 BHK', '7 BHK', '6 BHK', '5 Bedroom', '11 BHK',\n",
       "       '9 BHK', '9 Bedroom', '27 BHK', '10 Bedroom', '11 Bedroom',\n",
       "       '10 BHK', '19 BHK', '16 BHK', '43 Bedroom', '14 BHK', '8 BHK',\n",
       "       '12 Bedroom', '13 BHK', '18 Bedroom'], dtype=object)"
      ]
     },
     "execution_count": 30,
     "metadata": {},
     "output_type": "execute_result"
    }
   ],
   "source": [
    "house_data['size'].unique()"
   ]
  },
  {
   "cell_type": "markdown",
   "id": "602d064c",
   "metadata": {
    "id": "oFRUngj4bbUR",
    "papermill": {
     "duration": 0.057691,
     "end_time": "2022-01-09T15:42:20.892655",
     "exception": false,
     "start_time": "2022-01-09T15:42:20.834964",
     "status": "completed"
    },
    "tags": []
   },
   "source": [
    "## Feature Engineering\n",
    "\n",
    "Add new feature(integer) for bhk(Bedrooms Hall Kitchen)"
   ]
  },
  {
   "cell_type": "code",
   "execution_count": 31,
   "id": "7a13a069",
   "metadata": {
    "execution": {
     "iopub.execute_input": "2022-01-09T15:42:21.041354Z",
     "iopub.status.busy": "2022-01-09T15:42:21.040434Z",
     "iopub.status.idle": "2022-01-09T15:42:21.059272Z",
     "shell.execute_reply": "2022-01-09T15:42:21.060102Z",
     "shell.execute_reply.started": "2022-01-09T15:38:55.316506Z"
    },
    "id": "STE_0qOPB413",
    "papermill": {
     "duration": 0.109812,
     "end_time": "2022-01-09T15:42:21.060350",
     "exception": false,
     "start_time": "2022-01-09T15:42:20.950538",
     "status": "completed"
    },
    "tags": []
   },
   "outputs": [],
   "source": [
    "## add the bhk column\n",
    "house_data['BHK'] = house_data['size'].apply(lambda x: int(x.split(' ')[0]))"
   ]
  },
  {
   "cell_type": "code",
   "execution_count": 32,
   "id": "59bf477a",
   "metadata": {
    "execution": {
     "iopub.execute_input": "2022-01-09T15:42:21.182373Z",
     "iopub.status.busy": "2022-01-09T15:42:21.181480Z",
     "iopub.status.idle": "2022-01-09T15:42:21.192448Z",
     "shell.execute_reply": "2022-01-09T15:42:21.192978Z",
     "shell.execute_reply.started": "2022-01-09T15:38:55.335990Z"
    },
    "id": "NMR_p-_aCd7p",
    "outputId": "7499f050-8d35-479d-aab8-1b987d642fae",
    "papermill": {
     "duration": 0.072915,
     "end_time": "2022-01-09T15:42:21.193153",
     "exception": false,
     "start_time": "2022-01-09T15:42:21.120238",
     "status": "completed"
    },
    "tags": []
   },
   "outputs": [
    {
     "data": {
      "text/html": [
       "<div>\n",
       "<style scoped>\n",
       "    .dataframe tbody tr th:only-of-type {\n",
       "        vertical-align: middle;\n",
       "    }\n",
       "\n",
       "    .dataframe tbody tr th {\n",
       "        vertical-align: top;\n",
       "    }\n",
       "\n",
       "    .dataframe thead th {\n",
       "        text-align: right;\n",
       "    }\n",
       "</style>\n",
       "<table border=\"1\" class=\"dataframe\">\n",
       "  <thead>\n",
       "    <tr style=\"text-align: right;\">\n",
       "      <th></th>\n",
       "      <th>location</th>\n",
       "      <th>size</th>\n",
       "      <th>total_sqft</th>\n",
       "      <th>bath</th>\n",
       "      <th>price</th>\n",
       "      <th>BHK</th>\n",
       "    </tr>\n",
       "  </thead>\n",
       "  <tbody>\n",
       "    <tr>\n",
       "      <th>0</th>\n",
       "      <td>Electronic City Phase II</td>\n",
       "      <td>2 BHK</td>\n",
       "      <td>1056</td>\n",
       "      <td>2.0</td>\n",
       "      <td>39.07</td>\n",
       "      <td>2</td>\n",
       "    </tr>\n",
       "    <tr>\n",
       "      <th>1</th>\n",
       "      <td>Chikka Tirupathi</td>\n",
       "      <td>4 Bedroom</td>\n",
       "      <td>2600</td>\n",
       "      <td>5.0</td>\n",
       "      <td>120.00</td>\n",
       "      <td>4</td>\n",
       "    </tr>\n",
       "    <tr>\n",
       "      <th>2</th>\n",
       "      <td>Uttarahalli</td>\n",
       "      <td>3 BHK</td>\n",
       "      <td>1440</td>\n",
       "      <td>2.0</td>\n",
       "      <td>62.00</td>\n",
       "      <td>3</td>\n",
       "    </tr>\n",
       "    <tr>\n",
       "      <th>3</th>\n",
       "      <td>Lingadheeranahalli</td>\n",
       "      <td>3 BHK</td>\n",
       "      <td>1521</td>\n",
       "      <td>3.0</td>\n",
       "      <td>95.00</td>\n",
       "      <td>3</td>\n",
       "    </tr>\n",
       "    <tr>\n",
       "      <th>4</th>\n",
       "      <td>Kothanur</td>\n",
       "      <td>2 BHK</td>\n",
       "      <td>1200</td>\n",
       "      <td>2.0</td>\n",
       "      <td>51.00</td>\n",
       "      <td>2</td>\n",
       "    </tr>\n",
       "  </tbody>\n",
       "</table>\n",
       "</div>"
      ],
      "text/plain": [
       "                   location       size total_sqft  bath   price  BHK\n",
       "0  Electronic City Phase II      2 BHK       1056   2.0   39.07    2\n",
       "1          Chikka Tirupathi  4 Bedroom       2600   5.0  120.00    4\n",
       "2               Uttarahalli      3 BHK       1440   2.0   62.00    3\n",
       "3        Lingadheeranahalli      3 BHK       1521   3.0   95.00    3\n",
       "4                  Kothanur      2 BHK       1200   2.0   51.00    2"
      ]
     },
     "execution_count": 32,
     "metadata": {},
     "output_type": "execute_result"
    }
   ],
   "source": [
    "house_data.head()"
   ]
  },
  {
   "cell_type": "code",
   "execution_count": 33,
   "id": "a2e8c3ec",
   "metadata": {
    "execution": {
     "iopub.execute_input": "2022-01-09T15:42:21.315801Z",
     "iopub.status.busy": "2022-01-09T15:42:21.314870Z",
     "iopub.status.idle": "2022-01-09T15:42:21.320559Z",
     "shell.execute_reply": "2022-01-09T15:42:21.321104Z",
     "shell.execute_reply.started": "2022-01-09T15:38:55.349852Z"
    },
    "id": "cDCmvCvXCkq9",
    "outputId": "c5c79cc0-f4a4-4583-9640-5242839d6d31",
    "papermill": {
     "duration": 0.07006,
     "end_time": "2022-01-09T15:42:21.321263",
     "exception": false,
     "start_time": "2022-01-09T15:42:21.251203",
     "status": "completed"
    },
    "tags": []
   },
   "outputs": [
    {
     "data": {
      "text/plain": [
       "array([ 2,  4,  3,  6,  1,  8,  7,  5, 11,  9, 27, 10, 19, 16, 43, 14, 12,\n",
       "       13, 18], dtype=int64)"
      ]
     },
     "execution_count": 33,
     "metadata": {},
     "output_type": "execute_result"
    }
   ],
   "source": [
    "house_data['BHK'].unique()"
   ]
  },
  {
   "cell_type": "code",
   "execution_count": 34,
   "id": "11c5a432",
   "metadata": {
    "execution": {
     "iopub.execute_input": "2022-01-09T15:42:21.449668Z",
     "iopub.status.busy": "2022-01-09T15:42:21.448990Z",
     "iopub.status.idle": "2022-01-09T15:42:21.451882Z",
     "shell.execute_reply": "2022-01-09T15:42:21.452339Z",
     "shell.execute_reply.started": "2022-01-09T15:38:55.364730Z"
    },
    "id": "3Y7eoTr7C0f2",
    "outputId": "9885c0eb-794c-4033-e854-869a25b8b980",
    "papermill": {
     "duration": 0.072834,
     "end_time": "2022-01-09T15:42:21.452495",
     "exception": false,
     "start_time": "2022-01-09T15:42:21.379661",
     "status": "completed"
    },
    "tags": []
   },
   "outputs": [
    {
     "data": {
      "text/html": [
       "<div>\n",
       "<style scoped>\n",
       "    .dataframe tbody tr th:only-of-type {\n",
       "        vertical-align: middle;\n",
       "    }\n",
       "\n",
       "    .dataframe tbody tr th {\n",
       "        vertical-align: top;\n",
       "    }\n",
       "\n",
       "    .dataframe thead th {\n",
       "        text-align: right;\n",
       "    }\n",
       "</style>\n",
       "<table border=\"1\" class=\"dataframe\">\n",
       "  <thead>\n",
       "    <tr style=\"text-align: right;\">\n",
       "      <th></th>\n",
       "      <th>location</th>\n",
       "      <th>size</th>\n",
       "      <th>total_sqft</th>\n",
       "      <th>bath</th>\n",
       "      <th>price</th>\n",
       "      <th>BHK</th>\n",
       "    </tr>\n",
       "  </thead>\n",
       "  <tbody>\n",
       "    <tr>\n",
       "      <th>1718</th>\n",
       "      <td>2Electronic City Phase II</td>\n",
       "      <td>27 BHK</td>\n",
       "      <td>8000</td>\n",
       "      <td>27.0</td>\n",
       "      <td>230.0</td>\n",
       "      <td>27</td>\n",
       "    </tr>\n",
       "    <tr>\n",
       "      <th>4684</th>\n",
       "      <td>Munnekollal</td>\n",
       "      <td>43 Bedroom</td>\n",
       "      <td>2400</td>\n",
       "      <td>40.0</td>\n",
       "      <td>660.0</td>\n",
       "      <td>43</td>\n",
       "    </tr>\n",
       "  </tbody>\n",
       "</table>\n",
       "</div>"
      ],
      "text/plain": [
       "                       location        size total_sqft  bath  price  BHK\n",
       "1718  2Electronic City Phase II      27 BHK       8000  27.0  230.0   27\n",
       "4684                Munnekollal  43 Bedroom       2400  40.0  660.0   43"
      ]
     },
     "execution_count": 34,
     "metadata": {},
     "output_type": "execute_result"
    }
   ],
   "source": [
    "house_data[house_data.BHK > 20]"
   ]
  },
  {
   "cell_type": "markdown",
   "id": "daf75ebd",
   "metadata": {
    "id": "4gPGw-e8DXJS",
    "papermill": {
     "duration": 0.059017,
     "end_time": "2022-01-09T15:42:21.570155",
     "exception": false,
     "start_time": "2022-01-09T15:42:21.511138",
     "status": "completed"
    },
    "tags": []
   },
   "source": [
    "**Insight**\n",
    "\n",
    "There is some problem in the total_Sqft column it shows 43 bedroom in 2400 sq ft area.."
   ]
  },
  {
   "cell_type": "code",
   "execution_count": 35,
   "id": "60c963fe",
   "metadata": {
    "execution": {
     "iopub.execute_input": "2022-01-09T15:42:21.694137Z",
     "iopub.status.busy": "2022-01-09T15:42:21.693202Z",
     "iopub.status.idle": "2022-01-09T15:42:21.696951Z",
     "shell.execute_reply": "2022-01-09T15:42:21.697498Z",
     "shell.execute_reply.started": "2022-01-09T15:38:55.381428Z"
    },
    "id": "U4-bd1csDK06",
    "outputId": "bfd006cd-ceae-4f98-862c-7aa20c7ab1b8",
    "papermill": {
     "duration": 0.069177,
     "end_time": "2022-01-09T15:42:21.697654",
     "exception": false,
     "start_time": "2022-01-09T15:42:21.628477",
     "status": "completed"
    },
    "tags": []
   },
   "outputs": [
    {
     "data": {
      "text/plain": [
       "array(['1056', '2600', '1440', ..., '1133 - 1384', '774', '4689'],\n",
       "      dtype=object)"
      ]
     },
     "execution_count": 35,
     "metadata": {},
     "output_type": "execute_result"
    }
   ],
   "source": [
    "## Examine the total_sqft column\n",
    "\n",
    "house_data['total_sqft'].unique()"
   ]
  },
  {
   "cell_type": "markdown",
   "id": "cec0eb48",
   "metadata": {
    "id": "Im45bwN6DuMy",
    "papermill": {
     "duration": 0.059034,
     "end_time": "2022-01-09T15:42:21.815474",
     "exception": false,
     "start_time": "2022-01-09T15:42:21.756440",
     "status": "completed"
    },
    "tags": []
   },
   "source": [
    "Their is some range values in the 'total_sqft' column as like \"1133 - 1384\" let's convert it into a single value.."
   ]
  },
  {
   "cell_type": "code",
   "execution_count": 36,
   "id": "95eecbf7",
   "metadata": {
    "execution": {
     "iopub.execute_input": "2022-01-09T15:42:21.936073Z",
     "iopub.status.busy": "2022-01-09T15:42:21.935468Z",
     "iopub.status.idle": "2022-01-09T15:42:21.938972Z",
     "shell.execute_reply": "2022-01-09T15:42:21.939465Z",
     "shell.execute_reply.started": "2022-01-09T15:38:55.395664Z"
    },
    "id": "sGWQdIqFDsci",
    "papermill": {
     "duration": 0.065293,
     "end_time": "2022-01-09T15:42:21.939620",
     "exception": false,
     "start_time": "2022-01-09T15:42:21.874327",
     "status": "completed"
    },
    "tags": []
   },
   "outputs": [],
   "source": [
    "## let's try with a function \n",
    "\n",
    "def is_float(x):\n",
    "   try:\n",
    "     float(x)\n",
    "   except:\n",
    "     return False\n",
    "   return True    "
   ]
  },
  {
   "cell_type": "code",
   "execution_count": 37,
   "id": "023b3452",
   "metadata": {
    "execution": {
     "iopub.execute_input": "2022-01-09T15:42:22.062581Z",
     "iopub.status.busy": "2022-01-09T15:42:22.061988Z",
     "iopub.status.idle": "2022-01-09T15:42:22.079072Z",
     "shell.execute_reply": "2022-01-09T15:42:22.079507Z",
     "shell.execute_reply.started": "2022-01-09T15:38:55.402177Z"
    },
    "id": "yAgDmDy9Eg5Z",
    "outputId": "ca020d99-2bc0-4bdb-8d0a-05c559ed48af",
    "papermill": {
     "duration": 0.079863,
     "end_time": "2022-01-09T15:42:22.079665",
     "exception": false,
     "start_time": "2022-01-09T15:42:21.999802",
     "status": "completed"
    },
    "tags": []
   },
   "outputs": [
    {
     "data": {
      "text/html": [
       "<div>\n",
       "<style scoped>\n",
       "    .dataframe tbody tr th:only-of-type {\n",
       "        vertical-align: middle;\n",
       "    }\n",
       "\n",
       "    .dataframe tbody tr th {\n",
       "        vertical-align: top;\n",
       "    }\n",
       "\n",
       "    .dataframe thead th {\n",
       "        text-align: right;\n",
       "    }\n",
       "</style>\n",
       "<table border=\"1\" class=\"dataframe\">\n",
       "  <thead>\n",
       "    <tr style=\"text-align: right;\">\n",
       "      <th></th>\n",
       "      <th>location</th>\n",
       "      <th>size</th>\n",
       "      <th>total_sqft</th>\n",
       "      <th>bath</th>\n",
       "      <th>price</th>\n",
       "      <th>BHK</th>\n",
       "    </tr>\n",
       "  </thead>\n",
       "  <tbody>\n",
       "    <tr>\n",
       "      <th>30</th>\n",
       "      <td>Yelahanka</td>\n",
       "      <td>4 BHK</td>\n",
       "      <td>2100 - 2850</td>\n",
       "      <td>4.0</td>\n",
       "      <td>186.000</td>\n",
       "      <td>4</td>\n",
       "    </tr>\n",
       "    <tr>\n",
       "      <th>122</th>\n",
       "      <td>Hebbal</td>\n",
       "      <td>4 BHK</td>\n",
       "      <td>3067 - 8156</td>\n",
       "      <td>4.0</td>\n",
       "      <td>477.000</td>\n",
       "      <td>4</td>\n",
       "    </tr>\n",
       "    <tr>\n",
       "      <th>137</th>\n",
       "      <td>8th Phase JP Nagar</td>\n",
       "      <td>2 BHK</td>\n",
       "      <td>1042 - 1105</td>\n",
       "      <td>2.0</td>\n",
       "      <td>54.005</td>\n",
       "      <td>2</td>\n",
       "    </tr>\n",
       "    <tr>\n",
       "      <th>165</th>\n",
       "      <td>Sarjapur</td>\n",
       "      <td>2 BHK</td>\n",
       "      <td>1145 - 1340</td>\n",
       "      <td>2.0</td>\n",
       "      <td>43.490</td>\n",
       "      <td>2</td>\n",
       "    </tr>\n",
       "    <tr>\n",
       "      <th>188</th>\n",
       "      <td>KR Puram</td>\n",
       "      <td>2 BHK</td>\n",
       "      <td>1015 - 1540</td>\n",
       "      <td>2.0</td>\n",
       "      <td>56.800</td>\n",
       "      <td>2</td>\n",
       "    </tr>\n",
       "    <tr>\n",
       "      <th>410</th>\n",
       "      <td>Kengeri</td>\n",
       "      <td>1 BHK</td>\n",
       "      <td>34.46Sq. Meter</td>\n",
       "      <td>1.0</td>\n",
       "      <td>18.500</td>\n",
       "      <td>1</td>\n",
       "    </tr>\n",
       "    <tr>\n",
       "      <th>549</th>\n",
       "      <td>Hennur Road</td>\n",
       "      <td>2 BHK</td>\n",
       "      <td>1195 - 1440</td>\n",
       "      <td>2.0</td>\n",
       "      <td>63.770</td>\n",
       "      <td>2</td>\n",
       "    </tr>\n",
       "    <tr>\n",
       "      <th>648</th>\n",
       "      <td>Arekere</td>\n",
       "      <td>9 Bedroom</td>\n",
       "      <td>4125Perch</td>\n",
       "      <td>9.0</td>\n",
       "      <td>265.000</td>\n",
       "      <td>9</td>\n",
       "    </tr>\n",
       "    <tr>\n",
       "      <th>661</th>\n",
       "      <td>Yelahanka</td>\n",
       "      <td>2 BHK</td>\n",
       "      <td>1120 - 1145</td>\n",
       "      <td>2.0</td>\n",
       "      <td>48.130</td>\n",
       "      <td>2</td>\n",
       "    </tr>\n",
       "    <tr>\n",
       "      <th>672</th>\n",
       "      <td>Bettahalsoor</td>\n",
       "      <td>4 Bedroom</td>\n",
       "      <td>3090 - 5002</td>\n",
       "      <td>4.0</td>\n",
       "      <td>445.000</td>\n",
       "      <td>4</td>\n",
       "    </tr>\n",
       "    <tr>\n",
       "      <th>772</th>\n",
       "      <td>Banashankari Stage VI</td>\n",
       "      <td>2 BHK</td>\n",
       "      <td>1160 - 1195</td>\n",
       "      <td>2.0</td>\n",
       "      <td>59.935</td>\n",
       "      <td>2</td>\n",
       "    </tr>\n",
       "    <tr>\n",
       "      <th>775</th>\n",
       "      <td>Basavanagara</td>\n",
       "      <td>1 BHK</td>\n",
       "      <td>1000Sq. Meter</td>\n",
       "      <td>2.0</td>\n",
       "      <td>93.000</td>\n",
       "      <td>1</td>\n",
       "    </tr>\n",
       "  </tbody>\n",
       "</table>\n",
       "</div>"
      ],
      "text/plain": [
       "                  location       size      total_sqft  bath    price  BHK\n",
       "30               Yelahanka      4 BHK     2100 - 2850   4.0  186.000    4\n",
       "122                 Hebbal      4 BHK     3067 - 8156   4.0  477.000    4\n",
       "137     8th Phase JP Nagar      2 BHK     1042 - 1105   2.0   54.005    2\n",
       "165               Sarjapur      2 BHK     1145 - 1340   2.0   43.490    2\n",
       "188               KR Puram      2 BHK     1015 - 1540   2.0   56.800    2\n",
       "410                Kengeri      1 BHK  34.46Sq. Meter   1.0   18.500    1\n",
       "549            Hennur Road      2 BHK     1195 - 1440   2.0   63.770    2\n",
       "648                Arekere  9 Bedroom       4125Perch   9.0  265.000    9\n",
       "661              Yelahanka      2 BHK     1120 - 1145   2.0   48.130    2\n",
       "672           Bettahalsoor  4 Bedroom     3090 - 5002   4.0  445.000    4\n",
       "772  Banashankari Stage VI      2 BHK     1160 - 1195   2.0   59.935    2\n",
       "775           Basavanagara      1 BHK   1000Sq. Meter   2.0   93.000    1"
      ]
     },
     "execution_count": 37,
     "metadata": {},
     "output_type": "execute_result"
    }
   ],
   "source": [
    "house_data[~house_data['total_sqft'].apply(is_float)].head(12)"
   ]
  },
  {
   "cell_type": "markdown",
   "id": "a1dd49b1",
   "metadata": {
    "id": "Q6qwKGnCFJdz",
    "papermill": {
     "duration": 0.061463,
     "end_time": "2022-01-09T15:42:22.202964",
     "exception": false,
     "start_time": "2022-01-09T15:42:22.141501",
     "status": "completed"
    },
    "tags": []
   },
   "source": [
    "Above shows that total_sqft can be a range (e.g. 2100-2850). For such case we can just take average of min and max value in the range. There are other cases such as 34.46Sq. Meter which one can convert to square ft using unit conversion. I am going to just drop such corner cases to keep things simple"
   ]
  },
  {
   "cell_type": "code",
   "execution_count": 38,
   "id": "4ebf4646",
   "metadata": {
    "execution": {
     "iopub.execute_input": "2022-01-09T15:42:22.327066Z",
     "iopub.status.busy": "2022-01-09T15:42:22.326450Z",
     "iopub.status.idle": "2022-01-09T15:42:22.330370Z",
     "shell.execute_reply": "2022-01-09T15:42:22.330837Z",
     "shell.execute_reply.started": "2022-01-09T15:38:55.431545Z"
    },
    "id": "2z8wJFTqErd9",
    "papermill": {
     "duration": 0.067563,
     "end_time": "2022-01-09T15:42:22.331001",
     "exception": false,
     "start_time": "2022-01-09T15:42:22.263438",
     "status": "completed"
    },
    "tags": []
   },
   "outputs": [],
   "source": [
    " def convert_sqft_num(x):\n",
    "   tokens = x.split('-')\n",
    "   if len(tokens) == 2:\n",
    "     return(float(tokens[0])+float(tokens[1]))/2\n",
    "   try:\n",
    "     return float(x)\n",
    "   except:\n",
    "     return None\n",
    "            "
   ]
  },
  {
   "cell_type": "code",
   "execution_count": 39,
   "id": "145aca0f",
   "metadata": {
    "execution": {
     "iopub.execute_input": "2022-01-09T15:42:22.451785Z",
     "iopub.status.busy": "2022-01-09T15:42:22.451241Z",
     "iopub.status.idle": "2022-01-09T15:42:22.463304Z",
     "shell.execute_reply": "2022-01-09T15:42:22.463752Z",
     "shell.execute_reply.started": "2022-01-09T15:38:55.441525Z"
    },
    "id": "2SYy_w-PGNOE",
    "outputId": "a23794b8-7833-4eef-f098-76fca0f346fd",
    "papermill": {
     "duration": 0.073729,
     "end_time": "2022-01-09T15:42:22.463908",
     "exception": false,
     "start_time": "2022-01-09T15:42:22.390179",
     "status": "completed"
    },
    "tags": []
   },
   "outputs": [],
   "source": [
    "house_data['total_sqft'] = house_data['total_sqft'].apply(convert_sqft_num)"
   ]
  },
  {
   "cell_type": "code",
   "execution_count": 40,
   "id": "60799565",
   "metadata": {
    "execution": {
     "iopub.execute_input": "2022-01-09T15:42:22.584744Z",
     "iopub.status.busy": "2022-01-09T15:42:22.584144Z",
     "iopub.status.idle": "2022-01-09T15:42:22.595035Z",
     "shell.execute_reply": "2022-01-09T15:42:22.595523Z",
     "shell.execute_reply.started": "2022-01-09T15:38:55.461608Z"
    },
    "id": "jSir8oLYGheg",
    "outputId": "fd6a6e8b-2d28-4034-d929-9cf9a8c853f8",
    "papermill": {
     "duration": 0.072953,
     "end_time": "2022-01-09T15:42:22.595684",
     "exception": false,
     "start_time": "2022-01-09T15:42:22.522731",
     "status": "completed"
    },
    "tags": []
   },
   "outputs": [
    {
     "data": {
      "text/html": [
       "<div>\n",
       "<style scoped>\n",
       "    .dataframe tbody tr th:only-of-type {\n",
       "        vertical-align: middle;\n",
       "    }\n",
       "\n",
       "    .dataframe tbody tr th {\n",
       "        vertical-align: top;\n",
       "    }\n",
       "\n",
       "    .dataframe thead th {\n",
       "        text-align: right;\n",
       "    }\n",
       "</style>\n",
       "<table border=\"1\" class=\"dataframe\">\n",
       "  <thead>\n",
       "    <tr style=\"text-align: right;\">\n",
       "      <th></th>\n",
       "      <th>location</th>\n",
       "      <th>size</th>\n",
       "      <th>total_sqft</th>\n",
       "      <th>bath</th>\n",
       "      <th>price</th>\n",
       "      <th>BHK</th>\n",
       "    </tr>\n",
       "  </thead>\n",
       "  <tbody>\n",
       "    <tr>\n",
       "      <th>0</th>\n",
       "      <td>Electronic City Phase II</td>\n",
       "      <td>2 BHK</td>\n",
       "      <td>1056.0</td>\n",
       "      <td>2.0</td>\n",
       "      <td>39.07</td>\n",
       "      <td>2</td>\n",
       "    </tr>\n",
       "    <tr>\n",
       "      <th>1</th>\n",
       "      <td>Chikka Tirupathi</td>\n",
       "      <td>4 Bedroom</td>\n",
       "      <td>2600.0</td>\n",
       "      <td>5.0</td>\n",
       "      <td>120.00</td>\n",
       "      <td>4</td>\n",
       "    </tr>\n",
       "    <tr>\n",
       "      <th>2</th>\n",
       "      <td>Uttarahalli</td>\n",
       "      <td>3 BHK</td>\n",
       "      <td>1440.0</td>\n",
       "      <td>2.0</td>\n",
       "      <td>62.00</td>\n",
       "      <td>3</td>\n",
       "    </tr>\n",
       "    <tr>\n",
       "      <th>3</th>\n",
       "      <td>Lingadheeranahalli</td>\n",
       "      <td>3 BHK</td>\n",
       "      <td>1521.0</td>\n",
       "      <td>3.0</td>\n",
       "      <td>95.00</td>\n",
       "      <td>3</td>\n",
       "    </tr>\n",
       "    <tr>\n",
       "      <th>4</th>\n",
       "      <td>Kothanur</td>\n",
       "      <td>2 BHK</td>\n",
       "      <td>1200.0</td>\n",
       "      <td>2.0</td>\n",
       "      <td>51.00</td>\n",
       "      <td>2</td>\n",
       "    </tr>\n",
       "  </tbody>\n",
       "</table>\n",
       "</div>"
      ],
      "text/plain": [
       "                   location       size  total_sqft  bath   price  BHK\n",
       "0  Electronic City Phase II      2 BHK      1056.0   2.0   39.07    2\n",
       "1          Chikka Tirupathi  4 Bedroom      2600.0   5.0  120.00    4\n",
       "2               Uttarahalli      3 BHK      1440.0   2.0   62.00    3\n",
       "3        Lingadheeranahalli      3 BHK      1521.0   3.0   95.00    3\n",
       "4                  Kothanur      2 BHK      1200.0   2.0   51.00    2"
      ]
     },
     "execution_count": 40,
     "metadata": {},
     "output_type": "execute_result"
    }
   ],
   "source": [
    "house_data.head()"
   ]
  },
  {
   "cell_type": "code",
   "execution_count": 41,
   "id": "19f1753b",
   "metadata": {
    "execution": {
     "iopub.execute_input": "2022-01-09T15:42:22.718918Z",
     "iopub.status.busy": "2022-01-09T15:42:22.718369Z",
     "iopub.status.idle": "2022-01-09T15:42:22.725777Z",
     "shell.execute_reply": "2022-01-09T15:42:22.726194Z",
     "shell.execute_reply.started": "2022-01-09T15:38:55.484168Z"
    },
    "id": "QiopikMHKzE2",
    "outputId": "93a387e9-a5a4-44cd-c08f-61e3746b31a7",
    "papermill": {
     "duration": 0.070457,
     "end_time": "2022-01-09T15:42:22.726359",
     "exception": false,
     "start_time": "2022-01-09T15:42:22.655902",
     "status": "completed"
    },
    "tags": []
   },
   "outputs": [
    {
     "data": {
      "text/plain": [
       "location      Yelahanka\n",
       "size              4 BHK\n",
       "total_sqft       2475.0\n",
       "bath                4.0\n",
       "price             186.0\n",
       "BHK                   4\n",
       "Name: 30, dtype: object"
      ]
     },
     "execution_count": 41,
     "metadata": {},
     "output_type": "execute_result"
    }
   ],
   "source": [
    "house_data.loc[30]"
   ]
  },
  {
   "cell_type": "markdown",
   "id": "efd2add8",
   "metadata": {
    "id": "L8jNs5UmcNHq",
    "papermill": {
     "duration": 0.059835,
     "end_time": "2022-01-09T15:42:22.846605",
     "exception": false,
     "start_time": "2022-01-09T15:42:22.786770",
     "status": "completed"
    },
    "tags": []
   },
   "source": [
    "**For Above row, it shows total_sqft as 2475 which is an average of the range 2100-2850**\n"
   ]
  },
  {
   "cell_type": "code",
   "execution_count": 42,
   "id": "66a6e943",
   "metadata": {
    "execution": {
     "iopub.execute_input": "2022-01-09T15:42:22.970731Z",
     "iopub.status.busy": "2022-01-09T15:42:22.970129Z",
     "iopub.status.idle": "2022-01-09T15:42:22.982654Z",
     "shell.execute_reply": "2022-01-09T15:42:22.983156Z",
     "shell.execute_reply.started": "2022-01-09T15:38:55.495593Z"
    },
    "id": "FI75080bK2bj",
    "outputId": "49de030e-0300-4a3e-bf93-abec89770ff1",
    "papermill": {
     "duration": 0.076856,
     "end_time": "2022-01-09T15:42:22.983319",
     "exception": false,
     "start_time": "2022-01-09T15:42:22.906463",
     "status": "completed"
    },
    "tags": []
   },
   "outputs": [
    {
     "data": {
      "text/html": [
       "<div>\n",
       "<style scoped>\n",
       "    .dataframe tbody tr th:only-of-type {\n",
       "        vertical-align: middle;\n",
       "    }\n",
       "\n",
       "    .dataframe tbody tr th {\n",
       "        vertical-align: top;\n",
       "    }\n",
       "\n",
       "    .dataframe thead th {\n",
       "        text-align: right;\n",
       "    }\n",
       "</style>\n",
       "<table border=\"1\" class=\"dataframe\">\n",
       "  <thead>\n",
       "    <tr style=\"text-align: right;\">\n",
       "      <th></th>\n",
       "      <th>location</th>\n",
       "      <th>size</th>\n",
       "      <th>total_sqft</th>\n",
       "      <th>bath</th>\n",
       "      <th>price</th>\n",
       "      <th>BHK</th>\n",
       "      <th>Price_per_sqft</th>\n",
       "    </tr>\n",
       "  </thead>\n",
       "  <tbody>\n",
       "    <tr>\n",
       "      <th>0</th>\n",
       "      <td>Electronic City Phase II</td>\n",
       "      <td>2 BHK</td>\n",
       "      <td>1056.0</td>\n",
       "      <td>2.0</td>\n",
       "      <td>39.07</td>\n",
       "      <td>2</td>\n",
       "      <td>3699.810606</td>\n",
       "    </tr>\n",
       "    <tr>\n",
       "      <th>1</th>\n",
       "      <td>Chikka Tirupathi</td>\n",
       "      <td>4 Bedroom</td>\n",
       "      <td>2600.0</td>\n",
       "      <td>5.0</td>\n",
       "      <td>120.00</td>\n",
       "      <td>4</td>\n",
       "      <td>4615.384615</td>\n",
       "    </tr>\n",
       "    <tr>\n",
       "      <th>2</th>\n",
       "      <td>Uttarahalli</td>\n",
       "      <td>3 BHK</td>\n",
       "      <td>1440.0</td>\n",
       "      <td>2.0</td>\n",
       "      <td>62.00</td>\n",
       "      <td>3</td>\n",
       "      <td>4305.555556</td>\n",
       "    </tr>\n",
       "    <tr>\n",
       "      <th>3</th>\n",
       "      <td>Lingadheeranahalli</td>\n",
       "      <td>3 BHK</td>\n",
       "      <td>1521.0</td>\n",
       "      <td>3.0</td>\n",
       "      <td>95.00</td>\n",
       "      <td>3</td>\n",
       "      <td>6245.890861</td>\n",
       "    </tr>\n",
       "    <tr>\n",
       "      <th>4</th>\n",
       "      <td>Kothanur</td>\n",
       "      <td>2 BHK</td>\n",
       "      <td>1200.0</td>\n",
       "      <td>2.0</td>\n",
       "      <td>51.00</td>\n",
       "      <td>2</td>\n",
       "      <td>4250.000000</td>\n",
       "    </tr>\n",
       "  </tbody>\n",
       "</table>\n",
       "</div>"
      ],
      "text/plain": [
       "                   location       size  total_sqft  bath   price  BHK  \\\n",
       "0  Electronic City Phase II      2 BHK      1056.0   2.0   39.07    2   \n",
       "1          Chikka Tirupathi  4 Bedroom      2600.0   5.0  120.00    4   \n",
       "2               Uttarahalli      3 BHK      1440.0   2.0   62.00    3   \n",
       "3        Lingadheeranahalli      3 BHK      1521.0   3.0   95.00    3   \n",
       "4                  Kothanur      2 BHK      1200.0   2.0   51.00    2   \n",
       "\n",
       "   Price_per_sqft  \n",
       "0     3699.810606  \n",
       "1     4615.384615  \n",
       "2     4305.555556  \n",
       "3     6245.890861  \n",
       "4     4250.000000  "
      ]
     },
     "execution_count": 42,
     "metadata": {},
     "output_type": "execute_result"
    }
   ],
   "source": [
    "# Creating a new column to find the price per sq-ft\n",
    "\n",
    "house_data['Price_per_sqft'] = house_data['price']*100000/house_data['total_sqft']\n",
    "house_data.head()"
   ]
  },
  {
   "cell_type": "markdown",
   "id": "c73fa84d",
   "metadata": {
    "id": "ecJLDJHucxh2",
    "papermill": {
     "duration": 0.062818,
     "end_time": "2022-01-09T15:42:23.109265",
     "exception": false,
     "start_time": "2022-01-09T15:42:23.046447",
     "status": "completed"
    },
    "tags": []
   },
   "source": [
    "## Dimensionality Reduction\n",
    "\n",
    "Any location having less than 10 data points should be tagged as \"other\" location. This way number of categories can be reduced by huge amount. Later on when do one hot encoding, it will help us with having fewer dummy columns"
   ]
  },
  {
   "cell_type": "code",
   "execution_count": 43,
   "id": "de9f33cd",
   "metadata": {
    "execution": {
     "iopub.execute_input": "2022-01-09T15:42:23.233728Z",
     "iopub.status.busy": "2022-01-09T15:42:23.233146Z",
     "iopub.status.idle": "2022-01-09T15:42:23.240515Z",
     "shell.execute_reply": "2022-01-09T15:42:23.241043Z",
     "shell.execute_reply.started": "2022-01-09T15:38:55.512882Z"
    },
    "id": "S_dLYyYtM3wK",
    "outputId": "7c2489b0-33d6-4b8e-9179-d558cf310449",
    "papermill": {
     "duration": 0.071235,
     "end_time": "2022-01-09T15:42:23.241205",
     "exception": false,
     "start_time": "2022-01-09T15:42:23.169970",
     "status": "completed"
    },
    "tags": []
   },
   "outputs": [
    {
     "data": {
      "text/plain": [
       "array(['Electronic City Phase II', 'Chikka Tirupathi', 'Uttarahalli', ...,\n",
       "       '12th cross srinivas nagar banshankari 3rd stage',\n",
       "       'Havanur extension', 'Abshot Layout'], dtype=object)"
      ]
     },
     "execution_count": 43,
     "metadata": {},
     "output_type": "execute_result"
    }
   ],
   "source": [
    "## let's work on the location column\n",
    "house_price = house_data.copy()\n",
    "house_price['location'].unique()"
   ]
  },
  {
   "cell_type": "code",
   "execution_count": 44,
   "id": "91833b8a",
   "metadata": {
    "execution": {
     "iopub.execute_input": "2022-01-09T15:42:23.368824Z",
     "iopub.status.busy": "2022-01-09T15:42:23.366606Z",
     "iopub.status.idle": "2022-01-09T15:42:23.371606Z",
     "shell.execute_reply": "2022-01-09T15:42:23.372062Z",
     "shell.execute_reply.started": "2022-01-09T15:38:55.527711Z"
    },
    "id": "FlzV5cLON_cm",
    "outputId": "96fff143-5439-4833-edc3-7e25d441bdb5",
    "papermill": {
     "duration": 0.068746,
     "end_time": "2022-01-09T15:42:23.372230",
     "exception": false,
     "start_time": "2022-01-09T15:42:23.303484",
     "status": "completed"
    },
    "tags": []
   },
   "outputs": [
    {
     "data": {
      "text/plain": [
       "13246"
      ]
     },
     "execution_count": 44,
     "metadata": {},
     "output_type": "execute_result"
    }
   ],
   "source": [
    "len(house_price['location'])"
   ]
  },
  {
   "cell_type": "code",
   "execution_count": 45,
   "id": "9832e8d7",
   "metadata": {
    "execution": {
     "iopub.execute_input": "2022-01-09T15:42:23.498969Z",
     "iopub.status.busy": "2022-01-09T15:42:23.498008Z",
     "iopub.status.idle": "2022-01-09T15:42:23.509387Z",
     "shell.execute_reply": "2022-01-09T15:42:23.509818Z",
     "shell.execute_reply.started": "2022-01-09T15:38:55.535158Z"
    },
    "id": "ZffO4Q4eOENK",
    "papermill": {
     "duration": 0.076527,
     "end_time": "2022-01-09T15:42:23.509997",
     "exception": false,
     "start_time": "2022-01-09T15:42:23.433470",
     "status": "completed"
    },
    "tags": []
   },
   "outputs": [],
   "source": [
    "## let's check each location in column\n",
    "\n",
    "house_price['location'] = house_price['location'].apply(lambda x: x.strip()) ## remove the spaces \n",
    "locations = house_price.groupby('location')['location'].agg('count').sort_values(ascending=False)"
   ]
  },
  {
   "cell_type": "code",
   "execution_count": 46,
   "id": "e646696a",
   "metadata": {
    "execution": {
     "iopub.execute_input": "2022-01-09T15:42:23.640252Z",
     "iopub.status.busy": "2022-01-09T15:42:23.639471Z",
     "iopub.status.idle": "2022-01-09T15:42:23.642934Z",
     "shell.execute_reply": "2022-01-09T15:42:23.642411Z",
     "shell.execute_reply.started": "2022-01-09T15:38:55.555863Z"
    },
    "id": "4yCz23ptOh59",
    "outputId": "b4aac218-2d87-45a6-c661-9a43a4e0b604",
    "papermill": {
     "duration": 0.071493,
     "end_time": "2022-01-09T15:42:23.643094",
     "exception": false,
     "start_time": "2022-01-09T15:42:23.571601",
     "status": "completed"
    },
    "tags": []
   },
   "outputs": [
    {
     "data": {
      "text/plain": [
       "location\n",
       "Whitefield               535\n",
       "Sarjapur  Road           392\n",
       "Electronic City          304\n",
       "Kanakpura Road           266\n",
       "Thanisandra              236\n",
       "                        ... \n",
       "1 Giri Nagar               1\n",
       "Kanakapura Road,           1\n",
       "Kanakapura main  Road      1\n",
       "Karnataka Shabarimala      1\n",
       "whitefiled                 1\n",
       "Name: location, Length: 1293, dtype: int64"
      ]
     },
     "execution_count": 46,
     "metadata": {},
     "output_type": "execute_result"
    }
   ],
   "source": [
    "locations"
   ]
  },
  {
   "cell_type": "code",
   "execution_count": 47,
   "id": "f2cc5b32",
   "metadata": {
    "execution": {
     "iopub.execute_input": "2022-01-09T15:42:23.770610Z",
     "iopub.status.busy": "2022-01-09T15:42:23.769665Z",
     "iopub.status.idle": "2022-01-09T15:42:23.775530Z",
     "shell.execute_reply": "2022-01-09T15:42:23.775942Z",
     "shell.execute_reply.started": "2022-01-09T15:38:55.564100Z"
    },
    "id": "rzoip2abOrEA",
    "outputId": "c92bab58-590d-409a-a67f-6af574fd7eab",
    "papermill": {
     "duration": 0.071707,
     "end_time": "2022-01-09T15:42:23.776127",
     "exception": false,
     "start_time": "2022-01-09T15:42:23.704420",
     "status": "completed"
    },
    "tags": []
   },
   "outputs": [
    {
     "data": {
      "text/plain": [
       "location\n",
       "Basapura                 10\n",
       "1st Block Koramangala    10\n",
       "Gunjur Palya             10\n",
       "Kalkere                  10\n",
       "Sector 1 HSR Layout      10\n",
       "                         ..\n",
       "1 Giri Nagar              1\n",
       "Kanakapura Road,          1\n",
       "Kanakapura main  Road     1\n",
       "Karnataka Shabarimala     1\n",
       "whitefiled                1\n",
       "Name: location, Length: 1052, dtype: int64"
      ]
     },
     "execution_count": 47,
     "metadata": {},
     "output_type": "execute_result"
    }
   ],
   "source": [
    "## let's check the location is 1 or 10 times \n",
    "\n",
    "locations[locations<=10]"
   ]
  },
  {
   "cell_type": "code",
   "execution_count": 48,
   "id": "a072e3e8",
   "metadata": {
    "execution": {
     "iopub.execute_input": "2022-01-09T15:42:23.905414Z",
     "iopub.status.busy": "2022-01-09T15:42:23.904455Z",
     "iopub.status.idle": "2022-01-09T15:42:23.910075Z",
     "shell.execute_reply": "2022-01-09T15:42:23.910620Z",
     "shell.execute_reply.started": "2022-01-09T15:38:55.577421Z"
    },
    "id": "qfyhOp6YP6MC",
    "outputId": "a647ce2e-0ef3-4097-c2bd-1628362ca4ec",
    "papermill": {
     "duration": 0.071452,
     "end_time": "2022-01-09T15:42:23.910791",
     "exception": false,
     "start_time": "2022-01-09T15:42:23.839339",
     "status": "completed"
    },
    "tags": []
   },
   "outputs": [
    {
     "data": {
      "text/plain": [
       "1052"
      ]
     },
     "execution_count": 48,
     "metadata": {},
     "output_type": "execute_result"
    }
   ],
   "source": [
    "len(locations[locations<=10])"
   ]
  },
  {
   "cell_type": "code",
   "execution_count": 49,
   "id": "d8da43d5",
   "metadata": {
    "execution": {
     "iopub.execute_input": "2022-01-09T15:42:24.038513Z",
     "iopub.status.busy": "2022-01-09T15:42:24.037660Z",
     "iopub.status.idle": "2022-01-09T15:42:24.044620Z",
     "shell.execute_reply": "2022-01-09T15:42:24.045190Z",
     "shell.execute_reply.started": "2022-01-09T15:38:55.588726Z"
    },
    "id": "Dt9Y6grXQAKf",
    "outputId": "1d8e3e2d-1c86-486b-91e1-105def3d5438",
    "papermill": {
     "duration": 0.072399,
     "end_time": "2022-01-09T15:42:24.045349",
     "exception": false,
     "start_time": "2022-01-09T15:42:23.972950",
     "status": "completed"
    },
    "tags": []
   },
   "outputs": [
    {
     "data": {
      "text/plain": [
       "location\n",
       "Basapura                 10\n",
       "1st Block Koramangala    10\n",
       "Gunjur Palya             10\n",
       "Kalkere                  10\n",
       "Sector 1 HSR Layout      10\n",
       "                         ..\n",
       "1 Giri Nagar              1\n",
       "Kanakapura Road,          1\n",
       "Kanakapura main  Road     1\n",
       "Karnataka Shabarimala     1\n",
       "whitefiled                1\n",
       "Name: location, Length: 1052, dtype: int64"
      ]
     },
     "execution_count": 49,
     "metadata": {},
     "output_type": "execute_result"
    }
   ],
   "source": [
    "locations_less_than_10 = locations[locations<=10]\n",
    "locations_less_than_10"
   ]
  },
  {
   "cell_type": "code",
   "execution_count": 50,
   "id": "30a5decd",
   "metadata": {
    "execution": {
     "iopub.execute_input": "2022-01-09T15:42:24.173176Z",
     "iopub.status.busy": "2022-01-09T15:42:24.172261Z",
     "iopub.status.idle": "2022-01-09T15:42:24.189533Z",
     "shell.execute_reply": "2022-01-09T15:42:24.190102Z",
     "shell.execute_reply.started": "2022-01-09T15:38:55.600004Z"
    },
    "id": "watbZePLQLO4",
    "papermill": {
     "duration": 0.082501,
     "end_time": "2022-01-09T15:42:24.190271",
     "exception": false,
     "start_time": "2022-01-09T15:42:24.107770",
     "status": "completed"
    },
    "tags": []
   },
   "outputs": [],
   "source": [
    "##let's put the \"locations_less_than_10\" in name of \"Other\" category..\n",
    "\n",
    "house_price['location'] = house_price.location.apply(lambda x: 'other' if x in locations_less_than_10 else x)"
   ]
  },
  {
   "cell_type": "code",
   "execution_count": 51,
   "id": "38082569",
   "metadata": {
    "execution": {
     "iopub.execute_input": "2022-01-09T15:42:24.318443Z",
     "iopub.status.busy": "2022-01-09T15:42:24.317571Z",
     "iopub.status.idle": "2022-01-09T15:42:24.323922Z",
     "shell.execute_reply": "2022-01-09T15:42:24.324465Z",
     "shell.execute_reply.started": "2022-01-09T15:38:55.620298Z"
    },
    "id": "RI8xqNfoQldx",
    "outputId": "034c6f42-84bc-4824-d6fa-dc850713a1ff",
    "papermill": {
     "duration": 0.071771,
     "end_time": "2022-01-09T15:42:24.324622",
     "exception": false,
     "start_time": "2022-01-09T15:42:24.252851",
     "status": "completed"
    },
    "tags": []
   },
   "outputs": [
    {
     "data": {
      "text/plain": [
       "0        Electronic City Phase II\n",
       "1                Chikka Tirupathi\n",
       "2                     Uttarahalli\n",
       "3              Lingadheeranahalli\n",
       "4                        Kothanur\n",
       "                   ...           \n",
       "13315                  Whitefield\n",
       "13316                       other\n",
       "13317       Raja Rajeshwari Nagar\n",
       "13318             Padmanabhanagar\n",
       "13319                Doddathoguru\n",
       "Name: location, Length: 13246, dtype: object"
      ]
     },
     "execution_count": 51,
     "metadata": {},
     "output_type": "execute_result"
    }
   ],
   "source": [
    "house_price['location']"
   ]
  },
  {
   "cell_type": "code",
   "execution_count": 52,
   "id": "54c4cd73",
   "metadata": {
    "execution": {
     "iopub.execute_input": "2022-01-09T15:42:24.451903Z",
     "iopub.status.busy": "2022-01-09T15:42:24.451065Z",
     "iopub.status.idle": "2022-01-09T15:42:24.464249Z",
     "shell.execute_reply": "2022-01-09T15:42:24.464718Z",
     "shell.execute_reply.started": "2022-01-09T15:38:55.630417Z"
    },
    "id": "CGGqqI4pQ3it",
    "outputId": "d8955267-d75e-41d7-9def-23226085347f",
    "papermill": {
     "duration": 0.078064,
     "end_time": "2022-01-09T15:42:24.464872",
     "exception": false,
     "start_time": "2022-01-09T15:42:24.386808",
     "status": "completed"
    },
    "tags": []
   },
   "outputs": [
    {
     "data": {
      "text/html": [
       "<div>\n",
       "<style scoped>\n",
       "    .dataframe tbody tr th:only-of-type {\n",
       "        vertical-align: middle;\n",
       "    }\n",
       "\n",
       "    .dataframe tbody tr th {\n",
       "        vertical-align: top;\n",
       "    }\n",
       "\n",
       "    .dataframe thead th {\n",
       "        text-align: right;\n",
       "    }\n",
       "</style>\n",
       "<table border=\"1\" class=\"dataframe\">\n",
       "  <thead>\n",
       "    <tr style=\"text-align: right;\">\n",
       "      <th></th>\n",
       "      <th>location</th>\n",
       "      <th>size</th>\n",
       "      <th>total_sqft</th>\n",
       "      <th>bath</th>\n",
       "      <th>price</th>\n",
       "      <th>BHK</th>\n",
       "      <th>Price_per_sqft</th>\n",
       "    </tr>\n",
       "  </thead>\n",
       "  <tbody>\n",
       "    <tr>\n",
       "      <th>0</th>\n",
       "      <td>Electronic City Phase II</td>\n",
       "      <td>2 BHK</td>\n",
       "      <td>1056.0</td>\n",
       "      <td>2.0</td>\n",
       "      <td>39.07</td>\n",
       "      <td>2</td>\n",
       "      <td>3699.810606</td>\n",
       "    </tr>\n",
       "    <tr>\n",
       "      <th>1</th>\n",
       "      <td>Chikka Tirupathi</td>\n",
       "      <td>4 Bedroom</td>\n",
       "      <td>2600.0</td>\n",
       "      <td>5.0</td>\n",
       "      <td>120.00</td>\n",
       "      <td>4</td>\n",
       "      <td>4615.384615</td>\n",
       "    </tr>\n",
       "    <tr>\n",
       "      <th>2</th>\n",
       "      <td>Uttarahalli</td>\n",
       "      <td>3 BHK</td>\n",
       "      <td>1440.0</td>\n",
       "      <td>2.0</td>\n",
       "      <td>62.00</td>\n",
       "      <td>3</td>\n",
       "      <td>4305.555556</td>\n",
       "    </tr>\n",
       "    <tr>\n",
       "      <th>3</th>\n",
       "      <td>Lingadheeranahalli</td>\n",
       "      <td>3 BHK</td>\n",
       "      <td>1521.0</td>\n",
       "      <td>3.0</td>\n",
       "      <td>95.00</td>\n",
       "      <td>3</td>\n",
       "      <td>6245.890861</td>\n",
       "    </tr>\n",
       "    <tr>\n",
       "      <th>4</th>\n",
       "      <td>Kothanur</td>\n",
       "      <td>2 BHK</td>\n",
       "      <td>1200.0</td>\n",
       "      <td>2.0</td>\n",
       "      <td>51.00</td>\n",
       "      <td>2</td>\n",
       "      <td>4250.000000</td>\n",
       "    </tr>\n",
       "    <tr>\n",
       "      <th>5</th>\n",
       "      <td>Whitefield</td>\n",
       "      <td>2 BHK</td>\n",
       "      <td>1170.0</td>\n",
       "      <td>2.0</td>\n",
       "      <td>38.00</td>\n",
       "      <td>2</td>\n",
       "      <td>3247.863248</td>\n",
       "    </tr>\n",
       "    <tr>\n",
       "      <th>6</th>\n",
       "      <td>Old Airport Road</td>\n",
       "      <td>4 BHK</td>\n",
       "      <td>2732.0</td>\n",
       "      <td>4.0</td>\n",
       "      <td>204.00</td>\n",
       "      <td>4</td>\n",
       "      <td>7467.057101</td>\n",
       "    </tr>\n",
       "    <tr>\n",
       "      <th>7</th>\n",
       "      <td>Rajaji Nagar</td>\n",
       "      <td>4 BHK</td>\n",
       "      <td>3300.0</td>\n",
       "      <td>4.0</td>\n",
       "      <td>600.00</td>\n",
       "      <td>4</td>\n",
       "      <td>18181.818182</td>\n",
       "    </tr>\n",
       "    <tr>\n",
       "      <th>8</th>\n",
       "      <td>Marathahalli</td>\n",
       "      <td>3 BHK</td>\n",
       "      <td>1310.0</td>\n",
       "      <td>3.0</td>\n",
       "      <td>63.25</td>\n",
       "      <td>3</td>\n",
       "      <td>4828.244275</td>\n",
       "    </tr>\n",
       "    <tr>\n",
       "      <th>9</th>\n",
       "      <td>other</td>\n",
       "      <td>6 Bedroom</td>\n",
       "      <td>1020.0</td>\n",
       "      <td>6.0</td>\n",
       "      <td>370.00</td>\n",
       "      <td>6</td>\n",
       "      <td>36274.509804</td>\n",
       "    </tr>\n",
       "  </tbody>\n",
       "</table>\n",
       "</div>"
      ],
      "text/plain": [
       "                   location       size  total_sqft  bath   price  BHK  \\\n",
       "0  Electronic City Phase II      2 BHK      1056.0   2.0   39.07    2   \n",
       "1          Chikka Tirupathi  4 Bedroom      2600.0   5.0  120.00    4   \n",
       "2               Uttarahalli      3 BHK      1440.0   2.0   62.00    3   \n",
       "3        Lingadheeranahalli      3 BHK      1521.0   3.0   95.00    3   \n",
       "4                  Kothanur      2 BHK      1200.0   2.0   51.00    2   \n",
       "5                Whitefield      2 BHK      1170.0   2.0   38.00    2   \n",
       "6          Old Airport Road      4 BHK      2732.0   4.0  204.00    4   \n",
       "7              Rajaji Nagar      4 BHK      3300.0   4.0  600.00    4   \n",
       "8              Marathahalli      3 BHK      1310.0   3.0   63.25    3   \n",
       "9                     other  6 Bedroom      1020.0   6.0  370.00    6   \n",
       "\n",
       "   Price_per_sqft  \n",
       "0     3699.810606  \n",
       "1     4615.384615  \n",
       "2     4305.555556  \n",
       "3     6245.890861  \n",
       "4     4250.000000  \n",
       "5     3247.863248  \n",
       "6     7467.057101  \n",
       "7    18181.818182  \n",
       "8     4828.244275  \n",
       "9    36274.509804  "
      ]
     },
     "execution_count": 52,
     "metadata": {},
     "output_type": "execute_result"
    }
   ],
   "source": [
    "house_price.head(10)"
   ]
  },
  {
   "cell_type": "code",
   "execution_count": 53,
   "id": "ab9189c8",
   "metadata": {
    "execution": {
     "iopub.execute_input": "2022-01-09T15:42:24.596217Z",
     "iopub.status.busy": "2022-01-09T15:42:24.595308Z",
     "iopub.status.idle": "2022-01-09T15:42:24.606445Z",
     "shell.execute_reply": "2022-01-09T15:42:24.606932Z",
     "shell.execute_reply.started": "2022-01-09T15:38:55.648659Z"
    },
    "id": "A9LZbs3BSmP2",
    "outputId": "7aeb4aa5-fc84-403e-e498-3762fcf83d21",
    "papermill": {
     "duration": 0.079592,
     "end_time": "2022-01-09T15:42:24.607108",
     "exception": false,
     "start_time": "2022-01-09T15:42:24.527516",
     "status": "completed"
    },
    "tags": []
   },
   "outputs": [
    {
     "data": {
      "text/html": [
       "<div>\n",
       "<style scoped>\n",
       "    .dataframe tbody tr th:only-of-type {\n",
       "        vertical-align: middle;\n",
       "    }\n",
       "\n",
       "    .dataframe tbody tr th {\n",
       "        vertical-align: top;\n",
       "    }\n",
       "\n",
       "    .dataframe thead th {\n",
       "        text-align: right;\n",
       "    }\n",
       "</style>\n",
       "<table border=\"1\" class=\"dataframe\">\n",
       "  <thead>\n",
       "    <tr style=\"text-align: right;\">\n",
       "      <th></th>\n",
       "      <th>location</th>\n",
       "      <th>size</th>\n",
       "      <th>total_sqft</th>\n",
       "      <th>bath</th>\n",
       "      <th>price</th>\n",
       "      <th>BHK</th>\n",
       "      <th>Price_per_sqft</th>\n",
       "    </tr>\n",
       "  </thead>\n",
       "  <tbody>\n",
       "    <tr>\n",
       "      <th>9</th>\n",
       "      <td>other</td>\n",
       "      <td>6 Bedroom</td>\n",
       "      <td>1020.0</td>\n",
       "      <td>6.0</td>\n",
       "      <td>370.0</td>\n",
       "      <td>6</td>\n",
       "      <td>36274.509804</td>\n",
       "    </tr>\n",
       "    <tr>\n",
       "      <th>45</th>\n",
       "      <td>HSR Layout</td>\n",
       "      <td>8 Bedroom</td>\n",
       "      <td>600.0</td>\n",
       "      <td>9.0</td>\n",
       "      <td>200.0</td>\n",
       "      <td>8</td>\n",
       "      <td>33333.333333</td>\n",
       "    </tr>\n",
       "    <tr>\n",
       "      <th>58</th>\n",
       "      <td>Murugeshpalya</td>\n",
       "      <td>6 Bedroom</td>\n",
       "      <td>1407.0</td>\n",
       "      <td>4.0</td>\n",
       "      <td>150.0</td>\n",
       "      <td>6</td>\n",
       "      <td>10660.980810</td>\n",
       "    </tr>\n",
       "    <tr>\n",
       "      <th>68</th>\n",
       "      <td>Devarachikkanahalli</td>\n",
       "      <td>8 Bedroom</td>\n",
       "      <td>1350.0</td>\n",
       "      <td>7.0</td>\n",
       "      <td>85.0</td>\n",
       "      <td>8</td>\n",
       "      <td>6296.296296</td>\n",
       "    </tr>\n",
       "    <tr>\n",
       "      <th>70</th>\n",
       "      <td>other</td>\n",
       "      <td>3 Bedroom</td>\n",
       "      <td>500.0</td>\n",
       "      <td>3.0</td>\n",
       "      <td>100.0</td>\n",
       "      <td>3</td>\n",
       "      <td>20000.000000</td>\n",
       "    </tr>\n",
       "  </tbody>\n",
       "</table>\n",
       "</div>"
      ],
      "text/plain": [
       "               location       size  total_sqft  bath  price  BHK  \\\n",
       "9                 other  6 Bedroom      1020.0   6.0  370.0    6   \n",
       "45           HSR Layout  8 Bedroom       600.0   9.0  200.0    8   \n",
       "58        Murugeshpalya  6 Bedroom      1407.0   4.0  150.0    6   \n",
       "68  Devarachikkanahalli  8 Bedroom      1350.0   7.0   85.0    8   \n",
       "70                other  3 Bedroom       500.0   3.0  100.0    3   \n",
       "\n",
       "    Price_per_sqft  \n",
       "9     36274.509804  \n",
       "45    33333.333333  \n",
       "58    10660.980810  \n",
       "68     6296.296296  \n",
       "70    20000.000000  "
      ]
     },
     "execution_count": 53,
     "metadata": {},
     "output_type": "execute_result"
    }
   ],
   "source": [
    "## let's check the sq ft area's  as per 1 bedroom consist 300 sqft..\n",
    "\n",
    "house_price[house_price['total_sqft']/house_price['BHK']<300].head()"
   ]
  },
  {
   "cell_type": "markdown",
   "id": "66dd4406",
   "metadata": {
    "id": "MmunaJIXUOGk",
    "papermill": {
     "duration": 0.063557,
     "end_time": "2022-01-09T15:42:24.733669",
     "exception": false,
     "start_time": "2022-01-09T15:42:24.670112",
     "status": "completed"
    },
    "tags": []
   },
   "source": [
    "**Insights**\n",
    "\n",
    "Check above data points. We have 6 bhk apartment with 1020 sqft. Another one is 8 bhk and total sqft is 600. These are clear data errors that can be removed safely"
   ]
  },
  {
   "cell_type": "code",
   "execution_count": 54,
   "id": "eabc2900",
   "metadata": {
    "execution": {
     "iopub.execute_input": "2022-01-09T15:42:24.863794Z",
     "iopub.status.busy": "2022-01-09T15:42:24.862751Z",
     "iopub.status.idle": "2022-01-09T15:42:24.867791Z",
     "shell.execute_reply": "2022-01-09T15:42:24.868305Z",
     "shell.execute_reply.started": "2022-01-09T15:38:55.666954Z"
    },
    "id": "I1SGM7o5T79r",
    "outputId": "654d95a5-904c-4fd6-fe8b-66313f097f35",
    "papermill": {
     "duration": 0.071963,
     "end_time": "2022-01-09T15:42:24.868466",
     "exception": false,
     "start_time": "2022-01-09T15:42:24.796503",
     "status": "completed"
    },
    "tags": []
   },
   "outputs": [
    {
     "data": {
      "text/plain": [
       "(13246, 7)"
      ]
     },
     "execution_count": 54,
     "metadata": {},
     "output_type": "execute_result"
    }
   ],
   "source": [
    "house_price.shape"
   ]
  },
  {
   "cell_type": "code",
   "execution_count": 55,
   "id": "ce7d9b90",
   "metadata": {
    "execution": {
     "iopub.execute_input": "2022-01-09T15:42:25.001485Z",
     "iopub.status.busy": "2022-01-09T15:42:25.000588Z",
     "iopub.status.idle": "2022-01-09T15:42:25.005753Z",
     "shell.execute_reply": "2022-01-09T15:42:25.006249Z",
     "shell.execute_reply.started": "2022-01-09T15:38:55.674405Z"
    },
    "id": "qd0DymRdUE7p",
    "papermill": {
     "duration": 0.073142,
     "end_time": "2022-01-09T15:42:25.006406",
     "exception": false,
     "start_time": "2022-01-09T15:42:24.933264",
     "status": "completed"
    },
    "tags": []
   },
   "outputs": [],
   "source": [
    "## remove the outliers \n",
    "\n",
    "house_prices = house_price[~(house_price['total_sqft']/house_price['BHK']<300)]"
   ]
  },
  {
   "cell_type": "code",
   "execution_count": 56,
   "id": "2e59f750",
   "metadata": {
    "execution": {
     "iopub.execute_input": "2022-01-09T15:42:25.137293Z",
     "iopub.status.busy": "2022-01-09T15:42:25.136376Z",
     "iopub.status.idle": "2022-01-09T15:42:25.140982Z",
     "shell.execute_reply": "2022-01-09T15:42:25.141437Z",
     "shell.execute_reply.started": "2022-01-09T15:38:55.685082Z"
    },
    "id": "id7V3aL7Um2X",
    "outputId": "2c8b6528-6a1b-4c27-bcce-4605e5daad39",
    "papermill": {
     "duration": 0.07138,
     "end_time": "2022-01-09T15:42:25.141596",
     "exception": false,
     "start_time": "2022-01-09T15:42:25.070216",
     "status": "completed"
    },
    "tags": []
   },
   "outputs": [
    {
     "data": {
      "text/plain": [
       "(12502, 7)"
      ]
     },
     "execution_count": 56,
     "metadata": {},
     "output_type": "execute_result"
    }
   ],
   "source": [
    "house_prices.shape"
   ]
  },
  {
   "cell_type": "code",
   "execution_count": 57,
   "id": "ad76885b",
   "metadata": {
    "execution": {
     "iopub.execute_input": "2022-01-09T15:42:25.273592Z",
     "iopub.status.busy": "2022-01-09T15:42:25.272656Z",
     "iopub.status.idle": "2022-01-09T15:42:25.279719Z",
     "shell.execute_reply": "2022-01-09T15:42:25.280137Z",
     "shell.execute_reply.started": "2022-01-09T15:38:55.695778Z"
    },
    "id": "q8TtXtLyUxvL",
    "outputId": "d49a9b1b-11f1-4f9d-cd0c-743f258537f5",
    "papermill": {
     "duration": 0.075416,
     "end_time": "2022-01-09T15:42:25.280304",
     "exception": false,
     "start_time": "2022-01-09T15:42:25.204888",
     "status": "completed"
    },
    "tags": []
   },
   "outputs": [
    {
     "data": {
      "text/plain": [
       "count     12456.000000\n",
       "mean       6308.502826\n",
       "std        4168.127339\n",
       "min         267.829813\n",
       "25%        4210.526316\n",
       "50%        5294.117647\n",
       "75%        6916.666667\n",
       "max      176470.588235\n",
       "Name: Price_per_sqft, dtype: float64"
      ]
     },
     "execution_count": 57,
     "metadata": {},
     "output_type": "execute_result"
    }
   ],
   "source": [
    "## let's check the price per sqft column\n",
    "\n",
    "house_prices.Price_per_sqft.describe()"
   ]
  },
  {
   "cell_type": "markdown",
   "id": "3795ba8e",
   "metadata": {
    "id": "-bS2fdq6VowZ",
    "papermill": {
     "duration": 0.062978,
     "end_time": "2022-01-09T15:42:25.406471",
     "exception": false,
     "start_time": "2022-01-09T15:42:25.343493",
     "status": "completed"
    },
    "tags": []
   },
   "source": [
    "There are some extreme values. So, we have to remove them or consize them..\n"
   ]
  },
  {
   "cell_type": "code",
   "execution_count": 58,
   "id": "f84e7457",
   "metadata": {
    "execution": {
     "iopub.execute_input": "2022-01-09T15:42:25.536854Z",
     "iopub.status.busy": "2022-01-09T15:42:25.535983Z",
     "iopub.status.idle": "2022-01-09T15:42:25.934513Z",
     "shell.execute_reply": "2022-01-09T15:42:25.933909Z",
     "shell.execute_reply.started": "2022-01-09T15:38:55.711371Z"
    },
    "id": "hmYZHyuvVmHN",
    "papermill": {
     "duration": 0.465165,
     "end_time": "2022-01-09T15:42:25.934662",
     "exception": false,
     "start_time": "2022-01-09T15:42:25.469497",
     "status": "completed"
    },
    "tags": []
   },
   "outputs": [],
   "source": [
    "## let's remove outliers in the price_per_sqft\n",
    "\n",
    "\n",
    "def remove_pps_outliers(df):\n",
    "  df_out = pd.DataFrame()\n",
    "  for key, subdf in df.groupby('location'):\n",
    "    m = np.mean(subdf.Price_per_sqft)\n",
    "    st = np.std(subdf.Price_per_sqft)\n",
    "    reduced_df = subdf[(subdf.Price_per_sqft>(m-st)) & (subdf.Price_per_sqft<=(m+st))]\n",
    "    df_out = pd.concat([df_out, reduced_df],ignore_index=True)\n",
    "  return df_out \n",
    "\n",
    "house = remove_pps_outliers(house_prices)   \n"
   ]
  },
  {
   "cell_type": "code",
   "execution_count": 59,
   "id": "fec251bd",
   "metadata": {},
   "outputs": [
    {
     "data": {
      "text/plain": [
       "(10241, 7)"
      ]
     },
     "execution_count": 59,
     "metadata": {},
     "output_type": "execute_result"
    }
   ],
   "source": [
    "house.shape"
   ]
  },
  {
   "cell_type": "markdown",
   "id": "15a00148",
   "metadata": {},
   "source": [
    "## check the outliers for the BHK column"
   ]
  },
  {
   "cell_type": "code",
   "execution_count": 60,
   "id": "f2e373b8",
   "metadata": {
    "execution": {
     "iopub.execute_input": "2022-01-09T15:42:26.327903Z",
     "iopub.status.busy": "2022-01-09T15:42:26.327357Z",
     "iopub.status.idle": "2022-01-09T15:42:26.332389Z",
     "shell.execute_reply": "2022-01-09T15:42:26.332859Z",
     "shell.execute_reply.started": "2022-01-09T15:38:56.140728Z"
    },
    "id": "3zua0mlRYupk",
    "papermill": {
     "duration": 0.071497,
     "end_time": "2022-01-09T15:42:26.333011",
     "exception": false,
     "start_time": "2022-01-09T15:42:26.261514",
     "status": "completed"
    },
    "tags": []
   },
   "outputs": [],
   "source": [
    "def plot_scatter_chart(df,location):\n",
    "  bhk2 = df[(df.location == location) & (df.BHK==2)]\n",
    "  bhk3 = df[(df.location == location) & (df.BHK==3)]\n",
    "  matplotlib.rcParams['figure.figsize'] = (15,10)\n",
    "  plt.scatter(bhk2.total_sqft, bhk2.price, color='blue', label='2 BHK',s =50)\n",
    "  plt.scatter(bhk3.total_sqft, bhk3.price, color='red', marker='+',label='3 BHK', s=50)\n",
    "  plt.xlabel(\"Total Square Feet Area\")\n",
    "  plt.ylabel(\"Total Price\")\n",
    "  plt.title(\"Location\")\n",
    "  plt.legend() "
   ]
  },
  {
   "cell_type": "code",
   "execution_count": 61,
   "id": "956da9bc",
   "metadata": {
    "execution": {
     "iopub.execute_input": "2022-01-09T15:42:26.463976Z",
     "iopub.status.busy": "2022-01-09T15:42:26.463417Z",
     "iopub.status.idle": "2022-01-09T15:42:26.867014Z",
     "shell.execute_reply": "2022-01-09T15:42:26.867547Z",
     "shell.execute_reply.started": "2022-01-09T15:38:56.153879Z"
    },
    "id": "GPSCXh-nkjPU",
    "outputId": "67974a9f-fcd0-49af-9591-fc67bde28184",
    "papermill": {
     "duration": 0.47079,
     "end_time": "2022-01-09T15:42:26.867713",
     "exception": false,
     "start_time": "2022-01-09T15:42:26.396923",
     "status": "completed"
    },
    "tags": []
   },
   "outputs": [
    {
     "data": {
      "image/png": "[encoded data removed]",
      "text/plain": [
       "<Figure size 1080x720 with 1 Axes>"
      ]
     },
     "metadata": {
      "needs_background": "light"
     },
     "output_type": "display_data"
    }
   ],
   "source": [
    "plot_scatter_chart(house,\"Rajaji Nagar\")"
   ]
  },
  {
   "cell_type": "code",
   "execution_count": 62,
   "id": "afcc6495",
   "metadata": {
    "execution": {
     "iopub.execute_input": "2022-01-09T15:42:27.002955Z",
     "iopub.status.busy": "2022-01-09T15:42:27.002378Z",
     "iopub.status.idle": "2022-01-09T15:42:27.287770Z",
     "shell.execute_reply": "2022-01-09T15:42:27.287140Z",
     "shell.execute_reply.started": "2022-01-09T15:38:56.597435Z"
    },
    "id": "fkHG1YxUkrTm",
    "outputId": "727c85cf-12e5-4699-f9e6-c880f09f3494",
    "papermill": {
     "duration": 0.354961,
     "end_time": "2022-01-09T15:42:27.287913",
     "exception": false,
     "start_time": "2022-01-09T15:42:26.932952",
     "status": "completed"
    },
    "tags": []
   },
   "outputs": [
    {
     "data": {
      "image/png": "[encoded data removed]",
      "text/plain": [
       "<Figure size 1080x720 with 1 Axes>"
      ]
     },
     "metadata": {
      "needs_background": "light"
     },
     "output_type": "display_data"
    }
   ],
   "source": [
    "plot_scatter_chart(house,\"Electronic City Phase II\")"
   ]
  },
  {
   "cell_type": "code",
   "execution_count": 63,
   "id": "0983580e",
   "metadata": {
    "execution": {
     "iopub.execute_input": "2022-01-09T15:42:27.427663Z",
     "iopub.status.busy": "2022-01-09T15:42:27.427122Z",
     "iopub.status.idle": "2022-01-09T15:42:27.705051Z",
     "shell.execute_reply": "2022-01-09T15:42:27.704430Z",
     "shell.execute_reply.started": "2022-01-09T15:38:56.898824Z"
    },
    "id": "nvXz8mC7lhR5",
    "outputId": "131ae433-53a3-4946-d4ab-412fb253311c",
    "papermill": {
     "duration": 0.348954,
     "end_time": "2022-01-09T15:42:27.705207",
     "exception": false,
     "start_time": "2022-01-09T15:42:27.356253",
     "status": "completed"
    },
    "tags": []
   },
   "outputs": [
    {
     "data": {
      "image/png": "[encoded data removed]",
      "text/plain": [
       "<Figure size 1080x720 with 1 Axes>"
      ]
     },
     "metadata": {
      "needs_background": "light"
     },
     "output_type": "display_data"
    }
   ],
   "source": [
    "plot_scatter_chart(house,\"Whitefield\")"
   ]
  },
  {
   "cell_type": "markdown",
   "id": "3f5042d3",
   "metadata": {
    "id": "shP-OUnEkyoi",
    "papermill": {
     "duration": 0.066274,
     "end_time": "2022-01-09T15:42:27.840174",
     "exception": false,
     "start_time": "2022-01-09T15:42:27.773900",
     "status": "completed"
    },
    "tags": []
   },
   "source": [
    "**Insights**\n",
    "\n",
    "From the above chart it shows that, their is outlier which shows 2 BHK price is greater than 3 BHK. We should remove it.."
   ]
  },
  {
   "cell_type": "markdown",
   "id": "a7a5f6d5",
   "metadata": {
    "id": "YP6KAs3RmMg6",
    "papermill": {
     "duration": 0.068305,
     "end_time": "2022-01-09T15:42:27.975080",
     "exception": false,
     "start_time": "2022-01-09T15:42:27.906775",
     "status": "completed"
    },
    "tags": []
   },
   "source": [
    "**We should also remove properties where for same location, the price of(for example) 3 bedroom apartments is less than 2 bedroom apartment(with same square ft area). What we will do is for a given location, we will build a dictionary of stats per BHK, i.e.**\n",
    "\n",
    "{\n",
    "  '1' : {\n",
    "    'mean': 4000,\n",
    "    'std' :2000,\n",
    "    'count':34\n",
    "  },\n",
    "  '2' : {\n",
    "    'mean' : 4300,\n",
    "    'std' : 2300,\n",
    "    'count' : 22\n",
    "  },\n",
    "}\n",
    "\n",
    "Now we can remove those 2BHK apartments whose price_per_sqft is less than price_per_sqft of 1 BHK apartment"
   ]
  },
  {
   "cell_type": "code",
   "execution_count": 64,
   "id": "759b7e02",
   "metadata": {
    "execution": {
     "iopub.execute_input": "2022-01-09T15:42:28.115540Z",
     "iopub.status.busy": "2022-01-09T15:42:28.114953Z",
     "iopub.status.idle": "2022-01-09T15:42:28.120630Z",
     "shell.execute_reply": "2022-01-09T15:42:28.121097Z",
     "shell.execute_reply.started": "2022-01-09T15:38:57.190128Z"
    },
    "id": "gXuruvLJlJdG",
    "papermill": {
     "duration": 0.078925,
     "end_time": "2022-01-09T15:42:28.121263",
     "exception": false,
     "start_time": "2022-01-09T15:42:28.042338",
     "status": "completed"
    },
    "tags": []
   },
   "outputs": [],
   "source": [
    "def remove_bhk_outliers(df):\n",
    "  exclude_indices = np.array([])\n",
    "  for location, location_df in df.groupby('location'):\n",
    "    bhk_stats = {}\n",
    "    for bhk, bhk_df in location_df.groupby('BHK'):\n",
    "      bhk_stats[bhk] = {\n",
    "          'mean': np.mean(bhk_df.Price_per_sqft),\n",
    "          'std':np.std(bhk_df.Price_per_sqft),\n",
    "          'count':bhk_df.shape[0]\n",
    "      }\n",
    "      for bhk, bhk_df in location_df.groupby('BHK'):\n",
    "        stats = bhk_stats.get(bhk-1)\n",
    "        if stats and stats['count']>5:\n",
    "          exclude_indices = np.append(exclude_indices, bhk_df[bhk_df.Price_per_sqft<(stats['mean'])].index.values)\n",
    "  return df.drop(exclude_indices,axis='index')        "
   ]
  },
  {
   "cell_type": "markdown",
   "id": "01b3a2b5",
   "metadata": {
    "id": "lz8YBoIErQKv",
    "papermill": {
     "duration": 0.068129,
     "end_time": "2022-01-09T15:42:28.258668",
     "exception": false,
     "start_time": "2022-01-09T15:42:28.190539",
     "status": "completed"
    },
    "tags": []
   },
   "source": [
    "**Plot same scatter chart again to visualize price_per_sqft for 2 BHK and 3 BHK properties**"
   ]
  },
  {
   "cell_type": "code",
   "execution_count": 65,
   "id": "2c6d0814",
   "metadata": {
    "execution": {
     "iopub.execute_input": "2022-01-09T15:42:28.399652Z",
     "iopub.status.busy": "2022-01-09T15:42:28.398976Z",
     "iopub.status.idle": "2022-01-09T15:42:29.773508Z",
     "shell.execute_reply": "2022-01-09T15:42:29.773946Z",
     "shell.execute_reply.started": "2022-01-09T15:38:57.197801Z"
    },
    "id": "lL-3dV09rNFw",
    "outputId": "07ac46ef-33fd-48ff-c1e6-e654e75323ec",
    "papermill": {
     "duration": 1.446886,
     "end_time": "2022-01-09T15:42:29.774142",
     "exception": false,
     "start_time": "2022-01-09T15:42:28.327256",
     "status": "completed"
    },
    "tags": []
   },
   "outputs": [
    {
     "data": {
      "image/png": "[encoded data removed]",
      "text/plain": [
       "<Figure size 1080x720 with 1 Axes>"
      ]
     },
     "metadata": {
      "needs_background": "light"
     },
     "output_type": "display_data"
    }
   ],
   "source": [
    "houses = remove_bhk_outliers(house)\n",
    "plot_scatter_chart(houses, 'Rajaji Nagar')"
   ]
  },
  {
   "cell_type": "code",
   "execution_count": 66,
   "id": "51d297f5",
   "metadata": {
    "execution": {
     "iopub.execute_input": "2022-01-09T15:42:29.940420Z",
     "iopub.status.busy": "2022-01-09T15:42:29.937709Z",
     "iopub.status.idle": "2022-01-09T15:42:30.206720Z",
     "shell.execute_reply": "2022-01-09T15:42:30.207148Z",
     "shell.execute_reply.started": "2022-01-09T15:38:58.647699Z"
    },
    "id": "AsCPFwuNr5r8",
    "outputId": "a369dd3c-74ae-4dd2-b9e0-79e6255c53e2",
    "papermill": {
     "duration": 0.363934,
     "end_time": "2022-01-09T15:42:30.207321",
     "exception": false,
     "start_time": "2022-01-09T15:42:29.843387",
     "status": "completed"
    },
    "tags": []
   },
   "outputs": [
    {
     "data": {
      "image/png": "[encoded data removed]",
      "text/plain": [
       "<Figure size 1080x720 with 1 Axes>"
      ]
     },
     "metadata": {
      "needs_background": "light"
     },
     "output_type": "display_data"
    }
   ],
   "source": [
    "plot_scatter_chart(houses, 'Electronic City Phase II')"
   ]
  },
  {
   "cell_type": "code",
   "execution_count": 67,
   "id": "3aefb835",
   "metadata": {
    "execution": {
     "iopub.execute_input": "2022-01-09T15:42:30.371357Z",
     "iopub.status.busy": "2022-01-09T15:42:30.370694Z",
     "iopub.status.idle": "2022-01-09T15:42:30.582632Z",
     "shell.execute_reply": "2022-01-09T15:42:30.583045Z",
     "shell.execute_reply.started": "2022-01-09T15:38:58.944241Z"
    },
    "id": "63ITonyupn8O",
    "outputId": "533c3f82-6434-4df8-b189-a38e213991f0",
    "papermill": {
     "duration": 0.305758,
     "end_time": "2022-01-09T15:42:30.583231",
     "exception": false,
     "start_time": "2022-01-09T15:42:30.277473",
     "status": "completed"
    },
    "tags": []
   },
   "outputs": [
    {
     "data": {
      "text/plain": [
       "Text(0, 0.5, 'Count')"
      ]
     },
     "execution_count": 67,
     "metadata": {},
     "output_type": "execute_result"
    },
    {
     "data": {
      "image/png": "[encoded data removed]",
      "text/plain": [
       "<Figure size 1080x576 with 1 Axes>"
      ]
     },
     "metadata": {
      "needs_background": "light"
     },
     "output_type": "display_data"
    }
   ],
   "source": [
    "matplotlib.rcParams['figure.figsize'] = (15,8)\n",
    "plt.hist(houses.Price_per_sqft, rwidth=0.8)\n",
    "plt.xlabel(\"Price Per Sqaure Feet\")\n",
    "plt.ylabel(\"Count\")"
   ]
  },
  {
   "cell_type": "markdown",
   "id": "dcb4220e",
   "metadata": {
    "id": "jAp_YYO7qFhr",
    "papermill": {
     "duration": 0.069683,
     "end_time": "2022-01-09T15:42:30.722343",
     "exception": false,
     "start_time": "2022-01-09T15:42:30.652660",
     "status": "completed"
    },
    "tags": []
   },
   "source": [
    "The price is between the range of 1000-10000 price sqft."
   ]
  },
  {
   "cell_type": "code",
   "execution_count": 68,
   "id": "baca19dd",
   "metadata": {
    "execution": {
     "iopub.execute_input": "2022-01-09T15:42:30.867424Z",
     "iopub.status.busy": "2022-01-09T15:42:30.866831Z",
     "iopub.status.idle": "2022-01-09T15:42:30.872200Z",
     "shell.execute_reply": "2022-01-09T15:42:30.872695Z",
     "shell.execute_reply.started": "2022-01-09T15:38:59.135574Z"
    },
    "id": "drMqa5elqNBk",
    "outputId": "0c0322ca-8592-448d-8a80-da48bf1df0ca",
    "papermill": {
     "duration": 0.078683,
     "end_time": "2022-01-09T15:42:30.872866",
     "exception": false,
     "start_time": "2022-01-09T15:42:30.794183",
     "status": "completed"
    },
    "tags": []
   },
   "outputs": [
    {
     "data": {
      "text/plain": [
       "array([ 4.,  3.,  2.,  5.,  8.,  1.,  6.,  7.,  9., 12., 16., 13.])"
      ]
     },
     "execution_count": 68,
     "metadata": {},
     "output_type": "execute_result"
    }
   ],
   "source": [
    "houses['bath'].unique()"
   ]
  },
  {
   "cell_type": "code",
   "execution_count": 69,
   "id": "8eca00bc",
   "metadata": {
    "execution": {
     "iopub.execute_input": "2022-01-09T15:42:31.027788Z",
     "iopub.status.busy": "2022-01-09T15:42:31.027219Z",
     "iopub.status.idle": "2022-01-09T15:42:31.041527Z",
     "shell.execute_reply": "2022-01-09T15:42:31.042086Z",
     "shell.execute_reply.started": "2022-01-09T15:38:59.147389Z"
    },
    "id": "fz6uy1TiqSvm",
    "outputId": "3cca9c99-44a1-4a3a-faf1-55c46972da1d",
    "papermill": {
     "duration": 0.089868,
     "end_time": "2022-01-09T15:42:31.042240",
     "exception": false,
     "start_time": "2022-01-09T15:42:30.952372",
     "status": "completed"
    },
    "tags": []
   },
   "outputs": [
    {
     "data": {
      "text/html": [
       "<div>\n",
       "<style scoped>\n",
       "    .dataframe tbody tr th:only-of-type {\n",
       "        vertical-align: middle;\n",
       "    }\n",
       "\n",
       "    .dataframe tbody tr th {\n",
       "        vertical-align: top;\n",
       "    }\n",
       "\n",
       "    .dataframe thead th {\n",
       "        text-align: right;\n",
       "    }\n",
       "</style>\n",
       "<table border=\"1\" class=\"dataframe\">\n",
       "  <thead>\n",
       "    <tr style=\"text-align: right;\">\n",
       "      <th></th>\n",
       "      <th>location</th>\n",
       "      <th>size</th>\n",
       "      <th>total_sqft</th>\n",
       "      <th>bath</th>\n",
       "      <th>price</th>\n",
       "      <th>BHK</th>\n",
       "      <th>Price_per_sqft</th>\n",
       "    </tr>\n",
       "  </thead>\n",
       "  <tbody>\n",
       "    <tr>\n",
       "      <th>5277</th>\n",
       "      <td>Neeladri Nagar</td>\n",
       "      <td>10 BHK</td>\n",
       "      <td>4000.0</td>\n",
       "      <td>12.0</td>\n",
       "      <td>160.0</td>\n",
       "      <td>10</td>\n",
       "      <td>4000.000000</td>\n",
       "    </tr>\n",
       "    <tr>\n",
       "      <th>8486</th>\n",
       "      <td>other</td>\n",
       "      <td>10 BHK</td>\n",
       "      <td>12000.0</td>\n",
       "      <td>12.0</td>\n",
       "      <td>525.0</td>\n",
       "      <td>10</td>\n",
       "      <td>4375.000000</td>\n",
       "    </tr>\n",
       "    <tr>\n",
       "      <th>8575</th>\n",
       "      <td>other</td>\n",
       "      <td>16 BHK</td>\n",
       "      <td>10000.0</td>\n",
       "      <td>16.0</td>\n",
       "      <td>550.0</td>\n",
       "      <td>16</td>\n",
       "      <td>5500.000000</td>\n",
       "    </tr>\n",
       "    <tr>\n",
       "      <th>9308</th>\n",
       "      <td>other</td>\n",
       "      <td>11 BHK</td>\n",
       "      <td>6000.0</td>\n",
       "      <td>12.0</td>\n",
       "      <td>150.0</td>\n",
       "      <td>11</td>\n",
       "      <td>2500.000000</td>\n",
       "    </tr>\n",
       "    <tr>\n",
       "      <th>9639</th>\n",
       "      <td>other</td>\n",
       "      <td>13 BHK</td>\n",
       "      <td>5425.0</td>\n",
       "      <td>13.0</td>\n",
       "      <td>275.0</td>\n",
       "      <td>13</td>\n",
       "      <td>5069.124424</td>\n",
       "    </tr>\n",
       "  </tbody>\n",
       "</table>\n",
       "</div>"
      ],
      "text/plain": [
       "            location    size  total_sqft  bath  price  BHK  Price_per_sqft\n",
       "5277  Neeladri Nagar  10 BHK      4000.0  12.0  160.0   10     4000.000000\n",
       "8486           other  10 BHK     12000.0  12.0  525.0   10     4375.000000\n",
       "8575           other  16 BHK     10000.0  16.0  550.0   16     5500.000000\n",
       "9308           other  11 BHK      6000.0  12.0  150.0   11     2500.000000\n",
       "9639           other  13 BHK      5425.0  13.0  275.0   13     5069.124424"
      ]
     },
     "execution_count": 69,
     "metadata": {},
     "output_type": "execute_result"
    }
   ],
   "source": [
    "houses[house['bath']>10]"
   ]
  },
  {
   "cell_type": "code",
   "execution_count": 70,
   "id": "f622c5aa",
   "metadata": {
    "execution": {
     "iopub.execute_input": "2022-01-09T15:42:31.186366Z",
     "iopub.status.busy": "2022-01-09T15:42:31.185811Z",
     "iopub.status.idle": "2022-01-09T15:42:31.409180Z",
     "shell.execute_reply": "2022-01-09T15:42:31.408652Z",
     "shell.execute_reply.started": "2022-01-09T15:38:59.168302Z"
    },
    "id": "gMAlnPTnqdpQ",
    "outputId": "acfddaba-2bad-4cf3-8818-a63f5422796b",
    "papermill": {
     "duration": 0.296407,
     "end_time": "2022-01-09T15:42:31.409344",
     "exception": false,
     "start_time": "2022-01-09T15:42:31.112937",
     "status": "completed"
    },
    "tags": []
   },
   "outputs": [
    {
     "data": {
      "text/plain": [
       "Text(0, 0.5, 'Count')"
      ]
     },
     "execution_count": 70,
     "metadata": {},
     "output_type": "execute_result"
    },
    {
     "data": {
      "image/png": "[encoded data removed]",
      "text/plain": [
       "<Figure size 1080x576 with 1 Axes>"
      ]
     },
     "metadata": {
      "needs_background": "light"
     },
     "output_type": "display_data"
    }
   ],
   "source": [
    "plt.hist(houses.bath, rwidth=0.8)\n",
    "plt.xlabel(\"Number of bathrooms\")\n",
    "plt.ylabel(\"Count\")"
   ]
  },
  {
   "cell_type": "code",
   "execution_count": 71,
   "id": "fbed2ed4",
   "metadata": {
    "execution": {
     "iopub.execute_input": "2022-01-09T15:42:31.554640Z",
     "iopub.status.busy": "2022-01-09T15:42:31.554061Z",
     "iopub.status.idle": "2022-01-09T15:42:31.565937Z",
     "shell.execute_reply": "2022-01-09T15:42:31.566461Z",
     "shell.execute_reply.started": "2022-01-09T15:38:59.359080Z"
    },
    "id": "QbgzCMGHo1US",
    "outputId": "a6ce81a6-57d6-4ae9-be13-023d7d6c0663",
    "papermill": {
     "duration": 0.086429,
     "end_time": "2022-01-09T15:42:31.566618",
     "exception": false,
     "start_time": "2022-01-09T15:42:31.480189",
     "status": "completed"
    },
    "tags": []
   },
   "outputs": [
    {
     "data": {
      "text/html": [
       "<div>\n",
       "<style scoped>\n",
       "    .dataframe tbody tr th:only-of-type {\n",
       "        vertical-align: middle;\n",
       "    }\n",
       "\n",
       "    .dataframe tbody tr th {\n",
       "        vertical-align: top;\n",
       "    }\n",
       "\n",
       "    .dataframe thead th {\n",
       "        text-align: right;\n",
       "    }\n",
       "</style>\n",
       "<table border=\"1\" class=\"dataframe\">\n",
       "  <thead>\n",
       "    <tr style=\"text-align: right;\">\n",
       "      <th></th>\n",
       "      <th>location</th>\n",
       "      <th>size</th>\n",
       "      <th>total_sqft</th>\n",
       "      <th>bath</th>\n",
       "      <th>price</th>\n",
       "      <th>BHK</th>\n",
       "      <th>Price_per_sqft</th>\n",
       "    </tr>\n",
       "  </thead>\n",
       "  <tbody>\n",
       "    <tr>\n",
       "      <th>5277</th>\n",
       "      <td>Neeladri Nagar</td>\n",
       "      <td>10 BHK</td>\n",
       "      <td>4000.0</td>\n",
       "      <td>12.0</td>\n",
       "      <td>160.0</td>\n",
       "      <td>10</td>\n",
       "      <td>4000.000000</td>\n",
       "    </tr>\n",
       "    <tr>\n",
       "      <th>8486</th>\n",
       "      <td>other</td>\n",
       "      <td>10 BHK</td>\n",
       "      <td>12000.0</td>\n",
       "      <td>12.0</td>\n",
       "      <td>525.0</td>\n",
       "      <td>10</td>\n",
       "      <td>4375.000000</td>\n",
       "    </tr>\n",
       "    <tr>\n",
       "      <th>8575</th>\n",
       "      <td>other</td>\n",
       "      <td>16 BHK</td>\n",
       "      <td>10000.0</td>\n",
       "      <td>16.0</td>\n",
       "      <td>550.0</td>\n",
       "      <td>16</td>\n",
       "      <td>5500.000000</td>\n",
       "    </tr>\n",
       "    <tr>\n",
       "      <th>9308</th>\n",
       "      <td>other</td>\n",
       "      <td>11 BHK</td>\n",
       "      <td>6000.0</td>\n",
       "      <td>12.0</td>\n",
       "      <td>150.0</td>\n",
       "      <td>11</td>\n",
       "      <td>2500.000000</td>\n",
       "    </tr>\n",
       "    <tr>\n",
       "      <th>9639</th>\n",
       "      <td>other</td>\n",
       "      <td>13 BHK</td>\n",
       "      <td>5425.0</td>\n",
       "      <td>13.0</td>\n",
       "      <td>275.0</td>\n",
       "      <td>13</td>\n",
       "      <td>5069.124424</td>\n",
       "    </tr>\n",
       "  </tbody>\n",
       "</table>\n",
       "</div>"
      ],
      "text/plain": [
       "            location    size  total_sqft  bath  price  BHK  Price_per_sqft\n",
       "5277  Neeladri Nagar  10 BHK      4000.0  12.0  160.0   10     4000.000000\n",
       "8486           other  10 BHK     12000.0  12.0  525.0   10     4375.000000\n",
       "8575           other  16 BHK     10000.0  16.0  550.0   16     5500.000000\n",
       "9308           other  11 BHK      6000.0  12.0  150.0   11     2500.000000\n",
       "9639           other  13 BHK      5425.0  13.0  275.0   13     5069.124424"
      ]
     },
     "execution_count": 71,
     "metadata": {},
     "output_type": "execute_result"
    }
   ],
   "source": [
    "houses[houses.bath>10]"
   ]
  },
  {
   "cell_type": "markdown",
   "id": "57e12b61",
   "metadata": {
    "id": "pwDK_7ivsnUq",
    "papermill": {
     "duration": 0.070834,
     "end_time": "2022-01-09T15:42:31.708806",
     "exception": false,
     "start_time": "2022-01-09T15:42:31.637972",
     "status": "completed"
    },
    "tags": []
   },
   "source": [
    "**It is unusual to have 2 more bedrooms than number of bedrooms in a home**"
   ]
  },
  {
   "cell_type": "code",
   "execution_count": 72,
   "id": "9fe1d3dc",
   "metadata": {
    "execution": {
     "iopub.execute_input": "2022-01-09T15:42:31.854888Z",
     "iopub.status.busy": "2022-01-09T15:42:31.854323Z",
     "iopub.status.idle": "2022-01-09T15:42:31.865892Z",
     "shell.execute_reply": "2022-01-09T15:42:31.866362Z",
     "shell.execute_reply.started": "2022-01-09T15:38:59.375546Z"
    },
    "id": "Z4cz4UtPskWg",
    "outputId": "626c3c1f-da06-435d-f85c-5a0daeda8056",
    "papermill": {
     "duration": 0.0858,
     "end_time": "2022-01-09T15:42:31.866516",
     "exception": false,
     "start_time": "2022-01-09T15:42:31.780716",
     "status": "completed"
    },
    "tags": []
   },
   "outputs": [
    {
     "data": {
      "text/html": [
       "<div>\n",
       "<style scoped>\n",
       "    .dataframe tbody tr th:only-of-type {\n",
       "        vertical-align: middle;\n",
       "    }\n",
       "\n",
       "    .dataframe tbody tr th {\n",
       "        vertical-align: top;\n",
       "    }\n",
       "\n",
       "    .dataframe thead th {\n",
       "        text-align: right;\n",
       "    }\n",
       "</style>\n",
       "<table border=\"1\" class=\"dataframe\">\n",
       "  <thead>\n",
       "    <tr style=\"text-align: right;\">\n",
       "      <th></th>\n",
       "      <th>location</th>\n",
       "      <th>size</th>\n",
       "      <th>total_sqft</th>\n",
       "      <th>bath</th>\n",
       "      <th>price</th>\n",
       "      <th>BHK</th>\n",
       "      <th>Price_per_sqft</th>\n",
       "    </tr>\n",
       "  </thead>\n",
       "  <tbody>\n",
       "    <tr>\n",
       "      <th>1626</th>\n",
       "      <td>Chikkabanavar</td>\n",
       "      <td>4 Bedroom</td>\n",
       "      <td>2460.0</td>\n",
       "      <td>7.0</td>\n",
       "      <td>80.0</td>\n",
       "      <td>4</td>\n",
       "      <td>3252.032520</td>\n",
       "    </tr>\n",
       "    <tr>\n",
       "      <th>5238</th>\n",
       "      <td>Nagasandra</td>\n",
       "      <td>4 Bedroom</td>\n",
       "      <td>7000.0</td>\n",
       "      <td>8.0</td>\n",
       "      <td>450.0</td>\n",
       "      <td>4</td>\n",
       "      <td>6428.571429</td>\n",
       "    </tr>\n",
       "    <tr>\n",
       "      <th>6711</th>\n",
       "      <td>Thanisandra</td>\n",
       "      <td>3 BHK</td>\n",
       "      <td>1806.0</td>\n",
       "      <td>6.0</td>\n",
       "      <td>116.0</td>\n",
       "      <td>3</td>\n",
       "      <td>6423.034330</td>\n",
       "    </tr>\n",
       "    <tr>\n",
       "      <th>8411</th>\n",
       "      <td>other</td>\n",
       "      <td>6 BHK</td>\n",
       "      <td>11338.0</td>\n",
       "      <td>9.0</td>\n",
       "      <td>1000.0</td>\n",
       "      <td>6</td>\n",
       "      <td>8819.897689</td>\n",
       "    </tr>\n",
       "  </tbody>\n",
       "</table>\n",
       "</div>"
      ],
      "text/plain": [
       "           location       size  total_sqft  bath   price  BHK  Price_per_sqft\n",
       "1626  Chikkabanavar  4 Bedroom      2460.0   7.0    80.0    4     3252.032520\n",
       "5238     Nagasandra  4 Bedroom      7000.0   8.0   450.0    4     6428.571429\n",
       "6711    Thanisandra      3 BHK      1806.0   6.0   116.0    3     6423.034330\n",
       "8411          other      6 BHK     11338.0   9.0  1000.0    6     8819.897689"
      ]
     },
     "execution_count": 72,
     "metadata": {},
     "output_type": "execute_result"
    }
   ],
   "source": [
    "houses[houses.bath>houses.BHK+2]"
   ]
  },
  {
   "cell_type": "markdown",
   "id": "97e53ead",
   "metadata": {
    "id": "3oka49outABu",
    "papermill": {
     "duration": 0.091592,
     "end_time": "2022-01-09T15:42:32.029498",
     "exception": false,
     "start_time": "2022-01-09T15:42:31.937906",
     "status": "completed"
    },
    "tags": []
   },
   "source": [
    "**if you have 4 bedroom home and even if you have bathroom in all 4 rooms plus one guest bathroom, you will have total bath = total bed + 1 max. Anything above that is an outlier or a data error and can be removed**"
   ]
  },
  {
   "cell_type": "code",
   "execution_count": 73,
   "id": "a2085117",
   "metadata": {
    "execution": {
     "iopub.execute_input": "2022-01-09T15:42:32.186769Z",
     "iopub.status.busy": "2022-01-09T15:42:32.186237Z",
     "iopub.status.idle": "2022-01-09T15:42:32.190725Z",
     "shell.execute_reply": "2022-01-09T15:42:32.191207Z",
     "shell.execute_reply.started": "2022-01-09T15:38:59.398394Z"
    },
    "id": "gQ-A6ysMsyGp",
    "papermill": {
     "duration": 0.079159,
     "end_time": "2022-01-09T15:42:32.191373",
     "exception": false,
     "start_time": "2022-01-09T15:42:32.112214",
     "status": "completed"
    },
    "tags": []
   },
   "outputs": [],
   "source": [
    "price_house = houses[houses.bath<houses.BHK+2]"
   ]
  },
  {
   "cell_type": "code",
   "execution_count": 74,
   "id": "3d1696e2",
   "metadata": {
    "execution": {
     "iopub.execute_input": "2022-01-09T15:42:32.337155Z",
     "iopub.status.busy": "2022-01-09T15:42:32.336593Z",
     "iopub.status.idle": "2022-01-09T15:42:32.346905Z",
     "shell.execute_reply": "2022-01-09T15:42:32.347437Z",
     "shell.execute_reply.started": "2022-01-09T15:38:59.407560Z"
    },
    "id": "VbZ0HrxEtJ2e",
    "outputId": "2ba1e985-64a8-4726-d08e-d3c9ba597796",
    "papermill": {
     "duration": 0.08492,
     "end_time": "2022-01-09T15:42:32.347591",
     "exception": false,
     "start_time": "2022-01-09T15:42:32.262671",
     "status": "completed"
    },
    "tags": []
   },
   "outputs": [
    {
     "data": {
      "text/html": [
       "<div>\n",
       "<style scoped>\n",
       "    .dataframe tbody tr th:only-of-type {\n",
       "        vertical-align: middle;\n",
       "    }\n",
       "\n",
       "    .dataframe tbody tr th {\n",
       "        vertical-align: top;\n",
       "    }\n",
       "\n",
       "    .dataframe thead th {\n",
       "        text-align: right;\n",
       "    }\n",
       "</style>\n",
       "<table border=\"1\" class=\"dataframe\">\n",
       "  <thead>\n",
       "    <tr style=\"text-align: right;\">\n",
       "      <th></th>\n",
       "      <th>location</th>\n",
       "      <th>size</th>\n",
       "      <th>total_sqft</th>\n",
       "      <th>bath</th>\n",
       "      <th>price</th>\n",
       "      <th>BHK</th>\n",
       "      <th>Price_per_sqft</th>\n",
       "    </tr>\n",
       "  </thead>\n",
       "  <tbody>\n",
       "    <tr>\n",
       "      <th>0</th>\n",
       "      <td>1st Block Jayanagar</td>\n",
       "      <td>4 BHK</td>\n",
       "      <td>2850.0</td>\n",
       "      <td>4.0</td>\n",
       "      <td>428.0</td>\n",
       "      <td>4</td>\n",
       "      <td>15017.543860</td>\n",
       "    </tr>\n",
       "    <tr>\n",
       "      <th>1</th>\n",
       "      <td>1st Block Jayanagar</td>\n",
       "      <td>3 BHK</td>\n",
       "      <td>1630.0</td>\n",
       "      <td>3.0</td>\n",
       "      <td>194.0</td>\n",
       "      <td>3</td>\n",
       "      <td>11901.840491</td>\n",
       "    </tr>\n",
       "  </tbody>\n",
       "</table>\n",
       "</div>"
      ],
      "text/plain": [
       "              location   size  total_sqft  bath  price  BHK  Price_per_sqft\n",
       "0  1st Block Jayanagar  4 BHK      2850.0   4.0  428.0    4    15017.543860\n",
       "1  1st Block Jayanagar  3 BHK      1630.0   3.0  194.0    3    11901.840491"
      ]
     },
     "execution_count": 74,
     "metadata": {},
     "output_type": "execute_result"
    }
   ],
   "source": [
    "price_house.head(2)"
   ]
  },
  {
   "cell_type": "code",
   "execution_count": 75,
   "id": "cc1a3183",
   "metadata": {
    "execution": {
     "iopub.execute_input": "2022-01-09T15:42:32.494053Z",
     "iopub.status.busy": "2022-01-09T15:42:32.493486Z",
     "iopub.status.idle": "2022-01-09T15:42:32.505242Z",
     "shell.execute_reply": "2022-01-09T15:42:32.505761Z",
     "shell.execute_reply.started": "2022-01-09T15:38:59.424367Z"
    },
    "id": "Loz5aS_TtNxx",
    "outputId": "982efd56-c9ac-46ef-9c54-d32657b15547",
    "papermill": {
     "duration": 0.086671,
     "end_time": "2022-01-09T15:42:32.505919",
     "exception": false,
     "start_time": "2022-01-09T15:42:32.419248",
     "status": "completed"
    },
    "tags": []
   },
   "outputs": [
    {
     "data": {
      "text/html": [
       "<div>\n",
       "<style scoped>\n",
       "    .dataframe tbody tr th:only-of-type {\n",
       "        vertical-align: middle;\n",
       "    }\n",
       "\n",
       "    .dataframe tbody tr th {\n",
       "        vertical-align: top;\n",
       "    }\n",
       "\n",
       "    .dataframe thead th {\n",
       "        text-align: right;\n",
       "    }\n",
       "</style>\n",
       "<table border=\"1\" class=\"dataframe\">\n",
       "  <thead>\n",
       "    <tr style=\"text-align: right;\">\n",
       "      <th></th>\n",
       "      <th>location</th>\n",
       "      <th>total_sqft</th>\n",
       "      <th>bath</th>\n",
       "      <th>price</th>\n",
       "      <th>BHK</th>\n",
       "    </tr>\n",
       "  </thead>\n",
       "  <tbody>\n",
       "    <tr>\n",
       "      <th>0</th>\n",
       "      <td>1st Block Jayanagar</td>\n",
       "      <td>2850.0</td>\n",
       "      <td>4.0</td>\n",
       "      <td>428.0</td>\n",
       "      <td>4</td>\n",
       "    </tr>\n",
       "    <tr>\n",
       "      <th>1</th>\n",
       "      <td>1st Block Jayanagar</td>\n",
       "      <td>1630.0</td>\n",
       "      <td>3.0</td>\n",
       "      <td>194.0</td>\n",
       "      <td>3</td>\n",
       "    </tr>\n",
       "    <tr>\n",
       "      <th>2</th>\n",
       "      <td>1st Block Jayanagar</td>\n",
       "      <td>1875.0</td>\n",
       "      <td>2.0</td>\n",
       "      <td>235.0</td>\n",
       "      <td>3</td>\n",
       "    </tr>\n",
       "    <tr>\n",
       "      <th>3</th>\n",
       "      <td>1st Block Jayanagar</td>\n",
       "      <td>1200.0</td>\n",
       "      <td>2.0</td>\n",
       "      <td>130.0</td>\n",
       "      <td>3</td>\n",
       "    </tr>\n",
       "    <tr>\n",
       "      <th>4</th>\n",
       "      <td>1st Block Jayanagar</td>\n",
       "      <td>1235.0</td>\n",
       "      <td>2.0</td>\n",
       "      <td>148.0</td>\n",
       "      <td>2</td>\n",
       "    </tr>\n",
       "  </tbody>\n",
       "</table>\n",
       "</div>"
      ],
      "text/plain": [
       "              location  total_sqft  bath  price  BHK\n",
       "0  1st Block Jayanagar      2850.0   4.0  428.0    4\n",
       "1  1st Block Jayanagar      1630.0   3.0  194.0    3\n",
       "2  1st Block Jayanagar      1875.0   2.0  235.0    3\n",
       "3  1st Block Jayanagar      1200.0   2.0  130.0    3\n",
       "4  1st Block Jayanagar      1235.0   2.0  148.0    2"
      ]
     },
     "execution_count": 75,
     "metadata": {},
     "output_type": "execute_result"
    }
   ],
   "source": [
    "## let's drop some columns for the model building \n",
    "\n",
    "prices =price_house.drop(['size','Price_per_sqft'],axis='columns')\n",
    "prices.head()"
   ]
  },
  {
   "cell_type": "markdown",
   "id": "b0bb439e",
   "metadata": {
    "id": "jtWDkU-atp5I",
    "papermill": {
     "duration": 0.071997,
     "end_time": "2022-01-09T15:42:32.649880",
     "exception": false,
     "start_time": "2022-01-09T15:42:32.577883",
     "status": "completed"
    },
    "tags": []
   },
   "source": [
    "## Use One_hot_encoding For location"
   ]
  },
  {
   "cell_type": "code",
   "execution_count": 76,
   "id": "5cdcde9b",
   "metadata": {
    "execution": {
     "iopub.execute_input": "2022-01-09T15:42:32.797663Z",
     "iopub.status.busy": "2022-01-09T15:42:32.797128Z",
     "iopub.status.idle": "2022-01-09T15:42:32.817448Z",
     "shell.execute_reply": "2022-01-09T15:42:32.817893Z",
     "shell.execute_reply.started": "2022-01-09T15:38:59.442316Z"
    },
    "id": "1QjNMyc2tgW-",
    "outputId": "18fccf96-3d84-4aff-9f4e-cbc1bc7cdbbc",
    "papermill": {
     "duration": 0.096174,
     "end_time": "2022-01-09T15:42:32.818075",
     "exception": false,
     "start_time": "2022-01-09T15:42:32.721901",
     "status": "completed"
    },
    "tags": []
   },
   "outputs": [
    {
     "data": {
      "text/html": [
       "<div>\n",
       "<style scoped>\n",
       "    .dataframe tbody tr th:only-of-type {\n",
       "        vertical-align: middle;\n",
       "    }\n",
       "\n",
       "    .dataframe tbody tr th {\n",
       "        vertical-align: top;\n",
       "    }\n",
       "\n",
       "    .dataframe thead th {\n",
       "        text-align: right;\n",
       "    }\n",
       "</style>\n",
       "<table border=\"1\" class=\"dataframe\">\n",
       "  <thead>\n",
       "    <tr style=\"text-align: right;\">\n",
       "      <th></th>\n",
       "      <th>1st Block Jayanagar</th>\n",
       "      <th>1st Phase JP Nagar</th>\n",
       "      <th>2nd Phase Judicial Layout</th>\n",
       "      <th>2nd Stage Nagarbhavi</th>\n",
       "      <th>5th Block Hbr Layout</th>\n",
       "      <th>5th Phase JP Nagar</th>\n",
       "      <th>6th Phase JP Nagar</th>\n",
       "      <th>7th Phase JP Nagar</th>\n",
       "      <th>8th Phase JP Nagar</th>\n",
       "      <th>9th Phase JP Nagar</th>\n",
       "      <th>...</th>\n",
       "      <th>Vishveshwarya Layout</th>\n",
       "      <th>Vishwapriya Layout</th>\n",
       "      <th>Vittasandra</th>\n",
       "      <th>Whitefield</th>\n",
       "      <th>Yelachenahalli</th>\n",
       "      <th>Yelahanka</th>\n",
       "      <th>Yelahanka New Town</th>\n",
       "      <th>Yelenahalli</th>\n",
       "      <th>Yeshwanthpur</th>\n",
       "      <th>other</th>\n",
       "    </tr>\n",
       "  </thead>\n",
       "  <tbody>\n",
       "    <tr>\n",
       "      <th>0</th>\n",
       "      <td>1</td>\n",
       "      <td>0</td>\n",
       "      <td>0</td>\n",
       "      <td>0</td>\n",
       "      <td>0</td>\n",
       "      <td>0</td>\n",
       "      <td>0</td>\n",
       "      <td>0</td>\n",
       "      <td>0</td>\n",
       "      <td>0</td>\n",
       "      <td>...</td>\n",
       "      <td>0</td>\n",
       "      <td>0</td>\n",
       "      <td>0</td>\n",
       "      <td>0</td>\n",
       "      <td>0</td>\n",
       "      <td>0</td>\n",
       "      <td>0</td>\n",
       "      <td>0</td>\n",
       "      <td>0</td>\n",
       "      <td>0</td>\n",
       "    </tr>\n",
       "    <tr>\n",
       "      <th>1</th>\n",
       "      <td>1</td>\n",
       "      <td>0</td>\n",
       "      <td>0</td>\n",
       "      <td>0</td>\n",
       "      <td>0</td>\n",
       "      <td>0</td>\n",
       "      <td>0</td>\n",
       "      <td>0</td>\n",
       "      <td>0</td>\n",
       "      <td>0</td>\n",
       "      <td>...</td>\n",
       "      <td>0</td>\n",
       "      <td>0</td>\n",
       "      <td>0</td>\n",
       "      <td>0</td>\n",
       "      <td>0</td>\n",
       "      <td>0</td>\n",
       "      <td>0</td>\n",
       "      <td>0</td>\n",
       "      <td>0</td>\n",
       "      <td>0</td>\n",
       "    </tr>\n",
       "    <tr>\n",
       "      <th>2</th>\n",
       "      <td>1</td>\n",
       "      <td>0</td>\n",
       "      <td>0</td>\n",
       "      <td>0</td>\n",
       "      <td>0</td>\n",
       "      <td>0</td>\n",
       "      <td>0</td>\n",
       "      <td>0</td>\n",
       "      <td>0</td>\n",
       "      <td>0</td>\n",
       "      <td>...</td>\n",
       "      <td>0</td>\n",
       "      <td>0</td>\n",
       "      <td>0</td>\n",
       "      <td>0</td>\n",
       "      <td>0</td>\n",
       "      <td>0</td>\n",
       "      <td>0</td>\n",
       "      <td>0</td>\n",
       "      <td>0</td>\n",
       "      <td>0</td>\n",
       "    </tr>\n",
       "    <tr>\n",
       "      <th>3</th>\n",
       "      <td>1</td>\n",
       "      <td>0</td>\n",
       "      <td>0</td>\n",
       "      <td>0</td>\n",
       "      <td>0</td>\n",
       "      <td>0</td>\n",
       "      <td>0</td>\n",
       "      <td>0</td>\n",
       "      <td>0</td>\n",
       "      <td>0</td>\n",
       "      <td>...</td>\n",
       "      <td>0</td>\n",
       "      <td>0</td>\n",
       "      <td>0</td>\n",
       "      <td>0</td>\n",
       "      <td>0</td>\n",
       "      <td>0</td>\n",
       "      <td>0</td>\n",
       "      <td>0</td>\n",
       "      <td>0</td>\n",
       "      <td>0</td>\n",
       "    </tr>\n",
       "    <tr>\n",
       "      <th>4</th>\n",
       "      <td>1</td>\n",
       "      <td>0</td>\n",
       "      <td>0</td>\n",
       "      <td>0</td>\n",
       "      <td>0</td>\n",
       "      <td>0</td>\n",
       "      <td>0</td>\n",
       "      <td>0</td>\n",
       "      <td>0</td>\n",
       "      <td>0</td>\n",
       "      <td>...</td>\n",
       "      <td>0</td>\n",
       "      <td>0</td>\n",
       "      <td>0</td>\n",
       "      <td>0</td>\n",
       "      <td>0</td>\n",
       "      <td>0</td>\n",
       "      <td>0</td>\n",
       "      <td>0</td>\n",
       "      <td>0</td>\n",
       "      <td>0</td>\n",
       "    </tr>\n",
       "  </tbody>\n",
       "</table>\n",
       "<p>5 rows × 242 columns</p>\n",
       "</div>"
      ],
      "text/plain": [
       "   1st Block Jayanagar  1st Phase JP Nagar  2nd Phase Judicial Layout  \\\n",
       "0                    1                   0                          0   \n",
       "1                    1                   0                          0   \n",
       "2                    1                   0                          0   \n",
       "3                    1                   0                          0   \n",
       "4                    1                   0                          0   \n",
       "\n",
       "   2nd Stage Nagarbhavi  5th Block Hbr Layout  5th Phase JP Nagar  \\\n",
       "0                     0                     0                   0   \n",
       "1                     0                     0                   0   \n",
       "2                     0                     0                   0   \n",
       "3                     0                     0                   0   \n",
       "4                     0                     0                   0   \n",
       "\n",
       "   6th Phase JP Nagar  7th Phase JP Nagar  8th Phase JP Nagar  \\\n",
       "0                   0                   0                   0   \n",
       "1                   0                   0                   0   \n",
       "2                   0                   0                   0   \n",
       "3                   0                   0                   0   \n",
       "4                   0                   0                   0   \n",
       "\n",
       "   9th Phase JP Nagar  ...  Vishveshwarya Layout  Vishwapriya Layout  \\\n",
       "0                   0  ...                     0                   0   \n",
       "1                   0  ...                     0                   0   \n",
       "2                   0  ...                     0                   0   \n",
       "3                   0  ...                     0                   0   \n",
       "4                   0  ...                     0                   0   \n",
       "\n",
       "   Vittasandra  Whitefield  Yelachenahalli  Yelahanka  Yelahanka New Town  \\\n",
       "0            0           0               0          0                   0   \n",
       "1            0           0               0          0                   0   \n",
       "2            0           0               0          0                   0   \n",
       "3            0           0               0          0                   0   \n",
       "4            0           0               0          0                   0   \n",
       "\n",
       "   Yelenahalli  Yeshwanthpur  other  \n",
       "0            0             0      0  \n",
       "1            0             0      0  \n",
       "2            0             0      0  \n",
       "3            0             0      0  \n",
       "4            0             0      0  \n",
       "\n",
       "[5 rows x 242 columns]"
      ]
     },
     "execution_count": 76,
     "metadata": {},
     "output_type": "execute_result"
    }
   ],
   "source": [
    "dummies = pd.get_dummies(prices.location)\n",
    "dummies.head()"
   ]
  },
  {
   "cell_type": "code",
   "execution_count": 77,
   "id": "8dee33c8",
   "metadata": {
    "execution": {
     "iopub.execute_input": "2022-01-09T15:42:32.971394Z",
     "iopub.status.busy": "2022-01-09T15:42:32.970777Z",
     "iopub.status.idle": "2022-01-09T15:42:32.975987Z",
     "shell.execute_reply": "2022-01-09T15:42:32.976469Z",
     "shell.execute_reply.started": "2022-01-09T15:38:59.466276Z"
    },
    "id": "19LakeZyt0i3",
    "papermill": {
     "duration": 0.085246,
     "end_time": "2022-01-09T15:42:32.976640",
     "exception": false,
     "start_time": "2022-01-09T15:42:32.891394",
     "status": "completed"
    },
    "tags": []
   },
   "outputs": [],
   "source": [
    "price = pd.concat([prices, dummies.drop('other', axis='columns')], axis='columns')"
   ]
  },
  {
   "cell_type": "code",
   "execution_count": 78,
   "id": "c06fabab",
   "metadata": {
    "execution": {
     "iopub.execute_input": "2022-01-09T15:42:33.126556Z",
     "iopub.status.busy": "2022-01-09T15:42:33.125985Z",
     "iopub.status.idle": "2022-01-09T15:42:33.143031Z",
     "shell.execute_reply": "2022-01-09T15:42:33.143510Z",
     "shell.execute_reply.started": "2022-01-09T15:38:59.475689Z"
    },
    "id": "mzW2kBJUuGNt",
    "outputId": "31510cb4-313f-402a-fa06-0898162f056d",
    "papermill": {
     "duration": 0.093252,
     "end_time": "2022-01-09T15:42:33.143668",
     "exception": false,
     "start_time": "2022-01-09T15:42:33.050416",
     "status": "completed"
    },
    "tags": []
   },
   "outputs": [
    {
     "data": {
      "text/html": [
       "<div>\n",
       "<style scoped>\n",
       "    .dataframe tbody tr th:only-of-type {\n",
       "        vertical-align: middle;\n",
       "    }\n",
       "\n",
       "    .dataframe tbody tr th {\n",
       "        vertical-align: top;\n",
       "    }\n",
       "\n",
       "    .dataframe thead th {\n",
       "        text-align: right;\n",
       "    }\n",
       "</style>\n",
       "<table border=\"1\" class=\"dataframe\">\n",
       "  <thead>\n",
       "    <tr style=\"text-align: right;\">\n",
       "      <th></th>\n",
       "      <th>location</th>\n",
       "      <th>total_sqft</th>\n",
       "      <th>bath</th>\n",
       "      <th>price</th>\n",
       "      <th>BHK</th>\n",
       "      <th>1st Block Jayanagar</th>\n",
       "      <th>1st Phase JP Nagar</th>\n",
       "      <th>2nd Phase Judicial Layout</th>\n",
       "      <th>2nd Stage Nagarbhavi</th>\n",
       "      <th>5th Block Hbr Layout</th>\n",
       "      <th>...</th>\n",
       "      <th>Vijayanagar</th>\n",
       "      <th>Vishveshwarya Layout</th>\n",
       "      <th>Vishwapriya Layout</th>\n",
       "      <th>Vittasandra</th>\n",
       "      <th>Whitefield</th>\n",
       "      <th>Yelachenahalli</th>\n",
       "      <th>Yelahanka</th>\n",
       "      <th>Yelahanka New Town</th>\n",
       "      <th>Yelenahalli</th>\n",
       "      <th>Yeshwanthpur</th>\n",
       "    </tr>\n",
       "  </thead>\n",
       "  <tbody>\n",
       "    <tr>\n",
       "      <th>0</th>\n",
       "      <td>1st Block Jayanagar</td>\n",
       "      <td>2850.0</td>\n",
       "      <td>4.0</td>\n",
       "      <td>428.0</td>\n",
       "      <td>4</td>\n",
       "      <td>1</td>\n",
       "      <td>0</td>\n",
       "      <td>0</td>\n",
       "      <td>0</td>\n",
       "      <td>0</td>\n",
       "      <td>...</td>\n",
       "      <td>0</td>\n",
       "      <td>0</td>\n",
       "      <td>0</td>\n",
       "      <td>0</td>\n",
       "      <td>0</td>\n",
       "      <td>0</td>\n",
       "      <td>0</td>\n",
       "      <td>0</td>\n",
       "      <td>0</td>\n",
       "      <td>0</td>\n",
       "    </tr>\n",
       "    <tr>\n",
       "      <th>1</th>\n",
       "      <td>1st Block Jayanagar</td>\n",
       "      <td>1630.0</td>\n",
       "      <td>3.0</td>\n",
       "      <td>194.0</td>\n",
       "      <td>3</td>\n",
       "      <td>1</td>\n",
       "      <td>0</td>\n",
       "      <td>0</td>\n",
       "      <td>0</td>\n",
       "      <td>0</td>\n",
       "      <td>...</td>\n",
       "      <td>0</td>\n",
       "      <td>0</td>\n",
       "      <td>0</td>\n",
       "      <td>0</td>\n",
       "      <td>0</td>\n",
       "      <td>0</td>\n",
       "      <td>0</td>\n",
       "      <td>0</td>\n",
       "      <td>0</td>\n",
       "      <td>0</td>\n",
       "    </tr>\n",
       "    <tr>\n",
       "      <th>2</th>\n",
       "      <td>1st Block Jayanagar</td>\n",
       "      <td>1875.0</td>\n",
       "      <td>2.0</td>\n",
       "      <td>235.0</td>\n",
       "      <td>3</td>\n",
       "      <td>1</td>\n",
       "      <td>0</td>\n",
       "      <td>0</td>\n",
       "      <td>0</td>\n",
       "      <td>0</td>\n",
       "      <td>...</td>\n",
       "      <td>0</td>\n",
       "      <td>0</td>\n",
       "      <td>0</td>\n",
       "      <td>0</td>\n",
       "      <td>0</td>\n",
       "      <td>0</td>\n",
       "      <td>0</td>\n",
       "      <td>0</td>\n",
       "      <td>0</td>\n",
       "      <td>0</td>\n",
       "    </tr>\n",
       "    <tr>\n",
       "      <th>3</th>\n",
       "      <td>1st Block Jayanagar</td>\n",
       "      <td>1200.0</td>\n",
       "      <td>2.0</td>\n",
       "      <td>130.0</td>\n",
       "      <td>3</td>\n",
       "      <td>1</td>\n",
       "      <td>0</td>\n",
       "      <td>0</td>\n",
       "      <td>0</td>\n",
       "      <td>0</td>\n",
       "      <td>...</td>\n",
       "      <td>0</td>\n",
       "      <td>0</td>\n",
       "      <td>0</td>\n",
       "      <td>0</td>\n",
       "      <td>0</td>\n",
       "      <td>0</td>\n",
       "      <td>0</td>\n",
       "      <td>0</td>\n",
       "      <td>0</td>\n",
       "      <td>0</td>\n",
       "    </tr>\n",
       "    <tr>\n",
       "      <th>4</th>\n",
       "      <td>1st Block Jayanagar</td>\n",
       "      <td>1235.0</td>\n",
       "      <td>2.0</td>\n",
       "      <td>148.0</td>\n",
       "      <td>2</td>\n",
       "      <td>1</td>\n",
       "      <td>0</td>\n",
       "      <td>0</td>\n",
       "      <td>0</td>\n",
       "      <td>0</td>\n",
       "      <td>...</td>\n",
       "      <td>0</td>\n",
       "      <td>0</td>\n",
       "      <td>0</td>\n",
       "      <td>0</td>\n",
       "      <td>0</td>\n",
       "      <td>0</td>\n",
       "      <td>0</td>\n",
       "      <td>0</td>\n",
       "      <td>0</td>\n",
       "      <td>0</td>\n",
       "    </tr>\n",
       "  </tbody>\n",
       "</table>\n",
       "<p>5 rows × 246 columns</p>\n",
       "</div>"
      ],
      "text/plain": [
       "              location  total_sqft  bath  price  BHK  1st Block Jayanagar  \\\n",
       "0  1st Block Jayanagar      2850.0   4.0  428.0    4                    1   \n",
       "1  1st Block Jayanagar      1630.0   3.0  194.0    3                    1   \n",
       "2  1st Block Jayanagar      1875.0   2.0  235.0    3                    1   \n",
       "3  1st Block Jayanagar      1200.0   2.0  130.0    3                    1   \n",
       "4  1st Block Jayanagar      1235.0   2.0  148.0    2                    1   \n",
       "\n",
       "   1st Phase JP Nagar  2nd Phase Judicial Layout  2nd Stage Nagarbhavi  \\\n",
       "0                   0                          0                     0   \n",
       "1                   0                          0                     0   \n",
       "2                   0                          0                     0   \n",
       "3                   0                          0                     0   \n",
       "4                   0                          0                     0   \n",
       "\n",
       "   5th Block Hbr Layout  ...  Vijayanagar  Vishveshwarya Layout  \\\n",
       "0                     0  ...            0                     0   \n",
       "1                     0  ...            0                     0   \n",
       "2                     0  ...            0                     0   \n",
       "3                     0  ...            0                     0   \n",
       "4                     0  ...            0                     0   \n",
       "\n",
       "   Vishwapriya Layout  Vittasandra  Whitefield  Yelachenahalli  Yelahanka  \\\n",
       "0                   0            0           0               0          0   \n",
       "1                   0            0           0               0          0   \n",
       "2                   0            0           0               0          0   \n",
       "3                   0            0           0               0          0   \n",
       "4                   0            0           0               0          0   \n",
       "\n",
       "   Yelahanka New Town  Yelenahalli  Yeshwanthpur  \n",
       "0                   0            0             0  \n",
       "1                   0            0             0  \n",
       "2                   0            0             0  \n",
       "3                   0            0             0  \n",
       "4                   0            0             0  \n",
       "\n",
       "[5 rows x 246 columns]"
      ]
     },
     "execution_count": 78,
     "metadata": {},
     "output_type": "execute_result"
    }
   ],
   "source": [
    "price.head()"
   ]
  },
  {
   "cell_type": "code",
   "execution_count": 79,
   "id": "ae0a7a9d",
   "metadata": {
    "execution": {
     "iopub.execute_input": "2022-01-09T15:42:33.294681Z",
     "iopub.status.busy": "2022-01-09T15:42:33.294123Z",
     "iopub.status.idle": "2022-01-09T15:42:33.300430Z",
     "shell.execute_reply": "2022-01-09T15:42:33.300905Z",
     "shell.execute_reply.started": "2022-01-09T15:38:59.502093Z"
    },
    "id": "DY9y8IEeuHZ_",
    "papermill": {
     "duration": 0.083283,
     "end_time": "2022-01-09T15:42:33.301081",
     "exception": false,
     "start_time": "2022-01-09T15:42:33.217798",
     "status": "completed"
    },
    "tags": []
   },
   "outputs": [],
   "source": [
    "House_data = price.drop('location',axis='columns')"
   ]
  },
  {
   "cell_type": "code",
   "execution_count": 80,
   "id": "3d2ea932",
   "metadata": {
    "execution": {
     "iopub.execute_input": "2022-01-09T15:42:33.451169Z",
     "iopub.status.busy": "2022-01-09T15:42:33.450620Z",
     "iopub.status.idle": "2022-01-09T15:42:33.467949Z",
     "shell.execute_reply": "2022-01-09T15:42:33.468395Z",
     "shell.execute_reply.started": "2022-01-09T15:38:59.513266Z"
    },
    "id": "gE4GESN3uQ-Y",
    "outputId": "e7227c25-52be-44f7-e526-5bb49fdbb222",
    "papermill": {
     "duration": 0.093832,
     "end_time": "2022-01-09T15:42:33.468554",
     "exception": false,
     "start_time": "2022-01-09T15:42:33.374722",
     "status": "completed"
    },
    "tags": []
   },
   "outputs": [
    {
     "data": {
      "text/html": [
       "<div>\n",
       "<style scoped>\n",
       "    .dataframe tbody tr th:only-of-type {\n",
       "        vertical-align: middle;\n",
       "    }\n",
       "\n",
       "    .dataframe tbody tr th {\n",
       "        vertical-align: top;\n",
       "    }\n",
       "\n",
       "    .dataframe thead th {\n",
       "        text-align: right;\n",
       "    }\n",
       "</style>\n",
       "<table border=\"1\" class=\"dataframe\">\n",
       "  <thead>\n",
       "    <tr style=\"text-align: right;\">\n",
       "      <th></th>\n",
       "      <th>total_sqft</th>\n",
       "      <th>bath</th>\n",
       "      <th>price</th>\n",
       "      <th>BHK</th>\n",
       "      <th>1st Block Jayanagar</th>\n",
       "      <th>1st Phase JP Nagar</th>\n",
       "      <th>2nd Phase Judicial Layout</th>\n",
       "      <th>2nd Stage Nagarbhavi</th>\n",
       "      <th>5th Block Hbr Layout</th>\n",
       "      <th>5th Phase JP Nagar</th>\n",
       "      <th>...</th>\n",
       "      <th>Vijayanagar</th>\n",
       "      <th>Vishveshwarya Layout</th>\n",
       "      <th>Vishwapriya Layout</th>\n",
       "      <th>Vittasandra</th>\n",
       "      <th>Whitefield</th>\n",
       "      <th>Yelachenahalli</th>\n",
       "      <th>Yelahanka</th>\n",
       "      <th>Yelahanka New Town</th>\n",
       "      <th>Yelenahalli</th>\n",
       "      <th>Yeshwanthpur</th>\n",
       "    </tr>\n",
       "  </thead>\n",
       "  <tbody>\n",
       "    <tr>\n",
       "      <th>0</th>\n",
       "      <td>2850.0</td>\n",
       "      <td>4.0</td>\n",
       "      <td>428.0</td>\n",
       "      <td>4</td>\n",
       "      <td>1</td>\n",
       "      <td>0</td>\n",
       "      <td>0</td>\n",
       "      <td>0</td>\n",
       "      <td>0</td>\n",
       "      <td>0</td>\n",
       "      <td>...</td>\n",
       "      <td>0</td>\n",
       "      <td>0</td>\n",
       "      <td>0</td>\n",
       "      <td>0</td>\n",
       "      <td>0</td>\n",
       "      <td>0</td>\n",
       "      <td>0</td>\n",
       "      <td>0</td>\n",
       "      <td>0</td>\n",
       "      <td>0</td>\n",
       "    </tr>\n",
       "    <tr>\n",
       "      <th>1</th>\n",
       "      <td>1630.0</td>\n",
       "      <td>3.0</td>\n",
       "      <td>194.0</td>\n",
       "      <td>3</td>\n",
       "      <td>1</td>\n",
       "      <td>0</td>\n",
       "      <td>0</td>\n",
       "      <td>0</td>\n",
       "      <td>0</td>\n",
       "      <td>0</td>\n",
       "      <td>...</td>\n",
       "      <td>0</td>\n",
       "      <td>0</td>\n",
       "      <td>0</td>\n",
       "      <td>0</td>\n",
       "      <td>0</td>\n",
       "      <td>0</td>\n",
       "      <td>0</td>\n",
       "      <td>0</td>\n",
       "      <td>0</td>\n",
       "      <td>0</td>\n",
       "    </tr>\n",
       "    <tr>\n",
       "      <th>2</th>\n",
       "      <td>1875.0</td>\n",
       "      <td>2.0</td>\n",
       "      <td>235.0</td>\n",
       "      <td>3</td>\n",
       "      <td>1</td>\n",
       "      <td>0</td>\n",
       "      <td>0</td>\n",
       "      <td>0</td>\n",
       "      <td>0</td>\n",
       "      <td>0</td>\n",
       "      <td>...</td>\n",
       "      <td>0</td>\n",
       "      <td>0</td>\n",
       "      <td>0</td>\n",
       "      <td>0</td>\n",
       "      <td>0</td>\n",
       "      <td>0</td>\n",
       "      <td>0</td>\n",
       "      <td>0</td>\n",
       "      <td>0</td>\n",
       "      <td>0</td>\n",
       "    </tr>\n",
       "    <tr>\n",
       "      <th>3</th>\n",
       "      <td>1200.0</td>\n",
       "      <td>2.0</td>\n",
       "      <td>130.0</td>\n",
       "      <td>3</td>\n",
       "      <td>1</td>\n",
       "      <td>0</td>\n",
       "      <td>0</td>\n",
       "      <td>0</td>\n",
       "      <td>0</td>\n",
       "      <td>0</td>\n",
       "      <td>...</td>\n",
       "      <td>0</td>\n",
       "      <td>0</td>\n",
       "      <td>0</td>\n",
       "      <td>0</td>\n",
       "      <td>0</td>\n",
       "      <td>0</td>\n",
       "      <td>0</td>\n",
       "      <td>0</td>\n",
       "      <td>0</td>\n",
       "      <td>0</td>\n",
       "    </tr>\n",
       "    <tr>\n",
       "      <th>4</th>\n",
       "      <td>1235.0</td>\n",
       "      <td>2.0</td>\n",
       "      <td>148.0</td>\n",
       "      <td>2</td>\n",
       "      <td>1</td>\n",
       "      <td>0</td>\n",
       "      <td>0</td>\n",
       "      <td>0</td>\n",
       "      <td>0</td>\n",
       "      <td>0</td>\n",
       "      <td>...</td>\n",
       "      <td>0</td>\n",
       "      <td>0</td>\n",
       "      <td>0</td>\n",
       "      <td>0</td>\n",
       "      <td>0</td>\n",
       "      <td>0</td>\n",
       "      <td>0</td>\n",
       "      <td>0</td>\n",
       "      <td>0</td>\n",
       "      <td>0</td>\n",
       "    </tr>\n",
       "  </tbody>\n",
       "</table>\n",
       "<p>5 rows × 245 columns</p>\n",
       "</div>"
      ],
      "text/plain": [
       "   total_sqft  bath  price  BHK  1st Block Jayanagar  1st Phase JP Nagar  \\\n",
       "0      2850.0   4.0  428.0    4                    1                   0   \n",
       "1      1630.0   3.0  194.0    3                    1                   0   \n",
       "2      1875.0   2.0  235.0    3                    1                   0   \n",
       "3      1200.0   2.0  130.0    3                    1                   0   \n",
       "4      1235.0   2.0  148.0    2                    1                   0   \n",
       "\n",
       "   2nd Phase Judicial Layout  2nd Stage Nagarbhavi  5th Block Hbr Layout  \\\n",
       "0                          0                     0                     0   \n",
       "1                          0                     0                     0   \n",
       "2                          0                     0                     0   \n",
       "3                          0                     0                     0   \n",
       "4                          0                     0                     0   \n",
       "\n",
       "   5th Phase JP Nagar  ...  Vijayanagar  Vishveshwarya Layout  \\\n",
       "0                   0  ...            0                     0   \n",
       "1                   0  ...            0                     0   \n",
       "2                   0  ...            0                     0   \n",
       "3                   0  ...            0                     0   \n",
       "4                   0  ...            0                     0   \n",
       "\n",
       "   Vishwapriya Layout  Vittasandra  Whitefield  Yelachenahalli  Yelahanka  \\\n",
       "0                   0            0           0               0          0   \n",
       "1                   0            0           0               0          0   \n",
       "2                   0            0           0               0          0   \n",
       "3                   0            0           0               0          0   \n",
       "4                   0            0           0               0          0   \n",
       "\n",
       "   Yelahanka New Town  Yelenahalli  Yeshwanthpur  \n",
       "0                   0            0             0  \n",
       "1                   0            0             0  \n",
       "2                   0            0             0  \n",
       "3                   0            0             0  \n",
       "4                   0            0             0  \n",
       "\n",
       "[5 rows x 245 columns]"
      ]
     },
     "execution_count": 80,
     "metadata": {},
     "output_type": "execute_result"
    }
   ],
   "source": [
    "House_data.head()"
   ]
  },
  {
   "cell_type": "markdown",
   "id": "7bd8eeff",
   "metadata": {
    "id": "3g9m3qYkTRuQ",
    "papermill": {
     "duration": 0.074342,
     "end_time": "2022-01-09T15:42:33.617348",
     "exception": false,
     "start_time": "2022-01-09T15:42:33.543006",
     "status": "completed"
    },
    "tags": []
   },
   "source": [
    "## Build a Model"
   ]
  },
  {
   "cell_type": "code",
   "execution_count": 81,
   "id": "80b195f6",
   "metadata": {
    "execution": {
     "iopub.execute_input": "2022-01-09T15:42:33.771572Z",
     "iopub.status.busy": "2022-01-09T15:42:33.770946Z",
     "iopub.status.idle": "2022-01-09T15:42:33.774446Z",
     "shell.execute_reply": "2022-01-09T15:42:33.773892Z",
     "shell.execute_reply.started": "2022-01-09T15:38:59.536699Z"
    },
    "id": "YBWd4_rpuabY",
    "outputId": "f4957b35-26d7-46cb-d883-3a8e8285594d",
    "papermill": {
     "duration": 0.082323,
     "end_time": "2022-01-09T15:42:33.774578",
     "exception": false,
     "start_time": "2022-01-09T15:42:33.692255",
     "status": "completed"
    },
    "tags": []
   },
   "outputs": [
    {
     "data": {
      "text/plain": [
       "(7251, 245)"
      ]
     },
     "execution_count": 81,
     "metadata": {},
     "output_type": "execute_result"
    }
   ],
   "source": [
    "House_data.shape"
   ]
  },
  {
   "cell_type": "code",
   "execution_count": 82,
   "id": "60d82010",
   "metadata": {
    "execution": {
     "iopub.execute_input": "2022-01-09T15:42:33.929927Z",
     "iopub.status.busy": "2022-01-09T15:42:33.929323Z",
     "iopub.status.idle": "2022-01-09T15:42:33.954091Z",
     "shell.execute_reply": "2022-01-09T15:42:33.954634Z",
     "shell.execute_reply.started": "2022-01-09T15:38:59.543494Z"
    },
    "id": "1OxzOgkyTVZO",
    "outputId": "00925074-5715-41a2-8c53-35db90921b70",
    "papermill": {
     "duration": 0.103885,
     "end_time": "2022-01-09T15:42:33.954804",
     "exception": false,
     "start_time": "2022-01-09T15:42:33.850919",
     "status": "completed"
    },
    "tags": []
   },
   "outputs": [
    {
     "data": {
      "text/html": [
       "<div>\n",
       "<style scoped>\n",
       "    .dataframe tbody tr th:only-of-type {\n",
       "        vertical-align: middle;\n",
       "    }\n",
       "\n",
       "    .dataframe tbody tr th {\n",
       "        vertical-align: top;\n",
       "    }\n",
       "\n",
       "    .dataframe thead th {\n",
       "        text-align: right;\n",
       "    }\n",
       "</style>\n",
       "<table border=\"1\" class=\"dataframe\">\n",
       "  <thead>\n",
       "    <tr style=\"text-align: right;\">\n",
       "      <th></th>\n",
       "      <th>total_sqft</th>\n",
       "      <th>bath</th>\n",
       "      <th>BHK</th>\n",
       "      <th>1st Block Jayanagar</th>\n",
       "      <th>1st Phase JP Nagar</th>\n",
       "      <th>2nd Phase Judicial Layout</th>\n",
       "      <th>2nd Stage Nagarbhavi</th>\n",
       "      <th>5th Block Hbr Layout</th>\n",
       "      <th>5th Phase JP Nagar</th>\n",
       "      <th>6th Phase JP Nagar</th>\n",
       "      <th>...</th>\n",
       "      <th>Vijayanagar</th>\n",
       "      <th>Vishveshwarya Layout</th>\n",
       "      <th>Vishwapriya Layout</th>\n",
       "      <th>Vittasandra</th>\n",
       "      <th>Whitefield</th>\n",
       "      <th>Yelachenahalli</th>\n",
       "      <th>Yelahanka</th>\n",
       "      <th>Yelahanka New Town</th>\n",
       "      <th>Yelenahalli</th>\n",
       "      <th>Yeshwanthpur</th>\n",
       "    </tr>\n",
       "  </thead>\n",
       "  <tbody>\n",
       "    <tr>\n",
       "      <th>0</th>\n",
       "      <td>2850.0</td>\n",
       "      <td>4.0</td>\n",
       "      <td>4</td>\n",
       "      <td>1</td>\n",
       "      <td>0</td>\n",
       "      <td>0</td>\n",
       "      <td>0</td>\n",
       "      <td>0</td>\n",
       "      <td>0</td>\n",
       "      <td>0</td>\n",
       "      <td>...</td>\n",
       "      <td>0</td>\n",
       "      <td>0</td>\n",
       "      <td>0</td>\n",
       "      <td>0</td>\n",
       "      <td>0</td>\n",
       "      <td>0</td>\n",
       "      <td>0</td>\n",
       "      <td>0</td>\n",
       "      <td>0</td>\n",
       "      <td>0</td>\n",
       "    </tr>\n",
       "    <tr>\n",
       "      <th>1</th>\n",
       "      <td>1630.0</td>\n",
       "      <td>3.0</td>\n",
       "      <td>3</td>\n",
       "      <td>1</td>\n",
       "      <td>0</td>\n",
       "      <td>0</td>\n",
       "      <td>0</td>\n",
       "      <td>0</td>\n",
       "      <td>0</td>\n",
       "      <td>0</td>\n",
       "      <td>...</td>\n",
       "      <td>0</td>\n",
       "      <td>0</td>\n",
       "      <td>0</td>\n",
       "      <td>0</td>\n",
       "      <td>0</td>\n",
       "      <td>0</td>\n",
       "      <td>0</td>\n",
       "      <td>0</td>\n",
       "      <td>0</td>\n",
       "      <td>0</td>\n",
       "    </tr>\n",
       "    <tr>\n",
       "      <th>2</th>\n",
       "      <td>1875.0</td>\n",
       "      <td>2.0</td>\n",
       "      <td>3</td>\n",
       "      <td>1</td>\n",
       "      <td>0</td>\n",
       "      <td>0</td>\n",
       "      <td>0</td>\n",
       "      <td>0</td>\n",
       "      <td>0</td>\n",
       "      <td>0</td>\n",
       "      <td>...</td>\n",
       "      <td>0</td>\n",
       "      <td>0</td>\n",
       "      <td>0</td>\n",
       "      <td>0</td>\n",
       "      <td>0</td>\n",
       "      <td>0</td>\n",
       "      <td>0</td>\n",
       "      <td>0</td>\n",
       "      <td>0</td>\n",
       "      <td>0</td>\n",
       "    </tr>\n",
       "    <tr>\n",
       "      <th>3</th>\n",
       "      <td>1200.0</td>\n",
       "      <td>2.0</td>\n",
       "      <td>3</td>\n",
       "      <td>1</td>\n",
       "      <td>0</td>\n",
       "      <td>0</td>\n",
       "      <td>0</td>\n",
       "      <td>0</td>\n",
       "      <td>0</td>\n",
       "      <td>0</td>\n",
       "      <td>...</td>\n",
       "      <td>0</td>\n",
       "      <td>0</td>\n",
       "      <td>0</td>\n",
       "      <td>0</td>\n",
       "      <td>0</td>\n",
       "      <td>0</td>\n",
       "      <td>0</td>\n",
       "      <td>0</td>\n",
       "      <td>0</td>\n",
       "      <td>0</td>\n",
       "    </tr>\n",
       "    <tr>\n",
       "      <th>4</th>\n",
       "      <td>1235.0</td>\n",
       "      <td>2.0</td>\n",
       "      <td>2</td>\n",
       "      <td>1</td>\n",
       "      <td>0</td>\n",
       "      <td>0</td>\n",
       "      <td>0</td>\n",
       "      <td>0</td>\n",
       "      <td>0</td>\n",
       "      <td>0</td>\n",
       "      <td>...</td>\n",
       "      <td>0</td>\n",
       "      <td>0</td>\n",
       "      <td>0</td>\n",
       "      <td>0</td>\n",
       "      <td>0</td>\n",
       "      <td>0</td>\n",
       "      <td>0</td>\n",
       "      <td>0</td>\n",
       "      <td>0</td>\n",
       "      <td>0</td>\n",
       "    </tr>\n",
       "    <tr>\n",
       "      <th>...</th>\n",
       "      <td>...</td>\n",
       "      <td>...</td>\n",
       "      <td>...</td>\n",
       "      <td>...</td>\n",
       "      <td>...</td>\n",
       "      <td>...</td>\n",
       "      <td>...</td>\n",
       "      <td>...</td>\n",
       "      <td>...</td>\n",
       "      <td>...</td>\n",
       "      <td>...</td>\n",
       "      <td>...</td>\n",
       "      <td>...</td>\n",
       "      <td>...</td>\n",
       "      <td>...</td>\n",
       "      <td>...</td>\n",
       "      <td>...</td>\n",
       "      <td>...</td>\n",
       "      <td>...</td>\n",
       "      <td>...</td>\n",
       "      <td>...</td>\n",
       "    </tr>\n",
       "    <tr>\n",
       "      <th>10232</th>\n",
       "      <td>1200.0</td>\n",
       "      <td>2.0</td>\n",
       "      <td>2</td>\n",
       "      <td>0</td>\n",
       "      <td>0</td>\n",
       "      <td>0</td>\n",
       "      <td>0</td>\n",
       "      <td>0</td>\n",
       "      <td>0</td>\n",
       "      <td>0</td>\n",
       "      <td>...</td>\n",
       "      <td>0</td>\n",
       "      <td>0</td>\n",
       "      <td>0</td>\n",
       "      <td>0</td>\n",
       "      <td>0</td>\n",
       "      <td>0</td>\n",
       "      <td>0</td>\n",
       "      <td>0</td>\n",
       "      <td>0</td>\n",
       "      <td>0</td>\n",
       "    </tr>\n",
       "    <tr>\n",
       "      <th>10233</th>\n",
       "      <td>1800.0</td>\n",
       "      <td>1.0</td>\n",
       "      <td>1</td>\n",
       "      <td>0</td>\n",
       "      <td>0</td>\n",
       "      <td>0</td>\n",
       "      <td>0</td>\n",
       "      <td>0</td>\n",
       "      <td>0</td>\n",
       "      <td>0</td>\n",
       "      <td>...</td>\n",
       "      <td>0</td>\n",
       "      <td>0</td>\n",
       "      <td>0</td>\n",
       "      <td>0</td>\n",
       "      <td>0</td>\n",
       "      <td>0</td>\n",
       "      <td>0</td>\n",
       "      <td>0</td>\n",
       "      <td>0</td>\n",
       "      <td>0</td>\n",
       "    </tr>\n",
       "    <tr>\n",
       "      <th>10236</th>\n",
       "      <td>1353.0</td>\n",
       "      <td>2.0</td>\n",
       "      <td>2</td>\n",
       "      <td>0</td>\n",
       "      <td>0</td>\n",
       "      <td>0</td>\n",
       "      <td>0</td>\n",
       "      <td>0</td>\n",
       "      <td>0</td>\n",
       "      <td>0</td>\n",
       "      <td>...</td>\n",
       "      <td>0</td>\n",
       "      <td>0</td>\n",
       "      <td>0</td>\n",
       "      <td>0</td>\n",
       "      <td>0</td>\n",
       "      <td>0</td>\n",
       "      <td>0</td>\n",
       "      <td>0</td>\n",
       "      <td>0</td>\n",
       "      <td>0</td>\n",
       "    </tr>\n",
       "    <tr>\n",
       "      <th>10237</th>\n",
       "      <td>812.0</td>\n",
       "      <td>1.0</td>\n",
       "      <td>1</td>\n",
       "      <td>0</td>\n",
       "      <td>0</td>\n",
       "      <td>0</td>\n",
       "      <td>0</td>\n",
       "      <td>0</td>\n",
       "      <td>0</td>\n",
       "      <td>0</td>\n",
       "      <td>...</td>\n",
       "      <td>0</td>\n",
       "      <td>0</td>\n",
       "      <td>0</td>\n",
       "      <td>0</td>\n",
       "      <td>0</td>\n",
       "      <td>0</td>\n",
       "      <td>0</td>\n",
       "      <td>0</td>\n",
       "      <td>0</td>\n",
       "      <td>0</td>\n",
       "    </tr>\n",
       "    <tr>\n",
       "      <th>10240</th>\n",
       "      <td>3600.0</td>\n",
       "      <td>5.0</td>\n",
       "      <td>4</td>\n",
       "      <td>0</td>\n",
       "      <td>0</td>\n",
       "      <td>0</td>\n",
       "      <td>0</td>\n",
       "      <td>0</td>\n",
       "      <td>0</td>\n",
       "      <td>0</td>\n",
       "      <td>...</td>\n",
       "      <td>0</td>\n",
       "      <td>0</td>\n",
       "      <td>0</td>\n",
       "      <td>0</td>\n",
       "      <td>0</td>\n",
       "      <td>0</td>\n",
       "      <td>0</td>\n",
       "      <td>0</td>\n",
       "      <td>0</td>\n",
       "      <td>0</td>\n",
       "    </tr>\n",
       "  </tbody>\n",
       "</table>\n",
       "<p>7251 rows × 244 columns</p>\n",
       "</div>"
      ],
      "text/plain": [
       "       total_sqft  bath  BHK  1st Block Jayanagar  1st Phase JP Nagar  \\\n",
       "0          2850.0   4.0    4                    1                   0   \n",
       "1          1630.0   3.0    3                    1                   0   \n",
       "2          1875.0   2.0    3                    1                   0   \n",
       "3          1200.0   2.0    3                    1                   0   \n",
       "4          1235.0   2.0    2                    1                   0   \n",
       "...           ...   ...  ...                  ...                 ...   \n",
       "10232      1200.0   2.0    2                    0                   0   \n",
       "10233      1800.0   1.0    1                    0                   0   \n",
       "10236      1353.0   2.0    2                    0                   0   \n",
       "10237       812.0   1.0    1                    0                   0   \n",
       "10240      3600.0   5.0    4                    0                   0   \n",
       "\n",
       "       2nd Phase Judicial Layout  2nd Stage Nagarbhavi  5th Block Hbr Layout  \\\n",
       "0                              0                     0                     0   \n",
       "1                              0                     0                     0   \n",
       "2                              0                     0                     0   \n",
       "3                              0                     0                     0   \n",
       "4                              0                     0                     0   \n",
       "...                          ...                   ...                   ...   \n",
       "10232                          0                     0                     0   \n",
       "10233                          0                     0                     0   \n",
       "10236                          0                     0                     0   \n",
       "10237                          0                     0                     0   \n",
       "10240                          0                     0                     0   \n",
       "\n",
       "       5th Phase JP Nagar  6th Phase JP Nagar  ...  Vijayanagar  \\\n",
       "0                       0                   0  ...            0   \n",
       "1                       0                   0  ...            0   \n",
       "2                       0                   0  ...            0   \n",
       "3                       0                   0  ...            0   \n",
       "4                       0                   0  ...            0   \n",
       "...                   ...                 ...  ...          ...   \n",
       "10232                   0                   0  ...            0   \n",
       "10233                   0                   0  ...            0   \n",
       "10236                   0                   0  ...            0   \n",
       "10237                   0                   0  ...            0   \n",
       "10240                   0                   0  ...            0   \n",
       "\n",
       "       Vishveshwarya Layout  Vishwapriya Layout  Vittasandra  Whitefield  \\\n",
       "0                         0                   0            0           0   \n",
       "1                         0                   0            0           0   \n",
       "2                         0                   0            0           0   \n",
       "3                         0                   0            0           0   \n",
       "4                         0                   0            0           0   \n",
       "...                     ...                 ...          ...         ...   \n",
       "10232                     0                   0            0           0   \n",
       "10233                     0                   0            0           0   \n",
       "10236                     0                   0            0           0   \n",
       "10237                     0                   0            0           0   \n",
       "10240                     0                   0            0           0   \n",
       "\n",
       "       Yelachenahalli  Yelahanka  Yelahanka New Town  Yelenahalli  \\\n",
       "0                   0          0                   0            0   \n",
       "1                   0          0                   0            0   \n",
       "2                   0          0                   0            0   \n",
       "3                   0          0                   0            0   \n",
       "4                   0          0                   0            0   \n",
       "...               ...        ...                 ...          ...   \n",
       "10232               0          0                   0            0   \n",
       "10233               0          0                   0            0   \n",
       "10236               0          0                   0            0   \n",
       "10237               0          0                   0            0   \n",
       "10240               0          0                   0            0   \n",
       "\n",
       "       Yeshwanthpur  \n",
       "0                 0  \n",
       "1                 0  \n",
       "2                 0  \n",
       "3                 0  \n",
       "4                 0  \n",
       "...             ...  \n",
       "10232             0  \n",
       "10233             0  \n",
       "10236             0  \n",
       "10237             0  \n",
       "10240             0  \n",
       "\n",
       "[7251 rows x 244 columns]"
      ]
     },
     "execution_count": 82,
     "metadata": {},
     "output_type": "execute_result"
    }
   ],
   "source": [
    "X = House_data.drop(['price'], axis='columns')\n",
    "X"
   ]
  },
  {
   "cell_type": "code",
   "execution_count": 83,
   "id": "a9e1209f",
   "metadata": {
    "execution": {
     "iopub.execute_input": "2022-01-09T15:42:34.110603Z",
     "iopub.status.busy": "2022-01-09T15:42:34.110014Z",
     "iopub.status.idle": "2022-01-09T15:42:34.116278Z",
     "shell.execute_reply": "2022-01-09T15:42:34.116699Z",
     "shell.execute_reply.started": "2022-01-09T15:38:59.574156Z"
    },
    "id": "PPYxU804TcH-",
    "outputId": "c09fdacd-fad3-4559-a468-84299db70505",
    "papermill": {
     "duration": 0.085872,
     "end_time": "2022-01-09T15:42:34.116875",
     "exception": false,
     "start_time": "2022-01-09T15:42:34.031003",
     "status": "completed"
    },
    "tags": []
   },
   "outputs": [
    {
     "data": {
      "text/plain": [
       "0        428.0\n",
       "1        194.0\n",
       "2        235.0\n",
       "3        130.0\n",
       "4        148.0\n",
       "         ...  \n",
       "10232     70.0\n",
       "10233    200.0\n",
       "10236    110.0\n",
       "10237     26.0\n",
       "10240    400.0\n",
       "Name: price, Length: 7251, dtype: float64"
      ]
     },
     "execution_count": 83,
     "metadata": {},
     "output_type": "execute_result"
    }
   ],
   "source": [
    "y = House_data['price']\n",
    "y"
   ]
  },
  {
   "cell_type": "code",
   "execution_count": 84,
   "id": "4f2710cd",
   "metadata": {
    "execution": {
     "iopub.execute_input": "2022-01-09T15:42:34.271226Z",
     "iopub.status.busy": "2022-01-09T15:42:34.270649Z",
     "iopub.status.idle": "2022-01-09T15:42:34.274864Z",
     "shell.execute_reply": "2022-01-09T15:42:34.275311Z",
     "shell.execute_reply.started": "2022-01-09T15:38:59.583947Z"
    },
    "id": "iD-Dn8ReTrH9",
    "outputId": "9dede26c-6f53-4e2c-d499-dd4cf1eff945",
    "papermill": {
     "duration": 0.082985,
     "end_time": "2022-01-09T15:42:34.275465",
     "exception": false,
     "start_time": "2022-01-09T15:42:34.192480",
     "status": "completed"
    },
    "tags": []
   },
   "outputs": [
    {
     "data": {
      "text/plain": [
       "7251"
      ]
     },
     "execution_count": 84,
     "metadata": {},
     "output_type": "execute_result"
    }
   ],
   "source": [
    "len(y)"
   ]
  },
  {
   "cell_type": "code",
   "execution_count": 85,
   "id": "2b5d5266",
   "metadata": {
    "execution": {
     "iopub.execute_input": "2022-01-09T15:42:34.429762Z",
     "iopub.status.busy": "2022-01-09T15:42:34.429205Z",
     "iopub.status.idle": "2022-01-09T15:42:35.248362Z",
     "shell.execute_reply": "2022-01-09T15:42:35.248806Z",
     "shell.execute_reply.started": "2022-01-09T15:38:59.595595Z"
    },
    "id": "tbbUGRN3TsnJ",
    "papermill": {
     "duration": 0.898025,
     "end_time": "2022-01-09T15:42:35.248980",
     "exception": false,
     "start_time": "2022-01-09T15:42:34.350955",
     "status": "completed"
    },
    "tags": []
   },
   "outputs": [],
   "source": [
    "from sklearn.model_selection import train_test_split\n",
    "X_train, X_test, y_train, y_test = train_test_split(X,y,test_size=0.2, random_state=10)"
   ]
  },
  {
   "cell_type": "code",
   "execution_count": 86,
   "id": "5ae8bcb3",
   "metadata": {
    "execution": {
     "iopub.execute_input": "2022-01-09T15:42:35.409653Z",
     "iopub.status.busy": "2022-01-09T15:42:35.408925Z",
     "iopub.status.idle": "2022-01-09T15:42:35.578576Z",
     "shell.execute_reply": "2022-01-09T15:42:35.579052Z",
     "shell.execute_reply.started": "2022-01-09T15:39:00.592645Z"
    },
    "id": "XFwJuQKMT8sh",
    "outputId": "0c5f26ef-54a7-4127-aa99-39093a559101",
    "papermill": {
     "duration": 0.254432,
     "end_time": "2022-01-09T15:42:35.579324",
     "exception": false,
     "start_time": "2022-01-09T15:42:35.324892",
     "status": "completed"
    },
    "tags": []
   },
   "outputs": [
    {
     "data": {
      "text/plain": [
       "85.0"
      ]
     },
     "execution_count": 86,
     "metadata": {},
     "output_type": "execute_result"
    }
   ],
   "source": [
    "from sklearn.linear_model import LinearRegression\n",
    "lr_clf = LinearRegression()\n",
    "lr_clf.fit(X_train, y_train)\n",
    "lr_clf.score(X_test,y_test).round(2)*100"
   ]
  },
  {
   "cell_type": "code",
   "execution_count": 87,
   "id": "e47e0851",
   "metadata": {},
   "outputs": [
    {
     "data": {
      "text/plain": [
       "array([ 70.47896311,  33.09312356,  36.00433051, 106.10948304,\n",
       "       109.27155604])"
      ]
     },
     "execution_count": 87,
     "metadata": {},
     "output_type": "execute_result"
    }
   ],
   "source": [
    "pred=lr_clf.predict(X_test)\n",
    "pred[:5]"
   ]
  },
  {
   "cell_type": "code",
   "execution_count": 88,
   "id": "78edbae4",
   "metadata": {},
   "outputs": [
    {
     "data": {
      "text/plain": [
       "0.85"
      ]
     },
     "execution_count": 88,
     "metadata": {},
     "output_type": "execute_result"
    }
   ],
   "source": [
    "from sklearn.metrics import r2_score\n",
    "r2_score(y_test,pred).round(2)"
   ]
  },
  {
   "cell_type": "code",
   "execution_count": 89,
   "id": "b40bdd31",
   "metadata": {},
   "outputs": [
    {
     "data": {
      "text/plain": [
       "85.0"
      ]
     },
     "execution_count": 89,
     "metadata": {},
     "output_type": "execute_result"
    }
   ],
   "source": [
    "#Calculating the R squared value\n",
    "(r2_score(y_test,pred)*100).round()"
   ]
  },
  {
   "cell_type": "markdown",
   "id": "407b46b0",
   "metadata": {},
   "source": [
    "### The Score for model is 85%  "
   ]
  },
  {
   "cell_type": "markdown",
   "id": "2403b23d",
   "metadata": {},
   "source": [
    "## Test the model for few properties"
   ]
  },
  {
   "cell_type": "code",
   "execution_count": 90,
   "id": "7575e95c",
   "metadata": {},
   "outputs": [],
   "source": [
    "def predict_price(location, sqft,bath, bhk):\n",
    "  loc_index=np.where(X.columns==location)[0][0]\n",
    "\n",
    "  x = np.zeros(len(X.columns))\n",
    "  x[0] = sqft\n",
    "  x[1] = bath\n",
    "  x[2] = bhk\n",
    "  if loc_index >= 0 :\n",
    "    x[loc_index] = 1\n",
    "\n",
    "  return lr_clf.predict([x])[0]"
   ]
  },
  {
   "cell_type": "code",
   "execution_count": 91,
   "id": "f1767852",
   "metadata": {},
   "outputs": [
    {
     "data": {
      "text/plain": [
       "83.49904677203347"
      ]
     },
     "execution_count": 91,
     "metadata": {},
     "output_type": "execute_result"
    }
   ],
   "source": [
    "predict_price('1st Phase JP Nagar', 1000, 2, 2)"
   ]
  },
  {
   "cell_type": "code",
   "execution_count": 92,
   "id": "c2ddddbd",
   "metadata": {},
   "outputs": [
    {
     "data": {
      "text/plain": [
       "181.2781548400643"
      ]
     },
     "execution_count": 92,
     "metadata": {},
     "output_type": "execute_result"
    }
   ],
   "source": [
    "predict_price('Indira Nagar',1000,2,2)"
   ]
  },
  {
   "cell_type": "markdown",
   "id": "4347a099",
   "metadata": {},
   "source": [
    "# Trying another approach to further increase the accuracy"
   ]
  },
  {
   "cell_type": "markdown",
   "id": "emerging-viewer",
   "metadata": {
    "papermill": {
     "duration": 0.071811,
     "end_time": "2021-05-25T05:45:23.229291",
     "exception": false,
     "start_time": "2021-05-25T05:45:23.157480",
     "status": "completed"
    },
    "tags": []
   },
   "source": [
    "# Handling of NA values"
   ]
  },
  {
   "cell_type": "code",
   "execution_count": 93,
   "id": "serious-relations",
   "metadata": {
    "execution": {
     "iopub.execute_input": "2021-05-25T05:45:23.389449Z",
     "iopub.status.busy": "2021-05-25T05:45:23.388790Z",
     "iopub.status.idle": "2021-05-25T05:45:23.391780Z",
     "shell.execute_reply": "2021-05-25T05:45:23.391185Z",
     "shell.execute_reply.started": "2021-05-25T05:14:03.431437Z"
    },
    "papermill": {
     "duration": 0.090131,
     "end_time": "2021-05-25T05:45:23.391914",
     "exception": false,
     "start_time": "2021-05-25T05:45:23.301783",
     "status": "completed"
    },
    "tags": []
   },
   "outputs": [],
   "source": [
    "def change_to_numeric(x):\n",
    "    if x == 'Super built-up  Area':\n",
    "        return 0\n",
    "    elif x == 'Plot  Area':\n",
    "        return 1\n",
    "    elif x == 'Built-up  Area':\n",
    "        return 2\n",
    "    else:\n",
    "        return 3\n",
    "\n",
    "df['area_type_numeric'] = df['area_type'].apply(change_to_numeric)"
   ]
  },
  {
   "cell_type": "code",
   "execution_count": 94,
   "id": "curious-sierra",
   "metadata": {
    "execution": {
     "iopub.execute_input": "2021-05-25T05:45:23.545539Z",
     "iopub.status.busy": "2021-05-25T05:45:23.544556Z",
     "iopub.status.idle": "2021-05-25T05:45:23.553933Z",
     "shell.execute_reply": "2021-05-25T05:45:23.554389Z",
     "shell.execute_reply.started": "2021-05-25T05:14:10.367757Z"
    },
    "papermill": {
     "duration": 0.091105,
     "end_time": "2021-05-25T05:45:23.554579",
     "exception": false,
     "start_time": "2021-05-25T05:45:23.463474",
     "status": "completed"
    },
    "tags": []
   },
   "outputs": [
    {
     "data": {
      "text/html": [
       "<div>\n",
       "<style scoped>\n",
       "    .dataframe tbody tr th:only-of-type {\n",
       "        vertical-align: middle;\n",
       "    }\n",
       "\n",
       "    .dataframe tbody tr th {\n",
       "        vertical-align: top;\n",
       "    }\n",
       "\n",
       "    .dataframe thead th {\n",
       "        text-align: right;\n",
       "    }\n",
       "</style>\n",
       "<table border=\"1\" class=\"dataframe\">\n",
       "  <thead>\n",
       "    <tr style=\"text-align: right;\">\n",
       "      <th></th>\n",
       "      <th>area_type_numeric</th>\n",
       "      <th>price</th>\n",
       "    </tr>\n",
       "  </thead>\n",
       "  <tbody>\n",
       "    <tr>\n",
       "      <th>area_type_numeric</th>\n",
       "      <td>1.000000</td>\n",
       "      <td>0.092563</td>\n",
       "    </tr>\n",
       "    <tr>\n",
       "      <th>price</th>\n",
       "      <td>0.092563</td>\n",
       "      <td>1.000000</td>\n",
       "    </tr>\n",
       "  </tbody>\n",
       "</table>\n",
       "</div>"
      ],
      "text/plain": [
       "                   area_type_numeric     price\n",
       "area_type_numeric           1.000000  0.092563\n",
       "price                       0.092563  1.000000"
      ]
     },
     "execution_count": 94,
     "metadata": {},
     "output_type": "execute_result"
    }
   ],
   "source": [
    "df2 = df[['area_type_numeric', 'price']]\n",
    "df2.corr()"
   ]
  },
  {
   "cell_type": "code",
   "execution_count": 95,
   "id": "american-tribute",
   "metadata": {
    "execution": {
     "iopub.execute_input": "2021-05-25T05:45:23.706202Z",
     "iopub.status.busy": "2021-05-25T05:45:23.704960Z",
     "iopub.status.idle": "2021-05-25T05:45:23.709217Z",
     "shell.execute_reply": "2021-05-25T05:45:23.708691Z",
     "shell.execute_reply.started": "2021-05-25T05:14:20.027525Z"
    },
    "papermill": {
     "duration": 0.082389,
     "end_time": "2021-05-25T05:45:23.709391",
     "exception": false,
     "start_time": "2021-05-25T05:45:23.627002",
     "status": "completed"
    },
    "tags": []
   },
   "outputs": [],
   "source": [
    "df1 = df.drop('area_type', axis = 'columns')"
   ]
  },
  {
   "cell_type": "code",
   "execution_count": 96,
   "id": "operating-enlargement",
   "metadata": {
    "execution": {
     "iopub.execute_input": "2021-05-25T05:45:23.862208Z",
     "iopub.status.busy": "2021-05-25T05:45:23.861590Z",
     "iopub.status.idle": "2021-05-25T05:45:23.864466Z",
     "shell.execute_reply": "2021-05-25T05:45:23.863852Z",
     "shell.execute_reply.started": "2021-05-25T05:14:29.533475Z"
    },
    "papermill": {
     "duration": 0.081992,
     "end_time": "2021-05-25T05:45:23.864600",
     "exception": false,
     "start_time": "2021-05-25T05:45:23.782608",
     "status": "completed"
    },
    "tags": []
   },
   "outputs": [],
   "source": [
    "df1.balcony = df1.balcony.fillna(df1.balcony.median())"
   ]
  },
  {
   "cell_type": "code",
   "execution_count": 97,
   "id": "awful-inventory",
   "metadata": {
    "execution": {
     "iopub.execute_input": "2021-05-25T05:45:24.016379Z",
     "iopub.status.busy": "2021-05-25T05:45:24.015731Z",
     "iopub.status.idle": "2021-05-25T05:45:24.019451Z",
     "shell.execute_reply": "2021-05-25T05:45:24.018927Z",
     "shell.execute_reply.started": "2021-05-25T05:14:37.850785Z"
    },
    "papermill": {
     "duration": 0.082016,
     "end_time": "2021-05-25T05:45:24.019589",
     "exception": false,
     "start_time": "2021-05-25T05:45:23.937573",
     "status": "completed"
    },
    "tags": []
   },
   "outputs": [
    {
     "data": {
      "text/plain": [
       "0"
      ]
     },
     "execution_count": 97,
     "metadata": {},
     "output_type": "execute_result"
    }
   ],
   "source": [
    "df1.balcony.isnull().sum()"
   ]
  },
  {
   "cell_type": "code",
   "execution_count": 98,
   "id": "satellite-behavior",
   "metadata": {
    "execution": {
     "iopub.execute_input": "2021-05-25T05:45:24.171936Z",
     "iopub.status.busy": "2021-05-25T05:45:24.171321Z",
     "iopub.status.idle": "2021-05-25T05:45:24.179853Z",
     "shell.execute_reply": "2021-05-25T05:45:24.180345Z",
     "shell.execute_reply.started": "2021-05-25T05:14:46.193163Z"
    },
    "papermill": {
     "duration": 0.087904,
     "end_time": "2021-05-25T05:45:24.180512",
     "exception": false,
     "start_time": "2021-05-25T05:45:24.092608",
     "status": "completed"
    },
    "tags": []
   },
   "outputs": [
    {
     "data": {
      "text/html": [
       "<div>\n",
       "<style scoped>\n",
       "    .dataframe tbody tr th:only-of-type {\n",
       "        vertical-align: middle;\n",
       "    }\n",
       "\n",
       "    .dataframe tbody tr th {\n",
       "        vertical-align: top;\n",
       "    }\n",
       "\n",
       "    .dataframe thead th {\n",
       "        text-align: right;\n",
       "    }\n",
       "</style>\n",
       "<table border=\"1\" class=\"dataframe\">\n",
       "  <thead>\n",
       "    <tr style=\"text-align: right;\">\n",
       "      <th></th>\n",
       "      <th>balcony</th>\n",
       "      <th>price</th>\n",
       "    </tr>\n",
       "  </thead>\n",
       "  <tbody>\n",
       "    <tr>\n",
       "      <th>balcony</th>\n",
       "      <td>1.000000</td>\n",
       "      <td>0.124951</td>\n",
       "    </tr>\n",
       "    <tr>\n",
       "      <th>price</th>\n",
       "      <td>0.124951</td>\n",
       "      <td>1.000000</td>\n",
       "    </tr>\n",
       "  </tbody>\n",
       "</table>\n",
       "</div>"
      ],
      "text/plain": [
       "          balcony     price\n",
       "balcony  1.000000  0.124951\n",
       "price    0.124951  1.000000"
      ]
     },
     "execution_count": 98,
     "metadata": {},
     "output_type": "execute_result"
    }
   ],
   "source": [
    "df_temp = df1[['balcony', 'price']]\n",
    "df_temp.corr()"
   ]
  },
  {
   "cell_type": "code",
   "execution_count": 99,
   "id": "dense-progress",
   "metadata": {
    "execution": {
     "iopub.execute_input": "2021-05-25T05:45:24.330387Z",
     "iopub.status.busy": "2021-05-25T05:45:24.329446Z",
     "iopub.status.idle": "2021-05-25T05:45:24.343452Z",
     "shell.execute_reply": "2021-05-25T05:45:24.343910Z",
     "shell.execute_reply.started": "2021-05-25T05:14:54.939431Z"
    },
    "papermill": {
     "duration": 0.090482,
     "end_time": "2021-05-25T05:45:24.344087",
     "exception": false,
     "start_time": "2021-05-25T05:45:24.253605",
     "status": "completed"
    },
    "tags": []
   },
   "outputs": [],
   "source": [
    "def ready(x):\n",
    "    if x == 'Ready To Move':\n",
    "        return 1\n",
    "    else:\n",
    "        return 0\n",
    "df1['availability'] = df1['availability'].apply(ready)"
   ]
  },
  {
   "cell_type": "code",
   "execution_count": 100,
   "id": "limiting-toronto",
   "metadata": {
    "execution": {
     "iopub.execute_input": "2021-05-25T05:45:24.494444Z",
     "iopub.status.busy": "2021-05-25T05:45:24.493513Z",
     "iopub.status.idle": "2021-05-25T05:45:24.508330Z",
     "shell.execute_reply": "2021-05-25T05:45:24.508849Z",
     "shell.execute_reply.started": "2021-05-25T05:15:03.704485Z"
    },
    "papermill": {
     "duration": 0.09165,
     "end_time": "2021-05-25T05:45:24.509022",
     "exception": false,
     "start_time": "2021-05-25T05:45:24.417372",
     "status": "completed"
    },
    "tags": []
   },
   "outputs": [
    {
     "data": {
      "text/html": [
       "<div>\n",
       "<style scoped>\n",
       "    .dataframe tbody tr th:only-of-type {\n",
       "        vertical-align: middle;\n",
       "    }\n",
       "\n",
       "    .dataframe tbody tr th {\n",
       "        vertical-align: top;\n",
       "    }\n",
       "\n",
       "    .dataframe thead th {\n",
       "        text-align: right;\n",
       "    }\n",
       "</style>\n",
       "<table border=\"1\" class=\"dataframe\">\n",
       "  <thead>\n",
       "    <tr style=\"text-align: right;\">\n",
       "      <th></th>\n",
       "      <th>availability</th>\n",
       "      <th>price</th>\n",
       "    </tr>\n",
       "  </thead>\n",
       "  <tbody>\n",
       "    <tr>\n",
       "      <th>availability</th>\n",
       "      <td>1.000000</td>\n",
       "      <td>0.034483</td>\n",
       "    </tr>\n",
       "    <tr>\n",
       "      <th>price</th>\n",
       "      <td>0.034483</td>\n",
       "      <td>1.000000</td>\n",
       "    </tr>\n",
       "  </tbody>\n",
       "</table>\n",
       "</div>"
      ],
      "text/plain": [
       "              availability     price\n",
       "availability      1.000000  0.034483\n",
       "price             0.034483  1.000000"
      ]
     },
     "execution_count": 100,
     "metadata": {},
     "output_type": "execute_result"
    }
   ],
   "source": [
    "df_temp = df1[['availability', 'price']]\n",
    "df_temp.corr()"
   ]
  },
  {
   "cell_type": "code",
   "execution_count": 101,
   "id": "passive-parking",
   "metadata": {
    "execution": {
     "iopub.execute_input": "2021-05-25T05:45:24.677905Z",
     "iopub.status.busy": "2021-05-25T05:45:24.676905Z",
     "iopub.status.idle": "2021-05-25T05:45:24.682517Z",
     "shell.execute_reply": "2021-05-25T05:45:24.682995Z",
     "shell.execute_reply.started": "2021-05-25T05:15:12.337827Z"
    },
    "papermill": {
     "duration": 0.087243,
     "end_time": "2021-05-25T05:45:24.683157",
     "exception": false,
     "start_time": "2021-05-25T05:45:24.595914",
     "status": "completed"
    },
    "tags": []
   },
   "outputs": [],
   "source": [
    "df2 = df1.drop(['society' , 'balcony', 'availability'] , axis = 'columns')"
   ]
  },
  {
   "cell_type": "code",
   "execution_count": 102,
   "id": "vocational-detective",
   "metadata": {
    "execution": {
     "iopub.execute_input": "2021-05-25T05:45:24.834702Z",
     "iopub.status.busy": "2021-05-25T05:45:24.833744Z",
     "iopub.status.idle": "2021-05-25T05:45:24.846433Z",
     "shell.execute_reply": "2021-05-25T05:45:24.846876Z",
     "shell.execute_reply.started": "2021-05-25T05:15:21.345809Z"
    },
    "papermill": {
     "duration": 0.090494,
     "end_time": "2021-05-25T05:45:24.847046",
     "exception": false,
     "start_time": "2021-05-25T05:45:24.756552",
     "status": "completed"
    },
    "tags": []
   },
   "outputs": [
    {
     "data": {
      "text/html": [
       "<div>\n",
       "<style scoped>\n",
       "    .dataframe tbody tr th:only-of-type {\n",
       "        vertical-align: middle;\n",
       "    }\n",
       "\n",
       "    .dataframe tbody tr th {\n",
       "        vertical-align: top;\n",
       "    }\n",
       "\n",
       "    .dataframe thead th {\n",
       "        text-align: right;\n",
       "    }\n",
       "</style>\n",
       "<table border=\"1\" class=\"dataframe\">\n",
       "  <thead>\n",
       "    <tr style=\"text-align: right;\">\n",
       "      <th></th>\n",
       "      <th>location</th>\n",
       "      <th>size</th>\n",
       "      <th>total_sqft</th>\n",
       "      <th>bath</th>\n",
       "      <th>price</th>\n",
       "      <th>area_type_numeric</th>\n",
       "    </tr>\n",
       "  </thead>\n",
       "  <tbody>\n",
       "    <tr>\n",
       "      <th>0</th>\n",
       "      <td>Electronic City Phase II</td>\n",
       "      <td>2 BHK</td>\n",
       "      <td>1056</td>\n",
       "      <td>2.0</td>\n",
       "      <td>39.07</td>\n",
       "      <td>0</td>\n",
       "    </tr>\n",
       "    <tr>\n",
       "      <th>1</th>\n",
       "      <td>Chikka Tirupathi</td>\n",
       "      <td>4 Bedroom</td>\n",
       "      <td>2600</td>\n",
       "      <td>5.0</td>\n",
       "      <td>120.00</td>\n",
       "      <td>1</td>\n",
       "    </tr>\n",
       "    <tr>\n",
       "      <th>2</th>\n",
       "      <td>Uttarahalli</td>\n",
       "      <td>3 BHK</td>\n",
       "      <td>1440</td>\n",
       "      <td>2.0</td>\n",
       "      <td>62.00</td>\n",
       "      <td>2</td>\n",
       "    </tr>\n",
       "    <tr>\n",
       "      <th>3</th>\n",
       "      <td>Lingadheeranahalli</td>\n",
       "      <td>3 BHK</td>\n",
       "      <td>1521</td>\n",
       "      <td>3.0</td>\n",
       "      <td>95.00</td>\n",
       "      <td>0</td>\n",
       "    </tr>\n",
       "    <tr>\n",
       "      <th>4</th>\n",
       "      <td>Kothanur</td>\n",
       "      <td>2 BHK</td>\n",
       "      <td>1200</td>\n",
       "      <td>2.0</td>\n",
       "      <td>51.00</td>\n",
       "      <td>0</td>\n",
       "    </tr>\n",
       "  </tbody>\n",
       "</table>\n",
       "</div>"
      ],
      "text/plain": [
       "                   location       size total_sqft  bath   price  \\\n",
       "0  Electronic City Phase II      2 BHK       1056   2.0   39.07   \n",
       "1          Chikka Tirupathi  4 Bedroom       2600   5.0  120.00   \n",
       "2               Uttarahalli      3 BHK       1440   2.0   62.00   \n",
       "3        Lingadheeranahalli      3 BHK       1521   3.0   95.00   \n",
       "4                  Kothanur      2 BHK       1200   2.0   51.00   \n",
       "\n",
       "   area_type_numeric  \n",
       "0                  0  \n",
       "1                  1  \n",
       "2                  2  \n",
       "3                  0  \n",
       "4                  0  "
      ]
     },
     "execution_count": 102,
     "metadata": {},
     "output_type": "execute_result"
    }
   ],
   "source": [
    "df2.head()"
   ]
  },
  {
   "cell_type": "code",
   "execution_count": 103,
   "id": "requested-parameter",
   "metadata": {
    "execution": {
     "iopub.execute_input": "2021-05-25T05:45:24.999956Z",
     "iopub.status.busy": "2021-05-25T05:45:24.999037Z",
     "iopub.status.idle": "2021-05-25T05:45:25.010403Z",
     "shell.execute_reply": "2021-05-25T05:45:25.010992Z",
     "shell.execute_reply.started": "2021-05-25T05:15:30.392427Z"
    },
    "papermill": {
     "duration": 0.08945,
     "end_time": "2021-05-25T05:45:25.011196",
     "exception": false,
     "start_time": "2021-05-25T05:45:24.921746",
     "status": "completed"
    },
    "tags": []
   },
   "outputs": [
    {
     "data": {
      "text/plain": [
       "location              1\n",
       "size                 16\n",
       "total_sqft            0\n",
       "bath                 73\n",
       "price                 0\n",
       "area_type_numeric     0\n",
       "dtype: int64"
      ]
     },
     "execution_count": 103,
     "metadata": {},
     "output_type": "execute_result"
    }
   ],
   "source": [
    "df2.isnull().sum()"
   ]
  },
  {
   "cell_type": "code",
   "execution_count": 104,
   "id": "announced-world",
   "metadata": {
    "execution": {
     "iopub.execute_input": "2021-05-25T05:45:25.165032Z",
     "iopub.status.busy": "2021-05-25T05:45:25.164084Z",
     "iopub.status.idle": "2021-05-25T05:45:25.188866Z",
     "shell.execute_reply": "2021-05-25T05:45:25.188232Z",
     "shell.execute_reply.started": "2021-05-25T05:15:38.098590Z"
    },
    "papermill": {
     "duration": 0.102799,
     "end_time": "2021-05-25T05:45:25.189002",
     "exception": false,
     "start_time": "2021-05-25T05:45:25.086203",
     "status": "completed"
    },
    "tags": []
   },
   "outputs": [
    {
     "data": {
      "text/html": [
       "<div>\n",
       "<style scoped>\n",
       "    .dataframe tbody tr th:only-of-type {\n",
       "        vertical-align: middle;\n",
       "    }\n",
       "\n",
       "    .dataframe tbody tr th {\n",
       "        vertical-align: top;\n",
       "    }\n",
       "\n",
       "    .dataframe thead th {\n",
       "        text-align: right;\n",
       "    }\n",
       "</style>\n",
       "<table border=\"1\" class=\"dataframe\">\n",
       "  <thead>\n",
       "    <tr style=\"text-align: right;\">\n",
       "      <th></th>\n",
       "      <th>bath</th>\n",
       "      <th>price</th>\n",
       "      <th>area_type_numeric</th>\n",
       "    </tr>\n",
       "  </thead>\n",
       "  <tbody>\n",
       "    <tr>\n",
       "      <th>count</th>\n",
       "      <td>13247.000000</td>\n",
       "      <td>13320.000000</td>\n",
       "      <td>13320.000000</td>\n",
       "    </tr>\n",
       "    <tr>\n",
       "      <th>mean</th>\n",
       "      <td>2.692610</td>\n",
       "      <td>112.565627</td>\n",
       "      <td>0.534685</td>\n",
       "    </tr>\n",
       "    <tr>\n",
       "      <th>std</th>\n",
       "      <td>1.341458</td>\n",
       "      <td>148.971674</td>\n",
       "      <td>0.806907</td>\n",
       "    </tr>\n",
       "    <tr>\n",
       "      <th>min</th>\n",
       "      <td>1.000000</td>\n",
       "      <td>8.000000</td>\n",
       "      <td>0.000000</td>\n",
       "    </tr>\n",
       "    <tr>\n",
       "      <th>25%</th>\n",
       "      <td>2.000000</td>\n",
       "      <td>50.000000</td>\n",
       "      <td>0.000000</td>\n",
       "    </tr>\n",
       "    <tr>\n",
       "      <th>50%</th>\n",
       "      <td>2.000000</td>\n",
       "      <td>72.000000</td>\n",
       "      <td>0.000000</td>\n",
       "    </tr>\n",
       "    <tr>\n",
       "      <th>75%</th>\n",
       "      <td>3.000000</td>\n",
       "      <td>120.000000</td>\n",
       "      <td>1.000000</td>\n",
       "    </tr>\n",
       "    <tr>\n",
       "      <th>max</th>\n",
       "      <td>40.000000</td>\n",
       "      <td>3600.000000</td>\n",
       "      <td>3.000000</td>\n",
       "    </tr>\n",
       "  </tbody>\n",
       "</table>\n",
       "</div>"
      ],
      "text/plain": [
       "               bath         price  area_type_numeric\n",
       "count  13247.000000  13320.000000       13320.000000\n",
       "mean       2.692610    112.565627           0.534685\n",
       "std        1.341458    148.971674           0.806907\n",
       "min        1.000000      8.000000           0.000000\n",
       "25%        2.000000     50.000000           0.000000\n",
       "50%        2.000000     72.000000           0.000000\n",
       "75%        3.000000    120.000000           1.000000\n",
       "max       40.000000   3600.000000           3.000000"
      ]
     },
     "execution_count": 104,
     "metadata": {},
     "output_type": "execute_result"
    }
   ],
   "source": [
    "df2.describe()"
   ]
  },
  {
   "cell_type": "code",
   "execution_count": 105,
   "id": "pending-stadium",
   "metadata": {
    "execution": {
     "iopub.execute_input": "2021-05-25T05:45:25.347164Z",
     "iopub.status.busy": "2021-05-25T05:45:25.346195Z",
     "iopub.status.idle": "2021-05-25T05:45:25.350010Z",
     "shell.execute_reply": "2021-05-25T05:45:25.350497Z",
     "shell.execute_reply.started": "2021-05-25T05:15:46.203921Z"
    },
    "papermill": {
     "duration": 0.086353,
     "end_time": "2021-05-25T05:45:25.350675",
     "exception": false,
     "start_time": "2021-05-25T05:45:25.264322",
     "status": "completed"
    },
    "tags": []
   },
   "outputs": [
    {
     "data": {
      "text/plain": [
       "array(['2 BHK', '4 Bedroom', '3 BHK', '4 BHK', '6 Bedroom', '3 Bedroom',\n",
       "       '1 BHK', '1 RK', '1 Bedroom', '8 Bedroom', '2 Bedroom',\n",
       "       '7 Bedroom', '5 BHK', '7 BHK', '6 BHK', '5 Bedroom', '11 BHK',\n",
       "       '9 BHK', nan, '9 Bedroom', '27 BHK', '10 Bedroom', '11 Bedroom',\n",
       "       '10 BHK', '19 BHK', '16 BHK', '43 Bedroom', '14 BHK', '8 BHK',\n",
       "       '12 Bedroom', '13 BHK', '18 Bedroom'], dtype=object)"
      ]
     },
     "execution_count": 105,
     "metadata": {},
     "output_type": "execute_result"
    }
   ],
   "source": [
    "df2['size'].unique()"
   ]
  },
  {
   "cell_type": "code",
   "execution_count": 106,
   "id": "interesting-findings",
   "metadata": {
    "execution": {
     "iopub.execute_input": "2021-05-25T05:45:25.505797Z",
     "iopub.status.busy": "2021-05-25T05:45:25.504802Z",
     "iopub.status.idle": "2021-05-25T05:45:25.514725Z",
     "shell.execute_reply": "2021-05-25T05:45:25.515146Z",
     "shell.execute_reply.started": "2021-05-25T05:15:56.018225Z"
    },
    "papermill": {
     "duration": 0.089044,
     "end_time": "2021-05-25T05:45:25.515367",
     "exception": false,
     "start_time": "2021-05-25T05:45:25.426323",
     "status": "completed"
    },
    "tags": []
   },
   "outputs": [
    {
     "data": {
      "text/plain": [
       "2 BHK        5199\n",
       "3 BHK        4310\n",
       "4 Bedroom     826\n",
       "4 BHK         591\n",
       "3 Bedroom     547\n",
       "Name: size, dtype: int64"
      ]
     },
     "execution_count": 106,
     "metadata": {},
     "output_type": "execute_result"
    }
   ],
   "source": [
    "df2['size'].value_counts().head()"
   ]
  },
  {
   "cell_type": "code",
   "execution_count": 107,
   "id": "covered-stock",
   "metadata": {
    "execution": {
     "iopub.execute_input": "2021-05-25T05:45:25.670541Z",
     "iopub.status.busy": "2021-05-25T05:45:25.669610Z",
     "iopub.status.idle": "2021-05-25T05:45:25.675505Z",
     "shell.execute_reply": "2021-05-25T05:45:25.675981Z",
     "shell.execute_reply.started": "2021-05-25T05:16:12.491932Z"
    },
    "papermill": {
     "duration": 0.085053,
     "end_time": "2021-05-25T05:45:25.676141",
     "exception": false,
     "start_time": "2021-05-25T05:45:25.591088",
     "status": "completed"
    },
    "tags": []
   },
   "outputs": [],
   "source": [
    "df2['size'] = df2['size'].fillna('2 BHK')"
   ]
  },
  {
   "cell_type": "markdown",
   "id": "improving-hypothetical",
   "metadata": {
    "execution": {
     "iopub.execute_input": "2021-05-25T05:19:49.644172Z",
     "iopub.status.busy": "2021-05-25T05:19:49.643830Z",
     "iopub.status.idle": "2021-05-25T05:19:49.649404Z",
     "shell.execute_reply": "2021-05-25T05:19:49.648260Z",
     "shell.execute_reply.started": "2021-05-25T05:19:49.644143Z"
    },
    "papermill": {
     "duration": 0.074418,
     "end_time": "2021-05-25T05:45:25.825861",
     "exception": false,
     "start_time": "2021-05-25T05:45:25.751443",
     "status": "completed"
    },
    "tags": []
   },
   "source": [
    "# Feature Engineering\n",
    "**Adding new feature(integer) for bhk (Bedrooms Hall Kitchen)**"
   ]
  },
  {
   "cell_type": "code",
   "execution_count": 108,
   "id": "subsequent-threat",
   "metadata": {
    "execution": {
     "iopub.execute_input": "2021-05-25T05:45:25.979314Z",
     "iopub.status.busy": "2021-05-25T05:45:25.978381Z",
     "iopub.status.idle": "2021-05-25T05:45:25.995930Z",
     "shell.execute_reply": "2021-05-25T05:45:25.996480Z",
     "shell.execute_reply.started": "2021-05-25T05:20:14.007186Z"
    },
    "papermill": {
     "duration": 0.095657,
     "end_time": "2021-05-25T05:45:25.996660",
     "exception": false,
     "start_time": "2021-05-25T05:45:25.901003",
     "status": "completed"
    },
    "tags": []
   },
   "outputs": [],
   "source": [
    "df2['BHK'] = df2['size'].apply(lambda x : int(x.split(' ')[0]))"
   ]
  },
  {
   "cell_type": "code",
   "execution_count": 109,
   "id": "bridal-vertical",
   "metadata": {
    "execution": {
     "iopub.execute_input": "2021-05-25T05:45:26.154759Z",
     "iopub.status.busy": "2021-05-25T05:45:26.153794Z",
     "iopub.status.idle": "2021-05-25T05:45:26.165924Z",
     "shell.execute_reply": "2021-05-25T05:45:26.165325Z",
     "shell.execute_reply.started": "2021-05-25T05:20:21.854221Z"
    },
    "papermill": {
     "duration": 0.09301,
     "end_time": "2021-05-25T05:45:26.166061",
     "exception": false,
     "start_time": "2021-05-25T05:45:26.073051",
     "status": "completed"
    },
    "tags": []
   },
   "outputs": [
    {
     "data": {
      "text/html": [
       "<div>\n",
       "<style scoped>\n",
       "    .dataframe tbody tr th:only-of-type {\n",
       "        vertical-align: middle;\n",
       "    }\n",
       "\n",
       "    .dataframe tbody tr th {\n",
       "        vertical-align: top;\n",
       "    }\n",
       "\n",
       "    .dataframe thead th {\n",
       "        text-align: right;\n",
       "    }\n",
       "</style>\n",
       "<table border=\"1\" class=\"dataframe\">\n",
       "  <thead>\n",
       "    <tr style=\"text-align: right;\">\n",
       "      <th></th>\n",
       "      <th>BHK</th>\n",
       "      <th>price</th>\n",
       "    </tr>\n",
       "  </thead>\n",
       "  <tbody>\n",
       "    <tr>\n",
       "      <th>BHK</th>\n",
       "      <td>1.000000</td>\n",
       "      <td>0.398074</td>\n",
       "    </tr>\n",
       "    <tr>\n",
       "      <th>price</th>\n",
       "      <td>0.398074</td>\n",
       "      <td>1.000000</td>\n",
       "    </tr>\n",
       "  </tbody>\n",
       "</table>\n",
       "</div>"
      ],
      "text/plain": [
       "            BHK     price\n",
       "BHK    1.000000  0.398074\n",
       "price  0.398074  1.000000"
      ]
     },
     "execution_count": 109,
     "metadata": {},
     "output_type": "execute_result"
    }
   ],
   "source": [
    "df_temp = df2[['BHK', 'price']]\n",
    "df_temp.corr()"
   ]
  },
  {
   "cell_type": "code",
   "execution_count": 110,
   "id": "exempt-canada",
   "metadata": {
    "execution": {
     "iopub.execute_input": "2021-05-25T05:45:26.324559Z",
     "iopub.status.busy": "2021-05-25T05:45:26.323701Z",
     "iopub.status.idle": "2021-05-25T05:45:26.327722Z",
     "shell.execute_reply": "2021-05-25T05:45:26.326977Z",
     "shell.execute_reply.started": "2021-05-25T05:20:32.334784Z"
    },
    "papermill": {
     "duration": 0.084688,
     "end_time": "2021-05-25T05:45:26.327859",
     "exception": false,
     "start_time": "2021-05-25T05:45:26.243171",
     "status": "completed"
    },
    "tags": []
   },
   "outputs": [],
   "source": [
    "df2['bath'] = df2['bath'].fillna(df2.bath.median())"
   ]
  },
  {
   "cell_type": "code",
   "execution_count": 111,
   "id": "conceptual-coupon",
   "metadata": {
    "execution": {
     "iopub.execute_input": "2021-05-25T05:45:26.494061Z",
     "iopub.status.busy": "2021-05-25T05:45:26.493132Z",
     "iopub.status.idle": "2021-05-25T05:45:26.497895Z",
     "shell.execute_reply": "2021-05-25T05:45:26.497349Z",
     "shell.execute_reply.started": "2021-05-25T05:20:39.297702Z"
    },
    "papermill": {
     "duration": 0.094005,
     "end_time": "2021-05-25T05:45:26.498032",
     "exception": false,
     "start_time": "2021-05-25T05:45:26.404027",
     "status": "completed"
    },
    "tags": []
   },
   "outputs": [
    {
     "data": {
      "text/html": [
       "<div>\n",
       "<style scoped>\n",
       "    .dataframe tbody tr th:only-of-type {\n",
       "        vertical-align: middle;\n",
       "    }\n",
       "\n",
       "    .dataframe tbody tr th {\n",
       "        vertical-align: top;\n",
       "    }\n",
       "\n",
       "    .dataframe thead th {\n",
       "        text-align: right;\n",
       "    }\n",
       "</style>\n",
       "<table border=\"1\" class=\"dataframe\">\n",
       "  <thead>\n",
       "    <tr style=\"text-align: right;\">\n",
       "      <th></th>\n",
       "      <th>location</th>\n",
       "      <th>size</th>\n",
       "      <th>total_sqft</th>\n",
       "      <th>bath</th>\n",
       "      <th>price</th>\n",
       "      <th>area_type_numeric</th>\n",
       "      <th>BHK</th>\n",
       "    </tr>\n",
       "  </thead>\n",
       "  <tbody>\n",
       "    <tr>\n",
       "      <th>0</th>\n",
       "      <td>Electronic City Phase II</td>\n",
       "      <td>2 BHK</td>\n",
       "      <td>1056</td>\n",
       "      <td>2.0</td>\n",
       "      <td>39.07</td>\n",
       "      <td>0</td>\n",
       "      <td>2</td>\n",
       "    </tr>\n",
       "    <tr>\n",
       "      <th>1</th>\n",
       "      <td>Chikka Tirupathi</td>\n",
       "      <td>4 Bedroom</td>\n",
       "      <td>2600</td>\n",
       "      <td>5.0</td>\n",
       "      <td>120.00</td>\n",
       "      <td>1</td>\n",
       "      <td>4</td>\n",
       "    </tr>\n",
       "    <tr>\n",
       "      <th>2</th>\n",
       "      <td>Uttarahalli</td>\n",
       "      <td>3 BHK</td>\n",
       "      <td>1440</td>\n",
       "      <td>2.0</td>\n",
       "      <td>62.00</td>\n",
       "      <td>2</td>\n",
       "      <td>3</td>\n",
       "    </tr>\n",
       "    <tr>\n",
       "      <th>3</th>\n",
       "      <td>Lingadheeranahalli</td>\n",
       "      <td>3 BHK</td>\n",
       "      <td>1521</td>\n",
       "      <td>3.0</td>\n",
       "      <td>95.00</td>\n",
       "      <td>0</td>\n",
       "      <td>3</td>\n",
       "    </tr>\n",
       "    <tr>\n",
       "      <th>4</th>\n",
       "      <td>Kothanur</td>\n",
       "      <td>2 BHK</td>\n",
       "      <td>1200</td>\n",
       "      <td>2.0</td>\n",
       "      <td>51.00</td>\n",
       "      <td>0</td>\n",
       "      <td>2</td>\n",
       "    </tr>\n",
       "  </tbody>\n",
       "</table>\n",
       "</div>"
      ],
      "text/plain": [
       "                   location       size total_sqft  bath   price  \\\n",
       "0  Electronic City Phase II      2 BHK       1056   2.0   39.07   \n",
       "1          Chikka Tirupathi  4 Bedroom       2600   5.0  120.00   \n",
       "2               Uttarahalli      3 BHK       1440   2.0   62.00   \n",
       "3        Lingadheeranahalli      3 BHK       1521   3.0   95.00   \n",
       "4                  Kothanur      2 BHK       1200   2.0   51.00   \n",
       "\n",
       "   area_type_numeric  BHK  \n",
       "0                  0    2  \n",
       "1                  1    4  \n",
       "2                  2    3  \n",
       "3                  0    3  \n",
       "4                  0    2  "
      ]
     },
     "execution_count": 111,
     "metadata": {},
     "output_type": "execute_result"
    }
   ],
   "source": [
    "df2.head()"
   ]
  },
  {
   "cell_type": "code",
   "execution_count": 112,
   "id": "opened-lightweight",
   "metadata": {
    "execution": {
     "iopub.execute_input": "2021-05-25T05:45:26.658803Z",
     "iopub.status.busy": "2021-05-25T05:45:26.658112Z",
     "iopub.status.idle": "2021-05-25T05:45:26.664200Z",
     "shell.execute_reply": "2021-05-25T05:45:26.663730Z",
     "shell.execute_reply.started": "2021-05-25T05:20:48.399201Z"
    },
    "papermill": {
     "duration": 0.090184,
     "end_time": "2021-05-25T05:45:26.664377",
     "exception": false,
     "start_time": "2021-05-25T05:45:26.574193",
     "status": "completed"
    },
    "tags": []
   },
   "outputs": [
    {
     "data": {
      "text/plain": [
       "Whitefield                        540\n",
       "Sarjapur  Road                    399\n",
       "Electronic City                   302\n",
       "Kanakpura Road                    273\n",
       "Thanisandra                       234\n",
       "                                 ... \n",
       "Bapuji Layout                       1\n",
       "1st Stage Radha Krishna Layout      1\n",
       "BEML Layout 5th stage               1\n",
       "singapura paradise                  1\n",
       "Abshot Layout                       1\n",
       "Name: location, Length: 1305, dtype: int64"
      ]
     },
     "execution_count": 112,
     "metadata": {},
     "output_type": "execute_result"
    }
   ],
   "source": [
    "df2['location'].value_counts()"
   ]
  },
  {
   "cell_type": "code",
   "execution_count": 113,
   "id": "upset-search",
   "metadata": {
    "execution": {
     "iopub.execute_input": "2021-05-25T05:45:26.831847Z",
     "iopub.status.busy": "2021-05-25T05:45:26.830887Z",
     "iopub.status.idle": "2021-05-25T05:45:26.837390Z",
     "shell.execute_reply": "2021-05-25T05:45:26.837905Z",
     "shell.execute_reply.started": "2021-05-25T05:20:56.890102Z"
    },
    "papermill": {
     "duration": 0.097134,
     "end_time": "2021-05-25T05:45:26.838079",
     "exception": false,
     "start_time": "2021-05-25T05:45:26.740945",
     "status": "completed"
    },
    "tags": []
   },
   "outputs": [],
   "source": [
    "df2['location'] = df2['location'].fillna('Whitefield')"
   ]
  },
  {
   "cell_type": "code",
   "execution_count": 114,
   "id": "silver-asian",
   "metadata": {
    "execution": {
     "iopub.execute_input": "2021-05-25T05:45:27.015873Z",
     "iopub.status.busy": "2021-05-25T05:45:27.014878Z",
     "iopub.status.idle": "2021-05-25T05:45:27.020729Z",
     "shell.execute_reply": "2021-05-25T05:45:27.019715Z",
     "shell.execute_reply.started": "2021-05-25T05:21:05.833198Z"
    },
    "papermill": {
     "duration": 0.099467,
     "end_time": "2021-05-25T05:45:27.020944",
     "exception": false,
     "start_time": "2021-05-25T05:45:26.921477",
     "status": "completed"
    },
    "tags": []
   },
   "outputs": [
    {
     "data": {
      "text/plain": [
       "array([ 2,  4,  3,  6,  1,  8,  7,  5, 11,  9, 27, 10, 19, 16, 43, 14, 12,\n",
       "       13, 18], dtype=int64)"
      ]
     },
     "execution_count": 114,
     "metadata": {},
     "output_type": "execute_result"
    }
   ],
   "source": [
    "df2.BHK.unique()"
   ]
  },
  {
   "cell_type": "code",
   "execution_count": 115,
   "id": "turkish-reservoir",
   "metadata": {
    "execution": {
     "iopub.execute_input": "2021-05-25T05:45:27.187892Z",
     "iopub.status.busy": "2021-05-25T05:45:27.187152Z",
     "iopub.status.idle": "2021-05-25T05:45:27.215450Z",
     "shell.execute_reply": "2021-05-25T05:45:27.214936Z",
     "shell.execute_reply.started": "2021-05-25T05:21:31.056203Z"
    },
    "papermill": {
     "duration": 0.110164,
     "end_time": "2021-05-25T05:45:27.215597",
     "exception": false,
     "start_time": "2021-05-25T05:45:27.105433",
     "status": "completed"
    },
    "tags": []
   },
   "outputs": [
    {
     "data": {
      "text/html": [
       "<div>\n",
       "<style scoped>\n",
       "    .dataframe tbody tr th:only-of-type {\n",
       "        vertical-align: middle;\n",
       "    }\n",
       "\n",
       "    .dataframe tbody tr th {\n",
       "        vertical-align: top;\n",
       "    }\n",
       "\n",
       "    .dataframe thead th {\n",
       "        text-align: right;\n",
       "    }\n",
       "</style>\n",
       "<table border=\"1\" class=\"dataframe\">\n",
       "  <thead>\n",
       "    <tr style=\"text-align: right;\">\n",
       "      <th></th>\n",
       "      <th>location</th>\n",
       "      <th>size</th>\n",
       "      <th>total_sqft</th>\n",
       "      <th>bath</th>\n",
       "      <th>price</th>\n",
       "      <th>area_type_numeric</th>\n",
       "      <th>BHK</th>\n",
       "    </tr>\n",
       "  </thead>\n",
       "  <tbody>\n",
       "    <tr>\n",
       "      <th>1718</th>\n",
       "      <td>2Electronic City Phase II</td>\n",
       "      <td>27 BHK</td>\n",
       "      <td>8000</td>\n",
       "      <td>27.0</td>\n",
       "      <td>230.0</td>\n",
       "      <td>0</td>\n",
       "      <td>27</td>\n",
       "    </tr>\n",
       "    <tr>\n",
       "      <th>4684</th>\n",
       "      <td>Munnekollal</td>\n",
       "      <td>43 Bedroom</td>\n",
       "      <td>2400</td>\n",
       "      <td>40.0</td>\n",
       "      <td>660.0</td>\n",
       "      <td>1</td>\n",
       "      <td>43</td>\n",
       "    </tr>\n",
       "  </tbody>\n",
       "</table>\n",
       "</div>"
      ],
      "text/plain": [
       "                       location        size total_sqft  bath  price  \\\n",
       "1718  2Electronic City Phase II      27 BHK       8000  27.0  230.0   \n",
       "4684                Munnekollal  43 Bedroom       2400  40.0  660.0   \n",
       "\n",
       "      area_type_numeric  BHK  \n",
       "1718                  0   27  \n",
       "4684                  1   43  "
      ]
     },
     "execution_count": 115,
     "metadata": {},
     "output_type": "execute_result"
    }
   ],
   "source": [
    "df2[df2.BHK>20]"
   ]
  },
  {
   "cell_type": "code",
   "execution_count": 116,
   "id": "primary-exercise",
   "metadata": {
    "execution": {
     "iopub.execute_input": "2021-05-25T05:45:27.378860Z",
     "iopub.status.busy": "2021-05-25T05:45:27.377877Z",
     "iopub.status.idle": "2021-05-25T05:45:27.383433Z",
     "shell.execute_reply": "2021-05-25T05:45:27.382890Z",
     "shell.execute_reply.started": "2021-05-25T05:21:39.162247Z"
    },
    "papermill": {
     "duration": 0.089528,
     "end_time": "2021-05-25T05:45:27.383576",
     "exception": false,
     "start_time": "2021-05-25T05:45:27.294048",
     "status": "completed"
    },
    "tags": []
   },
   "outputs": [
    {
     "data": {
      "text/plain": [
       "array(['1056', '2600', '1440', ..., '1133 - 1384', '774', '4689'],\n",
       "      dtype=object)"
      ]
     },
     "execution_count": 116,
     "metadata": {},
     "output_type": "execute_result"
    }
   ],
   "source": [
    "df2.total_sqft.unique()"
   ]
  },
  {
   "cell_type": "code",
   "execution_count": 117,
   "id": "multiple-enlargement",
   "metadata": {
    "execution": {
     "iopub.execute_input": "2021-05-25T05:45:27.546042Z",
     "iopub.status.busy": "2021-05-25T05:45:27.545248Z",
     "iopub.status.idle": "2021-05-25T05:45:27.549885Z",
     "shell.execute_reply": "2021-05-25T05:45:27.549280Z",
     "shell.execute_reply.started": "2021-05-25T05:21:46.320430Z"
    },
    "papermill": {
     "duration": 0.085379,
     "end_time": "2021-05-25T05:45:27.550028",
     "exception": false,
     "start_time": "2021-05-25T05:45:27.464649",
     "status": "completed"
    },
    "tags": []
   },
   "outputs": [],
   "source": [
    "def is_float(x):\n",
    "    try:\n",
    "        float(x)\n",
    "    except:\n",
    "        return False\n",
    "    return True    "
   ]
  },
  {
   "cell_type": "code",
   "execution_count": 118,
   "id": "hydraulic-specification",
   "metadata": {
    "execution": {
     "iopub.execute_input": "2021-05-25T05:45:27.729931Z",
     "iopub.status.busy": "2021-05-25T05:45:27.729257Z",
     "iopub.status.idle": "2021-05-25T05:45:27.732716Z",
     "shell.execute_reply": "2021-05-25T05:45:27.733183Z",
     "shell.execute_reply.started": "2021-05-25T05:22:33.680735Z"
    },
    "papermill": {
     "duration": 0.104824,
     "end_time": "2021-05-25T05:45:27.733368",
     "exception": false,
     "start_time": "2021-05-25T05:45:27.628544",
     "status": "completed"
    },
    "tags": []
   },
   "outputs": [
    {
     "data": {
      "text/html": [
       "<div>\n",
       "<style scoped>\n",
       "    .dataframe tbody tr th:only-of-type {\n",
       "        vertical-align: middle;\n",
       "    }\n",
       "\n",
       "    .dataframe tbody tr th {\n",
       "        vertical-align: top;\n",
       "    }\n",
       "\n",
       "    .dataframe thead th {\n",
       "        text-align: right;\n",
       "    }\n",
       "</style>\n",
       "<table border=\"1\" class=\"dataframe\">\n",
       "  <thead>\n",
       "    <tr style=\"text-align: right;\">\n",
       "      <th></th>\n",
       "      <th>location</th>\n",
       "      <th>size</th>\n",
       "      <th>total_sqft</th>\n",
       "      <th>bath</th>\n",
       "      <th>price</th>\n",
       "      <th>area_type_numeric</th>\n",
       "      <th>BHK</th>\n",
       "    </tr>\n",
       "  </thead>\n",
       "  <tbody>\n",
       "    <tr>\n",
       "      <th>30</th>\n",
       "      <td>Yelahanka</td>\n",
       "      <td>4 BHK</td>\n",
       "      <td>2100 - 2850</td>\n",
       "      <td>4.0</td>\n",
       "      <td>186.000</td>\n",
       "      <td>0</td>\n",
       "      <td>4</td>\n",
       "    </tr>\n",
       "    <tr>\n",
       "      <th>56</th>\n",
       "      <td>Devanahalli</td>\n",
       "      <td>4 Bedroom</td>\n",
       "      <td>3010 - 3410</td>\n",
       "      <td>2.0</td>\n",
       "      <td>192.000</td>\n",
       "      <td>2</td>\n",
       "      <td>4</td>\n",
       "    </tr>\n",
       "    <tr>\n",
       "      <th>81</th>\n",
       "      <td>Hennur Road</td>\n",
       "      <td>4 Bedroom</td>\n",
       "      <td>2957 - 3450</td>\n",
       "      <td>2.0</td>\n",
       "      <td>224.500</td>\n",
       "      <td>2</td>\n",
       "      <td>4</td>\n",
       "    </tr>\n",
       "    <tr>\n",
       "      <th>122</th>\n",
       "      <td>Hebbal</td>\n",
       "      <td>4 BHK</td>\n",
       "      <td>3067 - 8156</td>\n",
       "      <td>4.0</td>\n",
       "      <td>477.000</td>\n",
       "      <td>0</td>\n",
       "      <td>4</td>\n",
       "    </tr>\n",
       "    <tr>\n",
       "      <th>137</th>\n",
       "      <td>8th Phase JP Nagar</td>\n",
       "      <td>2 BHK</td>\n",
       "      <td>1042 - 1105</td>\n",
       "      <td>2.0</td>\n",
       "      <td>54.005</td>\n",
       "      <td>0</td>\n",
       "      <td>2</td>\n",
       "    </tr>\n",
       "    <tr>\n",
       "      <th>165</th>\n",
       "      <td>Sarjapur</td>\n",
       "      <td>2 BHK</td>\n",
       "      <td>1145 - 1340</td>\n",
       "      <td>2.0</td>\n",
       "      <td>43.490</td>\n",
       "      <td>0</td>\n",
       "      <td>2</td>\n",
       "    </tr>\n",
       "    <tr>\n",
       "      <th>188</th>\n",
       "      <td>KR Puram</td>\n",
       "      <td>2 BHK</td>\n",
       "      <td>1015 - 1540</td>\n",
       "      <td>2.0</td>\n",
       "      <td>56.800</td>\n",
       "      <td>0</td>\n",
       "      <td>2</td>\n",
       "    </tr>\n",
       "    <tr>\n",
       "      <th>224</th>\n",
       "      <td>Devanahalli</td>\n",
       "      <td>3 BHK</td>\n",
       "      <td>1520 - 1740</td>\n",
       "      <td>2.0</td>\n",
       "      <td>74.820</td>\n",
       "      <td>0</td>\n",
       "      <td>3</td>\n",
       "    </tr>\n",
       "    <tr>\n",
       "      <th>410</th>\n",
       "      <td>Kengeri</td>\n",
       "      <td>1 BHK</td>\n",
       "      <td>34.46Sq. Meter</td>\n",
       "      <td>1.0</td>\n",
       "      <td>18.500</td>\n",
       "      <td>0</td>\n",
       "      <td>1</td>\n",
       "    </tr>\n",
       "    <tr>\n",
       "      <th>549</th>\n",
       "      <td>Hennur Road</td>\n",
       "      <td>2 BHK</td>\n",
       "      <td>1195 - 1440</td>\n",
       "      <td>2.0</td>\n",
       "      <td>63.770</td>\n",
       "      <td>0</td>\n",
       "      <td>2</td>\n",
       "    </tr>\n",
       "  </tbody>\n",
       "</table>\n",
       "</div>"
      ],
      "text/plain": [
       "               location       size      total_sqft  bath    price  \\\n",
       "30            Yelahanka      4 BHK     2100 - 2850   4.0  186.000   \n",
       "56          Devanahalli  4 Bedroom     3010 - 3410   2.0  192.000   \n",
       "81          Hennur Road  4 Bedroom     2957 - 3450   2.0  224.500   \n",
       "122              Hebbal      4 BHK     3067 - 8156   4.0  477.000   \n",
       "137  8th Phase JP Nagar      2 BHK     1042 - 1105   2.0   54.005   \n",
       "165            Sarjapur      2 BHK     1145 - 1340   2.0   43.490   \n",
       "188            KR Puram      2 BHK     1015 - 1540   2.0   56.800   \n",
       "224         Devanahalli      3 BHK     1520 - 1740   2.0   74.820   \n",
       "410             Kengeri      1 BHK  34.46Sq. Meter   1.0   18.500   \n",
       "549         Hennur Road      2 BHK     1195 - 1440   2.0   63.770   \n",
       "\n",
       "     area_type_numeric  BHK  \n",
       "30                   0    4  \n",
       "56                   2    4  \n",
       "81                   2    4  \n",
       "122                  0    4  \n",
       "137                  0    2  \n",
       "165                  0    2  \n",
       "188                  0    2  \n",
       "224                  0    3  \n",
       "410                  0    1  \n",
       "549                  0    2  "
      ]
     },
     "execution_count": 118,
     "metadata": {},
     "output_type": "execute_result"
    }
   ],
   "source": [
    "df2[~df2['total_sqft'].apply(is_float)].head(10)"
   ]
  },
  {
   "cell_type": "markdown",
   "id": "upper-bathroom",
   "metadata": {
    "papermill": {
     "duration": 0.078326,
     "end_time": "2021-05-25T05:45:27.890975",
     "exception": false,
     "start_time": "2021-05-25T05:45:27.812649",
     "status": "completed"
    },
    "tags": []
   },
   "source": [
    "**Above shows that total_sqft can be a range (e.g. 2100-2850). For such case we can just take average of min and max value in the range. There are other cases such as 34.46Sq. Meter which one can convert to square ft using unit conversion. We are going to just drop such corner cases to keep things simple.**"
   ]
  },
  {
   "cell_type": "code",
   "execution_count": 119,
   "id": "sound-relationship",
   "metadata": {
    "execution": {
     "iopub.execute_input": "2021-05-25T05:45:28.054541Z",
     "iopub.status.busy": "2021-05-25T05:45:28.053881Z",
     "iopub.status.idle": "2021-05-25T05:45:28.059810Z",
     "shell.execute_reply": "2021-05-25T05:45:28.059302Z",
     "shell.execute_reply.started": "2021-05-25T05:24:58.708280Z"
    },
    "papermill": {
     "duration": 0.089564,
     "end_time": "2021-05-25T05:45:28.059956",
     "exception": false,
     "start_time": "2021-05-25T05:45:27.970392",
     "status": "completed"
    },
    "tags": []
   },
   "outputs": [],
   "source": [
    "def convert_sqft_to_num(x):\n",
    "    token = x.split('-')\n",
    "    if len(token)==2:\n",
    "        return (float(token[0]) + float(token[1]))/2\n",
    "    try:\n",
    "        return float(x)\n",
    "    except:\n",
    "        return None"
   ]
  },
  {
   "cell_type": "code",
   "execution_count": 120,
   "id": "proprietary-theater",
   "metadata": {
    "execution": {
     "iopub.execute_input": "2021-05-25T05:45:28.225118Z",
     "iopub.status.busy": "2021-05-25T05:45:28.224146Z",
     "iopub.status.idle": "2021-05-25T05:45:28.249792Z",
     "shell.execute_reply": "2021-05-25T05:45:28.250224Z",
     "shell.execute_reply.started": "2021-05-25T05:25:06.510083Z"
    },
    "papermill": {
     "duration": 0.11077,
     "end_time": "2021-05-25T05:45:28.250412",
     "exception": false,
     "start_time": "2021-05-25T05:45:28.139642",
     "status": "completed"
    },
    "tags": []
   },
   "outputs": [
    {
     "data": {
      "text/html": [
       "<div>\n",
       "<style scoped>\n",
       "    .dataframe tbody tr th:only-of-type {\n",
       "        vertical-align: middle;\n",
       "    }\n",
       "\n",
       "    .dataframe tbody tr th {\n",
       "        vertical-align: top;\n",
       "    }\n",
       "\n",
       "    .dataframe thead th {\n",
       "        text-align: right;\n",
       "    }\n",
       "</style>\n",
       "<table border=\"1\" class=\"dataframe\">\n",
       "  <thead>\n",
       "    <tr style=\"text-align: right;\">\n",
       "      <th></th>\n",
       "      <th>location</th>\n",
       "      <th>size</th>\n",
       "      <th>total_sqft</th>\n",
       "      <th>bath</th>\n",
       "      <th>price</th>\n",
       "      <th>area_type_numeric</th>\n",
       "      <th>BHK</th>\n",
       "    </tr>\n",
       "  </thead>\n",
       "  <tbody>\n",
       "    <tr>\n",
       "      <th>0</th>\n",
       "      <td>Electronic City Phase II</td>\n",
       "      <td>2 BHK</td>\n",
       "      <td>1056.0</td>\n",
       "      <td>2.0</td>\n",
       "      <td>39.07</td>\n",
       "      <td>0</td>\n",
       "      <td>2</td>\n",
       "    </tr>\n",
       "    <tr>\n",
       "      <th>1</th>\n",
       "      <td>Chikka Tirupathi</td>\n",
       "      <td>4 Bedroom</td>\n",
       "      <td>2600.0</td>\n",
       "      <td>5.0</td>\n",
       "      <td>120.00</td>\n",
       "      <td>1</td>\n",
       "      <td>4</td>\n",
       "    </tr>\n",
       "    <tr>\n",
       "      <th>2</th>\n",
       "      <td>Uttarahalli</td>\n",
       "      <td>3 BHK</td>\n",
       "      <td>1440.0</td>\n",
       "      <td>2.0</td>\n",
       "      <td>62.00</td>\n",
       "      <td>2</td>\n",
       "      <td>3</td>\n",
       "    </tr>\n",
       "    <tr>\n",
       "      <th>3</th>\n",
       "      <td>Lingadheeranahalli</td>\n",
       "      <td>3 BHK</td>\n",
       "      <td>1521.0</td>\n",
       "      <td>3.0</td>\n",
       "      <td>95.00</td>\n",
       "      <td>0</td>\n",
       "      <td>3</td>\n",
       "    </tr>\n",
       "    <tr>\n",
       "      <th>4</th>\n",
       "      <td>Kothanur</td>\n",
       "      <td>2 BHK</td>\n",
       "      <td>1200.0</td>\n",
       "      <td>2.0</td>\n",
       "      <td>51.00</td>\n",
       "      <td>0</td>\n",
       "      <td>2</td>\n",
       "    </tr>\n",
       "  </tbody>\n",
       "</table>\n",
       "</div>"
      ],
      "text/plain": [
       "                   location       size  total_sqft  bath   price  \\\n",
       "0  Electronic City Phase II      2 BHK      1056.0   2.0   39.07   \n",
       "1          Chikka Tirupathi  4 Bedroom      2600.0   5.0  120.00   \n",
       "2               Uttarahalli      3 BHK      1440.0   2.0   62.00   \n",
       "3        Lingadheeranahalli      3 BHK      1521.0   3.0   95.00   \n",
       "4                  Kothanur      2 BHK      1200.0   2.0   51.00   \n",
       "\n",
       "   area_type_numeric  BHK  \n",
       "0                  0    2  \n",
       "1                  1    4  \n",
       "2                  2    3  \n",
       "3                  0    3  \n",
       "4                  0    2  "
      ]
     },
     "execution_count": 120,
     "metadata": {},
     "output_type": "execute_result"
    }
   ],
   "source": [
    "df3 = df2.copy()\n",
    "df3['total_sqft'] = df3['total_sqft'].apply(convert_sqft_to_num)\n",
    "df3.head()"
   ]
  },
  {
   "cell_type": "code",
   "execution_count": 121,
   "id": "ancient-arrest",
   "metadata": {
    "execution": {
     "iopub.execute_input": "2021-05-25T05:45:28.414100Z",
     "iopub.status.busy": "2021-05-25T05:45:28.413134Z",
     "iopub.status.idle": "2021-05-25T05:45:28.428068Z",
     "shell.execute_reply": "2021-05-25T05:45:28.428594Z",
     "shell.execute_reply.started": "2021-05-25T05:25:13.315562Z"
    },
    "papermill": {
     "duration": 0.098056,
     "end_time": "2021-05-25T05:45:28.428767",
     "exception": false,
     "start_time": "2021-05-25T05:45:28.330711",
     "status": "completed"
    },
    "tags": []
   },
   "outputs": [],
   "source": [
    "df3['bath'] = df3['bath'].apply(lambda x: int(x))"
   ]
  },
  {
   "cell_type": "code",
   "execution_count": 122,
   "id": "pressed-highlight",
   "metadata": {
    "execution": {
     "iopub.execute_input": "2021-05-25T05:45:28.592568Z",
     "iopub.status.busy": "2021-05-25T05:45:28.591603Z",
     "iopub.status.idle": "2021-05-25T05:45:28.604897Z",
     "shell.execute_reply": "2021-05-25T05:45:28.604237Z",
     "shell.execute_reply.started": "2021-05-25T05:25:19.623600Z"
    },
    "papermill": {
     "duration": 0.096144,
     "end_time": "2021-05-25T05:45:28.605038",
     "exception": false,
     "start_time": "2021-05-25T05:45:28.508894",
     "status": "completed"
    },
    "tags": []
   },
   "outputs": [
    {
     "data": {
      "text/html": [
       "<div>\n",
       "<style scoped>\n",
       "    .dataframe tbody tr th:only-of-type {\n",
       "        vertical-align: middle;\n",
       "    }\n",
       "\n",
       "    .dataframe tbody tr th {\n",
       "        vertical-align: top;\n",
       "    }\n",
       "\n",
       "    .dataframe thead th {\n",
       "        text-align: right;\n",
       "    }\n",
       "</style>\n",
       "<table border=\"1\" class=\"dataframe\">\n",
       "  <thead>\n",
       "    <tr style=\"text-align: right;\">\n",
       "      <th></th>\n",
       "      <th>BHK</th>\n",
       "      <th>price</th>\n",
       "    </tr>\n",
       "  </thead>\n",
       "  <tbody>\n",
       "    <tr>\n",
       "      <th>BHK</th>\n",
       "      <td>1.000000</td>\n",
       "      <td>0.398074</td>\n",
       "    </tr>\n",
       "    <tr>\n",
       "      <th>price</th>\n",
       "      <td>0.398074</td>\n",
       "      <td>1.000000</td>\n",
       "    </tr>\n",
       "  </tbody>\n",
       "</table>\n",
       "</div>"
      ],
      "text/plain": [
       "            BHK     price\n",
       "BHK    1.000000  0.398074\n",
       "price  0.398074  1.000000"
      ]
     },
     "execution_count": 122,
     "metadata": {},
     "output_type": "execute_result"
    }
   ],
   "source": [
    "df_temp = df3[['BHK', 'price']]\n",
    "df_temp.corr()"
   ]
  },
  {
   "cell_type": "code",
   "execution_count": 123,
   "id": "boring-giant",
   "metadata": {
    "execution": {
     "iopub.execute_input": "2021-05-25T05:45:28.768371Z",
     "iopub.status.busy": "2021-05-25T05:45:28.767448Z",
     "iopub.status.idle": "2021-05-25T05:45:28.793141Z",
     "shell.execute_reply": "2021-05-25T05:45:28.793631Z",
     "shell.execute_reply.started": "2021-05-25T05:25:27.223910Z"
    },
    "papermill": {
     "duration": 0.109064,
     "end_time": "2021-05-25T05:45:28.793813",
     "exception": false,
     "start_time": "2021-05-25T05:45:28.684749",
     "status": "completed"
    },
    "tags": []
   },
   "outputs": [
    {
     "data": {
      "text/html": [
       "<div>\n",
       "<style scoped>\n",
       "    .dataframe tbody tr th:only-of-type {\n",
       "        vertical-align: middle;\n",
       "    }\n",
       "\n",
       "    .dataframe tbody tr th {\n",
       "        vertical-align: top;\n",
       "    }\n",
       "\n",
       "    .dataframe thead th {\n",
       "        text-align: right;\n",
       "    }\n",
       "</style>\n",
       "<table border=\"1\" class=\"dataframe\">\n",
       "  <thead>\n",
       "    <tr style=\"text-align: right;\">\n",
       "      <th></th>\n",
       "      <th>location</th>\n",
       "      <th>size</th>\n",
       "      <th>total_sqft</th>\n",
       "      <th>bath</th>\n",
       "      <th>price</th>\n",
       "      <th>area_type_numeric</th>\n",
       "      <th>BHK</th>\n",
       "      <th>price_per_sqft</th>\n",
       "    </tr>\n",
       "  </thead>\n",
       "  <tbody>\n",
       "    <tr>\n",
       "      <th>0</th>\n",
       "      <td>Electronic City Phase II</td>\n",
       "      <td>2 BHK</td>\n",
       "      <td>1056.0</td>\n",
       "      <td>2</td>\n",
       "      <td>39.07</td>\n",
       "      <td>0</td>\n",
       "      <td>2</td>\n",
       "      <td>3699.810606</td>\n",
       "    </tr>\n",
       "    <tr>\n",
       "      <th>1</th>\n",
       "      <td>Chikka Tirupathi</td>\n",
       "      <td>4 Bedroom</td>\n",
       "      <td>2600.0</td>\n",
       "      <td>5</td>\n",
       "      <td>120.00</td>\n",
       "      <td>1</td>\n",
       "      <td>4</td>\n",
       "      <td>4615.384615</td>\n",
       "    </tr>\n",
       "    <tr>\n",
       "      <th>2</th>\n",
       "      <td>Uttarahalli</td>\n",
       "      <td>3 BHK</td>\n",
       "      <td>1440.0</td>\n",
       "      <td>2</td>\n",
       "      <td>62.00</td>\n",
       "      <td>2</td>\n",
       "      <td>3</td>\n",
       "      <td>4305.555556</td>\n",
       "    </tr>\n",
       "    <tr>\n",
       "      <th>3</th>\n",
       "      <td>Lingadheeranahalli</td>\n",
       "      <td>3 BHK</td>\n",
       "      <td>1521.0</td>\n",
       "      <td>3</td>\n",
       "      <td>95.00</td>\n",
       "      <td>0</td>\n",
       "      <td>3</td>\n",
       "      <td>6245.890861</td>\n",
       "    </tr>\n",
       "    <tr>\n",
       "      <th>4</th>\n",
       "      <td>Kothanur</td>\n",
       "      <td>2 BHK</td>\n",
       "      <td>1200.0</td>\n",
       "      <td>2</td>\n",
       "      <td>51.00</td>\n",
       "      <td>0</td>\n",
       "      <td>2</td>\n",
       "      <td>4250.000000</td>\n",
       "    </tr>\n",
       "    <tr>\n",
       "      <th>...</th>\n",
       "      <td>...</td>\n",
       "      <td>...</td>\n",
       "      <td>...</td>\n",
       "      <td>...</td>\n",
       "      <td>...</td>\n",
       "      <td>...</td>\n",
       "      <td>...</td>\n",
       "      <td>...</td>\n",
       "    </tr>\n",
       "    <tr>\n",
       "      <th>13315</th>\n",
       "      <td>Whitefield</td>\n",
       "      <td>5 Bedroom</td>\n",
       "      <td>3453.0</td>\n",
       "      <td>4</td>\n",
       "      <td>231.00</td>\n",
       "      <td>2</td>\n",
       "      <td>5</td>\n",
       "      <td>6689.834926</td>\n",
       "    </tr>\n",
       "    <tr>\n",
       "      <th>13316</th>\n",
       "      <td>Richards Town</td>\n",
       "      <td>4 BHK</td>\n",
       "      <td>3600.0</td>\n",
       "      <td>5</td>\n",
       "      <td>400.00</td>\n",
       "      <td>0</td>\n",
       "      <td>4</td>\n",
       "      <td>11111.111111</td>\n",
       "    </tr>\n",
       "    <tr>\n",
       "      <th>13317</th>\n",
       "      <td>Raja Rajeshwari Nagar</td>\n",
       "      <td>2 BHK</td>\n",
       "      <td>1141.0</td>\n",
       "      <td>2</td>\n",
       "      <td>60.00</td>\n",
       "      <td>2</td>\n",
       "      <td>2</td>\n",
       "      <td>5258.545136</td>\n",
       "    </tr>\n",
       "    <tr>\n",
       "      <th>13318</th>\n",
       "      <td>Padmanabhanagar</td>\n",
       "      <td>4 BHK</td>\n",
       "      <td>4689.0</td>\n",
       "      <td>4</td>\n",
       "      <td>488.00</td>\n",
       "      <td>0</td>\n",
       "      <td>4</td>\n",
       "      <td>10407.336319</td>\n",
       "    </tr>\n",
       "    <tr>\n",
       "      <th>13319</th>\n",
       "      <td>Doddathoguru</td>\n",
       "      <td>1 BHK</td>\n",
       "      <td>550.0</td>\n",
       "      <td>1</td>\n",
       "      <td>17.00</td>\n",
       "      <td>0</td>\n",
       "      <td>1</td>\n",
       "      <td>3090.909091</td>\n",
       "    </tr>\n",
       "  </tbody>\n",
       "</table>\n",
       "<p>13320 rows × 8 columns</p>\n",
       "</div>"
      ],
      "text/plain": [
       "                       location       size  total_sqft  bath   price  \\\n",
       "0      Electronic City Phase II      2 BHK      1056.0     2   39.07   \n",
       "1              Chikka Tirupathi  4 Bedroom      2600.0     5  120.00   \n",
       "2                   Uttarahalli      3 BHK      1440.0     2   62.00   \n",
       "3            Lingadheeranahalli      3 BHK      1521.0     3   95.00   \n",
       "4                      Kothanur      2 BHK      1200.0     2   51.00   \n",
       "...                         ...        ...         ...   ...     ...   \n",
       "13315                Whitefield  5 Bedroom      3453.0     4  231.00   \n",
       "13316             Richards Town      4 BHK      3600.0     5  400.00   \n",
       "13317     Raja Rajeshwari Nagar      2 BHK      1141.0     2   60.00   \n",
       "13318           Padmanabhanagar      4 BHK      4689.0     4  488.00   \n",
       "13319              Doddathoguru      1 BHK       550.0     1   17.00   \n",
       "\n",
       "       area_type_numeric  BHK  price_per_sqft  \n",
       "0                      0    2     3699.810606  \n",
       "1                      1    4     4615.384615  \n",
       "2                      2    3     4305.555556  \n",
       "3                      0    3     6245.890861  \n",
       "4                      0    2     4250.000000  \n",
       "...                  ...  ...             ...  \n",
       "13315                  2    5     6689.834926  \n",
       "13316                  0    4    11111.111111  \n",
       "13317                  2    2     5258.545136  \n",
       "13318                  0    4    10407.336319  \n",
       "13319                  0    1     3090.909091  \n",
       "\n",
       "[13320 rows x 8 columns]"
      ]
     },
     "execution_count": 123,
     "metadata": {},
     "output_type": "execute_result"
    }
   ],
   "source": [
    "df4 = df3.copy()\n",
    "df4['price_per_sqft'] = df3['price']*100000/df3['total_sqft']\n",
    "df4"
   ]
  },
  {
   "cell_type": "code",
   "execution_count": 124,
   "id": "indian-knitting",
   "metadata": {
    "execution": {
     "iopub.execute_input": "2021-05-25T05:45:28.962783Z",
     "iopub.status.busy": "2021-05-25T05:45:28.961829Z",
     "iopub.status.idle": "2021-05-25T05:45:28.965664Z",
     "shell.execute_reply": "2021-05-25T05:45:28.966161Z",
     "shell.execute_reply.started": "2021-05-25T05:25:36.112586Z"
    },
    "papermill": {
     "duration": 0.091748,
     "end_time": "2021-05-25T05:45:28.966353",
     "exception": false,
     "start_time": "2021-05-25T05:45:28.874605",
     "status": "completed"
    },
    "tags": []
   },
   "outputs": [
    {
     "data": {
      "text/plain": [
       "13320"
      ]
     },
     "execution_count": 124,
     "metadata": {},
     "output_type": "execute_result"
    }
   ],
   "source": [
    "df4['location'].agg('count')"
   ]
  },
  {
   "cell_type": "code",
   "execution_count": 125,
   "id": "demanding-carroll",
   "metadata": {
    "execution": {
     "iopub.execute_input": "2021-05-25T05:45:29.134451Z",
     "iopub.status.busy": "2021-05-25T05:45:29.133479Z",
     "iopub.status.idle": "2021-05-25T05:45:29.139537Z",
     "shell.execute_reply": "2021-05-25T05:45:29.139007Z",
     "shell.execute_reply.started": "2021-05-25T05:25:43.837733Z"
    },
    "papermill": {
     "duration": 0.091524,
     "end_time": "2021-05-25T05:45:29.139671",
     "exception": false,
     "start_time": "2021-05-25T05:45:29.048147",
     "status": "completed"
    },
    "tags": []
   },
   "outputs": [
    {
     "data": {
      "text/plain": [
       "13320"
      ]
     },
     "execution_count": 125,
     "metadata": {},
     "output_type": "execute_result"
    }
   ],
   "source": [
    "len(df4.location)"
   ]
  },
  {
   "cell_type": "code",
   "execution_count": 126,
   "id": "atmospheric-monitoring",
   "metadata": {
    "execution": {
     "iopub.execute_input": "2021-05-25T05:45:29.311456Z",
     "iopub.status.busy": "2021-05-25T05:45:29.310765Z",
     "iopub.status.idle": "2021-05-25T05:45:29.320422Z",
     "shell.execute_reply": "2021-05-25T05:45:29.320872Z",
     "shell.execute_reply.started": "2021-05-25T05:25:51.851800Z"
    },
    "papermill": {
     "duration": 0.100699,
     "end_time": "2021-05-25T05:45:29.321041",
     "exception": false,
     "start_time": "2021-05-25T05:45:29.220342",
     "status": "completed"
    },
    "tags": []
   },
   "outputs": [
    {
     "data": {
      "text/plain": [
       "location\n",
       "1 Annasandrapalya                                  1\n",
       "1 Giri Nagar                                       1\n",
       "1 Immadihalli                                      1\n",
       "1 Ramamurthy Nagar                                 1\n",
       "12th cross srinivas nagar banshankari 3rd stage    1\n",
       "                                                  ..\n",
       "t.c palya                                          1\n",
       "tc.palya                                           4\n",
       "vinayakanagar                                      1\n",
       "white field,kadugodi                               1\n",
       "whitefiled                                         1\n",
       "Name: location, Length: 1294, dtype: int64"
      ]
     },
     "execution_count": 126,
     "metadata": {},
     "output_type": "execute_result"
    }
   ],
   "source": [
    "df4.location = df4.location.apply(lambda x : x.strip())\n",
    "location_stats = df4.groupby('location')['location'].agg('count')\n",
    "location_stats"
   ]
  },
  {
   "cell_type": "code",
   "execution_count": 127,
   "id": "tamil-filter",
   "metadata": {
    "execution": {
     "iopub.execute_input": "2021-05-25T05:45:29.485719Z",
     "iopub.status.busy": "2021-05-25T05:45:29.485050Z",
     "iopub.status.idle": "2021-05-25T05:45:29.498181Z",
     "shell.execute_reply": "2021-05-25T05:45:29.497650Z",
     "shell.execute_reply.started": "2021-05-25T05:26:01.637372Z"
    },
    "papermill": {
     "duration": 0.096894,
     "end_time": "2021-05-25T05:45:29.498344",
     "exception": false,
     "start_time": "2021-05-25T05:45:29.401450",
     "status": "completed"
    },
    "tags": []
   },
   "outputs": [
    {
     "data": {
      "text/plain": [
       "location\n",
       "Whitefield               542\n",
       "Sarjapur  Road           399\n",
       "Electronic City          304\n",
       "Kanakpura Road           273\n",
       "Thanisandra              237\n",
       "                        ... \n",
       "1 Giri Nagar               1\n",
       "Kanakapura Road,           1\n",
       "Kanakapura main  Road      1\n",
       "Karnataka Shabarimala      1\n",
       "whitefiled                 1\n",
       "Name: location, Length: 1294, dtype: int64"
      ]
     },
     "execution_count": 127,
     "metadata": {},
     "output_type": "execute_result"
    }
   ],
   "source": [
    "location_stats = df4.groupby('location')['location'].agg('count').sort_values(ascending = False)\n",
    "location_stats"
   ]
  },
  {
   "cell_type": "code",
   "execution_count": 128,
   "id": "devoted-carpet",
   "metadata": {
    "execution": {
     "iopub.execute_input": "2021-05-25T05:45:29.667004Z",
     "iopub.status.busy": "2021-05-25T05:45:29.666338Z",
     "iopub.status.idle": "2021-05-25T05:45:29.670576Z",
     "shell.execute_reply": "2021-05-25T05:45:29.670069Z",
     "shell.execute_reply.started": "2021-05-25T05:26:08.981364Z"
    },
    "papermill": {
     "duration": 0.090652,
     "end_time": "2021-05-25T05:45:29.670728",
     "exception": false,
     "start_time": "2021-05-25T05:45:29.580076",
     "status": "completed"
    },
    "tags": []
   },
   "outputs": [
    {
     "data": {
      "text/plain": [
       "1053"
      ]
     },
     "execution_count": 128,
     "metadata": {},
     "output_type": "execute_result"
    }
   ],
   "source": [
    "len(location_stats[location_stats<=10])"
   ]
  },
  {
   "cell_type": "markdown",
   "id": "vocational-client",
   "metadata": {
    "papermill": {
     "duration": 0.081476,
     "end_time": "2021-05-25T05:45:29.833843",
     "exception": false,
     "start_time": "2021-05-25T05:45:29.752367",
     "status": "completed"
    },
    "tags": []
   },
   "source": [
    "# Dimensionality Reduction\n",
    "**Any location having less than 10 data points should be tagged as \"other\" location. This way number of categories can be reduced by huge amount. Later on when we do one hot encoding, it will help us with having fewer dummy columns.**"
   ]
  },
  {
   "cell_type": "code",
   "execution_count": 129,
   "id": "owned-intelligence",
   "metadata": {
    "execution": {
     "iopub.execute_input": "2021-05-25T05:45:30.003495Z",
     "iopub.status.busy": "2021-05-25T05:45:30.002815Z",
     "iopub.status.idle": "2021-05-25T05:45:30.006293Z",
     "shell.execute_reply": "2021-05-25T05:45:30.005768Z",
     "shell.execute_reply.started": "2021-05-25T05:26:51.587823Z"
    },
    "papermill": {
     "duration": 0.09054,
     "end_time": "2021-05-25T05:45:30.006442",
     "exception": false,
     "start_time": "2021-05-25T05:45:29.915902",
     "status": "completed"
    },
    "tags": []
   },
   "outputs": [],
   "source": [
    "location_stats_less_than_10 = location_stats[location_stats<=10]"
   ]
  },
  {
   "cell_type": "code",
   "execution_count": 130,
   "id": "unexpected-flashing",
   "metadata": {
    "execution": {
     "iopub.execute_input": "2021-05-25T05:45:30.192633Z",
     "iopub.status.busy": "2021-05-25T05:45:30.187290Z",
     "iopub.status.idle": "2021-05-25T05:45:30.201951Z",
     "shell.execute_reply": "2021-05-25T05:45:30.201365Z",
     "shell.execute_reply.started": "2021-05-25T05:26:57.480604Z"
    },
    "papermill": {
     "duration": 0.112586,
     "end_time": "2021-05-25T05:45:30.202096",
     "exception": false,
     "start_time": "2021-05-25T05:45:30.089510",
     "status": "completed"
    },
    "tags": []
   },
   "outputs": [],
   "source": [
    "df4.location = df4.location.apply(lambda x : 'other' if x in location_stats_less_than_10 else x)"
   ]
  },
  {
   "cell_type": "code",
   "execution_count": 131,
   "id": "further-dispatch",
   "metadata": {
    "execution": {
     "iopub.execute_input": "2021-05-25T05:45:30.372973Z",
     "iopub.status.busy": "2021-05-25T05:45:30.372293Z",
     "iopub.status.idle": "2021-05-25T05:45:30.377716Z",
     "shell.execute_reply": "2021-05-25T05:45:30.377150Z",
     "shell.execute_reply.started": "2021-05-25T05:27:03.492652Z"
    },
    "papermill": {
     "duration": 0.093194,
     "end_time": "2021-05-25T05:45:30.377858",
     "exception": false,
     "start_time": "2021-05-25T05:45:30.284664",
     "status": "completed"
    },
    "tags": []
   },
   "outputs": [
    {
     "data": {
      "text/plain": [
       "242"
      ]
     },
     "execution_count": 131,
     "metadata": {},
     "output_type": "execute_result"
    }
   ],
   "source": [
    "len(df4.location.unique())"
   ]
  },
  {
   "cell_type": "code",
   "execution_count": 132,
   "id": "little-pollution",
   "metadata": {
    "execution": {
     "iopub.execute_input": "2021-05-25T05:45:30.548368Z",
     "iopub.status.busy": "2021-05-25T05:45:30.547711Z",
     "iopub.status.idle": "2021-05-25T05:45:30.944537Z",
     "shell.execute_reply": "2021-05-25T05:45:30.943896Z",
     "shell.execute_reply.started": "2021-05-25T05:27:11.081337Z"
    },
    "papermill": {
     "duration": 0.484726,
     "end_time": "2021-05-25T05:45:30.944679",
     "exception": false,
     "start_time": "2021-05-25T05:45:30.459953",
     "status": "completed"
    },
    "tags": []
   },
   "outputs": [
    {
     "data": {
      "text/plain": [
       "<AxesSubplot:>"
      ]
     },
     "execution_count": 132,
     "metadata": {},
     "output_type": "execute_result"
    },
    {
     "data": {
      "image/png": "[encoded data removed]",
      "text/plain": [
       "<Figure size 1080x576 with 2 Axes>"
      ]
     },
     "metadata": {
      "needs_background": "light"
     },
     "output_type": "display_data"
    }
   ],
   "source": [
    "sns.heatmap(df4.corr(), annot = True)"
   ]
  },
  {
   "cell_type": "code",
   "execution_count": 133,
   "id": "hairy-lambda",
   "metadata": {
    "execution": {
     "iopub.execute_input": "2021-05-25T05:45:31.132504Z",
     "iopub.status.busy": "2021-05-25T05:45:31.131797Z",
     "iopub.status.idle": "2021-05-25T05:45:31.134690Z",
     "shell.execute_reply": "2021-05-25T05:45:31.135129Z",
     "shell.execute_reply.started": "2021-05-25T05:27:18.126144Z"
    },
    "papermill": {
     "duration": 0.10567,
     "end_time": "2021-05-25T05:45:31.135309",
     "exception": false,
     "start_time": "2021-05-25T05:45:31.029639",
     "status": "completed"
    },
    "tags": []
   },
   "outputs": [
    {
     "data": {
      "text/html": [
       "<div>\n",
       "<style scoped>\n",
       "    .dataframe tbody tr th:only-of-type {\n",
       "        vertical-align: middle;\n",
       "    }\n",
       "\n",
       "    .dataframe tbody tr th {\n",
       "        vertical-align: top;\n",
       "    }\n",
       "\n",
       "    .dataframe thead th {\n",
       "        text-align: right;\n",
       "    }\n",
       "</style>\n",
       "<table border=\"1\" class=\"dataframe\">\n",
       "  <thead>\n",
       "    <tr style=\"text-align: right;\">\n",
       "      <th></th>\n",
       "      <th>location</th>\n",
       "      <th>size</th>\n",
       "      <th>total_sqft</th>\n",
       "      <th>bath</th>\n",
       "      <th>price</th>\n",
       "      <th>area_type_numeric</th>\n",
       "      <th>BHK</th>\n",
       "      <th>price_per_sqft</th>\n",
       "    </tr>\n",
       "  </thead>\n",
       "  <tbody>\n",
       "    <tr>\n",
       "      <th>0</th>\n",
       "      <td>Electronic City Phase II</td>\n",
       "      <td>2 BHK</td>\n",
       "      <td>1056.0</td>\n",
       "      <td>2</td>\n",
       "      <td>39.07</td>\n",
       "      <td>0</td>\n",
       "      <td>2</td>\n",
       "      <td>3699.810606</td>\n",
       "    </tr>\n",
       "    <tr>\n",
       "      <th>1</th>\n",
       "      <td>Chikka Tirupathi</td>\n",
       "      <td>4 Bedroom</td>\n",
       "      <td>2600.0</td>\n",
       "      <td>5</td>\n",
       "      <td>120.00</td>\n",
       "      <td>1</td>\n",
       "      <td>4</td>\n",
       "      <td>4615.384615</td>\n",
       "    </tr>\n",
       "    <tr>\n",
       "      <th>2</th>\n",
       "      <td>Uttarahalli</td>\n",
       "      <td>3 BHK</td>\n",
       "      <td>1440.0</td>\n",
       "      <td>2</td>\n",
       "      <td>62.00</td>\n",
       "      <td>2</td>\n",
       "      <td>3</td>\n",
       "      <td>4305.555556</td>\n",
       "    </tr>\n",
       "    <tr>\n",
       "      <th>3</th>\n",
       "      <td>Lingadheeranahalli</td>\n",
       "      <td>3 BHK</td>\n",
       "      <td>1521.0</td>\n",
       "      <td>3</td>\n",
       "      <td>95.00</td>\n",
       "      <td>0</td>\n",
       "      <td>3</td>\n",
       "      <td>6245.890861</td>\n",
       "    </tr>\n",
       "    <tr>\n",
       "      <th>4</th>\n",
       "      <td>Kothanur</td>\n",
       "      <td>2 BHK</td>\n",
       "      <td>1200.0</td>\n",
       "      <td>2</td>\n",
       "      <td>51.00</td>\n",
       "      <td>0</td>\n",
       "      <td>2</td>\n",
       "      <td>4250.000000</td>\n",
       "    </tr>\n",
       "    <tr>\n",
       "      <th>5</th>\n",
       "      <td>Whitefield</td>\n",
       "      <td>2 BHK</td>\n",
       "      <td>1170.0</td>\n",
       "      <td>2</td>\n",
       "      <td>38.00</td>\n",
       "      <td>0</td>\n",
       "      <td>2</td>\n",
       "      <td>3247.863248</td>\n",
       "    </tr>\n",
       "    <tr>\n",
       "      <th>6</th>\n",
       "      <td>Old Airport Road</td>\n",
       "      <td>4 BHK</td>\n",
       "      <td>2732.0</td>\n",
       "      <td>4</td>\n",
       "      <td>204.00</td>\n",
       "      <td>0</td>\n",
       "      <td>4</td>\n",
       "      <td>7467.057101</td>\n",
       "    </tr>\n",
       "    <tr>\n",
       "      <th>7</th>\n",
       "      <td>Rajaji Nagar</td>\n",
       "      <td>4 BHK</td>\n",
       "      <td>3300.0</td>\n",
       "      <td>4</td>\n",
       "      <td>600.00</td>\n",
       "      <td>0</td>\n",
       "      <td>4</td>\n",
       "      <td>18181.818182</td>\n",
       "    </tr>\n",
       "    <tr>\n",
       "      <th>8</th>\n",
       "      <td>Marathahalli</td>\n",
       "      <td>3 BHK</td>\n",
       "      <td>1310.0</td>\n",
       "      <td>3</td>\n",
       "      <td>63.25</td>\n",
       "      <td>0</td>\n",
       "      <td>3</td>\n",
       "      <td>4828.244275</td>\n",
       "    </tr>\n",
       "    <tr>\n",
       "      <th>9</th>\n",
       "      <td>other</td>\n",
       "      <td>6 Bedroom</td>\n",
       "      <td>1020.0</td>\n",
       "      <td>6</td>\n",
       "      <td>370.00</td>\n",
       "      <td>1</td>\n",
       "      <td>6</td>\n",
       "      <td>36274.509804</td>\n",
       "    </tr>\n",
       "  </tbody>\n",
       "</table>\n",
       "</div>"
      ],
      "text/plain": [
       "                   location       size  total_sqft  bath   price  \\\n",
       "0  Electronic City Phase II      2 BHK      1056.0     2   39.07   \n",
       "1          Chikka Tirupathi  4 Bedroom      2600.0     5  120.00   \n",
       "2               Uttarahalli      3 BHK      1440.0     2   62.00   \n",
       "3        Lingadheeranahalli      3 BHK      1521.0     3   95.00   \n",
       "4                  Kothanur      2 BHK      1200.0     2   51.00   \n",
       "5                Whitefield      2 BHK      1170.0     2   38.00   \n",
       "6          Old Airport Road      4 BHK      2732.0     4  204.00   \n",
       "7              Rajaji Nagar      4 BHK      3300.0     4  600.00   \n",
       "8              Marathahalli      3 BHK      1310.0     3   63.25   \n",
       "9                     other  6 Bedroom      1020.0     6  370.00   \n",
       "\n",
       "   area_type_numeric  BHK  price_per_sqft  \n",
       "0                  0    2     3699.810606  \n",
       "1                  1    4     4615.384615  \n",
       "2                  2    3     4305.555556  \n",
       "3                  0    3     6245.890861  \n",
       "4                  0    2     4250.000000  \n",
       "5                  0    2     3247.863248  \n",
       "6                  0    4     7467.057101  \n",
       "7                  0    4    18181.818182  \n",
       "8                  0    3     4828.244275  \n",
       "9                  1    6    36274.509804  "
      ]
     },
     "execution_count": 133,
     "metadata": {},
     "output_type": "execute_result"
    }
   ],
   "source": [
    "df4.head(10)"
   ]
  },
  {
   "cell_type": "markdown",
   "id": "charming-banking",
   "metadata": {
    "execution": {
     "iopub.execute_input": "2021-05-25T05:27:50.595922Z",
     "iopub.status.busy": "2021-05-25T05:27:50.595600Z",
     "iopub.status.idle": "2021-05-25T05:27:50.599872Z",
     "shell.execute_reply": "2021-05-25T05:27:50.598773Z",
     "shell.execute_reply.started": "2021-05-25T05:27:50.595895Z"
    },
    "papermill": {
     "duration": 0.086323,
     "end_time": "2021-05-25T05:45:31.306389",
     "exception": false,
     "start_time": "2021-05-25T05:45:31.220066",
     "status": "completed"
    },
    "tags": []
   },
   "source": [
    "# Outliers detection and removal"
   ]
  },
  {
   "cell_type": "code",
   "execution_count": 134,
   "id": "narrow-discussion",
   "metadata": {
    "execution": {
     "iopub.execute_input": "2021-05-25T05:45:31.478839Z",
     "iopub.status.busy": "2021-05-25T05:45:31.478178Z",
     "iopub.status.idle": "2021-05-25T05:45:31.628195Z",
     "shell.execute_reply": "2021-05-25T05:45:31.627656Z",
     "shell.execute_reply.started": "2021-05-25T05:29:43.574419Z"
    },
    "papermill": {
     "duration": 0.237296,
     "end_time": "2021-05-25T05:45:31.628351",
     "exception": false,
     "start_time": "2021-05-25T05:45:31.391055",
     "status": "completed"
    },
    "tags": []
   },
   "outputs": [
    {
     "data": {
      "text/plain": [
       "<AxesSubplot:xlabel='total_sqft'>"
      ]
     },
     "execution_count": 134,
     "metadata": {},
     "output_type": "execute_result"
    },
    {
     "data": {
      "image/png": "[encoded data removed]",
      "text/plain": [
       "<Figure size 1080x576 with 1 Axes>"
      ]
     },
     "metadata": {
      "needs_background": "light"
     },
     "output_type": "display_data"
    }
   ],
   "source": [
    "sns.boxplot('total_sqft', data = df4, orient = 'vertical')"
   ]
  },
  {
   "cell_type": "code",
   "execution_count": 135,
   "id": "infrared-produce",
   "metadata": {
    "execution": {
     "iopub.execute_input": "2021-05-25T05:45:31.821889Z",
     "iopub.status.busy": "2021-05-25T05:45:31.806739Z",
     "iopub.status.idle": "2021-05-25T05:45:31.943573Z",
     "shell.execute_reply": "2021-05-25T05:45:31.943052Z",
     "shell.execute_reply.started": "2021-05-25T05:29:56.889947Z"
    },
    "papermill": {
     "duration": 0.229188,
     "end_time": "2021-05-25T05:45:31.943740",
     "exception": false,
     "start_time": "2021-05-25T05:45:31.714552",
     "status": "completed"
    },
    "tags": []
   },
   "outputs": [
    {
     "data": {
      "text/plain": [
       "<AxesSubplot:xlabel='BHK'>"
      ]
     },
     "execution_count": 135,
     "metadata": {},
     "output_type": "execute_result"
    },
    {
     "data": {
      "image/png": "[encoded data removed]",
      "text/plain": [
       "<Figure size 1080x576 with 1 Axes>"
      ]
     },
     "metadata": {
      "needs_background": "light"
     },
     "output_type": "display_data"
    }
   ],
   "source": [
    "sns.boxplot('BHK', data = df4, orient = 'vertical')"
   ]
  },
  {
   "cell_type": "code",
   "execution_count": 136,
   "id": "primary-custom",
   "metadata": {
    "execution": {
     "iopub.execute_input": "2021-05-25T05:45:32.128115Z",
     "iopub.status.busy": "2021-05-25T05:45:32.126852Z",
     "iopub.status.idle": "2021-05-25T05:45:32.278893Z",
     "shell.execute_reply": "2021-05-25T05:45:32.278292Z",
     "shell.execute_reply.started": "2021-05-25T05:30:09.983779Z"
    },
    "papermill": {
     "duration": 0.247066,
     "end_time": "2021-05-25T05:45:32.279026",
     "exception": false,
     "start_time": "2021-05-25T05:45:32.031960",
     "status": "completed"
    },
    "tags": []
   },
   "outputs": [
    {
     "data": {
      "text/plain": [
       "<AxesSubplot:xlabel='bath'>"
      ]
     },
     "execution_count": 136,
     "metadata": {},
     "output_type": "execute_result"
    },
    {
     "data": {
      "image/png": "[encoded data removed]",
      "text/plain": [
       "<Figure size 1080x576 with 1 Axes>"
      ]
     },
     "metadata": {
      "needs_background": "light"
     },
     "output_type": "display_data"
    }
   ],
   "source": [
    "sns.boxplot('bath', data = df4, orient = 'vertical')"
   ]
  },
  {
   "cell_type": "code",
   "execution_count": 137,
   "id": "occupied-poetry",
   "metadata": {
    "execution": {
     "iopub.execute_input": "2021-05-25T05:45:32.484427Z",
     "iopub.status.busy": "2021-05-25T05:45:32.478466Z",
     "iopub.status.idle": "2021-05-25T05:45:32.615779Z",
     "shell.execute_reply": "2021-05-25T05:45:32.615140Z",
     "shell.execute_reply.started": "2021-05-25T05:30:18.199556Z"
    },
    "papermill": {
     "duration": 0.248558,
     "end_time": "2021-05-25T05:45:32.615919",
     "exception": false,
     "start_time": "2021-05-25T05:45:32.367361",
     "status": "completed"
    },
    "tags": []
   },
   "outputs": [
    {
     "data": {
      "text/plain": [
       "<AxesSubplot:xlabel='price'>"
      ]
     },
     "execution_count": 137,
     "metadata": {},
     "output_type": "execute_result"
    },
    {
     "data": {
      "image/png": "[encoded data removed]",
      "text/plain": [
       "<Figure size 1080x576 with 1 Axes>"
      ]
     },
     "metadata": {
      "needs_background": "light"
     },
     "output_type": "display_data"
    }
   ],
   "source": [
    "sns.boxplot('price', data = df4, orient = 'vertical')"
   ]
  },
  {
   "cell_type": "code",
   "execution_count": 138,
   "id": "large-structure",
   "metadata": {
    "execution": {
     "iopub.execute_input": "2021-05-25T05:45:32.808439Z",
     "iopub.status.busy": "2021-05-25T05:45:32.807348Z",
     "iopub.status.idle": "2021-05-25T05:45:32.817374Z",
     "shell.execute_reply": "2021-05-25T05:45:32.816680Z",
     "shell.execute_reply.started": "2021-05-25T05:30:33.399725Z"
    },
    "papermill": {
     "duration": 0.111067,
     "end_time": "2021-05-25T05:45:32.817520",
     "exception": false,
     "start_time": "2021-05-25T05:45:32.706453",
     "status": "completed"
    },
    "tags": []
   },
   "outputs": [
    {
     "data": {
      "text/plain": [
       "bath                  5.000000\n",
       "BHK                   5.000000\n",
       "total_sqft         3250.000000\n",
       "price               324.000000\n",
       "price_per_sqft    15293.303348\n",
       "Name: 0.95, dtype: float64"
      ]
     },
     "execution_count": 138,
     "metadata": {},
     "output_type": "execute_result"
    }
   ],
   "source": [
    "max_threshold = df4[[\"bath\",\"BHK\",\"total_sqft\", \"price\", \"price_per_sqft\"]].quantile(0.95)\n",
    "max_threshold"
   ]
  },
  {
   "cell_type": "code",
   "execution_count": 139,
   "id": "exotic-horizon",
   "metadata": {
    "execution": {
     "iopub.execute_input": "2021-05-25T05:45:33.005600Z",
     "iopub.status.busy": "2021-05-25T05:45:33.003975Z",
     "iopub.status.idle": "2021-05-25T05:45:33.019573Z",
     "shell.execute_reply": "2021-05-25T05:45:33.018954Z",
     "shell.execute_reply.started": "2021-05-25T05:30:46.196672Z"
    },
    "papermill": {
     "duration": 0.111877,
     "end_time": "2021-05-25T05:45:33.019721",
     "exception": false,
     "start_time": "2021-05-25T05:45:32.907844",
     "status": "completed"
    },
    "tags": []
   },
   "outputs": [],
   "source": [
    "df4 = df4.drop(df4[df4['BHK'] > 5].index)\n",
    "df4 = df4.drop(df4[df4['bath'] > 5].index)\n",
    "df4 = df4.drop(df4[df4['total_sqft'] > 3250.0].index)\n",
    "df4 = df4.drop(df4[df4['price'] > 324.0].index)\n",
    "df4 = df4.drop(df4[df4['price_per_sqft'] > 15293.303348].index)"
   ]
  },
  {
   "cell_type": "code",
   "execution_count": 140,
   "id": "painful-excerpt",
   "metadata": {
    "execution": {
     "iopub.execute_input": "2021-05-25T05:45:33.230865Z",
     "iopub.status.busy": "2021-05-25T05:45:33.218908Z",
     "iopub.status.idle": "2021-05-25T05:45:33.356069Z",
     "shell.execute_reply": "2021-05-25T05:45:33.355543Z",
     "shell.execute_reply.started": "2021-05-25T05:30:52.795575Z"
    },
    "papermill": {
     "duration": 0.245117,
     "end_time": "2021-05-25T05:45:33.356220",
     "exception": false,
     "start_time": "2021-05-25T05:45:33.111103",
     "status": "completed"
    },
    "tags": []
   },
   "outputs": [
    {
     "data": {
      "text/plain": [
       "<AxesSubplot:xlabel='BHK'>"
      ]
     },
     "execution_count": 140,
     "metadata": {},
     "output_type": "execute_result"
    },
    {
     "data": {
      "image/png": "[encoded data removed]",
      "text/plain": [
       "<Figure size 1080x576 with 1 Axes>"
      ]
     },
     "metadata": {
      "needs_background": "light"
     },
     "output_type": "display_data"
    }
   ],
   "source": [
    "sns.boxplot('BHK', data = df4, orient = 'vertical')"
   ]
  },
  {
   "cell_type": "markdown",
   "id": "greatest-greek",
   "metadata": {
    "papermill": {
     "duration": 0.089803,
     "end_time": "2021-05-25T05:45:33.536521",
     "exception": false,
     "start_time": "2021-05-25T05:45:33.446718",
     "status": "completed"
    },
    "tags": []
   },
   "source": [
    "# Outlier Removal Using Real Estate Logic\n",
    "**Normally square ft per bedroom is 300 (i.e. 2 bhk apartment is minimum 600 sqft. If we have for example 400 sqft apartment with 2 bhk than that seems suspicious and can be removed as an outlier. We will remove such outliers by keeping our minimum threshold per bhk to be 300 sqft.**"
   ]
  },
  {
   "cell_type": "code",
   "execution_count": 141,
   "id": "appreciated-hopkins",
   "metadata": {
    "execution": {
     "iopub.execute_input": "2021-05-25T05:45:33.725032Z",
     "iopub.status.busy": "2021-05-25T05:45:33.724403Z",
     "iopub.status.idle": "2021-05-25T05:45:33.741676Z",
     "shell.execute_reply": "2021-05-25T05:45:33.741059Z",
     "shell.execute_reply.started": "2021-05-25T05:31:56.991729Z"
    },
    "papermill": {
     "duration": 0.115099,
     "end_time": "2021-05-25T05:45:33.741812",
     "exception": false,
     "start_time": "2021-05-25T05:45:33.626713",
     "status": "completed"
    },
    "tags": []
   },
   "outputs": [
    {
     "data": {
      "text/html": [
       "<div>\n",
       "<style scoped>\n",
       "    .dataframe tbody tr th:only-of-type {\n",
       "        vertical-align: middle;\n",
       "    }\n",
       "\n",
       "    .dataframe tbody tr th {\n",
       "        vertical-align: top;\n",
       "    }\n",
       "\n",
       "    .dataframe thead th {\n",
       "        text-align: right;\n",
       "    }\n",
       "</style>\n",
       "<table border=\"1\" class=\"dataframe\">\n",
       "  <thead>\n",
       "    <tr style=\"text-align: right;\">\n",
       "      <th></th>\n",
       "      <th>location</th>\n",
       "      <th>size</th>\n",
       "      <th>total_sqft</th>\n",
       "      <th>bath</th>\n",
       "      <th>price</th>\n",
       "      <th>area_type_numeric</th>\n",
       "      <th>BHK</th>\n",
       "      <th>price_per_sqft</th>\n",
       "    </tr>\n",
       "  </thead>\n",
       "  <tbody>\n",
       "    <tr>\n",
       "      <th>78</th>\n",
       "      <td>Kaval Byrasandra</td>\n",
       "      <td>2 BHK</td>\n",
       "      <td>460.0</td>\n",
       "      <td>1</td>\n",
       "      <td>22.0</td>\n",
       "      <td>2</td>\n",
       "      <td>2</td>\n",
       "      <td>4782.608696</td>\n",
       "    </tr>\n",
       "    <tr>\n",
       "      <th>119</th>\n",
       "      <td>Hennur Road</td>\n",
       "      <td>2 Bedroom</td>\n",
       "      <td>276.0</td>\n",
       "      <td>3</td>\n",
       "      <td>23.0</td>\n",
       "      <td>1</td>\n",
       "      <td>2</td>\n",
       "      <td>8333.333333</td>\n",
       "    </tr>\n",
       "    <tr>\n",
       "      <th>176</th>\n",
       "      <td>Kumaraswami Layout</td>\n",
       "      <td>5 Bedroom</td>\n",
       "      <td>600.0</td>\n",
       "      <td>3</td>\n",
       "      <td>85.0</td>\n",
       "      <td>1</td>\n",
       "      <td>5</td>\n",
       "      <td>14166.666667</td>\n",
       "    </tr>\n",
       "    <tr>\n",
       "      <th>258</th>\n",
       "      <td>other</td>\n",
       "      <td>5 Bedroom</td>\n",
       "      <td>1200.0</td>\n",
       "      <td>5</td>\n",
       "      <td>170.0</td>\n",
       "      <td>1</td>\n",
       "      <td>5</td>\n",
       "      <td>14166.666667</td>\n",
       "    </tr>\n",
       "    <tr>\n",
       "      <th>315</th>\n",
       "      <td>other</td>\n",
       "      <td>5 Bedroom</td>\n",
       "      <td>1200.0</td>\n",
       "      <td>5</td>\n",
       "      <td>180.0</td>\n",
       "      <td>1</td>\n",
       "      <td>5</td>\n",
       "      <td>15000.000000</td>\n",
       "    </tr>\n",
       "    <tr>\n",
       "      <th>409</th>\n",
       "      <td>Sultan Palaya</td>\n",
       "      <td>2 Bedroom</td>\n",
       "      <td>550.0</td>\n",
       "      <td>1</td>\n",
       "      <td>62.0</td>\n",
       "      <td>1</td>\n",
       "      <td>2</td>\n",
       "      <td>11272.727273</td>\n",
       "    </tr>\n",
       "    <tr>\n",
       "      <th>482</th>\n",
       "      <td>Kenchenahalli</td>\n",
       "      <td>5 Bedroom</td>\n",
       "      <td>500.0</td>\n",
       "      <td>3</td>\n",
       "      <td>65.0</td>\n",
       "      <td>1</td>\n",
       "      <td>5</td>\n",
       "      <td>13000.000000</td>\n",
       "    </tr>\n",
       "    <tr>\n",
       "      <th>491</th>\n",
       "      <td>Banjara Layout</td>\n",
       "      <td>3 Bedroom</td>\n",
       "      <td>600.0</td>\n",
       "      <td>3</td>\n",
       "      <td>58.0</td>\n",
       "      <td>1</td>\n",
       "      <td>3</td>\n",
       "      <td>9666.666667</td>\n",
       "    </tr>\n",
       "    <tr>\n",
       "      <th>513</th>\n",
       "      <td>8th Phase JP Nagar</td>\n",
       "      <td>4 Bedroom</td>\n",
       "      <td>660.0</td>\n",
       "      <td>4</td>\n",
       "      <td>90.0</td>\n",
       "      <td>1</td>\n",
       "      <td>4</td>\n",
       "      <td>13636.363636</td>\n",
       "    </tr>\n",
       "    <tr>\n",
       "      <th>679</th>\n",
       "      <td>other</td>\n",
       "      <td>5 Bedroom</td>\n",
       "      <td>1200.0</td>\n",
       "      <td>5</td>\n",
       "      <td>100.0</td>\n",
       "      <td>1</td>\n",
       "      <td>5</td>\n",
       "      <td>8333.333333</td>\n",
       "    </tr>\n",
       "  </tbody>\n",
       "</table>\n",
       "</div>"
      ],
      "text/plain": [
       "               location       size  total_sqft  bath  price  \\\n",
       "78     Kaval Byrasandra      2 BHK       460.0     1   22.0   \n",
       "119         Hennur Road  2 Bedroom       276.0     3   23.0   \n",
       "176  Kumaraswami Layout  5 Bedroom       600.0     3   85.0   \n",
       "258               other  5 Bedroom      1200.0     5  170.0   \n",
       "315               other  5 Bedroom      1200.0     5  180.0   \n",
       "409       Sultan Palaya  2 Bedroom       550.0     1   62.0   \n",
       "482       Kenchenahalli  5 Bedroom       500.0     3   65.0   \n",
       "491      Banjara Layout  3 Bedroom       600.0     3   58.0   \n",
       "513  8th Phase JP Nagar  4 Bedroom       660.0     4   90.0   \n",
       "679               other  5 Bedroom      1200.0     5  100.0   \n",
       "\n",
       "     area_type_numeric  BHK  price_per_sqft  \n",
       "78                   2    2     4782.608696  \n",
       "119                  1    2     8333.333333  \n",
       "176                  1    5    14166.666667  \n",
       "258                  1    5    14166.666667  \n",
       "315                  1    5    15000.000000  \n",
       "409                  1    2    11272.727273  \n",
       "482                  1    5    13000.000000  \n",
       "491                  1    3     9666.666667  \n",
       "513                  1    4    13636.363636  \n",
       "679                  1    5     8333.333333  "
      ]
     },
     "execution_count": 141,
     "metadata": {},
     "output_type": "execute_result"
    }
   ],
   "source": [
    "df4[df4.total_sqft/df4.BHK<300].head(10)"
   ]
  },
  {
   "cell_type": "code",
   "execution_count": 142,
   "id": "painful-raising",
   "metadata": {
    "execution": {
     "iopub.execute_input": "2021-05-25T05:45:33.931322Z",
     "iopub.status.busy": "2021-05-25T05:45:33.930711Z",
     "iopub.status.idle": "2021-05-25T05:45:33.935379Z",
     "shell.execute_reply": "2021-05-25T05:45:33.934769Z",
     "shell.execute_reply.started": "2021-05-25T05:32:11.330006Z"
    },
    "papermill": {
     "duration": 0.101428,
     "end_time": "2021-05-25T05:45:33.935513",
     "exception": false,
     "start_time": "2021-05-25T05:45:33.834085",
     "status": "completed"
    },
    "tags": []
   },
   "outputs": [],
   "source": [
    "df5 = df4[~(df4.total_sqft/df4.BHK<300)]"
   ]
  },
  {
   "cell_type": "code",
   "execution_count": 143,
   "id": "oriental-seafood",
   "metadata": {
    "execution": {
     "iopub.execute_input": "2021-05-25T05:45:34.125138Z",
     "iopub.status.busy": "2021-05-25T05:45:34.124507Z",
     "iopub.status.idle": "2021-05-25T05:45:34.133538Z",
     "shell.execute_reply": "2021-05-25T05:45:34.133977Z",
     "shell.execute_reply.started": "2021-05-25T05:32:21.593367Z"
    },
    "papermill": {
     "duration": 0.105905,
     "end_time": "2021-05-25T05:45:34.134153",
     "exception": false,
     "start_time": "2021-05-25T05:45:34.028248",
     "status": "completed"
    },
    "tags": []
   },
   "outputs": [
    {
     "data": {
      "text/plain": [
       "count    11303.000000\n",
       "mean      5576.658994\n",
       "std       2114.608104\n",
       "min        500.000000\n",
       "25%       4135.179721\n",
       "50%       5133.047210\n",
       "75%       6491.605694\n",
       "max      15090.909091\n",
       "Name: price_per_sqft, dtype: float64"
      ]
     },
     "execution_count": 143,
     "metadata": {},
     "output_type": "execute_result"
    }
   ],
   "source": [
    "df5['price_per_sqft'].describe()"
   ]
  },
  {
   "cell_type": "markdown",
   "id": "miniature-graphics",
   "metadata": {
    "papermill": {
     "duration": 0.092856,
     "end_time": "2021-05-25T05:45:34.320398",
     "exception": false,
     "start_time": "2021-05-25T05:45:34.227542",
     "status": "completed"
    },
    "tags": []
   },
   "source": [
    "# Outlier Removal Using Standard Deviation and Mean"
   ]
  },
  {
   "cell_type": "code",
   "execution_count": 144,
   "id": "excessive-staff",
   "metadata": {
    "execution": {
     "iopub.execute_input": "2021-05-25T05:45:34.511866Z",
     "iopub.status.busy": "2021-05-25T05:45:34.510908Z",
     "iopub.status.idle": "2021-05-25T05:45:35.332978Z",
     "shell.execute_reply": "2021-05-25T05:45:35.332427Z",
     "shell.execute_reply.started": "2021-05-25T05:32:50.363146Z"
    },
    "papermill": {
     "duration": 0.919859,
     "end_time": "2021-05-25T05:45:35.333115",
     "exception": false,
     "start_time": "2021-05-25T05:45:34.413256",
     "status": "completed"
    },
    "tags": []
   },
   "outputs": [
    {
     "data": {
      "text/plain": [
       "(8413, 8)"
      ]
     },
     "execution_count": 144,
     "metadata": {},
     "output_type": "execute_result"
    }
   ],
   "source": [
    "def remove_pps_outliers(df):\n",
    "    df_out = pd.DataFrame()\n",
    "    for key , subdf in df.groupby('location'):\n",
    "        m = np.mean(subdf.price_per_sqft)\n",
    "        st = np.std(subdf.price_per_sqft)\n",
    "        reduced_df = subdf[(subdf.price_per_sqft>(m-st)) & (subdf.price_per_sqft<(m+st))]\n",
    "        df_out = pd.concat([df_out , reduced_df] , ignore_index = True)\n",
    "    return df_out\n",
    "\n",
    "df6 = remove_pps_outliers(df5)\n",
    "df6.shape"
   ]
  },
  {
   "cell_type": "code",
   "execution_count": 145,
   "id": "hollow-copyright",
   "metadata": {
    "execution": {
     "iopub.execute_input": "2021-05-25T05:45:35.530624Z",
     "iopub.status.busy": "2021-05-25T05:45:35.529750Z",
     "iopub.status.idle": "2021-05-25T05:45:35.533345Z",
     "shell.execute_reply": "2021-05-25T05:45:35.533923Z",
     "shell.execute_reply.started": "2021-05-25T05:32:57.309683Z"
    },
    "papermill": {
     "duration": 0.108806,
     "end_time": "2021-05-25T05:45:35.534120",
     "exception": false,
     "start_time": "2021-05-25T05:45:35.425314",
     "status": "completed"
    },
    "tags": []
   },
   "outputs": [
    {
     "data": {
      "text/plain": [
       "(11342, 8)"
      ]
     },
     "execution_count": 145,
     "metadata": {},
     "output_type": "execute_result"
    }
   ],
   "source": [
    "df5.shape"
   ]
  },
  {
   "cell_type": "code",
   "execution_count": 146,
   "id": "neither-particular",
   "metadata": {
    "execution": {
     "iopub.execute_input": "2021-05-25T05:45:35.739520Z",
     "iopub.status.busy": "2021-05-25T05:45:35.738554Z",
     "iopub.status.idle": "2021-05-25T05:45:35.981451Z",
     "shell.execute_reply": "2021-05-25T05:45:35.980877Z",
     "shell.execute_reply.started": "2021-05-25T05:33:06.811459Z"
    },
    "papermill": {
     "duration": 0.338656,
     "end_time": "2021-05-25T05:45:35.981587",
     "exception": false,
     "start_time": "2021-05-25T05:45:35.642931",
     "status": "completed"
    },
    "tags": []
   },
   "outputs": [
    {
     "data": {
      "image/png": "[encoded data removed]",
      "text/plain": [
       "<Figure size 1080x720 with 1 Axes>"
      ]
     },
     "metadata": {
      "needs_background": "light"
     },
     "output_type": "display_data"
    }
   ],
   "source": [
    "def plot_scatter_chart(df , location):\n",
    "    bhk2 = df[(df.location == location) & (df.BHK==2)]\n",
    "    bhk3 = df[(df.location == location) & (df.BHK==3)]\n",
    "    matplotlib.rcParams['figure.figsize'] = (15 , 10)\n",
    "    plt.scatter(bhk2.total_sqft , bhk2.price , color = 'blue' , label = '2 BHK' , s = 50)\n",
    "    plt.scatter(bhk3.total_sqft , bhk3.price , marker = '+' , color = 'green' , label = '3 BHK' , s = 50)\n",
    "    plt.xlabel('Total Square feet Area')\n",
    "    plt.ylabel('Price(Lakhs Indian Rupees)')\n",
    "    plt.title(location)\n",
    "    plt.legend()\n",
    "\n",
    "plot_scatter_chart(df6 , 'Hebbal')  "
   ]
  },
  {
   "cell_type": "code",
   "execution_count": 147,
   "id": "therapeutic-crash",
   "metadata": {
    "execution": {
     "iopub.execute_input": "2021-05-25T05:45:36.181018Z",
     "iopub.status.busy": "2021-05-25T05:45:36.180359Z",
     "iopub.status.idle": "2021-05-25T05:45:36.911699Z",
     "shell.execute_reply": "2021-05-25T05:45:36.911180Z",
     "shell.execute_reply.started": "2021-05-25T05:33:14.677015Z"
    },
    "papermill": {
     "duration": 0.835498,
     "end_time": "2021-05-25T05:45:36.911840",
     "exception": false,
     "start_time": "2021-05-25T05:45:36.076342",
     "status": "completed"
    },
    "tags": []
   },
   "outputs": [
    {
     "data": {
      "text/plain": [
       "(6088, 8)"
      ]
     },
     "execution_count": 147,
     "metadata": {},
     "output_type": "execute_result"
    }
   ],
   "source": [
    "def remove_bhk_outliers(df):\n",
    "    exclude_indices = np.array([])\n",
    "    for location , location_df in df.groupby('location'):\n",
    "        bhk_stats = {}\n",
    "        for bhk , bhk_df in location_df.groupby('BHK'):\n",
    "            bhk_stats[bhk] = {\n",
    "                'mean' : np.mean(bhk_df.price_per_sqft),\n",
    "                'std' : np.std(bhk_df.price_per_sqft),\n",
    "                'count' : bhk_df.shape[0]\n",
    "            }\n",
    "        for bhk , bhk_df in location_df.groupby('BHK'):\n",
    "            stats = bhk_stats.get(bhk-1)\n",
    "            if stats and stats['count']>5:\n",
    "                exclude_indices = np.append(exclude_indices , bhk_df[bhk_df.price_per_sqft<(stats['mean'])].index.values)\n",
    "                \n",
    "    return df.drop(exclude_indices , axis = 'index')   \n",
    "\n",
    "df7 = remove_bhk_outliers(df6)\n",
    "df7.shape"
   ]
  },
  {
   "cell_type": "code",
   "execution_count": 148,
   "id": "incident-express",
   "metadata": {
    "execution": {
     "iopub.execute_input": "2021-05-25T05:45:37.125132Z",
     "iopub.status.busy": "2021-05-25T05:45:37.108753Z",
     "iopub.status.idle": "2021-05-25T05:45:37.333195Z",
     "shell.execute_reply": "2021-05-25T05:45:37.332577Z",
     "shell.execute_reply.started": "2021-05-25T05:33:22.673280Z"
    },
    "papermill": {
     "duration": 0.326748,
     "end_time": "2021-05-25T05:45:37.333352",
     "exception": false,
     "start_time": "2021-05-25T05:45:37.006604",
     "status": "completed"
    },
    "tags": []
   },
   "outputs": [
    {
     "data": {
      "image/png": "[encoded data removed]",
      "text/plain": [
       "<Figure size 1080x720 with 1 Axes>"
      ]
     },
     "metadata": {
      "needs_background": "light"
     },
     "output_type": "display_data"
    }
   ],
   "source": [
    "plot_scatter_chart(df7 , 'Hebbal')"
   ]
  },
  {
   "cell_type": "code",
   "execution_count": 149,
   "id": "wrong-portland",
   "metadata": {
    "execution": {
     "iopub.execute_input": "2021-05-25T05:45:37.553823Z",
     "iopub.status.busy": "2021-05-25T05:45:37.552319Z",
     "iopub.status.idle": "2021-05-25T05:45:37.700794Z",
     "shell.execute_reply": "2021-05-25T05:45:37.701240Z",
     "shell.execute_reply.started": "2021-05-25T05:33:31.326617Z"
    },
    "papermill": {
     "duration": 0.271878,
     "end_time": "2021-05-25T05:45:37.701427",
     "exception": false,
     "start_time": "2021-05-25T05:45:37.429549",
     "status": "completed"
    },
    "tags": []
   },
   "outputs": [
    {
     "data": {
      "text/plain": [
       "Text(0, 0.5, 'Count')"
      ]
     },
     "execution_count": 149,
     "metadata": {},
     "output_type": "execute_result"
    },
    {
     "data": {
      "image/png": "[encoded data removed]",
      "text/plain": [
       "<Figure size 1080x720 with 1 Axes>"
      ]
     },
     "metadata": {
      "needs_background": "light"
     },
     "output_type": "display_data"
    }
   ],
   "source": [
    "plt.hist(df7.price_per_sqft , rwidth = 0.8)\n",
    "plt.xlabel('Price per square feet')\n",
    "plt.ylabel('Count')"
   ]
  },
  {
   "cell_type": "code",
   "execution_count": 150,
   "id": "statistical-kennedy",
   "metadata": {
    "execution": {
     "iopub.execute_input": "2021-05-25T05:45:37.904205Z",
     "iopub.status.busy": "2021-05-25T05:45:37.903259Z",
     "iopub.status.idle": "2021-05-25T05:45:37.907740Z",
     "shell.execute_reply": "2021-05-25T05:45:37.907217Z",
     "shell.execute_reply.started": "2021-05-25T05:33:39.118576Z"
    },
    "papermill": {
     "duration": 0.108413,
     "end_time": "2021-05-25T05:45:37.907887",
     "exception": false,
     "start_time": "2021-05-25T05:45:37.799474",
     "status": "completed"
    },
    "tags": []
   },
   "outputs": [
    {
     "data": {
      "text/plain": [
       "array([3, 2, 4, 5, 1], dtype=int64)"
      ]
     },
     "execution_count": 150,
     "metadata": {},
     "output_type": "execute_result"
    }
   ],
   "source": [
    "df7.bath.unique()"
   ]
  },
  {
   "cell_type": "code",
   "execution_count": 151,
   "id": "later-reform",
   "metadata": {
    "execution": {
     "iopub.execute_input": "2021-05-25T05:45:38.111307Z",
     "iopub.status.busy": "2021-05-25T05:45:38.110650Z",
     "iopub.status.idle": "2021-05-25T05:45:38.302992Z",
     "shell.execute_reply": "2021-05-25T05:45:38.302326Z",
     "shell.execute_reply.started": "2021-05-25T05:34:08.820360Z"
    },
    "papermill": {
     "duration": 0.296555,
     "end_time": "2021-05-25T05:45:38.303149",
     "exception": false,
     "start_time": "2021-05-25T05:45:38.006594",
     "status": "completed"
    },
    "tags": []
   },
   "outputs": [
    {
     "data": {
      "text/plain": [
       "Text(0, 0.5, 'Count')"
      ]
     },
     "execution_count": 151,
     "metadata": {},
     "output_type": "execute_result"
    },
    {
     "data": {
      "image/png": "[encoded data removed]",
      "text/plain": [
       "<Figure size 1080x720 with 1 Axes>"
      ]
     },
     "metadata": {
      "needs_background": "light"
     },
     "output_type": "display_data"
    }
   ],
   "source": [
    "plt.hist(df7.bath , rwidth = 0.8)\n",
    "plt.xlabel('number of bathrooms')\n",
    "plt.ylabel('Count')"
   ]
  },
  {
   "cell_type": "code",
   "execution_count": 152,
   "id": "martial-alias",
   "metadata": {
    "execution": {
     "iopub.execute_input": "2021-05-25T05:45:38.506238Z",
     "iopub.status.busy": "2021-05-25T05:45:38.504759Z",
     "iopub.status.idle": "2021-05-25T05:45:38.509682Z",
     "shell.execute_reply": "2021-05-25T05:45:38.510185Z",
     "shell.execute_reply.started": "2021-05-25T05:34:24.146899Z"
    },
    "papermill": {
     "duration": 0.108534,
     "end_time": "2021-05-25T05:45:38.510361",
     "exception": false,
     "start_time": "2021-05-25T05:45:38.401827",
     "status": "completed"
    },
    "tags": []
   },
   "outputs": [
    {
     "data": {
      "text/plain": [
       "(6077, 8)"
      ]
     },
     "execution_count": 152,
     "metadata": {},
     "output_type": "execute_result"
    }
   ],
   "source": [
    "df8 = df7[(df7.bath<df7.BHK+2)]\n",
    "df8.shape"
   ]
  },
  {
   "cell_type": "code",
   "execution_count": 153,
   "id": "blond-mason",
   "metadata": {
    "execution": {
     "iopub.execute_input": "2021-05-25T05:45:38.710712Z",
     "iopub.status.busy": "2021-05-25T05:45:38.709777Z",
     "iopub.status.idle": "2021-05-25T05:45:38.724409Z",
     "shell.execute_reply": "2021-05-25T05:45:38.723897Z",
     "shell.execute_reply.started": "2021-05-25T05:34:31.411453Z"
    },
    "papermill": {
     "duration": 0.116165,
     "end_time": "2021-05-25T05:45:38.724556",
     "exception": false,
     "start_time": "2021-05-25T05:45:38.608391",
     "status": "completed"
    },
    "tags": []
   },
   "outputs": [
    {
     "data": {
      "text/html": [
       "<div>\n",
       "<style scoped>\n",
       "    .dataframe tbody tr th:only-of-type {\n",
       "        vertical-align: middle;\n",
       "    }\n",
       "\n",
       "    .dataframe tbody tr th {\n",
       "        vertical-align: top;\n",
       "    }\n",
       "\n",
       "    .dataframe thead th {\n",
       "        text-align: right;\n",
       "    }\n",
       "</style>\n",
       "<table border=\"1\" class=\"dataframe\">\n",
       "  <thead>\n",
       "    <tr style=\"text-align: right;\">\n",
       "      <th></th>\n",
       "      <th>location</th>\n",
       "      <th>total_sqft</th>\n",
       "      <th>bath</th>\n",
       "      <th>price</th>\n",
       "      <th>BHK</th>\n",
       "    </tr>\n",
       "  </thead>\n",
       "  <tbody>\n",
       "    <tr>\n",
       "      <th>0</th>\n",
       "      <td>1st Block Jayanagar</td>\n",
       "      <td>1630.0</td>\n",
       "      <td>3</td>\n",
       "      <td>194.0</td>\n",
       "      <td>3</td>\n",
       "    </tr>\n",
       "    <tr>\n",
       "      <th>1</th>\n",
       "      <td>1st Block Jayanagar</td>\n",
       "      <td>1875.0</td>\n",
       "      <td>2</td>\n",
       "      <td>235.0</td>\n",
       "      <td>3</td>\n",
       "    </tr>\n",
       "    <tr>\n",
       "      <th>2</th>\n",
       "      <td>1st Block Jayanagar</td>\n",
       "      <td>1200.0</td>\n",
       "      <td>2</td>\n",
       "      <td>130.0</td>\n",
       "      <td>3</td>\n",
       "    </tr>\n",
       "    <tr>\n",
       "      <th>3</th>\n",
       "      <td>1st Block Jayanagar</td>\n",
       "      <td>1235.0</td>\n",
       "      <td>2</td>\n",
       "      <td>148.0</td>\n",
       "      <td>2</td>\n",
       "    </tr>\n",
       "    <tr>\n",
       "      <th>4</th>\n",
       "      <td>1st Phase JP Nagar</td>\n",
       "      <td>2825.0</td>\n",
       "      <td>4</td>\n",
       "      <td>250.0</td>\n",
       "      <td>4</td>\n",
       "    </tr>\n",
       "  </tbody>\n",
       "</table>\n",
       "</div>"
      ],
      "text/plain": [
       "              location  total_sqft  bath  price  BHK\n",
       "0  1st Block Jayanagar      1630.0     3  194.0    3\n",
       "1  1st Block Jayanagar      1875.0     2  235.0    3\n",
       "2  1st Block Jayanagar      1200.0     2  130.0    3\n",
       "3  1st Block Jayanagar      1235.0     2  148.0    2\n",
       "4   1st Phase JP Nagar      2825.0     4  250.0    4"
      ]
     },
     "execution_count": 153,
     "metadata": {},
     "output_type": "execute_result"
    }
   ],
   "source": [
    "df9 = df8.drop(['size' , 'price_per_sqft', 'area_type_numeric'] , axis = 'columns')\n",
    "df9.head()"
   ]
  },
  {
   "cell_type": "markdown",
   "id": "temporal-rogers",
   "metadata": {
    "papermill": {
     "duration": 0.098319,
     "end_time": "2021-05-25T05:45:38.921786",
     "exception": false,
     "start_time": "2021-05-25T05:45:38.823467",
     "status": "completed"
    },
    "tags": []
   },
   "source": [
    "# Using One Hot Encoding For Location"
   ]
  },
  {
   "cell_type": "code",
   "execution_count": 154,
   "id": "direct-circle",
   "metadata": {
    "execution": {
     "iopub.execute_input": "2021-05-25T05:45:39.125480Z",
     "iopub.status.busy": "2021-05-25T05:45:39.124861Z",
     "iopub.status.idle": "2021-05-25T05:45:39.143574Z",
     "shell.execute_reply": "2021-05-25T05:45:39.144068Z",
     "shell.execute_reply.started": "2021-05-25T05:34:53.651654Z"
    },
    "papermill": {
     "duration": 0.123653,
     "end_time": "2021-05-25T05:45:39.144240",
     "exception": false,
     "start_time": "2021-05-25T05:45:39.020587",
     "status": "completed"
    },
    "tags": []
   },
   "outputs": [
    {
     "data": {
      "text/html": [
       "<div>\n",
       "<style scoped>\n",
       "    .dataframe tbody tr th:only-of-type {\n",
       "        vertical-align: middle;\n",
       "    }\n",
       "\n",
       "    .dataframe tbody tr th {\n",
       "        vertical-align: top;\n",
       "    }\n",
       "\n",
       "    .dataframe thead th {\n",
       "        text-align: right;\n",
       "    }\n",
       "</style>\n",
       "<table border=\"1\" class=\"dataframe\">\n",
       "  <thead>\n",
       "    <tr style=\"text-align: right;\">\n",
       "      <th></th>\n",
       "      <th>1st Block Jayanagar</th>\n",
       "      <th>1st Phase JP Nagar</th>\n",
       "      <th>2nd Phase Judicial Layout</th>\n",
       "      <th>2nd Stage Nagarbhavi</th>\n",
       "      <th>5th Block Hbr Layout</th>\n",
       "      <th>5th Phase JP Nagar</th>\n",
       "      <th>6th Phase JP Nagar</th>\n",
       "      <th>7th Phase JP Nagar</th>\n",
       "      <th>8th Phase JP Nagar</th>\n",
       "      <th>9th Phase JP Nagar</th>\n",
       "      <th>...</th>\n",
       "      <th>Vishveshwarya Layout</th>\n",
       "      <th>Vishwapriya Layout</th>\n",
       "      <th>Vittasandra</th>\n",
       "      <th>Whitefield</th>\n",
       "      <th>Yelachenahalli</th>\n",
       "      <th>Yelahanka</th>\n",
       "      <th>Yelahanka New Town</th>\n",
       "      <th>Yelenahalli</th>\n",
       "      <th>Yeshwanthpur</th>\n",
       "      <th>other</th>\n",
       "    </tr>\n",
       "  </thead>\n",
       "  <tbody>\n",
       "    <tr>\n",
       "      <th>0</th>\n",
       "      <td>1</td>\n",
       "      <td>0</td>\n",
       "      <td>0</td>\n",
       "      <td>0</td>\n",
       "      <td>0</td>\n",
       "      <td>0</td>\n",
       "      <td>0</td>\n",
       "      <td>0</td>\n",
       "      <td>0</td>\n",
       "      <td>0</td>\n",
       "      <td>...</td>\n",
       "      <td>0</td>\n",
       "      <td>0</td>\n",
       "      <td>0</td>\n",
       "      <td>0</td>\n",
       "      <td>0</td>\n",
       "      <td>0</td>\n",
       "      <td>0</td>\n",
       "      <td>0</td>\n",
       "      <td>0</td>\n",
       "      <td>0</td>\n",
       "    </tr>\n",
       "    <tr>\n",
       "      <th>1</th>\n",
       "      <td>1</td>\n",
       "      <td>0</td>\n",
       "      <td>0</td>\n",
       "      <td>0</td>\n",
       "      <td>0</td>\n",
       "      <td>0</td>\n",
       "      <td>0</td>\n",
       "      <td>0</td>\n",
       "      <td>0</td>\n",
       "      <td>0</td>\n",
       "      <td>...</td>\n",
       "      <td>0</td>\n",
       "      <td>0</td>\n",
       "      <td>0</td>\n",
       "      <td>0</td>\n",
       "      <td>0</td>\n",
       "      <td>0</td>\n",
       "      <td>0</td>\n",
       "      <td>0</td>\n",
       "      <td>0</td>\n",
       "      <td>0</td>\n",
       "    </tr>\n",
       "    <tr>\n",
       "      <th>2</th>\n",
       "      <td>1</td>\n",
       "      <td>0</td>\n",
       "      <td>0</td>\n",
       "      <td>0</td>\n",
       "      <td>0</td>\n",
       "      <td>0</td>\n",
       "      <td>0</td>\n",
       "      <td>0</td>\n",
       "      <td>0</td>\n",
       "      <td>0</td>\n",
       "      <td>...</td>\n",
       "      <td>0</td>\n",
       "      <td>0</td>\n",
       "      <td>0</td>\n",
       "      <td>0</td>\n",
       "      <td>0</td>\n",
       "      <td>0</td>\n",
       "      <td>0</td>\n",
       "      <td>0</td>\n",
       "      <td>0</td>\n",
       "      <td>0</td>\n",
       "    </tr>\n",
       "    <tr>\n",
       "      <th>3</th>\n",
       "      <td>1</td>\n",
       "      <td>0</td>\n",
       "      <td>0</td>\n",
       "      <td>0</td>\n",
       "      <td>0</td>\n",
       "      <td>0</td>\n",
       "      <td>0</td>\n",
       "      <td>0</td>\n",
       "      <td>0</td>\n",
       "      <td>0</td>\n",
       "      <td>...</td>\n",
       "      <td>0</td>\n",
       "      <td>0</td>\n",
       "      <td>0</td>\n",
       "      <td>0</td>\n",
       "      <td>0</td>\n",
       "      <td>0</td>\n",
       "      <td>0</td>\n",
       "      <td>0</td>\n",
       "      <td>0</td>\n",
       "      <td>0</td>\n",
       "    </tr>\n",
       "    <tr>\n",
       "      <th>4</th>\n",
       "      <td>0</td>\n",
       "      <td>1</td>\n",
       "      <td>0</td>\n",
       "      <td>0</td>\n",
       "      <td>0</td>\n",
       "      <td>0</td>\n",
       "      <td>0</td>\n",
       "      <td>0</td>\n",
       "      <td>0</td>\n",
       "      <td>0</td>\n",
       "      <td>...</td>\n",
       "      <td>0</td>\n",
       "      <td>0</td>\n",
       "      <td>0</td>\n",
       "      <td>0</td>\n",
       "      <td>0</td>\n",
       "      <td>0</td>\n",
       "      <td>0</td>\n",
       "      <td>0</td>\n",
       "      <td>0</td>\n",
       "      <td>0</td>\n",
       "    </tr>\n",
       "  </tbody>\n",
       "</table>\n",
       "<p>5 rows × 241 columns</p>\n",
       "</div>"
      ],
      "text/plain": [
       "   1st Block Jayanagar  1st Phase JP Nagar  2nd Phase Judicial Layout  \\\n",
       "0                    1                   0                          0   \n",
       "1                    1                   0                          0   \n",
       "2                    1                   0                          0   \n",
       "3                    1                   0                          0   \n",
       "4                    0                   1                          0   \n",
       "\n",
       "   2nd Stage Nagarbhavi  5th Block Hbr Layout  5th Phase JP Nagar  \\\n",
       "0                     0                     0                   0   \n",
       "1                     0                     0                   0   \n",
       "2                     0                     0                   0   \n",
       "3                     0                     0                   0   \n",
       "4                     0                     0                   0   \n",
       "\n",
       "   6th Phase JP Nagar  7th Phase JP Nagar  8th Phase JP Nagar  \\\n",
       "0                   0                   0                   0   \n",
       "1                   0                   0                   0   \n",
       "2                   0                   0                   0   \n",
       "3                   0                   0                   0   \n",
       "4                   0                   0                   0   \n",
       "\n",
       "   9th Phase JP Nagar  ...  Vishveshwarya Layout  Vishwapriya Layout  \\\n",
       "0                   0  ...                     0                   0   \n",
       "1                   0  ...                     0                   0   \n",
       "2                   0  ...                     0                   0   \n",
       "3                   0  ...                     0                   0   \n",
       "4                   0  ...                     0                   0   \n",
       "\n",
       "   Vittasandra  Whitefield  Yelachenahalli  Yelahanka  Yelahanka New Town  \\\n",
       "0            0           0               0          0                   0   \n",
       "1            0           0               0          0                   0   \n",
       "2            0           0               0          0                   0   \n",
       "3            0           0               0          0                   0   \n",
       "4            0           0               0          0                   0   \n",
       "\n",
       "   Yelenahalli  Yeshwanthpur  other  \n",
       "0            0             0      0  \n",
       "1            0             0      0  \n",
       "2            0             0      0  \n",
       "3            0             0      0  \n",
       "4            0             0      0  \n",
       "\n",
       "[5 rows x 241 columns]"
      ]
     },
     "execution_count": 154,
     "metadata": {},
     "output_type": "execute_result"
    }
   ],
   "source": [
    "dummies = pd.get_dummies(df9.location)\n",
    "dummies.head()"
   ]
  },
  {
   "cell_type": "code",
   "execution_count": 155,
   "id": "strategic-reducing",
   "metadata": {
    "execution": {
     "iopub.execute_input": "2021-05-25T05:45:39.346430Z",
     "iopub.status.busy": "2021-05-25T05:45:39.345798Z",
     "iopub.status.idle": "2021-05-25T05:45:39.379359Z",
     "shell.execute_reply": "2021-05-25T05:45:39.379839Z",
     "shell.execute_reply.started": "2021-05-25T05:35:00.154511Z"
    },
    "papermill": {
     "duration": 0.136258,
     "end_time": "2021-05-25T05:45:39.380007",
     "exception": false,
     "start_time": "2021-05-25T05:45:39.243749",
     "status": "completed"
    },
    "tags": []
   },
   "outputs": [
    {
     "data": {
      "text/html": [
       "<div>\n",
       "<style scoped>\n",
       "    .dataframe tbody tr th:only-of-type {\n",
       "        vertical-align: middle;\n",
       "    }\n",
       "\n",
       "    .dataframe tbody tr th {\n",
       "        vertical-align: top;\n",
       "    }\n",
       "\n",
       "    .dataframe thead th {\n",
       "        text-align: right;\n",
       "    }\n",
       "</style>\n",
       "<table border=\"1\" class=\"dataframe\">\n",
       "  <thead>\n",
       "    <tr style=\"text-align: right;\">\n",
       "      <th></th>\n",
       "      <th>location</th>\n",
       "      <th>total_sqft</th>\n",
       "      <th>bath</th>\n",
       "      <th>price</th>\n",
       "      <th>BHK</th>\n",
       "      <th>1st Block Jayanagar</th>\n",
       "      <th>1st Phase JP Nagar</th>\n",
       "      <th>2nd Phase Judicial Layout</th>\n",
       "      <th>2nd Stage Nagarbhavi</th>\n",
       "      <th>5th Block Hbr Layout</th>\n",
       "      <th>...</th>\n",
       "      <th>Vijayanagar</th>\n",
       "      <th>Vishveshwarya Layout</th>\n",
       "      <th>Vishwapriya Layout</th>\n",
       "      <th>Vittasandra</th>\n",
       "      <th>Whitefield</th>\n",
       "      <th>Yelachenahalli</th>\n",
       "      <th>Yelahanka</th>\n",
       "      <th>Yelahanka New Town</th>\n",
       "      <th>Yelenahalli</th>\n",
       "      <th>Yeshwanthpur</th>\n",
       "    </tr>\n",
       "  </thead>\n",
       "  <tbody>\n",
       "    <tr>\n",
       "      <th>0</th>\n",
       "      <td>1st Block Jayanagar</td>\n",
       "      <td>1630.0</td>\n",
       "      <td>3</td>\n",
       "      <td>194.0</td>\n",
       "      <td>3</td>\n",
       "      <td>1</td>\n",
       "      <td>0</td>\n",
       "      <td>0</td>\n",
       "      <td>0</td>\n",
       "      <td>0</td>\n",
       "      <td>...</td>\n",
       "      <td>0</td>\n",
       "      <td>0</td>\n",
       "      <td>0</td>\n",
       "      <td>0</td>\n",
       "      <td>0</td>\n",
       "      <td>0</td>\n",
       "      <td>0</td>\n",
       "      <td>0</td>\n",
       "      <td>0</td>\n",
       "      <td>0</td>\n",
       "    </tr>\n",
       "    <tr>\n",
       "      <th>1</th>\n",
       "      <td>1st Block Jayanagar</td>\n",
       "      <td>1875.0</td>\n",
       "      <td>2</td>\n",
       "      <td>235.0</td>\n",
       "      <td>3</td>\n",
       "      <td>1</td>\n",
       "      <td>0</td>\n",
       "      <td>0</td>\n",
       "      <td>0</td>\n",
       "      <td>0</td>\n",
       "      <td>...</td>\n",
       "      <td>0</td>\n",
       "      <td>0</td>\n",
       "      <td>0</td>\n",
       "      <td>0</td>\n",
       "      <td>0</td>\n",
       "      <td>0</td>\n",
       "      <td>0</td>\n",
       "      <td>0</td>\n",
       "      <td>0</td>\n",
       "      <td>0</td>\n",
       "    </tr>\n",
       "    <tr>\n",
       "      <th>2</th>\n",
       "      <td>1st Block Jayanagar</td>\n",
       "      <td>1200.0</td>\n",
       "      <td>2</td>\n",
       "      <td>130.0</td>\n",
       "      <td>3</td>\n",
       "      <td>1</td>\n",
       "      <td>0</td>\n",
       "      <td>0</td>\n",
       "      <td>0</td>\n",
       "      <td>0</td>\n",
       "      <td>...</td>\n",
       "      <td>0</td>\n",
       "      <td>0</td>\n",
       "      <td>0</td>\n",
       "      <td>0</td>\n",
       "      <td>0</td>\n",
       "      <td>0</td>\n",
       "      <td>0</td>\n",
       "      <td>0</td>\n",
       "      <td>0</td>\n",
       "      <td>0</td>\n",
       "    </tr>\n",
       "    <tr>\n",
       "      <th>3</th>\n",
       "      <td>1st Block Jayanagar</td>\n",
       "      <td>1235.0</td>\n",
       "      <td>2</td>\n",
       "      <td>148.0</td>\n",
       "      <td>2</td>\n",
       "      <td>1</td>\n",
       "      <td>0</td>\n",
       "      <td>0</td>\n",
       "      <td>0</td>\n",
       "      <td>0</td>\n",
       "      <td>...</td>\n",
       "      <td>0</td>\n",
       "      <td>0</td>\n",
       "      <td>0</td>\n",
       "      <td>0</td>\n",
       "      <td>0</td>\n",
       "      <td>0</td>\n",
       "      <td>0</td>\n",
       "      <td>0</td>\n",
       "      <td>0</td>\n",
       "      <td>0</td>\n",
       "    </tr>\n",
       "    <tr>\n",
       "      <th>4</th>\n",
       "      <td>1st Phase JP Nagar</td>\n",
       "      <td>2825.0</td>\n",
       "      <td>4</td>\n",
       "      <td>250.0</td>\n",
       "      <td>4</td>\n",
       "      <td>0</td>\n",
       "      <td>1</td>\n",
       "      <td>0</td>\n",
       "      <td>0</td>\n",
       "      <td>0</td>\n",
       "      <td>...</td>\n",
       "      <td>0</td>\n",
       "      <td>0</td>\n",
       "      <td>0</td>\n",
       "      <td>0</td>\n",
       "      <td>0</td>\n",
       "      <td>0</td>\n",
       "      <td>0</td>\n",
       "      <td>0</td>\n",
       "      <td>0</td>\n",
       "      <td>0</td>\n",
       "    </tr>\n",
       "  </tbody>\n",
       "</table>\n",
       "<p>5 rows × 245 columns</p>\n",
       "</div>"
      ],
      "text/plain": [
       "              location  total_sqft  bath  price  BHK  1st Block Jayanagar  \\\n",
       "0  1st Block Jayanagar      1630.0     3  194.0    3                    1   \n",
       "1  1st Block Jayanagar      1875.0     2  235.0    3                    1   \n",
       "2  1st Block Jayanagar      1200.0     2  130.0    3                    1   \n",
       "3  1st Block Jayanagar      1235.0     2  148.0    2                    1   \n",
       "4   1st Phase JP Nagar      2825.0     4  250.0    4                    0   \n",
       "\n",
       "   1st Phase JP Nagar  2nd Phase Judicial Layout  2nd Stage Nagarbhavi  \\\n",
       "0                   0                          0                     0   \n",
       "1                   0                          0                     0   \n",
       "2                   0                          0                     0   \n",
       "3                   0                          0                     0   \n",
       "4                   1                          0                     0   \n",
       "\n",
       "   5th Block Hbr Layout  ...  Vijayanagar  Vishveshwarya Layout  \\\n",
       "0                     0  ...            0                     0   \n",
       "1                     0  ...            0                     0   \n",
       "2                     0  ...            0                     0   \n",
       "3                     0  ...            0                     0   \n",
       "4                     0  ...            0                     0   \n",
       "\n",
       "   Vishwapriya Layout  Vittasandra  Whitefield  Yelachenahalli  Yelahanka  \\\n",
       "0                   0            0           0               0          0   \n",
       "1                   0            0           0               0          0   \n",
       "2                   0            0           0               0          0   \n",
       "3                   0            0           0               0          0   \n",
       "4                   0            0           0               0          0   \n",
       "\n",
       "   Yelahanka New Town  Yelenahalli  Yeshwanthpur  \n",
       "0                   0            0             0  \n",
       "1                   0            0             0  \n",
       "2                   0            0             0  \n",
       "3                   0            0             0  \n",
       "4                   0            0             0  \n",
       "\n",
       "[5 rows x 245 columns]"
      ]
     },
     "execution_count": 155,
     "metadata": {},
     "output_type": "execute_result"
    }
   ],
   "source": [
    "df10 = pd.concat([df9 , dummies.drop('other' , axis = 'columns')] , axis = 'columns')\n",
    "df10.head()"
   ]
  },
  {
   "cell_type": "code",
   "execution_count": 156,
   "id": "superb-screening",
   "metadata": {
    "execution": {
     "iopub.execute_input": "2021-05-25T05:45:39.582851Z",
     "iopub.status.busy": "2021-05-25T05:45:39.582226Z",
     "iopub.status.idle": "2021-05-25T05:45:39.590150Z",
     "shell.execute_reply": "2021-05-25T05:45:39.590636Z",
     "shell.execute_reply.started": "2021-05-25T05:35:06.932809Z"
    },
    "papermill": {
     "duration": 0.111292,
     "end_time": "2021-05-25T05:45:39.590808",
     "exception": false,
     "start_time": "2021-05-25T05:45:39.479516",
     "status": "completed"
    },
    "tags": []
   },
   "outputs": [],
   "source": [
    "df11 = df10.drop(['location'] , axis = 'columns')"
   ]
  },
  {
   "cell_type": "markdown",
   "id": "touched-elite",
   "metadata": {
    "execution": {
     "iopub.execute_input": "2021-05-25T05:35:20.810714Z",
     "iopub.status.busy": "2021-05-25T05:35:20.810398Z",
     "iopub.status.idle": "2021-05-25T05:35:20.813915Z",
     "shell.execute_reply": "2021-05-25T05:35:20.813223Z",
     "shell.execute_reply.started": "2021-05-25T05:35:20.810688Z"
    },
    "papermill": {
     "duration": 0.100738,
     "end_time": "2021-05-25T05:45:39.790935",
     "exception": false,
     "start_time": "2021-05-25T05:45:39.690197",
     "status": "completed"
    },
    "tags": []
   },
   "source": [
    "# Model Building"
   ]
  },
  {
   "cell_type": "code",
   "execution_count": 157,
   "id": "utility-vampire",
   "metadata": {
    "execution": {
     "iopub.execute_input": "2021-05-25T05:45:39.998043Z",
     "iopub.status.busy": "2021-05-25T05:45:39.997456Z",
     "iopub.status.idle": "2021-05-25T05:45:40.004100Z",
     "shell.execute_reply": "2021-05-25T05:45:40.004592Z",
     "shell.execute_reply.started": "2021-05-25T05:35:36.840076Z"
    },
    "papermill": {
     "duration": 0.11311,
     "end_time": "2021-05-25T05:45:40.004766",
     "exception": false,
     "start_time": "2021-05-25T05:45:39.891656",
     "status": "completed"
    },
    "tags": []
   },
   "outputs": [],
   "source": [
    "x = df11.drop('price' , axis = 'columns')"
   ]
  },
  {
   "cell_type": "code",
   "execution_count": 158,
   "id": "genetic-values",
   "metadata": {
    "execution": {
     "iopub.execute_input": "2021-05-25T05:45:40.208171Z",
     "iopub.status.busy": "2021-05-25T05:45:40.207517Z",
     "iopub.status.idle": "2021-05-25T05:45:40.211057Z",
     "shell.execute_reply": "2021-05-25T05:45:40.211616Z",
     "shell.execute_reply.started": "2021-05-25T05:35:44.535151Z"
    },
    "papermill": {
     "duration": 0.107168,
     "end_time": "2021-05-25T05:45:40.211797",
     "exception": false,
     "start_time": "2021-05-25T05:45:40.104629",
     "status": "completed"
    },
    "tags": []
   },
   "outputs": [],
   "source": [
    "y = df11.price"
   ]
  },
  {
   "cell_type": "markdown",
   "id": "greatest-while",
   "metadata": {
    "papermill": {
     "duration": 0.099331,
     "end_time": "2021-05-25T05:45:40.411181",
     "exception": false,
     "start_time": "2021-05-25T05:45:40.311850",
     "status": "completed"
    },
    "tags": []
   },
   "source": [
    "# Feature Scaling"
   ]
  },
  {
   "cell_type": "code",
   "execution_count": 159,
   "id": "tamil-tutorial",
   "metadata": {
    "execution": {
     "iopub.execute_input": "2021-05-25T05:45:40.614467Z",
     "iopub.status.busy": "2021-05-25T05:45:40.613880Z",
     "iopub.status.idle": "2021-05-25T05:45:40.885453Z",
     "shell.execute_reply": "2021-05-25T05:45:40.885940Z",
     "shell.execute_reply.started": "2021-05-25T05:37:14.999039Z"
    },
    "papermill": {
     "duration": 0.374636,
     "end_time": "2021-05-25T05:45:40.886128",
     "exception": false,
     "start_time": "2021-05-25T05:45:40.511492",
     "status": "completed"
    },
    "tags": []
   },
   "outputs": [],
   "source": [
    "from sklearn.preprocessing import StandardScaler\n",
    "scaler = StandardScaler()\n",
    "X = scaler.fit_transform(x)"
   ]
  },
  {
   "cell_type": "code",
   "execution_count": 160,
   "id": "banned-ferry",
   "metadata": {
    "execution": {
     "iopub.execute_input": "2021-05-25T05:45:41.093031Z",
     "iopub.status.busy": "2021-05-25T05:45:41.092415Z",
     "iopub.status.idle": "2021-05-25T05:45:41.148882Z",
     "shell.execute_reply": "2021-05-25T05:45:41.149383Z",
     "shell.execute_reply.started": "2021-05-25T05:37:32.208744Z"
    },
    "papermill": {
     "duration": 0.162716,
     "end_time": "2021-05-25T05:45:41.149570",
     "exception": false,
     "start_time": "2021-05-25T05:45:40.986854",
     "status": "completed"
    },
    "tags": []
   },
   "outputs": [],
   "source": [
    "from sklearn.model_selection import ShuffleSplit\n",
    "from sklearn.model_selection import cross_val_score"
   ]
  },
  {
   "cell_type": "code",
   "execution_count": 161,
   "id": "announced-gravity",
   "metadata": {
    "execution": {
     "iopub.execute_input": "2021-05-25T05:45:41.352893Z",
     "iopub.status.busy": "2021-05-25T05:45:41.352214Z",
     "iopub.status.idle": "2021-05-25T05:45:41.528078Z",
     "shell.execute_reply": "2021-05-25T05:45:41.527503Z",
     "shell.execute_reply.started": "2021-05-25T05:37:33.726196Z"
    },
    "papermill": {
     "duration": 0.278304,
     "end_time": "2021-05-25T05:45:41.528213",
     "exception": false,
     "start_time": "2021-05-25T05:45:41.249909",
     "status": "completed"
    },
    "tags": []
   },
   "outputs": [],
   "source": [
    "from sklearn.model_selection import GridSearchCV\n",
    "\n",
    "from sklearn.linear_model import LinearRegression\n",
    " \n",
    "from sklearn.tree import DecisionTreeRegressor\n",
    "#from sklearn.ensemble import RandomForestRegressor\n",
    "\n",
    "def find_best_model_using_gridsearchcv(x , y):\n",
    "    algos = {\n",
    "        'LinearRegression' : {\n",
    "            'model' : LinearRegression(),\n",
    "            'params' : {\n",
    "                'normalize' : [True , False],\n",
    "                'fit_intercept': [True , False],\n",
    "                 'copy_X' : [True , False]\n",
    "            }\n",
    "        },\n",
    "        'descision_tree' : {\n",
    "            'model' : DecisionTreeRegressor(),\n",
    "            'params' :{\n",
    "                'criterion' : ['mse' , 'friedman_mse'],\n",
    "                'splitter' : ['best' , 'random']\n",
    "            }\n",
    "        }\n",
    "    }\n",
    "    \n",
    "    scores = []\n",
    "    cv = ShuffleSplit(n_splits = 5 , test_size = 0.2 , random_state = 0)\n",
    "    for algo_name , config in algos.items():\n",
    "        gs = GridSearchCV(config['model'] , config['params'] , cv = cv , return_train_score = False)\n",
    "        gs.fit(x , y)\n",
    "        scores.append({\n",
    "            'model' : algo_name , \n",
    "            'best_score' : gs.best_score_,\n",
    "            'best_params' : gs.best_params_\n",
    "        })\n",
    "        \n",
    "    return pd.DataFrame(scores , columns = ['model' , 'best_score' , 'best_params'])        "
   ]
  },
  {
   "cell_type": "code",
   "execution_count": 162,
   "id": "celtic-istanbul",
   "metadata": {
    "execution": {
     "iopub.execute_input": "2021-05-25T05:45:41.734174Z",
     "iopub.status.busy": "2021-05-25T05:45:41.733546Z",
     "iopub.status.idle": "2021-05-25T05:45:57.779067Z",
     "shell.execute_reply": "2021-05-25T05:45:57.778475Z",
     "shell.execute_reply.started": "2021-05-25T05:37:45.453609Z"
    },
    "papermill": {
     "duration": 16.151501,
     "end_time": "2021-05-25T05:45:57.779204",
     "exception": false,
     "start_time": "2021-05-25T05:45:41.627703",
     "status": "completed"
    },
    "tags": []
   },
   "outputs": [
    {
     "data": {
      "text/html": [
       "<div>\n",
       "<style scoped>\n",
       "    .dataframe tbody tr th:only-of-type {\n",
       "        vertical-align: middle;\n",
       "    }\n",
       "\n",
       "    .dataframe tbody tr th {\n",
       "        vertical-align: top;\n",
       "    }\n",
       "\n",
       "    .dataframe thead th {\n",
       "        text-align: right;\n",
       "    }\n",
       "</style>\n",
       "<table border=\"1\" class=\"dataframe\">\n",
       "  <thead>\n",
       "    <tr style=\"text-align: right;\">\n",
       "      <th></th>\n",
       "      <th>model</th>\n",
       "      <th>best_score</th>\n",
       "      <th>best_params</th>\n",
       "    </tr>\n",
       "  </thead>\n",
       "  <tbody>\n",
       "    <tr>\n",
       "      <th>0</th>\n",
       "      <td>LinearRegression</td>\n",
       "      <td>0.842464</td>\n",
       "      <td>{'copy_X': True, 'fit_intercept': True, 'norma...</td>\n",
       "    </tr>\n",
       "    <tr>\n",
       "      <th>1</th>\n",
       "      <td>descision_tree</td>\n",
       "      <td>0.822152</td>\n",
       "      <td>{'criterion': 'friedman_mse', 'splitter': 'best'}</td>\n",
       "    </tr>\n",
       "  </tbody>\n",
       "</table>\n",
       "</div>"
      ],
      "text/plain": [
       "              model  best_score  \\\n",
       "0  LinearRegression    0.842464   \n",
       "1    descision_tree    0.822152   \n",
       "\n",
       "                                         best_params  \n",
       "0  {'copy_X': True, 'fit_intercept': True, 'norma...  \n",
       "1  {'criterion': 'friedman_mse', 'splitter': 'best'}  "
      ]
     },
     "execution_count": 162,
     "metadata": {},
     "output_type": "execute_result"
    }
   ],
   "source": [
    "find_best_model_using_gridsearchcv(X , y) "
   ]
  },
  {
   "cell_type": "code",
   "execution_count": 163,
   "id": "ceramic-authentication",
   "metadata": {
    "execution": {
     "iopub.execute_input": "2021-05-25T05:45:57.989739Z",
     "iopub.status.busy": "2021-05-25T05:45:57.988791Z",
     "iopub.status.idle": "2021-05-25T05:45:58.002311Z",
     "shell.execute_reply": "2021-05-25T05:45:58.001756Z",
     "shell.execute_reply.started": "2021-05-25T05:38:04.966612Z"
    },
    "papermill": {
     "duration": 0.122157,
     "end_time": "2021-05-25T05:45:58.002467",
     "exception": false,
     "start_time": "2021-05-25T05:45:57.880310",
     "status": "completed"
    },
    "tags": []
   },
   "outputs": [],
   "source": [
    "from sklearn.model_selection import train_test_split\n",
    "X_train , X_test , y_train , y_test = train_test_split(x , y , test_size = 0.2 , random_state = 10)"
   ]
  },
  {
   "cell_type": "code",
   "execution_count": 164,
   "id": "collectible-orange",
   "metadata": {
    "execution": {
     "iopub.execute_input": "2021-05-25T05:45:58.217228Z",
     "iopub.status.busy": "2021-05-25T05:45:58.215840Z",
     "iopub.status.idle": "2021-05-25T05:45:58.253217Z",
     "shell.execute_reply": "2021-05-25T05:45:58.252509Z",
     "shell.execute_reply.started": "2021-05-25T05:38:20.421278Z"
    },
    "papermill": {
     "duration": 0.148267,
     "end_time": "2021-05-25T05:45:58.253402",
     "exception": false,
     "start_time": "2021-05-25T05:45:58.105135",
     "status": "completed"
    },
    "tags": []
   },
   "outputs": [],
   "source": [
    "from sklearn.preprocessing import StandardScaler\n",
    "scaler = StandardScaler()\n",
    "s_x = StandardScaler()\n",
    "s_y = StandardScaler()\n",
    "X_train_scaled = s_x.fit_transform(X_train)\n",
    "X_test_scaled = s_x.transform(X_test)"
   ]
  },
  {
   "cell_type": "markdown",
   "id": "improved-population",
   "metadata": {
    "papermill": {
     "duration": 0.109387,
     "end_time": "2021-05-25T05:45:58.479158",
     "exception": false,
     "start_time": "2021-05-25T05:45:58.369771",
     "status": "completed"
    },
    "tags": []
   },
   "source": [
    "# Model Training "
   ]
  },
  {
   "cell_type": "code",
   "execution_count": 165,
   "id": "deadly-juvenile",
   "metadata": {
    "execution": {
     "iopub.execute_input": "2021-05-25T05:45:58.718993Z",
     "iopub.status.busy": "2021-05-25T05:45:58.717190Z",
     "iopub.status.idle": "2021-05-25T05:45:58.770039Z",
     "shell.execute_reply": "2021-05-25T05:45:58.771973Z",
     "shell.execute_reply.started": "2021-05-25T05:38:40.455534Z"
    },
    "papermill": {
     "duration": 0.163436,
     "end_time": "2021-05-25T05:45:58.772241",
     "exception": false,
     "start_time": "2021-05-25T05:45:58.608805",
     "status": "completed"
    },
    "tags": []
   },
   "outputs": [
    {
     "data": {
      "text/plain": [
       "0.9073873331294474"
      ]
     },
     "execution_count": 165,
     "metadata": {},
     "output_type": "execute_result"
    }
   ],
   "source": [
    "from sklearn.linear_model import Ridge\n",
    "model = Ridge(alpha= 1, fit_intercept = True, normalize = False)\n",
    "model.fit(X_train_scaled, y_train)\n",
    "model.score(X_test_scaled , y_test)"
   ]
  },
  {
   "cell_type": "markdown",
   "id": "colonial-order",
   "metadata": {
    "execution": {
     "iopub.execute_input": "2021-05-25T05:38:50.383446Z",
     "iopub.status.busy": "2021-05-25T05:38:50.383129Z",
     "iopub.status.idle": "2021-05-25T05:38:50.387172Z",
     "shell.execute_reply": "2021-05-25T05:38:50.386126Z",
     "shell.execute_reply.started": "2021-05-25T05:38:50.383417Z"
    },
    "papermill": {
     "duration": 0.102936,
     "end_time": "2021-05-25T05:45:59.051455",
     "exception": false,
     "start_time": "2021-05-25T05:45:58.948519",
     "status": "completed"
    },
    "tags": []
   },
   "source": [
    "# Evaluation"
   ]
  },
  {
   "cell_type": "code",
   "execution_count": 166,
   "id": "utility-wesley",
   "metadata": {
    "execution": {
     "iopub.execute_input": "2021-05-25T05:45:59.261777Z",
     "iopub.status.busy": "2021-05-25T05:45:59.260023Z",
     "iopub.status.idle": "2021-05-25T05:45:59.291784Z",
     "shell.execute_reply": "2021-05-25T05:45:59.292650Z",
     "shell.execute_reply.started": "2021-05-25T05:39:03.292564Z"
    },
    "papermill": {
     "duration": 0.139621,
     "end_time": "2021-05-25T05:45:59.292927",
     "exception": false,
     "start_time": "2021-05-25T05:45:59.153306",
     "status": "completed"
    },
    "tags": []
   },
   "outputs": [],
   "source": [
    "from sklearn.metrics import mean_squared_error,r2_score\n",
    "model.fit(X_train_scaled,y_train)\n",
    "y_pred = model.predict(X_test_scaled)\n",
    "acc = mean_squared_error(y_pred,y_test)\n",
    "rscore = r2_score(y_pred,y_test)"
   ]
  },
  {
   "cell_type": "code",
   "execution_count": 167,
   "id": "difficult-contributor",
   "metadata": {
    "execution": {
     "iopub.execute_input": "2021-05-25T05:45:59.586247Z",
     "iopub.status.busy": "2021-05-25T05:45:59.585606Z",
     "iopub.status.idle": "2021-05-25T05:45:59.589479Z",
     "shell.execute_reply": "2021-05-25T05:45:59.588836Z",
     "shell.execute_reply.started": "2021-05-25T05:39:10.481883Z"
    },
    "papermill": {
     "duration": 0.112325,
     "end_time": "2021-05-25T05:45:59.589620",
     "exception": false,
     "start_time": "2021-05-25T05:45:59.477295",
     "status": "completed"
    },
    "tags": []
   },
   "outputs": [
    {
     "data": {
      "text/plain": [
       "0.8944523313771666"
      ]
     },
     "execution_count": 167,
     "metadata": {},
     "output_type": "execute_result"
    }
   ],
   "source": [
    "rscore"
   ]
  },
  {
   "cell_type": "code",
   "execution_count": 168,
   "id": "aware-emphasis",
   "metadata": {
    "execution": {
     "iopub.execute_input": "2021-05-25T05:45:59.797680Z",
     "iopub.status.busy": "2021-05-25T05:45:59.796848Z",
     "iopub.status.idle": "2021-05-25T05:45:59.800704Z",
     "shell.execute_reply": "2021-05-25T05:45:59.801155Z",
     "shell.execute_reply.started": "2021-05-25T05:39:17.349982Z"
    },
    "papermill": {
     "duration": 0.111315,
     "end_time": "2021-05-25T05:45:59.801348",
     "exception": false,
     "start_time": "2021-05-25T05:45:59.690033",
     "status": "completed"
    },
    "tags": []
   },
   "outputs": [
    {
     "data": {
      "text/plain": [
       "12.721318953730725"
      ]
     },
     "execution_count": 168,
     "metadata": {},
     "output_type": "execute_result"
    }
   ],
   "source": [
    "def rmse(y_pred, y_test):\n",
    "    return np.sqrt(mean_squared_error(y_pred,y_test))\n",
    "rmse(y_pred,y_test)"
   ]
  },
  {
   "cell_type": "code",
   "execution_count": 169,
   "id": "martial-webmaster",
   "metadata": {
    "execution": {
     "iopub.execute_input": "2021-05-25T05:46:00.013440Z",
     "iopub.status.busy": "2021-05-25T05:46:00.012072Z",
     "iopub.status.idle": "2021-05-25T05:46:00.464854Z",
     "shell.execute_reply": "2021-05-25T05:46:00.465768Z",
     "shell.execute_reply.started": "2021-05-25T05:39:36.102797Z"
    },
    "papermill": {
     "duration": 0.562146,
     "end_time": "2021-05-25T05:46:00.466030",
     "exception": false,
     "start_time": "2021-05-25T05:45:59.903884",
     "status": "completed"
    },
    "tags": []
   },
   "outputs": [
    {
     "data": {
      "text/plain": [
       "0.9038154470831115"
      ]
     },
     "execution_count": 169,
     "metadata": {},
     "output_type": "execute_result"
    }
   ],
   "source": [
    "from sklearn.model_selection import ShuffleSplit\n",
    "from sklearn.model_selection import cross_val_score\n",
    "\n",
    "cv = ShuffleSplit(n_splits = 10 , test_size = 0.2 , random_state = 0)\n",
    "cross_val_score(Ridge(alpha= 1, fit_intercept = True, normalize = False, tol = 0.0001) , X , y , cv=cv).mean()"
   ]
  },
  {
   "cell_type": "markdown",
   "id": "667fe60e",
   "metadata": {},
   "source": [
    "## The Score for model is ~ 90%  "
   ]
  }
 ],
 "metadata": {
  "kernelspec": {
   "display_name": "Python 3 (ipykernel)",
   "language": "python",
   "name": "python3"
  },
  "language_info": {
   "codemirror_mode": {
    "name": "ipython",
    "version": 3
   },
   "file_extension": ".py",
   "mimetype": "text/x-python",
   "name": "python",
   "nbconvert_exporter": "python",
   "pygments_lexer": "ipython3",
   "version": "3.10.4"
  }
 },
 "nbformat": 4,
 "nbformat_minor": 5
}
