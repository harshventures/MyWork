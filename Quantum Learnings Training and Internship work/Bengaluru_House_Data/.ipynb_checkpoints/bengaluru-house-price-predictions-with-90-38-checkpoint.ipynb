{
 "cells": [
  {
   "cell_type": "markdown",
   "id": "encouraging-purse",
   "metadata": {
    "_cell_guid": "b1076dfc-b9ad-4769-8c92-a6c4dae69d19",
    "_uuid": "8f2839f25d086af736a60e9eeb907d3b93b6e0e5",
    "papermill": {
     "duration": 0.071288,
     "end_time": "2021-05-25T05:45:21.104735",
     "exception": false,
     "start_time": "2021-05-25T05:45:21.033447",
     "status": "completed"
    },
    "tags": []
   },
   "source": [
    "# Predicting House Prices in Bangalore"
   ]
  },
  {
   "cell_type": "code",
   "execution_count": 1,
   "id": "removable-government",
   "metadata": {
    "execution": {
     "iopub.execute_input": "2021-05-25T05:45:21.251157Z",
     "iopub.status.busy": "2021-05-25T05:45:21.250571Z",
     "iopub.status.idle": "2021-05-25T05:45:22.084170Z",
     "shell.execute_reply": "2021-05-25T05:45:22.083508Z",
     "shell.execute_reply.started": "2021-05-25T05:02:49.600423Z"
    },
    "papermill": {
     "duration": 0.909869,
     "end_time": "2021-05-25T05:45:22.084367",
     "exception": false,
     "start_time": "2021-05-25T05:45:21.174498",
     "status": "completed"
    },
    "tags": []
   },
   "outputs": [],
   "source": [
    "import pandas as pd\n",
    "import numpy as np\n",
    "import seaborn as sns\n",
    "import matplotlib.pyplot as plt\n",
    "%matplotlib inline\n",
    "import matplotlib\n",
    "matplotlib.rcParams['figure.figsize'] =(20,10)"
   ]
  },
  {
   "cell_type": "markdown",
   "id": "necessary-intervention",
   "metadata": {
    "papermill": {
     "duration": 0.070445,
     "end_time": "2021-05-25T05:45:22.226008",
     "exception": false,
     "start_time": "2021-05-25T05:45:22.155563",
     "status": "completed"
    },
    "tags": []
   },
   "source": [
    "# Data Load: Loading the data of home prices into a dataframe"
   ]
  },
  {
   "cell_type": "code",
   "execution_count": 2,
   "id": "unknown-theme",
   "metadata": {
    "execution": {
     "iopub.execute_input": "2021-05-25T05:45:22.371780Z",
     "iopub.status.busy": "2021-05-25T05:45:22.371142Z",
     "iopub.status.idle": "2021-05-25T05:45:22.445332Z",
     "shell.execute_reply": "2021-05-25T05:45:22.445807Z",
     "shell.execute_reply.started": "2021-05-25T05:12:12.913013Z"
    },
    "papermill": {
     "duration": 0.148677,
     "end_time": "2021-05-25T05:45:22.445998",
     "exception": false,
     "start_time": "2021-05-25T05:45:22.297321",
     "status": "completed"
    },
    "tags": []
   },
   "outputs": [
    {
     "data": {
      "text/html": [
       "<div>\n",
       "<style scoped>\n",
       "    .dataframe tbody tr th:only-of-type {\n",
       "        vertical-align: middle;\n",
       "    }\n",
       "\n",
       "    .dataframe tbody tr th {\n",
       "        vertical-align: top;\n",
       "    }\n",
       "\n",
       "    .dataframe thead th {\n",
       "        text-align: right;\n",
       "    }\n",
       "</style>\n",
       "<table border=\"1\" class=\"dataframe\">\n",
       "  <thead>\n",
       "    <tr style=\"text-align: right;\">\n",
       "      <th></th>\n",
       "      <th>area_type</th>\n",
       "      <th>availability</th>\n",
       "      <th>location</th>\n",
       "      <th>size</th>\n",
       "      <th>society</th>\n",
       "      <th>total_sqft</th>\n",
       "      <th>bath</th>\n",
       "      <th>balcony</th>\n",
       "      <th>price</th>\n",
       "    </tr>\n",
       "  </thead>\n",
       "  <tbody>\n",
       "    <tr>\n",
       "      <th>0</th>\n",
       "      <td>Super built-up  Area</td>\n",
       "      <td>19-Dec</td>\n",
       "      <td>Electronic City Phase II</td>\n",
       "      <td>2 BHK</td>\n",
       "      <td>Coomee</td>\n",
       "      <td>1056</td>\n",
       "      <td>2.0</td>\n",
       "      <td>1.0</td>\n",
       "      <td>39.07</td>\n",
       "    </tr>\n",
       "    <tr>\n",
       "      <th>1</th>\n",
       "      <td>Plot  Area</td>\n",
       "      <td>Ready To Move</td>\n",
       "      <td>Chikka Tirupathi</td>\n",
       "      <td>4 Bedroom</td>\n",
       "      <td>Theanmp</td>\n",
       "      <td>2600</td>\n",
       "      <td>5.0</td>\n",
       "      <td>3.0</td>\n",
       "      <td>120.00</td>\n",
       "    </tr>\n",
       "    <tr>\n",
       "      <th>2</th>\n",
       "      <td>Built-up  Area</td>\n",
       "      <td>Ready To Move</td>\n",
       "      <td>Uttarahalli</td>\n",
       "      <td>3 BHK</td>\n",
       "      <td>NaN</td>\n",
       "      <td>1440</td>\n",
       "      <td>2.0</td>\n",
       "      <td>3.0</td>\n",
       "      <td>62.00</td>\n",
       "    </tr>\n",
       "    <tr>\n",
       "      <th>3</th>\n",
       "      <td>Super built-up  Area</td>\n",
       "      <td>Ready To Move</td>\n",
       "      <td>Lingadheeranahalli</td>\n",
       "      <td>3 BHK</td>\n",
       "      <td>Soiewre</td>\n",
       "      <td>1521</td>\n",
       "      <td>3.0</td>\n",
       "      <td>1.0</td>\n",
       "      <td>95.00</td>\n",
       "    </tr>\n",
       "    <tr>\n",
       "      <th>4</th>\n",
       "      <td>Super built-up  Area</td>\n",
       "      <td>Ready To Move</td>\n",
       "      <td>Kothanur</td>\n",
       "      <td>2 BHK</td>\n",
       "      <td>NaN</td>\n",
       "      <td>1200</td>\n",
       "      <td>2.0</td>\n",
       "      <td>1.0</td>\n",
       "      <td>51.00</td>\n",
       "    </tr>\n",
       "    <tr>\n",
       "      <th>...</th>\n",
       "      <td>...</td>\n",
       "      <td>...</td>\n",
       "      <td>...</td>\n",
       "      <td>...</td>\n",
       "      <td>...</td>\n",
       "      <td>...</td>\n",
       "      <td>...</td>\n",
       "      <td>...</td>\n",
       "      <td>...</td>\n",
       "    </tr>\n",
       "    <tr>\n",
       "      <th>13315</th>\n",
       "      <td>Built-up  Area</td>\n",
       "      <td>Ready To Move</td>\n",
       "      <td>Whitefield</td>\n",
       "      <td>5 Bedroom</td>\n",
       "      <td>ArsiaEx</td>\n",
       "      <td>3453</td>\n",
       "      <td>4.0</td>\n",
       "      <td>0.0</td>\n",
       "      <td>231.00</td>\n",
       "    </tr>\n",
       "    <tr>\n",
       "      <th>13316</th>\n",
       "      <td>Super built-up  Area</td>\n",
       "      <td>Ready To Move</td>\n",
       "      <td>Richards Town</td>\n",
       "      <td>4 BHK</td>\n",
       "      <td>NaN</td>\n",
       "      <td>3600</td>\n",
       "      <td>5.0</td>\n",
       "      <td>NaN</td>\n",
       "      <td>400.00</td>\n",
       "    </tr>\n",
       "    <tr>\n",
       "      <th>13317</th>\n",
       "      <td>Built-up  Area</td>\n",
       "      <td>Ready To Move</td>\n",
       "      <td>Raja Rajeshwari Nagar</td>\n",
       "      <td>2 BHK</td>\n",
       "      <td>Mahla T</td>\n",
       "      <td>1141</td>\n",
       "      <td>2.0</td>\n",
       "      <td>1.0</td>\n",
       "      <td>60.00</td>\n",
       "    </tr>\n",
       "    <tr>\n",
       "      <th>13318</th>\n",
       "      <td>Super built-up  Area</td>\n",
       "      <td>18-Jun</td>\n",
       "      <td>Padmanabhanagar</td>\n",
       "      <td>4 BHK</td>\n",
       "      <td>SollyCl</td>\n",
       "      <td>4689</td>\n",
       "      <td>4.0</td>\n",
       "      <td>1.0</td>\n",
       "      <td>488.00</td>\n",
       "    </tr>\n",
       "    <tr>\n",
       "      <th>13319</th>\n",
       "      <td>Super built-up  Area</td>\n",
       "      <td>Ready To Move</td>\n",
       "      <td>Doddathoguru</td>\n",
       "      <td>1 BHK</td>\n",
       "      <td>NaN</td>\n",
       "      <td>550</td>\n",
       "      <td>1.0</td>\n",
       "      <td>1.0</td>\n",
       "      <td>17.00</td>\n",
       "    </tr>\n",
       "  </tbody>\n",
       "</table>\n",
       "<p>13320 rows × 9 columns</p>\n",
       "</div>"
      ],
      "text/plain": [
       "                  area_type   availability                  location  \\\n",
       "0      Super built-up  Area         19-Dec  Electronic City Phase II   \n",
       "1                Plot  Area  Ready To Move          Chikka Tirupathi   \n",
       "2            Built-up  Area  Ready To Move               Uttarahalli   \n",
       "3      Super built-up  Area  Ready To Move        Lingadheeranahalli   \n",
       "4      Super built-up  Area  Ready To Move                  Kothanur   \n",
       "...                     ...            ...                       ...   \n",
       "13315        Built-up  Area  Ready To Move                Whitefield   \n",
       "13316  Super built-up  Area  Ready To Move             Richards Town   \n",
       "13317        Built-up  Area  Ready To Move     Raja Rajeshwari Nagar   \n",
       "13318  Super built-up  Area         18-Jun           Padmanabhanagar   \n",
       "13319  Super built-up  Area  Ready To Move              Doddathoguru   \n",
       "\n",
       "            size  society total_sqft  bath  balcony   price  \n",
       "0          2 BHK  Coomee        1056   2.0      1.0   39.07  \n",
       "1      4 Bedroom  Theanmp       2600   5.0      3.0  120.00  \n",
       "2          3 BHK      NaN       1440   2.0      3.0   62.00  \n",
       "3          3 BHK  Soiewre       1521   3.0      1.0   95.00  \n",
       "4          2 BHK      NaN       1200   2.0      1.0   51.00  \n",
       "...          ...      ...        ...   ...      ...     ...  \n",
       "13315  5 Bedroom  ArsiaEx       3453   4.0      0.0  231.00  \n",
       "13316      4 BHK      NaN       3600   5.0      NaN  400.00  \n",
       "13317      2 BHK  Mahla T       1141   2.0      1.0   60.00  \n",
       "13318      4 BHK  SollyCl       4689   4.0      1.0  488.00  \n",
       "13319      1 BHK      NaN        550   1.0      1.0   17.00  \n",
       "\n",
       "[13320 rows x 9 columns]"
      ]
     },
     "execution_count": 2,
     "metadata": {},
     "output_type": "execute_result"
    }
   ],
   "source": [
    "df = pd.read_csv('../input/bengaluru-house-price-data/Bengaluru_House_Data.csv')\n",
    "df"
   ]
  },
  {
   "cell_type": "code",
   "execution_count": 3,
   "id": "placed-keyboard",
   "metadata": {
    "execution": {
     "iopub.execute_input": "2021-05-25T05:45:22.596932Z",
     "iopub.status.busy": "2021-05-25T05:45:22.596319Z",
     "iopub.status.idle": "2021-05-25T05:45:22.600718Z",
     "shell.execute_reply": "2021-05-25T05:45:22.600249Z",
     "shell.execute_reply.started": "2021-05-25T05:12:33.755153Z"
    },
    "papermill": {
     "duration": 0.080258,
     "end_time": "2021-05-25T05:45:22.600859",
     "exception": false,
     "start_time": "2021-05-25T05:45:22.520601",
     "status": "completed"
    },
    "tags": []
   },
   "outputs": [
    {
     "data": {
      "text/plain": [
       "(13320, 9)"
      ]
     },
     "execution_count": 3,
     "metadata": {},
     "output_type": "execute_result"
    }
   ],
   "source": [
    "df.shape"
   ]
  },
  {
   "cell_type": "code",
   "execution_count": 4,
   "id": "accurate-apartment",
   "metadata": {
    "execution": {
     "iopub.execute_input": "2021-05-25T05:45:22.754953Z",
     "iopub.status.busy": "2021-05-25T05:45:22.754283Z",
     "iopub.status.idle": "2021-05-25T05:45:22.771453Z",
     "shell.execute_reply": "2021-05-25T05:45:22.770895Z",
     "shell.execute_reply.started": "2021-05-25T05:12:41.988544Z"
    },
    "papermill": {
     "duration": 0.100311,
     "end_time": "2021-05-25T05:45:22.771596",
     "exception": false,
     "start_time": "2021-05-25T05:45:22.671285",
     "status": "completed"
    },
    "tags": []
   },
   "outputs": [
    {
     "name": "stdout",
     "output_type": "stream",
     "text": [
      "<class 'pandas.core.frame.DataFrame'>\n",
      "RangeIndex: 13320 entries, 0 to 13319\n",
      "Data columns (total 9 columns):\n",
      " #   Column        Non-Null Count  Dtype  \n",
      "---  ------        --------------  -----  \n",
      " 0   area_type     13320 non-null  object \n",
      " 1   availability  13320 non-null  object \n",
      " 2   location      13319 non-null  object \n",
      " 3   size          13304 non-null  object \n",
      " 4   society       7818 non-null   object \n",
      " 5   total_sqft    13320 non-null  object \n",
      " 6   bath          13247 non-null  float64\n",
      " 7   balcony       12711 non-null  float64\n",
      " 8   price         13320 non-null  float64\n",
      "dtypes: float64(3), object(6)\n",
      "memory usage: 936.7+ KB\n"
     ]
    }
   ],
   "source": [
    "df.info()"
   ]
  },
  {
   "cell_type": "code",
   "execution_count": 5,
   "id": "ecological-airline",
   "metadata": {
    "execution": {
     "iopub.execute_input": "2021-05-25T05:45:22.921747Z",
     "iopub.status.busy": "2021-05-25T05:45:22.920867Z",
     "iopub.status.idle": "2021-05-25T05:45:22.929004Z",
     "shell.execute_reply": "2021-05-25T05:45:22.928481Z",
     "shell.execute_reply.started": "2021-05-25T05:12:52.805305Z"
    },
    "papermill": {
     "duration": 0.085655,
     "end_time": "2021-05-25T05:45:22.929142",
     "exception": false,
     "start_time": "2021-05-25T05:45:22.843487",
     "status": "completed"
    },
    "tags": []
   },
   "outputs": [
    {
     "data": {
      "text/plain": [
       "area_type\n",
       "Built-up  Area          2418\n",
       "Carpet  Area              87\n",
       "Plot  Area              2025\n",
       "Super built-up  Area    8790\n",
       "Name: area_type, dtype: int64"
      ]
     },
     "execution_count": 5,
     "metadata": {},
     "output_type": "execute_result"
    }
   ],
   "source": [
    "df.groupby('area_type')['area_type'].agg('count')"
   ]
  },
  {
   "cell_type": "code",
   "execution_count": 6,
   "id": "confused-shape",
   "metadata": {
    "execution": {
     "iopub.execute_input": "2021-05-25T05:45:23.080581Z",
     "iopub.status.busy": "2021-05-25T05:45:23.079678Z",
     "iopub.status.idle": "2021-05-25T05:45:23.084734Z",
     "shell.execute_reply": "2021-05-25T05:45:23.084203Z",
     "shell.execute_reply.started": "2021-05-25T05:13:20.022424Z"
    },
    "papermill": {
     "duration": 0.083923,
     "end_time": "2021-05-25T05:45:23.084882",
     "exception": false,
     "start_time": "2021-05-25T05:45:23.000959",
     "status": "completed"
    },
    "tags": []
   },
   "outputs": [
    {
     "data": {
      "text/plain": [
       "array(['Super built-up  Area', 'Plot  Area', 'Built-up  Area',\n",
       "       'Carpet  Area'], dtype=object)"
      ]
     },
     "execution_count": 6,
     "metadata": {},
     "output_type": "execute_result"
    }
   ],
   "source": [
    "df.area_type.unique()"
   ]
  },
  {
   "cell_type": "markdown",
   "id": "emerging-viewer",
   "metadata": {
    "papermill": {
     "duration": 0.071811,
     "end_time": "2021-05-25T05:45:23.229291",
     "exception": false,
     "start_time": "2021-05-25T05:45:23.157480",
     "status": "completed"
    },
    "tags": []
   },
   "source": [
    "# Handling of NA values"
   ]
  },
  {
   "cell_type": "code",
   "execution_count": 7,
   "id": "serious-relations",
   "metadata": {
    "execution": {
     "iopub.execute_input": "2021-05-25T05:45:23.389449Z",
     "iopub.status.busy": "2021-05-25T05:45:23.388790Z",
     "iopub.status.idle": "2021-05-25T05:45:23.391780Z",
     "shell.execute_reply": "2021-05-25T05:45:23.391185Z",
     "shell.execute_reply.started": "2021-05-25T05:14:03.431437Z"
    },
    "papermill": {
     "duration": 0.090131,
     "end_time": "2021-05-25T05:45:23.391914",
     "exception": false,
     "start_time": "2021-05-25T05:45:23.301783",
     "status": "completed"
    },
    "tags": []
   },
   "outputs": [],
   "source": [
    "def change_to_numeric(x):\n",
    "    if x == 'Super built-up  Area':\n",
    "        return 0\n",
    "    elif x == 'Plot  Area':\n",
    "        return 1\n",
    "    elif x == 'Built-up  Area':\n",
    "        return 2\n",
    "    else:\n",
    "        return 3\n",
    "\n",
    "df['area_type_numeric'] = df['area_type'].apply(change_to_numeric)"
   ]
  },
  {
   "cell_type": "code",
   "execution_count": 8,
   "id": "curious-sierra",
   "metadata": {
    "execution": {
     "iopub.execute_input": "2021-05-25T05:45:23.545539Z",
     "iopub.status.busy": "2021-05-25T05:45:23.544556Z",
     "iopub.status.idle": "2021-05-25T05:45:23.553933Z",
     "shell.execute_reply": "2021-05-25T05:45:23.554389Z",
     "shell.execute_reply.started": "2021-05-25T05:14:10.367757Z"
    },
    "papermill": {
     "duration": 0.091105,
     "end_time": "2021-05-25T05:45:23.554579",
     "exception": false,
     "start_time": "2021-05-25T05:45:23.463474",
     "status": "completed"
    },
    "tags": []
   },
   "outputs": [
    {
     "data": {
      "text/html": [
       "<div>\n",
       "<style scoped>\n",
       "    .dataframe tbody tr th:only-of-type {\n",
       "        vertical-align: middle;\n",
       "    }\n",
       "\n",
       "    .dataframe tbody tr th {\n",
       "        vertical-align: top;\n",
       "    }\n",
       "\n",
       "    .dataframe thead th {\n",
       "        text-align: right;\n",
       "    }\n",
       "</style>\n",
       "<table border=\"1\" class=\"dataframe\">\n",
       "  <thead>\n",
       "    <tr style=\"text-align: right;\">\n",
       "      <th></th>\n",
       "      <th>area_type_numeric</th>\n",
       "      <th>price</th>\n",
       "    </tr>\n",
       "  </thead>\n",
       "  <tbody>\n",
       "    <tr>\n",
       "      <th>area_type_numeric</th>\n",
       "      <td>1.000000</td>\n",
       "      <td>0.092563</td>\n",
       "    </tr>\n",
       "    <tr>\n",
       "      <th>price</th>\n",
       "      <td>0.092563</td>\n",
       "      <td>1.000000</td>\n",
       "    </tr>\n",
       "  </tbody>\n",
       "</table>\n",
       "</div>"
      ],
      "text/plain": [
       "                   area_type_numeric     price\n",
       "area_type_numeric           1.000000  0.092563\n",
       "price                       0.092563  1.000000"
      ]
     },
     "execution_count": 8,
     "metadata": {},
     "output_type": "execute_result"
    }
   ],
   "source": [
    "df2 = df[['area_type_numeric', 'price']]\n",
    "df2.corr()"
   ]
  },
  {
   "cell_type": "code",
   "execution_count": 9,
   "id": "american-tribute",
   "metadata": {
    "execution": {
     "iopub.execute_input": "2021-05-25T05:45:23.706202Z",
     "iopub.status.busy": "2021-05-25T05:45:23.704960Z",
     "iopub.status.idle": "2021-05-25T05:45:23.709217Z",
     "shell.execute_reply": "2021-05-25T05:45:23.708691Z",
     "shell.execute_reply.started": "2021-05-25T05:14:20.027525Z"
    },
    "papermill": {
     "duration": 0.082389,
     "end_time": "2021-05-25T05:45:23.709391",
     "exception": false,
     "start_time": "2021-05-25T05:45:23.627002",
     "status": "completed"
    },
    "tags": []
   },
   "outputs": [],
   "source": [
    "df1 = df.drop('area_type', axis = 'columns')"
   ]
  },
  {
   "cell_type": "code",
   "execution_count": 10,
   "id": "operating-enlargement",
   "metadata": {
    "execution": {
     "iopub.execute_input": "2021-05-25T05:45:23.862208Z",
     "iopub.status.busy": "2021-05-25T05:45:23.861590Z",
     "iopub.status.idle": "2021-05-25T05:45:23.864466Z",
     "shell.execute_reply": "2021-05-25T05:45:23.863852Z",
     "shell.execute_reply.started": "2021-05-25T05:14:29.533475Z"
    },
    "papermill": {
     "duration": 0.081992,
     "end_time": "2021-05-25T05:45:23.864600",
     "exception": false,
     "start_time": "2021-05-25T05:45:23.782608",
     "status": "completed"
    },
    "tags": []
   },
   "outputs": [],
   "source": [
    "df1.balcony = df1.balcony.fillna(df1.balcony.median())"
   ]
  },
  {
   "cell_type": "code",
   "execution_count": 11,
   "id": "awful-inventory",
   "metadata": {
    "execution": {
     "iopub.execute_input": "2021-05-25T05:45:24.016379Z",
     "iopub.status.busy": "2021-05-25T05:45:24.015731Z",
     "iopub.status.idle": "2021-05-25T05:45:24.019451Z",
     "shell.execute_reply": "2021-05-25T05:45:24.018927Z",
     "shell.execute_reply.started": "2021-05-25T05:14:37.850785Z"
    },
    "papermill": {
     "duration": 0.082016,
     "end_time": "2021-05-25T05:45:24.019589",
     "exception": false,
     "start_time": "2021-05-25T05:45:23.937573",
     "status": "completed"
    },
    "tags": []
   },
   "outputs": [
    {
     "data": {
      "text/plain": [
       "0"
      ]
     },
     "execution_count": 11,
     "metadata": {},
     "output_type": "execute_result"
    }
   ],
   "source": [
    "df1.balcony.isnull().sum()"
   ]
  },
  {
   "cell_type": "code",
   "execution_count": 12,
   "id": "satellite-behavior",
   "metadata": {
    "execution": {
     "iopub.execute_input": "2021-05-25T05:45:24.171936Z",
     "iopub.status.busy": "2021-05-25T05:45:24.171321Z",
     "iopub.status.idle": "2021-05-25T05:45:24.179853Z",
     "shell.execute_reply": "2021-05-25T05:45:24.180345Z",
     "shell.execute_reply.started": "2021-05-25T05:14:46.193163Z"
    },
    "papermill": {
     "duration": 0.087904,
     "end_time": "2021-05-25T05:45:24.180512",
     "exception": false,
     "start_time": "2021-05-25T05:45:24.092608",
     "status": "completed"
    },
    "tags": []
   },
   "outputs": [
    {
     "data": {
      "text/html": [
       "<div>\n",
       "<style scoped>\n",
       "    .dataframe tbody tr th:only-of-type {\n",
       "        vertical-align: middle;\n",
       "    }\n",
       "\n",
       "    .dataframe tbody tr th {\n",
       "        vertical-align: top;\n",
       "    }\n",
       "\n",
       "    .dataframe thead th {\n",
       "        text-align: right;\n",
       "    }\n",
       "</style>\n",
       "<table border=\"1\" class=\"dataframe\">\n",
       "  <thead>\n",
       "    <tr style=\"text-align: right;\">\n",
       "      <th></th>\n",
       "      <th>balcony</th>\n",
       "      <th>price</th>\n",
       "    </tr>\n",
       "  </thead>\n",
       "  <tbody>\n",
       "    <tr>\n",
       "      <th>balcony</th>\n",
       "      <td>1.000000</td>\n",
       "      <td>0.124951</td>\n",
       "    </tr>\n",
       "    <tr>\n",
       "      <th>price</th>\n",
       "      <td>0.124951</td>\n",
       "      <td>1.000000</td>\n",
       "    </tr>\n",
       "  </tbody>\n",
       "</table>\n",
       "</div>"
      ],
      "text/plain": [
       "          balcony     price\n",
       "balcony  1.000000  0.124951\n",
       "price    0.124951  1.000000"
      ]
     },
     "execution_count": 12,
     "metadata": {},
     "output_type": "execute_result"
    }
   ],
   "source": [
    "df_temp = df1[['balcony', 'price']]\n",
    "df_temp.corr()"
   ]
  },
  {
   "cell_type": "code",
   "execution_count": 13,
   "id": "dense-progress",
   "metadata": {
    "execution": {
     "iopub.execute_input": "2021-05-25T05:45:24.330387Z",
     "iopub.status.busy": "2021-05-25T05:45:24.329446Z",
     "iopub.status.idle": "2021-05-25T05:45:24.343452Z",
     "shell.execute_reply": "2021-05-25T05:45:24.343910Z",
     "shell.execute_reply.started": "2021-05-25T05:14:54.939431Z"
    },
    "papermill": {
     "duration": 0.090482,
     "end_time": "2021-05-25T05:45:24.344087",
     "exception": false,
     "start_time": "2021-05-25T05:45:24.253605",
     "status": "completed"
    },
    "tags": []
   },
   "outputs": [],
   "source": [
    "def ready(x):\n",
    "    if x == 'Ready To Move':\n",
    "        return 1\n",
    "    else:\n",
    "        return 0\n",
    "df1['availability'] = df1['availability'].apply(ready)"
   ]
  },
  {
   "cell_type": "code",
   "execution_count": 14,
   "id": "limiting-toronto",
   "metadata": {
    "execution": {
     "iopub.execute_input": "2021-05-25T05:45:24.494444Z",
     "iopub.status.busy": "2021-05-25T05:45:24.493513Z",
     "iopub.status.idle": "2021-05-25T05:45:24.508330Z",
     "shell.execute_reply": "2021-05-25T05:45:24.508849Z",
     "shell.execute_reply.started": "2021-05-25T05:15:03.704485Z"
    },
    "papermill": {
     "duration": 0.09165,
     "end_time": "2021-05-25T05:45:24.509022",
     "exception": false,
     "start_time": "2021-05-25T05:45:24.417372",
     "status": "completed"
    },
    "tags": []
   },
   "outputs": [
    {
     "data": {
      "text/html": [
       "<div>\n",
       "<style scoped>\n",
       "    .dataframe tbody tr th:only-of-type {\n",
       "        vertical-align: middle;\n",
       "    }\n",
       "\n",
       "    .dataframe tbody tr th {\n",
       "        vertical-align: top;\n",
       "    }\n",
       "\n",
       "    .dataframe thead th {\n",
       "        text-align: right;\n",
       "    }\n",
       "</style>\n",
       "<table border=\"1\" class=\"dataframe\">\n",
       "  <thead>\n",
       "    <tr style=\"text-align: right;\">\n",
       "      <th></th>\n",
       "      <th>availability</th>\n",
       "      <th>price</th>\n",
       "    </tr>\n",
       "  </thead>\n",
       "  <tbody>\n",
       "    <tr>\n",
       "      <th>availability</th>\n",
       "      <td>1.000000</td>\n",
       "      <td>0.034483</td>\n",
       "    </tr>\n",
       "    <tr>\n",
       "      <th>price</th>\n",
       "      <td>0.034483</td>\n",
       "      <td>1.000000</td>\n",
       "    </tr>\n",
       "  </tbody>\n",
       "</table>\n",
       "</div>"
      ],
      "text/plain": [
       "              availability     price\n",
       "availability      1.000000  0.034483\n",
       "price             0.034483  1.000000"
      ]
     },
     "execution_count": 14,
     "metadata": {},
     "output_type": "execute_result"
    }
   ],
   "source": [
    "df_temp = df1[['availability', 'price']]\n",
    "df_temp.corr()"
   ]
  },
  {
   "cell_type": "code",
   "execution_count": 15,
   "id": "passive-parking",
   "metadata": {
    "execution": {
     "iopub.execute_input": "2021-05-25T05:45:24.677905Z",
     "iopub.status.busy": "2021-05-25T05:45:24.676905Z",
     "iopub.status.idle": "2021-05-25T05:45:24.682517Z",
     "shell.execute_reply": "2021-05-25T05:45:24.682995Z",
     "shell.execute_reply.started": "2021-05-25T05:15:12.337827Z"
    },
    "papermill": {
     "duration": 0.087243,
     "end_time": "2021-05-25T05:45:24.683157",
     "exception": false,
     "start_time": "2021-05-25T05:45:24.595914",
     "status": "completed"
    },
    "tags": []
   },
   "outputs": [],
   "source": [
    "df2 = df1.drop(['society' , 'balcony', 'availability'] , axis = 'columns')"
   ]
  },
  {
   "cell_type": "code",
   "execution_count": 16,
   "id": "vocational-detective",
   "metadata": {
    "execution": {
     "iopub.execute_input": "2021-05-25T05:45:24.834702Z",
     "iopub.status.busy": "2021-05-25T05:45:24.833744Z",
     "iopub.status.idle": "2021-05-25T05:45:24.846433Z",
     "shell.execute_reply": "2021-05-25T05:45:24.846876Z",
     "shell.execute_reply.started": "2021-05-25T05:15:21.345809Z"
    },
    "papermill": {
     "duration": 0.090494,
     "end_time": "2021-05-25T05:45:24.847046",
     "exception": false,
     "start_time": "2021-05-25T05:45:24.756552",
     "status": "completed"
    },
    "tags": []
   },
   "outputs": [
    {
     "data": {
      "text/html": [
       "<div>\n",
       "<style scoped>\n",
       "    .dataframe tbody tr th:only-of-type {\n",
       "        vertical-align: middle;\n",
       "    }\n",
       "\n",
       "    .dataframe tbody tr th {\n",
       "        vertical-align: top;\n",
       "    }\n",
       "\n",
       "    .dataframe thead th {\n",
       "        text-align: right;\n",
       "    }\n",
       "</style>\n",
       "<table border=\"1\" class=\"dataframe\">\n",
       "  <thead>\n",
       "    <tr style=\"text-align: right;\">\n",
       "      <th></th>\n",
       "      <th>location</th>\n",
       "      <th>size</th>\n",
       "      <th>total_sqft</th>\n",
       "      <th>bath</th>\n",
       "      <th>price</th>\n",
       "      <th>area_type_numeric</th>\n",
       "    </tr>\n",
       "  </thead>\n",
       "  <tbody>\n",
       "    <tr>\n",
       "      <th>0</th>\n",
       "      <td>Electronic City Phase II</td>\n",
       "      <td>2 BHK</td>\n",
       "      <td>1056</td>\n",
       "      <td>2.0</td>\n",
       "      <td>39.07</td>\n",
       "      <td>0</td>\n",
       "    </tr>\n",
       "    <tr>\n",
       "      <th>1</th>\n",
       "      <td>Chikka Tirupathi</td>\n",
       "      <td>4 Bedroom</td>\n",
       "      <td>2600</td>\n",
       "      <td>5.0</td>\n",
       "      <td>120.00</td>\n",
       "      <td>1</td>\n",
       "    </tr>\n",
       "    <tr>\n",
       "      <th>2</th>\n",
       "      <td>Uttarahalli</td>\n",
       "      <td>3 BHK</td>\n",
       "      <td>1440</td>\n",
       "      <td>2.0</td>\n",
       "      <td>62.00</td>\n",
       "      <td>2</td>\n",
       "    </tr>\n",
       "    <tr>\n",
       "      <th>3</th>\n",
       "      <td>Lingadheeranahalli</td>\n",
       "      <td>3 BHK</td>\n",
       "      <td>1521</td>\n",
       "      <td>3.0</td>\n",
       "      <td>95.00</td>\n",
       "      <td>0</td>\n",
       "    </tr>\n",
       "    <tr>\n",
       "      <th>4</th>\n",
       "      <td>Kothanur</td>\n",
       "      <td>2 BHK</td>\n",
       "      <td>1200</td>\n",
       "      <td>2.0</td>\n",
       "      <td>51.00</td>\n",
       "      <td>0</td>\n",
       "    </tr>\n",
       "  </tbody>\n",
       "</table>\n",
       "</div>"
      ],
      "text/plain": [
       "                   location       size total_sqft  bath   price  \\\n",
       "0  Electronic City Phase II      2 BHK       1056   2.0   39.07   \n",
       "1          Chikka Tirupathi  4 Bedroom       2600   5.0  120.00   \n",
       "2               Uttarahalli      3 BHK       1440   2.0   62.00   \n",
       "3        Lingadheeranahalli      3 BHK       1521   3.0   95.00   \n",
       "4                  Kothanur      2 BHK       1200   2.0   51.00   \n",
       "\n",
       "   area_type_numeric  \n",
       "0                  0  \n",
       "1                  1  \n",
       "2                  2  \n",
       "3                  0  \n",
       "4                  0  "
      ]
     },
     "execution_count": 16,
     "metadata": {},
     "output_type": "execute_result"
    }
   ],
   "source": [
    "df2.head()"
   ]
  },
  {
   "cell_type": "code",
   "execution_count": 17,
   "id": "requested-parameter",
   "metadata": {
    "execution": {
     "iopub.execute_input": "2021-05-25T05:45:24.999956Z",
     "iopub.status.busy": "2021-05-25T05:45:24.999037Z",
     "iopub.status.idle": "2021-05-25T05:45:25.010403Z",
     "shell.execute_reply": "2021-05-25T05:45:25.010992Z",
     "shell.execute_reply.started": "2021-05-25T05:15:30.392427Z"
    },
    "papermill": {
     "duration": 0.08945,
     "end_time": "2021-05-25T05:45:25.011196",
     "exception": false,
     "start_time": "2021-05-25T05:45:24.921746",
     "status": "completed"
    },
    "tags": []
   },
   "outputs": [
    {
     "data": {
      "text/plain": [
       "location              1\n",
       "size                 16\n",
       "total_sqft            0\n",
       "bath                 73\n",
       "price                 0\n",
       "area_type_numeric     0\n",
       "dtype: int64"
      ]
     },
     "execution_count": 17,
     "metadata": {},
     "output_type": "execute_result"
    }
   ],
   "source": [
    "df2.isnull().sum()"
   ]
  },
  {
   "cell_type": "code",
   "execution_count": 18,
   "id": "announced-world",
   "metadata": {
    "execution": {
     "iopub.execute_input": "2021-05-25T05:45:25.165032Z",
     "iopub.status.busy": "2021-05-25T05:45:25.164084Z",
     "iopub.status.idle": "2021-05-25T05:45:25.188866Z",
     "shell.execute_reply": "2021-05-25T05:45:25.188232Z",
     "shell.execute_reply.started": "2021-05-25T05:15:38.098590Z"
    },
    "papermill": {
     "duration": 0.102799,
     "end_time": "2021-05-25T05:45:25.189002",
     "exception": false,
     "start_time": "2021-05-25T05:45:25.086203",
     "status": "completed"
    },
    "tags": []
   },
   "outputs": [
    {
     "data": {
      "text/html": [
       "<div>\n",
       "<style scoped>\n",
       "    .dataframe tbody tr th:only-of-type {\n",
       "        vertical-align: middle;\n",
       "    }\n",
       "\n",
       "    .dataframe tbody tr th {\n",
       "        vertical-align: top;\n",
       "    }\n",
       "\n",
       "    .dataframe thead th {\n",
       "        text-align: right;\n",
       "    }\n",
       "</style>\n",
       "<table border=\"1\" class=\"dataframe\">\n",
       "  <thead>\n",
       "    <tr style=\"text-align: right;\">\n",
       "      <th></th>\n",
       "      <th>bath</th>\n",
       "      <th>price</th>\n",
       "      <th>area_type_numeric</th>\n",
       "    </tr>\n",
       "  </thead>\n",
       "  <tbody>\n",
       "    <tr>\n",
       "      <th>count</th>\n",
       "      <td>13247.000000</td>\n",
       "      <td>13320.000000</td>\n",
       "      <td>13320.000000</td>\n",
       "    </tr>\n",
       "    <tr>\n",
       "      <th>mean</th>\n",
       "      <td>2.692610</td>\n",
       "      <td>112.565627</td>\n",
       "      <td>0.534685</td>\n",
       "    </tr>\n",
       "    <tr>\n",
       "      <th>std</th>\n",
       "      <td>1.341458</td>\n",
       "      <td>148.971674</td>\n",
       "      <td>0.806907</td>\n",
       "    </tr>\n",
       "    <tr>\n",
       "      <th>min</th>\n",
       "      <td>1.000000</td>\n",
       "      <td>8.000000</td>\n",
       "      <td>0.000000</td>\n",
       "    </tr>\n",
       "    <tr>\n",
       "      <th>25%</th>\n",
       "      <td>2.000000</td>\n",
       "      <td>50.000000</td>\n",
       "      <td>0.000000</td>\n",
       "    </tr>\n",
       "    <tr>\n",
       "      <th>50%</th>\n",
       "      <td>2.000000</td>\n",
       "      <td>72.000000</td>\n",
       "      <td>0.000000</td>\n",
       "    </tr>\n",
       "    <tr>\n",
       "      <th>75%</th>\n",
       "      <td>3.000000</td>\n",
       "      <td>120.000000</td>\n",
       "      <td>1.000000</td>\n",
       "    </tr>\n",
       "    <tr>\n",
       "      <th>max</th>\n",
       "      <td>40.000000</td>\n",
       "      <td>3600.000000</td>\n",
       "      <td>3.000000</td>\n",
       "    </tr>\n",
       "  </tbody>\n",
       "</table>\n",
       "</div>"
      ],
      "text/plain": [
       "               bath         price  area_type_numeric\n",
       "count  13247.000000  13320.000000       13320.000000\n",
       "mean       2.692610    112.565627           0.534685\n",
       "std        1.341458    148.971674           0.806907\n",
       "min        1.000000      8.000000           0.000000\n",
       "25%        2.000000     50.000000           0.000000\n",
       "50%        2.000000     72.000000           0.000000\n",
       "75%        3.000000    120.000000           1.000000\n",
       "max       40.000000   3600.000000           3.000000"
      ]
     },
     "execution_count": 18,
     "metadata": {},
     "output_type": "execute_result"
    }
   ],
   "source": [
    "df2.describe()"
   ]
  },
  {
   "cell_type": "code",
   "execution_count": 19,
   "id": "pending-stadium",
   "metadata": {
    "execution": {
     "iopub.execute_input": "2021-05-25T05:45:25.347164Z",
     "iopub.status.busy": "2021-05-25T05:45:25.346195Z",
     "iopub.status.idle": "2021-05-25T05:45:25.350010Z",
     "shell.execute_reply": "2021-05-25T05:45:25.350497Z",
     "shell.execute_reply.started": "2021-05-25T05:15:46.203921Z"
    },
    "papermill": {
     "duration": 0.086353,
     "end_time": "2021-05-25T05:45:25.350675",
     "exception": false,
     "start_time": "2021-05-25T05:45:25.264322",
     "status": "completed"
    },
    "tags": []
   },
   "outputs": [
    {
     "data": {
      "text/plain": [
       "array(['2 BHK', '4 Bedroom', '3 BHK', '4 BHK', '6 Bedroom', '3 Bedroom',\n",
       "       '1 BHK', '1 RK', '1 Bedroom', '8 Bedroom', '2 Bedroom',\n",
       "       '7 Bedroom', '5 BHK', '7 BHK', '6 BHK', '5 Bedroom', '11 BHK',\n",
       "       '9 BHK', nan, '9 Bedroom', '27 BHK', '10 Bedroom', '11 Bedroom',\n",
       "       '10 BHK', '19 BHK', '16 BHK', '43 Bedroom', '14 BHK', '8 BHK',\n",
       "       '12 Bedroom', '13 BHK', '18 Bedroom'], dtype=object)"
      ]
     },
     "execution_count": 19,
     "metadata": {},
     "output_type": "execute_result"
    }
   ],
   "source": [
    "df2['size'].unique()"
   ]
  },
  {
   "cell_type": "code",
   "execution_count": 20,
   "id": "interesting-findings",
   "metadata": {
    "execution": {
     "iopub.execute_input": "2021-05-25T05:45:25.505797Z",
     "iopub.status.busy": "2021-05-25T05:45:25.504802Z",
     "iopub.status.idle": "2021-05-25T05:45:25.514725Z",
     "shell.execute_reply": "2021-05-25T05:45:25.515146Z",
     "shell.execute_reply.started": "2021-05-25T05:15:56.018225Z"
    },
    "papermill": {
     "duration": 0.089044,
     "end_time": "2021-05-25T05:45:25.515367",
     "exception": false,
     "start_time": "2021-05-25T05:45:25.426323",
     "status": "completed"
    },
    "tags": []
   },
   "outputs": [
    {
     "data": {
      "text/plain": [
       "2 BHK        5199\n",
       "3 BHK        4310\n",
       "4 Bedroom     826\n",
       "4 BHK         591\n",
       "3 Bedroom     547\n",
       "Name: size, dtype: int64"
      ]
     },
     "execution_count": 20,
     "metadata": {},
     "output_type": "execute_result"
    }
   ],
   "source": [
    "df2['size'].value_counts().head()"
   ]
  },
  {
   "cell_type": "code",
   "execution_count": 21,
   "id": "covered-stock",
   "metadata": {
    "execution": {
     "iopub.execute_input": "2021-05-25T05:45:25.670541Z",
     "iopub.status.busy": "2021-05-25T05:45:25.669610Z",
     "iopub.status.idle": "2021-05-25T05:45:25.675505Z",
     "shell.execute_reply": "2021-05-25T05:45:25.675981Z",
     "shell.execute_reply.started": "2021-05-25T05:16:12.491932Z"
    },
    "papermill": {
     "duration": 0.085053,
     "end_time": "2021-05-25T05:45:25.676141",
     "exception": false,
     "start_time": "2021-05-25T05:45:25.591088",
     "status": "completed"
    },
    "tags": []
   },
   "outputs": [],
   "source": [
    "df2['size'] = df2['size'].fillna('2 BHK')"
   ]
  },
  {
   "cell_type": "markdown",
   "id": "improving-hypothetical",
   "metadata": {
    "execution": {
     "iopub.execute_input": "2021-05-25T05:19:49.644172Z",
     "iopub.status.busy": "2021-05-25T05:19:49.643830Z",
     "iopub.status.idle": "2021-05-25T05:19:49.649404Z",
     "shell.execute_reply": "2021-05-25T05:19:49.648260Z",
     "shell.execute_reply.started": "2021-05-25T05:19:49.644143Z"
    },
    "papermill": {
     "duration": 0.074418,
     "end_time": "2021-05-25T05:45:25.825861",
     "exception": false,
     "start_time": "2021-05-25T05:45:25.751443",
     "status": "completed"
    },
    "tags": []
   },
   "source": [
    "# Feature Engineering\n",
    "**Adding new feature(integer) for bhk (Bedrooms Hall Kitchen)**"
   ]
  },
  {
   "cell_type": "code",
   "execution_count": 22,
   "id": "subsequent-threat",
   "metadata": {
    "execution": {
     "iopub.execute_input": "2021-05-25T05:45:25.979314Z",
     "iopub.status.busy": "2021-05-25T05:45:25.978381Z",
     "iopub.status.idle": "2021-05-25T05:45:25.995930Z",
     "shell.execute_reply": "2021-05-25T05:45:25.996480Z",
     "shell.execute_reply.started": "2021-05-25T05:20:14.007186Z"
    },
    "papermill": {
     "duration": 0.095657,
     "end_time": "2021-05-25T05:45:25.996660",
     "exception": false,
     "start_time": "2021-05-25T05:45:25.901003",
     "status": "completed"
    },
    "tags": []
   },
   "outputs": [],
   "source": [
    "df2['BHK'] = df2['size'].apply(lambda x : int(x.split(' ')[0]))"
   ]
  },
  {
   "cell_type": "code",
   "execution_count": 23,
   "id": "bridal-vertical",
   "metadata": {
    "execution": {
     "iopub.execute_input": "2021-05-25T05:45:26.154759Z",
     "iopub.status.busy": "2021-05-25T05:45:26.153794Z",
     "iopub.status.idle": "2021-05-25T05:45:26.165924Z",
     "shell.execute_reply": "2021-05-25T05:45:26.165325Z",
     "shell.execute_reply.started": "2021-05-25T05:20:21.854221Z"
    },
    "papermill": {
     "duration": 0.09301,
     "end_time": "2021-05-25T05:45:26.166061",
     "exception": false,
     "start_time": "2021-05-25T05:45:26.073051",
     "status": "completed"
    },
    "tags": []
   },
   "outputs": [
    {
     "data": {
      "text/html": [
       "<div>\n",
       "<style scoped>\n",
       "    .dataframe tbody tr th:only-of-type {\n",
       "        vertical-align: middle;\n",
       "    }\n",
       "\n",
       "    .dataframe tbody tr th {\n",
       "        vertical-align: top;\n",
       "    }\n",
       "\n",
       "    .dataframe thead th {\n",
       "        text-align: right;\n",
       "    }\n",
       "</style>\n",
       "<table border=\"1\" class=\"dataframe\">\n",
       "  <thead>\n",
       "    <tr style=\"text-align: right;\">\n",
       "      <th></th>\n",
       "      <th>BHK</th>\n",
       "      <th>price</th>\n",
       "    </tr>\n",
       "  </thead>\n",
       "  <tbody>\n",
       "    <tr>\n",
       "      <th>BHK</th>\n",
       "      <td>1.000000</td>\n",
       "      <td>0.398074</td>\n",
       "    </tr>\n",
       "    <tr>\n",
       "      <th>price</th>\n",
       "      <td>0.398074</td>\n",
       "      <td>1.000000</td>\n",
       "    </tr>\n",
       "  </tbody>\n",
       "</table>\n",
       "</div>"
      ],
      "text/plain": [
       "            BHK     price\n",
       "BHK    1.000000  0.398074\n",
       "price  0.398074  1.000000"
      ]
     },
     "execution_count": 23,
     "metadata": {},
     "output_type": "execute_result"
    }
   ],
   "source": [
    "df_temp = df2[['BHK', 'price']]\n",
    "df_temp.corr()"
   ]
  },
  {
   "cell_type": "code",
   "execution_count": 24,
   "id": "exempt-canada",
   "metadata": {
    "execution": {
     "iopub.execute_input": "2021-05-25T05:45:26.324559Z",
     "iopub.status.busy": "2021-05-25T05:45:26.323701Z",
     "iopub.status.idle": "2021-05-25T05:45:26.327722Z",
     "shell.execute_reply": "2021-05-25T05:45:26.326977Z",
     "shell.execute_reply.started": "2021-05-25T05:20:32.334784Z"
    },
    "papermill": {
     "duration": 0.084688,
     "end_time": "2021-05-25T05:45:26.327859",
     "exception": false,
     "start_time": "2021-05-25T05:45:26.243171",
     "status": "completed"
    },
    "tags": []
   },
   "outputs": [],
   "source": [
    "df2['bath'] = df2['bath'].fillna(df2.bath.median())"
   ]
  },
  {
   "cell_type": "code",
   "execution_count": 25,
   "id": "conceptual-coupon",
   "metadata": {
    "execution": {
     "iopub.execute_input": "2021-05-25T05:45:26.494061Z",
     "iopub.status.busy": "2021-05-25T05:45:26.493132Z",
     "iopub.status.idle": "2021-05-25T05:45:26.497895Z",
     "shell.execute_reply": "2021-05-25T05:45:26.497349Z",
     "shell.execute_reply.started": "2021-05-25T05:20:39.297702Z"
    },
    "papermill": {
     "duration": 0.094005,
     "end_time": "2021-05-25T05:45:26.498032",
     "exception": false,
     "start_time": "2021-05-25T05:45:26.404027",
     "status": "completed"
    },
    "tags": []
   },
   "outputs": [
    {
     "data": {
      "text/html": [
       "<div>\n",
       "<style scoped>\n",
       "    .dataframe tbody tr th:only-of-type {\n",
       "        vertical-align: middle;\n",
       "    }\n",
       "\n",
       "    .dataframe tbody tr th {\n",
       "        vertical-align: top;\n",
       "    }\n",
       "\n",
       "    .dataframe thead th {\n",
       "        text-align: right;\n",
       "    }\n",
       "</style>\n",
       "<table border=\"1\" class=\"dataframe\">\n",
       "  <thead>\n",
       "    <tr style=\"text-align: right;\">\n",
       "      <th></th>\n",
       "      <th>location</th>\n",
       "      <th>size</th>\n",
       "      <th>total_sqft</th>\n",
       "      <th>bath</th>\n",
       "      <th>price</th>\n",
       "      <th>area_type_numeric</th>\n",
       "      <th>BHK</th>\n",
       "    </tr>\n",
       "  </thead>\n",
       "  <tbody>\n",
       "    <tr>\n",
       "      <th>0</th>\n",
       "      <td>Electronic City Phase II</td>\n",
       "      <td>2 BHK</td>\n",
       "      <td>1056</td>\n",
       "      <td>2.0</td>\n",
       "      <td>39.07</td>\n",
       "      <td>0</td>\n",
       "      <td>2</td>\n",
       "    </tr>\n",
       "    <tr>\n",
       "      <th>1</th>\n",
       "      <td>Chikka Tirupathi</td>\n",
       "      <td>4 Bedroom</td>\n",
       "      <td>2600</td>\n",
       "      <td>5.0</td>\n",
       "      <td>120.00</td>\n",
       "      <td>1</td>\n",
       "      <td>4</td>\n",
       "    </tr>\n",
       "    <tr>\n",
       "      <th>2</th>\n",
       "      <td>Uttarahalli</td>\n",
       "      <td>3 BHK</td>\n",
       "      <td>1440</td>\n",
       "      <td>2.0</td>\n",
       "      <td>62.00</td>\n",
       "      <td>2</td>\n",
       "      <td>3</td>\n",
       "    </tr>\n",
       "    <tr>\n",
       "      <th>3</th>\n",
       "      <td>Lingadheeranahalli</td>\n",
       "      <td>3 BHK</td>\n",
       "      <td>1521</td>\n",
       "      <td>3.0</td>\n",
       "      <td>95.00</td>\n",
       "      <td>0</td>\n",
       "      <td>3</td>\n",
       "    </tr>\n",
       "    <tr>\n",
       "      <th>4</th>\n",
       "      <td>Kothanur</td>\n",
       "      <td>2 BHK</td>\n",
       "      <td>1200</td>\n",
       "      <td>2.0</td>\n",
       "      <td>51.00</td>\n",
       "      <td>0</td>\n",
       "      <td>2</td>\n",
       "    </tr>\n",
       "  </tbody>\n",
       "</table>\n",
       "</div>"
      ],
      "text/plain": [
       "                   location       size total_sqft  bath   price  \\\n",
       "0  Electronic City Phase II      2 BHK       1056   2.0   39.07   \n",
       "1          Chikka Tirupathi  4 Bedroom       2600   5.0  120.00   \n",
       "2               Uttarahalli      3 BHK       1440   2.0   62.00   \n",
       "3        Lingadheeranahalli      3 BHK       1521   3.0   95.00   \n",
       "4                  Kothanur      2 BHK       1200   2.0   51.00   \n",
       "\n",
       "   area_type_numeric  BHK  \n",
       "0                  0    2  \n",
       "1                  1    4  \n",
       "2                  2    3  \n",
       "3                  0    3  \n",
       "4                  0    2  "
      ]
     },
     "execution_count": 25,
     "metadata": {},
     "output_type": "execute_result"
    }
   ],
   "source": [
    "df2.head()"
   ]
  },
  {
   "cell_type": "code",
   "execution_count": 26,
   "id": "opened-lightweight",
   "metadata": {
    "execution": {
     "iopub.execute_input": "2021-05-25T05:45:26.658803Z",
     "iopub.status.busy": "2021-05-25T05:45:26.658112Z",
     "iopub.status.idle": "2021-05-25T05:45:26.664200Z",
     "shell.execute_reply": "2021-05-25T05:45:26.663730Z",
     "shell.execute_reply.started": "2021-05-25T05:20:48.399201Z"
    },
    "papermill": {
     "duration": 0.090184,
     "end_time": "2021-05-25T05:45:26.664377",
     "exception": false,
     "start_time": "2021-05-25T05:45:26.574193",
     "status": "completed"
    },
    "tags": []
   },
   "outputs": [
    {
     "data": {
      "text/plain": [
       "Whitefield                         540\n",
       "Sarjapur  Road                     399\n",
       "Electronic City                    302\n",
       "Kanakpura Road                     273\n",
       "Thanisandra                        234\n",
       "                                  ... \n",
       "Mullur                               1\n",
       "4 Bedroom Farm House in Bagalur      1\n",
       "Vijaypura                            1\n",
       "Akash Nagar                          1\n",
       "Milk Colony                          1\n",
       "Name: location, Length: 1305, dtype: int64"
      ]
     },
     "execution_count": 26,
     "metadata": {},
     "output_type": "execute_result"
    }
   ],
   "source": [
    "df2['location'].value_counts()"
   ]
  },
  {
   "cell_type": "code",
   "execution_count": 27,
   "id": "upset-search",
   "metadata": {
    "execution": {
     "iopub.execute_input": "2021-05-25T05:45:26.831847Z",
     "iopub.status.busy": "2021-05-25T05:45:26.830887Z",
     "iopub.status.idle": "2021-05-25T05:45:26.837390Z",
     "shell.execute_reply": "2021-05-25T05:45:26.837905Z",
     "shell.execute_reply.started": "2021-05-25T05:20:56.890102Z"
    },
    "papermill": {
     "duration": 0.097134,
     "end_time": "2021-05-25T05:45:26.838079",
     "exception": false,
     "start_time": "2021-05-25T05:45:26.740945",
     "status": "completed"
    },
    "tags": []
   },
   "outputs": [],
   "source": [
    "df2['location'] = df2['location'].fillna('Whitefield')"
   ]
  },
  {
   "cell_type": "code",
   "execution_count": 28,
   "id": "silver-asian",
   "metadata": {
    "execution": {
     "iopub.execute_input": "2021-05-25T05:45:27.015873Z",
     "iopub.status.busy": "2021-05-25T05:45:27.014878Z",
     "iopub.status.idle": "2021-05-25T05:45:27.020729Z",
     "shell.execute_reply": "2021-05-25T05:45:27.019715Z",
     "shell.execute_reply.started": "2021-05-25T05:21:05.833198Z"
    },
    "papermill": {
     "duration": 0.099467,
     "end_time": "2021-05-25T05:45:27.020944",
     "exception": false,
     "start_time": "2021-05-25T05:45:26.921477",
     "status": "completed"
    },
    "tags": []
   },
   "outputs": [
    {
     "data": {
      "text/plain": [
       "array([ 2,  4,  3,  6,  1,  8,  7,  5, 11,  9, 27, 10, 19, 16, 43, 14, 12,\n",
       "       13, 18])"
      ]
     },
     "execution_count": 28,
     "metadata": {},
     "output_type": "execute_result"
    }
   ],
   "source": [
    "df2.BHK.unique()"
   ]
  },
  {
   "cell_type": "code",
   "execution_count": 29,
   "id": "turkish-reservoir",
   "metadata": {
    "execution": {
     "iopub.execute_input": "2021-05-25T05:45:27.187892Z",
     "iopub.status.busy": "2021-05-25T05:45:27.187152Z",
     "iopub.status.idle": "2021-05-25T05:45:27.215450Z",
     "shell.execute_reply": "2021-05-25T05:45:27.214936Z",
     "shell.execute_reply.started": "2021-05-25T05:21:31.056203Z"
    },
    "papermill": {
     "duration": 0.110164,
     "end_time": "2021-05-25T05:45:27.215597",
     "exception": false,
     "start_time": "2021-05-25T05:45:27.105433",
     "status": "completed"
    },
    "tags": []
   },
   "outputs": [
    {
     "data": {
      "text/html": [
       "<div>\n",
       "<style scoped>\n",
       "    .dataframe tbody tr th:only-of-type {\n",
       "        vertical-align: middle;\n",
       "    }\n",
       "\n",
       "    .dataframe tbody tr th {\n",
       "        vertical-align: top;\n",
       "    }\n",
       "\n",
       "    .dataframe thead th {\n",
       "        text-align: right;\n",
       "    }\n",
       "</style>\n",
       "<table border=\"1\" class=\"dataframe\">\n",
       "  <thead>\n",
       "    <tr style=\"text-align: right;\">\n",
       "      <th></th>\n",
       "      <th>location</th>\n",
       "      <th>size</th>\n",
       "      <th>total_sqft</th>\n",
       "      <th>bath</th>\n",
       "      <th>price</th>\n",
       "      <th>area_type_numeric</th>\n",
       "      <th>BHK</th>\n",
       "    </tr>\n",
       "  </thead>\n",
       "  <tbody>\n",
       "    <tr>\n",
       "      <th>1718</th>\n",
       "      <td>2Electronic City Phase II</td>\n",
       "      <td>27 BHK</td>\n",
       "      <td>8000</td>\n",
       "      <td>27.0</td>\n",
       "      <td>230.0</td>\n",
       "      <td>0</td>\n",
       "      <td>27</td>\n",
       "    </tr>\n",
       "    <tr>\n",
       "      <th>4684</th>\n",
       "      <td>Munnekollal</td>\n",
       "      <td>43 Bedroom</td>\n",
       "      <td>2400</td>\n",
       "      <td>40.0</td>\n",
       "      <td>660.0</td>\n",
       "      <td>1</td>\n",
       "      <td>43</td>\n",
       "    </tr>\n",
       "  </tbody>\n",
       "</table>\n",
       "</div>"
      ],
      "text/plain": [
       "                       location        size total_sqft  bath  price  \\\n",
       "1718  2Electronic City Phase II      27 BHK       8000  27.0  230.0   \n",
       "4684                Munnekollal  43 Bedroom       2400  40.0  660.0   \n",
       "\n",
       "      area_type_numeric  BHK  \n",
       "1718                  0   27  \n",
       "4684                  1   43  "
      ]
     },
     "execution_count": 29,
     "metadata": {},
     "output_type": "execute_result"
    }
   ],
   "source": [
    "df2[df2.BHK>20]"
   ]
  },
  {
   "cell_type": "code",
   "execution_count": 30,
   "id": "primary-exercise",
   "metadata": {
    "execution": {
     "iopub.execute_input": "2021-05-25T05:45:27.378860Z",
     "iopub.status.busy": "2021-05-25T05:45:27.377877Z",
     "iopub.status.idle": "2021-05-25T05:45:27.383433Z",
     "shell.execute_reply": "2021-05-25T05:45:27.382890Z",
     "shell.execute_reply.started": "2021-05-25T05:21:39.162247Z"
    },
    "papermill": {
     "duration": 0.089528,
     "end_time": "2021-05-25T05:45:27.383576",
     "exception": false,
     "start_time": "2021-05-25T05:45:27.294048",
     "status": "completed"
    },
    "tags": []
   },
   "outputs": [
    {
     "data": {
      "text/plain": [
       "array(['1056', '2600', '1440', ..., '1133 - 1384', '774', '4689'],\n",
       "      dtype=object)"
      ]
     },
     "execution_count": 30,
     "metadata": {},
     "output_type": "execute_result"
    }
   ],
   "source": [
    "df2.total_sqft.unique()"
   ]
  },
  {
   "cell_type": "code",
   "execution_count": 31,
   "id": "multiple-enlargement",
   "metadata": {
    "execution": {
     "iopub.execute_input": "2021-05-25T05:45:27.546042Z",
     "iopub.status.busy": "2021-05-25T05:45:27.545248Z",
     "iopub.status.idle": "2021-05-25T05:45:27.549885Z",
     "shell.execute_reply": "2021-05-25T05:45:27.549280Z",
     "shell.execute_reply.started": "2021-05-25T05:21:46.320430Z"
    },
    "papermill": {
     "duration": 0.085379,
     "end_time": "2021-05-25T05:45:27.550028",
     "exception": false,
     "start_time": "2021-05-25T05:45:27.464649",
     "status": "completed"
    },
    "tags": []
   },
   "outputs": [],
   "source": [
    "def is_float(x):\n",
    "    try:\n",
    "        float(x)\n",
    "    except:\n",
    "        return False\n",
    "    return True    "
   ]
  },
  {
   "cell_type": "code",
   "execution_count": 32,
   "id": "hydraulic-specification",
   "metadata": {
    "execution": {
     "iopub.execute_input": "2021-05-25T05:45:27.729931Z",
     "iopub.status.busy": "2021-05-25T05:45:27.729257Z",
     "iopub.status.idle": "2021-05-25T05:45:27.732716Z",
     "shell.execute_reply": "2021-05-25T05:45:27.733183Z",
     "shell.execute_reply.started": "2021-05-25T05:22:33.680735Z"
    },
    "papermill": {
     "duration": 0.104824,
     "end_time": "2021-05-25T05:45:27.733368",
     "exception": false,
     "start_time": "2021-05-25T05:45:27.628544",
     "status": "completed"
    },
    "tags": []
   },
   "outputs": [
    {
     "data": {
      "text/html": [
       "<div>\n",
       "<style scoped>\n",
       "    .dataframe tbody tr th:only-of-type {\n",
       "        vertical-align: middle;\n",
       "    }\n",
       "\n",
       "    .dataframe tbody tr th {\n",
       "        vertical-align: top;\n",
       "    }\n",
       "\n",
       "    .dataframe thead th {\n",
       "        text-align: right;\n",
       "    }\n",
       "</style>\n",
       "<table border=\"1\" class=\"dataframe\">\n",
       "  <thead>\n",
       "    <tr style=\"text-align: right;\">\n",
       "      <th></th>\n",
       "      <th>location</th>\n",
       "      <th>size</th>\n",
       "      <th>total_sqft</th>\n",
       "      <th>bath</th>\n",
       "      <th>price</th>\n",
       "      <th>area_type_numeric</th>\n",
       "      <th>BHK</th>\n",
       "    </tr>\n",
       "  </thead>\n",
       "  <tbody>\n",
       "    <tr>\n",
       "      <th>30</th>\n",
       "      <td>Yelahanka</td>\n",
       "      <td>4 BHK</td>\n",
       "      <td>2100 - 2850</td>\n",
       "      <td>4.0</td>\n",
       "      <td>186.000</td>\n",
       "      <td>0</td>\n",
       "      <td>4</td>\n",
       "    </tr>\n",
       "    <tr>\n",
       "      <th>56</th>\n",
       "      <td>Devanahalli</td>\n",
       "      <td>4 Bedroom</td>\n",
       "      <td>3010 - 3410</td>\n",
       "      <td>2.0</td>\n",
       "      <td>192.000</td>\n",
       "      <td>2</td>\n",
       "      <td>4</td>\n",
       "    </tr>\n",
       "    <tr>\n",
       "      <th>81</th>\n",
       "      <td>Hennur Road</td>\n",
       "      <td>4 Bedroom</td>\n",
       "      <td>2957 - 3450</td>\n",
       "      <td>2.0</td>\n",
       "      <td>224.500</td>\n",
       "      <td>2</td>\n",
       "      <td>4</td>\n",
       "    </tr>\n",
       "    <tr>\n",
       "      <th>122</th>\n",
       "      <td>Hebbal</td>\n",
       "      <td>4 BHK</td>\n",
       "      <td>3067 - 8156</td>\n",
       "      <td>4.0</td>\n",
       "      <td>477.000</td>\n",
       "      <td>0</td>\n",
       "      <td>4</td>\n",
       "    </tr>\n",
       "    <tr>\n",
       "      <th>137</th>\n",
       "      <td>8th Phase JP Nagar</td>\n",
       "      <td>2 BHK</td>\n",
       "      <td>1042 - 1105</td>\n",
       "      <td>2.0</td>\n",
       "      <td>54.005</td>\n",
       "      <td>0</td>\n",
       "      <td>2</td>\n",
       "    </tr>\n",
       "    <tr>\n",
       "      <th>165</th>\n",
       "      <td>Sarjapur</td>\n",
       "      <td>2 BHK</td>\n",
       "      <td>1145 - 1340</td>\n",
       "      <td>2.0</td>\n",
       "      <td>43.490</td>\n",
       "      <td>0</td>\n",
       "      <td>2</td>\n",
       "    </tr>\n",
       "    <tr>\n",
       "      <th>188</th>\n",
       "      <td>KR Puram</td>\n",
       "      <td>2 BHK</td>\n",
       "      <td>1015 - 1540</td>\n",
       "      <td>2.0</td>\n",
       "      <td>56.800</td>\n",
       "      <td>0</td>\n",
       "      <td>2</td>\n",
       "    </tr>\n",
       "    <tr>\n",
       "      <th>224</th>\n",
       "      <td>Devanahalli</td>\n",
       "      <td>3 BHK</td>\n",
       "      <td>1520 - 1740</td>\n",
       "      <td>2.0</td>\n",
       "      <td>74.820</td>\n",
       "      <td>0</td>\n",
       "      <td>3</td>\n",
       "    </tr>\n",
       "    <tr>\n",
       "      <th>410</th>\n",
       "      <td>Kengeri</td>\n",
       "      <td>1 BHK</td>\n",
       "      <td>34.46Sq. Meter</td>\n",
       "      <td>1.0</td>\n",
       "      <td>18.500</td>\n",
       "      <td>0</td>\n",
       "      <td>1</td>\n",
       "    </tr>\n",
       "    <tr>\n",
       "      <th>549</th>\n",
       "      <td>Hennur Road</td>\n",
       "      <td>2 BHK</td>\n",
       "      <td>1195 - 1440</td>\n",
       "      <td>2.0</td>\n",
       "      <td>63.770</td>\n",
       "      <td>0</td>\n",
       "      <td>2</td>\n",
       "    </tr>\n",
       "  </tbody>\n",
       "</table>\n",
       "</div>"
      ],
      "text/plain": [
       "               location       size      total_sqft  bath    price  \\\n",
       "30            Yelahanka      4 BHK     2100 - 2850   4.0  186.000   \n",
       "56          Devanahalli  4 Bedroom     3010 - 3410   2.0  192.000   \n",
       "81          Hennur Road  4 Bedroom     2957 - 3450   2.0  224.500   \n",
       "122              Hebbal      4 BHK     3067 - 8156   4.0  477.000   \n",
       "137  8th Phase JP Nagar      2 BHK     1042 - 1105   2.0   54.005   \n",
       "165            Sarjapur      2 BHK     1145 - 1340   2.0   43.490   \n",
       "188            KR Puram      2 BHK     1015 - 1540   2.0   56.800   \n",
       "224         Devanahalli      3 BHK     1520 - 1740   2.0   74.820   \n",
       "410             Kengeri      1 BHK  34.46Sq. Meter   1.0   18.500   \n",
       "549         Hennur Road      2 BHK     1195 - 1440   2.0   63.770   \n",
       "\n",
       "     area_type_numeric  BHK  \n",
       "30                   0    4  \n",
       "56                   2    4  \n",
       "81                   2    4  \n",
       "122                  0    4  \n",
       "137                  0    2  \n",
       "165                  0    2  \n",
       "188                  0    2  \n",
       "224                  0    3  \n",
       "410                  0    1  \n",
       "549                  0    2  "
      ]
     },
     "execution_count": 32,
     "metadata": {},
     "output_type": "execute_result"
    }
   ],
   "source": [
    "df2[~df2['total_sqft'].apply(is_float)].head(10)"
   ]
  },
  {
   "cell_type": "markdown",
   "id": "upper-bathroom",
   "metadata": {
    "papermill": {
     "duration": 0.078326,
     "end_time": "2021-05-25T05:45:27.890975",
     "exception": false,
     "start_time": "2021-05-25T05:45:27.812649",
     "status": "completed"
    },
    "tags": []
   },
   "source": [
    "**Above shows that total_sqft can be a range (e.g. 2100-2850). For such case we can just take average of min and max value in the range. There are other cases such as 34.46Sq. Meter which one can convert to square ft using unit conversion. We are going to just drop such corner cases to keep things simple.**"
   ]
  },
  {
   "cell_type": "code",
   "execution_count": 33,
   "id": "sound-relationship",
   "metadata": {
    "execution": {
     "iopub.execute_input": "2021-05-25T05:45:28.054541Z",
     "iopub.status.busy": "2021-05-25T05:45:28.053881Z",
     "iopub.status.idle": "2021-05-25T05:45:28.059810Z",
     "shell.execute_reply": "2021-05-25T05:45:28.059302Z",
     "shell.execute_reply.started": "2021-05-25T05:24:58.708280Z"
    },
    "papermill": {
     "duration": 0.089564,
     "end_time": "2021-05-25T05:45:28.059956",
     "exception": false,
     "start_time": "2021-05-25T05:45:27.970392",
     "status": "completed"
    },
    "tags": []
   },
   "outputs": [],
   "source": [
    "def convert_sqft_to_num(x):\n",
    "    token = x.split('-')\n",
    "    if len(token)==2:\n",
    "        return (float(token[0]) + float(token[1]))/2\n",
    "    try:\n",
    "        return float(x)\n",
    "    except:\n",
    "        return None"
   ]
  },
  {
   "cell_type": "code",
   "execution_count": 34,
   "id": "proprietary-theater",
   "metadata": {
    "execution": {
     "iopub.execute_input": "2021-05-25T05:45:28.225118Z",
     "iopub.status.busy": "2021-05-25T05:45:28.224146Z",
     "iopub.status.idle": "2021-05-25T05:45:28.249792Z",
     "shell.execute_reply": "2021-05-25T05:45:28.250224Z",
     "shell.execute_reply.started": "2021-05-25T05:25:06.510083Z"
    },
    "papermill": {
     "duration": 0.11077,
     "end_time": "2021-05-25T05:45:28.250412",
     "exception": false,
     "start_time": "2021-05-25T05:45:28.139642",
     "status": "completed"
    },
    "tags": []
   },
   "outputs": [
    {
     "data": {
      "text/html": [
       "<div>\n",
       "<style scoped>\n",
       "    .dataframe tbody tr th:only-of-type {\n",
       "        vertical-align: middle;\n",
       "    }\n",
       "\n",
       "    .dataframe tbody tr th {\n",
       "        vertical-align: top;\n",
       "    }\n",
       "\n",
       "    .dataframe thead th {\n",
       "        text-align: right;\n",
       "    }\n",
       "</style>\n",
       "<table border=\"1\" class=\"dataframe\">\n",
       "  <thead>\n",
       "    <tr style=\"text-align: right;\">\n",
       "      <th></th>\n",
       "      <th>location</th>\n",
       "      <th>size</th>\n",
       "      <th>total_sqft</th>\n",
       "      <th>bath</th>\n",
       "      <th>price</th>\n",
       "      <th>area_type_numeric</th>\n",
       "      <th>BHK</th>\n",
       "    </tr>\n",
       "  </thead>\n",
       "  <tbody>\n",
       "    <tr>\n",
       "      <th>0</th>\n",
       "      <td>Electronic City Phase II</td>\n",
       "      <td>2 BHK</td>\n",
       "      <td>1056.0</td>\n",
       "      <td>2.0</td>\n",
       "      <td>39.07</td>\n",
       "      <td>0</td>\n",
       "      <td>2</td>\n",
       "    </tr>\n",
       "    <tr>\n",
       "      <th>1</th>\n",
       "      <td>Chikka Tirupathi</td>\n",
       "      <td>4 Bedroom</td>\n",
       "      <td>2600.0</td>\n",
       "      <td>5.0</td>\n",
       "      <td>120.00</td>\n",
       "      <td>1</td>\n",
       "      <td>4</td>\n",
       "    </tr>\n",
       "    <tr>\n",
       "      <th>2</th>\n",
       "      <td>Uttarahalli</td>\n",
       "      <td>3 BHK</td>\n",
       "      <td>1440.0</td>\n",
       "      <td>2.0</td>\n",
       "      <td>62.00</td>\n",
       "      <td>2</td>\n",
       "      <td>3</td>\n",
       "    </tr>\n",
       "    <tr>\n",
       "      <th>3</th>\n",
       "      <td>Lingadheeranahalli</td>\n",
       "      <td>3 BHK</td>\n",
       "      <td>1521.0</td>\n",
       "      <td>3.0</td>\n",
       "      <td>95.00</td>\n",
       "      <td>0</td>\n",
       "      <td>3</td>\n",
       "    </tr>\n",
       "    <tr>\n",
       "      <th>4</th>\n",
       "      <td>Kothanur</td>\n",
       "      <td>2 BHK</td>\n",
       "      <td>1200.0</td>\n",
       "      <td>2.0</td>\n",
       "      <td>51.00</td>\n",
       "      <td>0</td>\n",
       "      <td>2</td>\n",
       "    </tr>\n",
       "  </tbody>\n",
       "</table>\n",
       "</div>"
      ],
      "text/plain": [
       "                   location       size  total_sqft  bath   price  \\\n",
       "0  Electronic City Phase II      2 BHK      1056.0   2.0   39.07   \n",
       "1          Chikka Tirupathi  4 Bedroom      2600.0   5.0  120.00   \n",
       "2               Uttarahalli      3 BHK      1440.0   2.0   62.00   \n",
       "3        Lingadheeranahalli      3 BHK      1521.0   3.0   95.00   \n",
       "4                  Kothanur      2 BHK      1200.0   2.0   51.00   \n",
       "\n",
       "   area_type_numeric  BHK  \n",
       "0                  0    2  \n",
       "1                  1    4  \n",
       "2                  2    3  \n",
       "3                  0    3  \n",
       "4                  0    2  "
      ]
     },
     "execution_count": 34,
     "metadata": {},
     "output_type": "execute_result"
    }
   ],
   "source": [
    "df3 = df2.copy()\n",
    "df3['total_sqft'] = df3['total_sqft'].apply(convert_sqft_to_num)\n",
    "df3.head()"
   ]
  },
  {
   "cell_type": "code",
   "execution_count": 35,
   "id": "ancient-arrest",
   "metadata": {
    "execution": {
     "iopub.execute_input": "2021-05-25T05:45:28.414100Z",
     "iopub.status.busy": "2021-05-25T05:45:28.413134Z",
     "iopub.status.idle": "2021-05-25T05:45:28.428068Z",
     "shell.execute_reply": "2021-05-25T05:45:28.428594Z",
     "shell.execute_reply.started": "2021-05-25T05:25:13.315562Z"
    },
    "papermill": {
     "duration": 0.098056,
     "end_time": "2021-05-25T05:45:28.428767",
     "exception": false,
     "start_time": "2021-05-25T05:45:28.330711",
     "status": "completed"
    },
    "tags": []
   },
   "outputs": [],
   "source": [
    "df3['bath'] = df3['bath'].apply(lambda x: int(x))"
   ]
  },
  {
   "cell_type": "code",
   "execution_count": 36,
   "id": "pressed-highlight",
   "metadata": {
    "execution": {
     "iopub.execute_input": "2021-05-25T05:45:28.592568Z",
     "iopub.status.busy": "2021-05-25T05:45:28.591603Z",
     "iopub.status.idle": "2021-05-25T05:45:28.604897Z",
     "shell.execute_reply": "2021-05-25T05:45:28.604237Z",
     "shell.execute_reply.started": "2021-05-25T05:25:19.623600Z"
    },
    "papermill": {
     "duration": 0.096144,
     "end_time": "2021-05-25T05:45:28.605038",
     "exception": false,
     "start_time": "2021-05-25T05:45:28.508894",
     "status": "completed"
    },
    "tags": []
   },
   "outputs": [
    {
     "data": {
      "text/html": [
       "<div>\n",
       "<style scoped>\n",
       "    .dataframe tbody tr th:only-of-type {\n",
       "        vertical-align: middle;\n",
       "    }\n",
       "\n",
       "    .dataframe tbody tr th {\n",
       "        vertical-align: top;\n",
       "    }\n",
       "\n",
       "    .dataframe thead th {\n",
       "        text-align: right;\n",
       "    }\n",
       "</style>\n",
       "<table border=\"1\" class=\"dataframe\">\n",
       "  <thead>\n",
       "    <tr style=\"text-align: right;\">\n",
       "      <th></th>\n",
       "      <th>BHK</th>\n",
       "      <th>price</th>\n",
       "    </tr>\n",
       "  </thead>\n",
       "  <tbody>\n",
       "    <tr>\n",
       "      <th>BHK</th>\n",
       "      <td>1.000000</td>\n",
       "      <td>0.398074</td>\n",
       "    </tr>\n",
       "    <tr>\n",
       "      <th>price</th>\n",
       "      <td>0.398074</td>\n",
       "      <td>1.000000</td>\n",
       "    </tr>\n",
       "  </tbody>\n",
       "</table>\n",
       "</div>"
      ],
      "text/plain": [
       "            BHK     price\n",
       "BHK    1.000000  0.398074\n",
       "price  0.398074  1.000000"
      ]
     },
     "execution_count": 36,
     "metadata": {},
     "output_type": "execute_result"
    }
   ],
   "source": [
    "df_temp = df3[['BHK', 'price']]\n",
    "df_temp.corr()"
   ]
  },
  {
   "cell_type": "code",
   "execution_count": 37,
   "id": "boring-giant",
   "metadata": {
    "execution": {
     "iopub.execute_input": "2021-05-25T05:45:28.768371Z",
     "iopub.status.busy": "2021-05-25T05:45:28.767448Z",
     "iopub.status.idle": "2021-05-25T05:45:28.793141Z",
     "shell.execute_reply": "2021-05-25T05:45:28.793631Z",
     "shell.execute_reply.started": "2021-05-25T05:25:27.223910Z"
    },
    "papermill": {
     "duration": 0.109064,
     "end_time": "2021-05-25T05:45:28.793813",
     "exception": false,
     "start_time": "2021-05-25T05:45:28.684749",
     "status": "completed"
    },
    "tags": []
   },
   "outputs": [
    {
     "data": {
      "text/html": [
       "<div>\n",
       "<style scoped>\n",
       "    .dataframe tbody tr th:only-of-type {\n",
       "        vertical-align: middle;\n",
       "    }\n",
       "\n",
       "    .dataframe tbody tr th {\n",
       "        vertical-align: top;\n",
       "    }\n",
       "\n",
       "    .dataframe thead th {\n",
       "        text-align: right;\n",
       "    }\n",
       "</style>\n",
       "<table border=\"1\" class=\"dataframe\">\n",
       "  <thead>\n",
       "    <tr style=\"text-align: right;\">\n",
       "      <th></th>\n",
       "      <th>location</th>\n",
       "      <th>size</th>\n",
       "      <th>total_sqft</th>\n",
       "      <th>bath</th>\n",
       "      <th>price</th>\n",
       "      <th>area_type_numeric</th>\n",
       "      <th>BHK</th>\n",
       "      <th>price_per_sqft</th>\n",
       "    </tr>\n",
       "  </thead>\n",
       "  <tbody>\n",
       "    <tr>\n",
       "      <th>0</th>\n",
       "      <td>Electronic City Phase II</td>\n",
       "      <td>2 BHK</td>\n",
       "      <td>1056.0</td>\n",
       "      <td>2</td>\n",
       "      <td>39.07</td>\n",
       "      <td>0</td>\n",
       "      <td>2</td>\n",
       "      <td>3699.810606</td>\n",
       "    </tr>\n",
       "    <tr>\n",
       "      <th>1</th>\n",
       "      <td>Chikka Tirupathi</td>\n",
       "      <td>4 Bedroom</td>\n",
       "      <td>2600.0</td>\n",
       "      <td>5</td>\n",
       "      <td>120.00</td>\n",
       "      <td>1</td>\n",
       "      <td>4</td>\n",
       "      <td>4615.384615</td>\n",
       "    </tr>\n",
       "    <tr>\n",
       "      <th>2</th>\n",
       "      <td>Uttarahalli</td>\n",
       "      <td>3 BHK</td>\n",
       "      <td>1440.0</td>\n",
       "      <td>2</td>\n",
       "      <td>62.00</td>\n",
       "      <td>2</td>\n",
       "      <td>3</td>\n",
       "      <td>4305.555556</td>\n",
       "    </tr>\n",
       "    <tr>\n",
       "      <th>3</th>\n",
       "      <td>Lingadheeranahalli</td>\n",
       "      <td>3 BHK</td>\n",
       "      <td>1521.0</td>\n",
       "      <td>3</td>\n",
       "      <td>95.00</td>\n",
       "      <td>0</td>\n",
       "      <td>3</td>\n",
       "      <td>6245.890861</td>\n",
       "    </tr>\n",
       "    <tr>\n",
       "      <th>4</th>\n",
       "      <td>Kothanur</td>\n",
       "      <td>2 BHK</td>\n",
       "      <td>1200.0</td>\n",
       "      <td>2</td>\n",
       "      <td>51.00</td>\n",
       "      <td>0</td>\n",
       "      <td>2</td>\n",
       "      <td>4250.000000</td>\n",
       "    </tr>\n",
       "    <tr>\n",
       "      <th>...</th>\n",
       "      <td>...</td>\n",
       "      <td>...</td>\n",
       "      <td>...</td>\n",
       "      <td>...</td>\n",
       "      <td>...</td>\n",
       "      <td>...</td>\n",
       "      <td>...</td>\n",
       "      <td>...</td>\n",
       "    </tr>\n",
       "    <tr>\n",
       "      <th>13315</th>\n",
       "      <td>Whitefield</td>\n",
       "      <td>5 Bedroom</td>\n",
       "      <td>3453.0</td>\n",
       "      <td>4</td>\n",
       "      <td>231.00</td>\n",
       "      <td>2</td>\n",
       "      <td>5</td>\n",
       "      <td>6689.834926</td>\n",
       "    </tr>\n",
       "    <tr>\n",
       "      <th>13316</th>\n",
       "      <td>Richards Town</td>\n",
       "      <td>4 BHK</td>\n",
       "      <td>3600.0</td>\n",
       "      <td>5</td>\n",
       "      <td>400.00</td>\n",
       "      <td>0</td>\n",
       "      <td>4</td>\n",
       "      <td>11111.111111</td>\n",
       "    </tr>\n",
       "    <tr>\n",
       "      <th>13317</th>\n",
       "      <td>Raja Rajeshwari Nagar</td>\n",
       "      <td>2 BHK</td>\n",
       "      <td>1141.0</td>\n",
       "      <td>2</td>\n",
       "      <td>60.00</td>\n",
       "      <td>2</td>\n",
       "      <td>2</td>\n",
       "      <td>5258.545136</td>\n",
       "    </tr>\n",
       "    <tr>\n",
       "      <th>13318</th>\n",
       "      <td>Padmanabhanagar</td>\n",
       "      <td>4 BHK</td>\n",
       "      <td>4689.0</td>\n",
       "      <td>4</td>\n",
       "      <td>488.00</td>\n",
       "      <td>0</td>\n",
       "      <td>4</td>\n",
       "      <td>10407.336319</td>\n",
       "    </tr>\n",
       "    <tr>\n",
       "      <th>13319</th>\n",
       "      <td>Doddathoguru</td>\n",
       "      <td>1 BHK</td>\n",
       "      <td>550.0</td>\n",
       "      <td>1</td>\n",
       "      <td>17.00</td>\n",
       "      <td>0</td>\n",
       "      <td>1</td>\n",
       "      <td>3090.909091</td>\n",
       "    </tr>\n",
       "  </tbody>\n",
       "</table>\n",
       "<p>13320 rows × 8 columns</p>\n",
       "</div>"
      ],
      "text/plain": [
       "                       location       size  total_sqft  bath   price  \\\n",
       "0      Electronic City Phase II      2 BHK      1056.0     2   39.07   \n",
       "1              Chikka Tirupathi  4 Bedroom      2600.0     5  120.00   \n",
       "2                   Uttarahalli      3 BHK      1440.0     2   62.00   \n",
       "3            Lingadheeranahalli      3 BHK      1521.0     3   95.00   \n",
       "4                      Kothanur      2 BHK      1200.0     2   51.00   \n",
       "...                         ...        ...         ...   ...     ...   \n",
       "13315                Whitefield  5 Bedroom      3453.0     4  231.00   \n",
       "13316             Richards Town      4 BHK      3600.0     5  400.00   \n",
       "13317     Raja Rajeshwari Nagar      2 BHK      1141.0     2   60.00   \n",
       "13318           Padmanabhanagar      4 BHK      4689.0     4  488.00   \n",
       "13319              Doddathoguru      1 BHK       550.0     1   17.00   \n",
       "\n",
       "       area_type_numeric  BHK  price_per_sqft  \n",
       "0                      0    2     3699.810606  \n",
       "1                      1    4     4615.384615  \n",
       "2                      2    3     4305.555556  \n",
       "3                      0    3     6245.890861  \n",
       "4                      0    2     4250.000000  \n",
       "...                  ...  ...             ...  \n",
       "13315                  2    5     6689.834926  \n",
       "13316                  0    4    11111.111111  \n",
       "13317                  2    2     5258.545136  \n",
       "13318                  0    4    10407.336319  \n",
       "13319                  0    1     3090.909091  \n",
       "\n",
       "[13320 rows x 8 columns]"
      ]
     },
     "execution_count": 37,
     "metadata": {},
     "output_type": "execute_result"
    }
   ],
   "source": [
    "df4 = df3.copy()\n",
    "df4['price_per_sqft'] = df3['price']*100000/df3['total_sqft']\n",
    "df4"
   ]
  },
  {
   "cell_type": "code",
   "execution_count": 38,
   "id": "indian-knitting",
   "metadata": {
    "execution": {
     "iopub.execute_input": "2021-05-25T05:45:28.962783Z",
     "iopub.status.busy": "2021-05-25T05:45:28.961829Z",
     "iopub.status.idle": "2021-05-25T05:45:28.965664Z",
     "shell.execute_reply": "2021-05-25T05:45:28.966161Z",
     "shell.execute_reply.started": "2021-05-25T05:25:36.112586Z"
    },
    "papermill": {
     "duration": 0.091748,
     "end_time": "2021-05-25T05:45:28.966353",
     "exception": false,
     "start_time": "2021-05-25T05:45:28.874605",
     "status": "completed"
    },
    "tags": []
   },
   "outputs": [
    {
     "data": {
      "text/plain": [
       "13320"
      ]
     },
     "execution_count": 38,
     "metadata": {},
     "output_type": "execute_result"
    }
   ],
   "source": [
    "df4['location'].agg('count')"
   ]
  },
  {
   "cell_type": "code",
   "execution_count": 39,
   "id": "demanding-carroll",
   "metadata": {
    "execution": {
     "iopub.execute_input": "2021-05-25T05:45:29.134451Z",
     "iopub.status.busy": "2021-05-25T05:45:29.133479Z",
     "iopub.status.idle": "2021-05-25T05:45:29.139537Z",
     "shell.execute_reply": "2021-05-25T05:45:29.139007Z",
     "shell.execute_reply.started": "2021-05-25T05:25:43.837733Z"
    },
    "papermill": {
     "duration": 0.091524,
     "end_time": "2021-05-25T05:45:29.139671",
     "exception": false,
     "start_time": "2021-05-25T05:45:29.048147",
     "status": "completed"
    },
    "tags": []
   },
   "outputs": [
    {
     "data": {
      "text/plain": [
       "13320"
      ]
     },
     "execution_count": 39,
     "metadata": {},
     "output_type": "execute_result"
    }
   ],
   "source": [
    "len(df4.location)"
   ]
  },
  {
   "cell_type": "code",
   "execution_count": 40,
   "id": "atmospheric-monitoring",
   "metadata": {
    "execution": {
     "iopub.execute_input": "2021-05-25T05:45:29.311456Z",
     "iopub.status.busy": "2021-05-25T05:45:29.310765Z",
     "iopub.status.idle": "2021-05-25T05:45:29.320422Z",
     "shell.execute_reply": "2021-05-25T05:45:29.320872Z",
     "shell.execute_reply.started": "2021-05-25T05:25:51.851800Z"
    },
    "papermill": {
     "duration": 0.100699,
     "end_time": "2021-05-25T05:45:29.321041",
     "exception": false,
     "start_time": "2021-05-25T05:45:29.220342",
     "status": "completed"
    },
    "tags": []
   },
   "outputs": [
    {
     "data": {
      "text/plain": [
       "location\n",
       "1 Annasandrapalya                                  1\n",
       "1 Giri Nagar                                       1\n",
       "1 Immadihalli                                      1\n",
       "1 Ramamurthy Nagar                                 1\n",
       "12th cross srinivas nagar banshankari 3rd stage    1\n",
       "                                                  ..\n",
       "t.c palya                                          1\n",
       "tc.palya                                           4\n",
       "vinayakanagar                                      1\n",
       "white field,kadugodi                               1\n",
       "whitefiled                                         1\n",
       "Name: location, Length: 1294, dtype: int64"
      ]
     },
     "execution_count": 40,
     "metadata": {},
     "output_type": "execute_result"
    }
   ],
   "source": [
    "df4.location = df4.location.apply(lambda x : x.strip())\n",
    "location_stats = df4.groupby('location')['location'].agg('count')\n",
    "location_stats"
   ]
  },
  {
   "cell_type": "code",
   "execution_count": 41,
   "id": "tamil-filter",
   "metadata": {
    "execution": {
     "iopub.execute_input": "2021-05-25T05:45:29.485719Z",
     "iopub.status.busy": "2021-05-25T05:45:29.485050Z",
     "iopub.status.idle": "2021-05-25T05:45:29.498181Z",
     "shell.execute_reply": "2021-05-25T05:45:29.497650Z",
     "shell.execute_reply.started": "2021-05-25T05:26:01.637372Z"
    },
    "papermill": {
     "duration": 0.096894,
     "end_time": "2021-05-25T05:45:29.498344",
     "exception": false,
     "start_time": "2021-05-25T05:45:29.401450",
     "status": "completed"
    },
    "tags": []
   },
   "outputs": [
    {
     "data": {
      "text/plain": [
       "location\n",
       "Whitefield               542\n",
       "Sarjapur  Road           399\n",
       "Electronic City          304\n",
       "Kanakpura Road           273\n",
       "Thanisandra              237\n",
       "                        ... \n",
       "1 Giri Nagar               1\n",
       "Kanakapura Road,           1\n",
       "Kanakapura main  Road      1\n",
       "Karnataka Shabarimala      1\n",
       "whitefiled                 1\n",
       "Name: location, Length: 1294, dtype: int64"
      ]
     },
     "execution_count": 41,
     "metadata": {},
     "output_type": "execute_result"
    }
   ],
   "source": [
    "location_stats = df4.groupby('location')['location'].agg('count').sort_values(ascending = False)\n",
    "location_stats"
   ]
  },
  {
   "cell_type": "code",
   "execution_count": 42,
   "id": "devoted-carpet",
   "metadata": {
    "execution": {
     "iopub.execute_input": "2021-05-25T05:45:29.667004Z",
     "iopub.status.busy": "2021-05-25T05:45:29.666338Z",
     "iopub.status.idle": "2021-05-25T05:45:29.670576Z",
     "shell.execute_reply": "2021-05-25T05:45:29.670069Z",
     "shell.execute_reply.started": "2021-05-25T05:26:08.981364Z"
    },
    "papermill": {
     "duration": 0.090652,
     "end_time": "2021-05-25T05:45:29.670728",
     "exception": false,
     "start_time": "2021-05-25T05:45:29.580076",
     "status": "completed"
    },
    "tags": []
   },
   "outputs": [
    {
     "data": {
      "text/plain": [
       "1053"
      ]
     },
     "execution_count": 42,
     "metadata": {},
     "output_type": "execute_result"
    }
   ],
   "source": [
    "len(location_stats[location_stats<=10])"
   ]
  },
  {
   "cell_type": "markdown",
   "id": "vocational-client",
   "metadata": {
    "papermill": {
     "duration": 0.081476,
     "end_time": "2021-05-25T05:45:29.833843",
     "exception": false,
     "start_time": "2021-05-25T05:45:29.752367",
     "status": "completed"
    },
    "tags": []
   },
   "source": [
    "# Dimensionality Reduction\n",
    "**Any location having less than 10 data points should be tagged as \"other\" location. This way number of categories can be reduced by huge amount. Later on when we do one hot encoding, it will help us with having fewer dummy columns.**"
   ]
  },
  {
   "cell_type": "code",
   "execution_count": 43,
   "id": "owned-intelligence",
   "metadata": {
    "execution": {
     "iopub.execute_input": "2021-05-25T05:45:30.003495Z",
     "iopub.status.busy": "2021-05-25T05:45:30.002815Z",
     "iopub.status.idle": "2021-05-25T05:45:30.006293Z",
     "shell.execute_reply": "2021-05-25T05:45:30.005768Z",
     "shell.execute_reply.started": "2021-05-25T05:26:51.587823Z"
    },
    "papermill": {
     "duration": 0.09054,
     "end_time": "2021-05-25T05:45:30.006442",
     "exception": false,
     "start_time": "2021-05-25T05:45:29.915902",
     "status": "completed"
    },
    "tags": []
   },
   "outputs": [],
   "source": [
    "location_stats_less_than_10 = location_stats[location_stats<=10]"
   ]
  },
  {
   "cell_type": "code",
   "execution_count": 44,
   "id": "unexpected-flashing",
   "metadata": {
    "execution": {
     "iopub.execute_input": "2021-05-25T05:45:30.192633Z",
     "iopub.status.busy": "2021-05-25T05:45:30.187290Z",
     "iopub.status.idle": "2021-05-25T05:45:30.201951Z",
     "shell.execute_reply": "2021-05-25T05:45:30.201365Z",
     "shell.execute_reply.started": "2021-05-25T05:26:57.480604Z"
    },
    "papermill": {
     "duration": 0.112586,
     "end_time": "2021-05-25T05:45:30.202096",
     "exception": false,
     "start_time": "2021-05-25T05:45:30.089510",
     "status": "completed"
    },
    "tags": []
   },
   "outputs": [],
   "source": [
    "df4.location = df4.location.apply(lambda x : 'other' if x in location_stats_less_than_10 else x)"
   ]
  },
  {
   "cell_type": "code",
   "execution_count": 45,
   "id": "further-dispatch",
   "metadata": {
    "execution": {
     "iopub.execute_input": "2021-05-25T05:45:30.372973Z",
     "iopub.status.busy": "2021-05-25T05:45:30.372293Z",
     "iopub.status.idle": "2021-05-25T05:45:30.377716Z",
     "shell.execute_reply": "2021-05-25T05:45:30.377150Z",
     "shell.execute_reply.started": "2021-05-25T05:27:03.492652Z"
    },
    "papermill": {
     "duration": 0.093194,
     "end_time": "2021-05-25T05:45:30.377858",
     "exception": false,
     "start_time": "2021-05-25T05:45:30.284664",
     "status": "completed"
    },
    "tags": []
   },
   "outputs": [
    {
     "data": {
      "text/plain": [
       "242"
      ]
     },
     "execution_count": 45,
     "metadata": {},
     "output_type": "execute_result"
    }
   ],
   "source": [
    "len(df4.location.unique())"
   ]
  },
  {
   "cell_type": "code",
   "execution_count": 46,
   "id": "little-pollution",
   "metadata": {
    "execution": {
     "iopub.execute_input": "2021-05-25T05:45:30.548368Z",
     "iopub.status.busy": "2021-05-25T05:45:30.547711Z",
     "iopub.status.idle": "2021-05-25T05:45:30.944537Z",
     "shell.execute_reply": "2021-05-25T05:45:30.943896Z",
     "shell.execute_reply.started": "2021-05-25T05:27:11.081337Z"
    },
    "papermill": {
     "duration": 0.484726,
     "end_time": "2021-05-25T05:45:30.944679",
     "exception": false,
     "start_time": "2021-05-25T05:45:30.459953",
     "status": "completed"
    },
    "tags": []
   },
   "outputs": [
    {
     "data": {
      "text/plain": [
       "<AxesSubplot:>"
      ]
     },
     "execution_count": 46,
     "metadata": {},
     "output_type": "execute_result"
    },
    {
     "data": {
      "image/png": "[encoded data removed]",
      "text/plain": [
       "<Figure size 1440x720 with 2 Axes>"
      ]
     },
     "metadata": {
      "needs_background": "light"
     },
     "output_type": "display_data"
    }
   ],
   "source": [
    "sns.heatmap(df4.corr(), annot = True)"
   ]
  },
  {
   "cell_type": "code",
   "execution_count": 47,
   "id": "hairy-lambda",
   "metadata": {
    "execution": {
     "iopub.execute_input": "2021-05-25T05:45:31.132504Z",
     "iopub.status.busy": "2021-05-25T05:45:31.131797Z",
     "iopub.status.idle": "2021-05-25T05:45:31.134690Z",
     "shell.execute_reply": "2021-05-25T05:45:31.135129Z",
     "shell.execute_reply.started": "2021-05-25T05:27:18.126144Z"
    },
    "papermill": {
     "duration": 0.10567,
     "end_time": "2021-05-25T05:45:31.135309",
     "exception": false,
     "start_time": "2021-05-25T05:45:31.029639",
     "status": "completed"
    },
    "tags": []
   },
   "outputs": [
    {
     "data": {
      "text/html": [
       "<div>\n",
       "<style scoped>\n",
       "    .dataframe tbody tr th:only-of-type {\n",
       "        vertical-align: middle;\n",
       "    }\n",
       "\n",
       "    .dataframe tbody tr th {\n",
       "        vertical-align: top;\n",
       "    }\n",
       "\n",
       "    .dataframe thead th {\n",
       "        text-align: right;\n",
       "    }\n",
       "</style>\n",
       "<table border=\"1\" class=\"dataframe\">\n",
       "  <thead>\n",
       "    <tr style=\"text-align: right;\">\n",
       "      <th></th>\n",
       "      <th>location</th>\n",
       "      <th>size</th>\n",
       "      <th>total_sqft</th>\n",
       "      <th>bath</th>\n",
       "      <th>price</th>\n",
       "      <th>area_type_numeric</th>\n",
       "      <th>BHK</th>\n",
       "      <th>price_per_sqft</th>\n",
       "    </tr>\n",
       "  </thead>\n",
       "  <tbody>\n",
       "    <tr>\n",
       "      <th>0</th>\n",
       "      <td>Electronic City Phase II</td>\n",
       "      <td>2 BHK</td>\n",
       "      <td>1056.0</td>\n",
       "      <td>2</td>\n",
       "      <td>39.07</td>\n",
       "      <td>0</td>\n",
       "      <td>2</td>\n",
       "      <td>3699.810606</td>\n",
       "    </tr>\n",
       "    <tr>\n",
       "      <th>1</th>\n",
       "      <td>Chikka Tirupathi</td>\n",
       "      <td>4 Bedroom</td>\n",
       "      <td>2600.0</td>\n",
       "      <td>5</td>\n",
       "      <td>120.00</td>\n",
       "      <td>1</td>\n",
       "      <td>4</td>\n",
       "      <td>4615.384615</td>\n",
       "    </tr>\n",
       "    <tr>\n",
       "      <th>2</th>\n",
       "      <td>Uttarahalli</td>\n",
       "      <td>3 BHK</td>\n",
       "      <td>1440.0</td>\n",
       "      <td>2</td>\n",
       "      <td>62.00</td>\n",
       "      <td>2</td>\n",
       "      <td>3</td>\n",
       "      <td>4305.555556</td>\n",
       "    </tr>\n",
       "    <tr>\n",
       "      <th>3</th>\n",
       "      <td>Lingadheeranahalli</td>\n",
       "      <td>3 BHK</td>\n",
       "      <td>1521.0</td>\n",
       "      <td>3</td>\n",
       "      <td>95.00</td>\n",
       "      <td>0</td>\n",
       "      <td>3</td>\n",
       "      <td>6245.890861</td>\n",
       "    </tr>\n",
       "    <tr>\n",
       "      <th>4</th>\n",
       "      <td>Kothanur</td>\n",
       "      <td>2 BHK</td>\n",
       "      <td>1200.0</td>\n",
       "      <td>2</td>\n",
       "      <td>51.00</td>\n",
       "      <td>0</td>\n",
       "      <td>2</td>\n",
       "      <td>4250.000000</td>\n",
       "    </tr>\n",
       "    <tr>\n",
       "      <th>5</th>\n",
       "      <td>Whitefield</td>\n",
       "      <td>2 BHK</td>\n",
       "      <td>1170.0</td>\n",
       "      <td>2</td>\n",
       "      <td>38.00</td>\n",
       "      <td>0</td>\n",
       "      <td>2</td>\n",
       "      <td>3247.863248</td>\n",
       "    </tr>\n",
       "    <tr>\n",
       "      <th>6</th>\n",
       "      <td>Old Airport Road</td>\n",
       "      <td>4 BHK</td>\n",
       "      <td>2732.0</td>\n",
       "      <td>4</td>\n",
       "      <td>204.00</td>\n",
       "      <td>0</td>\n",
       "      <td>4</td>\n",
       "      <td>7467.057101</td>\n",
       "    </tr>\n",
       "    <tr>\n",
       "      <th>7</th>\n",
       "      <td>Rajaji Nagar</td>\n",
       "      <td>4 BHK</td>\n",
       "      <td>3300.0</td>\n",
       "      <td>4</td>\n",
       "      <td>600.00</td>\n",
       "      <td>0</td>\n",
       "      <td>4</td>\n",
       "      <td>18181.818182</td>\n",
       "    </tr>\n",
       "    <tr>\n",
       "      <th>8</th>\n",
       "      <td>Marathahalli</td>\n",
       "      <td>3 BHK</td>\n",
       "      <td>1310.0</td>\n",
       "      <td>3</td>\n",
       "      <td>63.25</td>\n",
       "      <td>0</td>\n",
       "      <td>3</td>\n",
       "      <td>4828.244275</td>\n",
       "    </tr>\n",
       "    <tr>\n",
       "      <th>9</th>\n",
       "      <td>other</td>\n",
       "      <td>6 Bedroom</td>\n",
       "      <td>1020.0</td>\n",
       "      <td>6</td>\n",
       "      <td>370.00</td>\n",
       "      <td>1</td>\n",
       "      <td>6</td>\n",
       "      <td>36274.509804</td>\n",
       "    </tr>\n",
       "  </tbody>\n",
       "</table>\n",
       "</div>"
      ],
      "text/plain": [
       "                   location       size  total_sqft  bath   price  \\\n",
       "0  Electronic City Phase II      2 BHK      1056.0     2   39.07   \n",
       "1          Chikka Tirupathi  4 Bedroom      2600.0     5  120.00   \n",
       "2               Uttarahalli      3 BHK      1440.0     2   62.00   \n",
       "3        Lingadheeranahalli      3 BHK      1521.0     3   95.00   \n",
       "4                  Kothanur      2 BHK      1200.0     2   51.00   \n",
       "5                Whitefield      2 BHK      1170.0     2   38.00   \n",
       "6          Old Airport Road      4 BHK      2732.0     4  204.00   \n",
       "7              Rajaji Nagar      4 BHK      3300.0     4  600.00   \n",
       "8              Marathahalli      3 BHK      1310.0     3   63.25   \n",
       "9                     other  6 Bedroom      1020.0     6  370.00   \n",
       "\n",
       "   area_type_numeric  BHK  price_per_sqft  \n",
       "0                  0    2     3699.810606  \n",
       "1                  1    4     4615.384615  \n",
       "2                  2    3     4305.555556  \n",
       "3                  0    3     6245.890861  \n",
       "4                  0    2     4250.000000  \n",
       "5                  0    2     3247.863248  \n",
       "6                  0    4     7467.057101  \n",
       "7                  0    4    18181.818182  \n",
       "8                  0    3     4828.244275  \n",
       "9                  1    6    36274.509804  "
      ]
     },
     "execution_count": 47,
     "metadata": {},
     "output_type": "execute_result"
    }
   ],
   "source": [
    "df4.head(10)"
   ]
  },
  {
   "cell_type": "markdown",
   "id": "charming-banking",
   "metadata": {
    "execution": {
     "iopub.execute_input": "2021-05-25T05:27:50.595922Z",
     "iopub.status.busy": "2021-05-25T05:27:50.595600Z",
     "iopub.status.idle": "2021-05-25T05:27:50.599872Z",
     "shell.execute_reply": "2021-05-25T05:27:50.598773Z",
     "shell.execute_reply.started": "2021-05-25T05:27:50.595895Z"
    },
    "papermill": {
     "duration": 0.086323,
     "end_time": "2021-05-25T05:45:31.306389",
     "exception": false,
     "start_time": "2021-05-25T05:45:31.220066",
     "status": "completed"
    },
    "tags": []
   },
   "source": [
    "# Outliers detection and removal"
   ]
  },
  {
   "cell_type": "code",
   "execution_count": 48,
   "id": "narrow-discussion",
   "metadata": {
    "execution": {
     "iopub.execute_input": "2021-05-25T05:45:31.478839Z",
     "iopub.status.busy": "2021-05-25T05:45:31.478178Z",
     "iopub.status.idle": "2021-05-25T05:45:31.628195Z",
     "shell.execute_reply": "2021-05-25T05:45:31.627656Z",
     "shell.execute_reply.started": "2021-05-25T05:29:43.574419Z"
    },
    "papermill": {
     "duration": 0.237296,
     "end_time": "2021-05-25T05:45:31.628351",
     "exception": false,
     "start_time": "2021-05-25T05:45:31.391055",
     "status": "completed"
    },
    "tags": []
   },
   "outputs": [
    {
     "name": "stderr",
     "output_type": "stream",
     "text": [
      "/opt/conda/lib/python3.7/site-packages/seaborn/_decorators.py:43: FutureWarning: Pass the following variable as a keyword arg: x. From version 0.12, the only valid positional argument will be `data`, and passing other arguments without an explicit keyword will result in an error or misinterpretation.\n",
      "  FutureWarning\n",
      "/opt/conda/lib/python3.7/site-packages/seaborn/_core.py:1319: UserWarning: Vertical orientation ignored with only `x` specified.\n",
      "  warnings.warn(single_var_warning.format(\"Vertical\", \"x\"))\n"
     ]
    },
    {
     "data": {
      "text/plain": [
       "<AxesSubplot:xlabel='total_sqft'>"
      ]
     },
     "execution_count": 48,
     "metadata": {},
     "output_type": "execute_result"
    },
    {
     "data": {
      "image/png": "[encoded data removed]",
      "text/plain": [
       "<Figure size 1440x720 with 1 Axes>"
      ]
     },
     "metadata": {
      "needs_background": "light"
     },
     "output_type": "display_data"
    }
   ],
   "source": [
    "sns.boxplot('total_sqft', data = df4, orient = 'vertical')"
   ]
  },
  {
   "cell_type": "code",
   "execution_count": 49,
   "id": "infrared-produce",
   "metadata": {
    "execution": {
     "iopub.execute_input": "2021-05-25T05:45:31.821889Z",
     "iopub.status.busy": "2021-05-25T05:45:31.806739Z",
     "iopub.status.idle": "2021-05-25T05:45:31.943573Z",
     "shell.execute_reply": "2021-05-25T05:45:31.943052Z",
     "shell.execute_reply.started": "2021-05-25T05:29:56.889947Z"
    },
    "papermill": {
     "duration": 0.229188,
     "end_time": "2021-05-25T05:45:31.943740",
     "exception": false,
     "start_time": "2021-05-25T05:45:31.714552",
     "status": "completed"
    },
    "tags": []
   },
   "outputs": [
    {
     "name": "stderr",
     "output_type": "stream",
     "text": [
      "/opt/conda/lib/python3.7/site-packages/seaborn/_decorators.py:43: FutureWarning: Pass the following variable as a keyword arg: x. From version 0.12, the only valid positional argument will be `data`, and passing other arguments without an explicit keyword will result in an error or misinterpretation.\n",
      "  FutureWarning\n",
      "/opt/conda/lib/python3.7/site-packages/seaborn/_core.py:1319: UserWarning: Vertical orientation ignored with only `x` specified.\n",
      "  warnings.warn(single_var_warning.format(\"Vertical\", \"x\"))\n"
     ]
    },
    {
     "data": {
      "text/plain": [
       "<AxesSubplot:xlabel='BHK'>"
      ]
     },
     "execution_count": 49,
     "metadata": {},
     "output_type": "execute_result"
    },
    {
     "data": {
      "image/png": "[encoded data removed]",
      "text/plain": [
       "<Figure size 1440x720 with 1 Axes>"
      ]
     },
     "metadata": {
      "needs_background": "light"
     },
     "output_type": "display_data"
    }
   ],
   "source": [
    "sns.boxplot('BHK', data = df4, orient = 'vertical')"
   ]
  },
  {
   "cell_type": "code",
   "execution_count": 50,
   "id": "primary-custom",
   "metadata": {
    "execution": {
     "iopub.execute_input": "2021-05-25T05:45:32.128115Z",
     "iopub.status.busy": "2021-05-25T05:45:32.126852Z",
     "iopub.status.idle": "2021-05-25T05:45:32.278893Z",
     "shell.execute_reply": "2021-05-25T05:45:32.278292Z",
     "shell.execute_reply.started": "2021-05-25T05:30:09.983779Z"
    },
    "papermill": {
     "duration": 0.247066,
     "end_time": "2021-05-25T05:45:32.279026",
     "exception": false,
     "start_time": "2021-05-25T05:45:32.031960",
     "status": "completed"
    },
    "tags": []
   },
   "outputs": [
    {
     "name": "stderr",
     "output_type": "stream",
     "text": [
      "/opt/conda/lib/python3.7/site-packages/seaborn/_decorators.py:43: FutureWarning: Pass the following variable as a keyword arg: x. From version 0.12, the only valid positional argument will be `data`, and passing other arguments without an explicit keyword will result in an error or misinterpretation.\n",
      "  FutureWarning\n",
      "/opt/conda/lib/python3.7/site-packages/seaborn/_core.py:1319: UserWarning: Vertical orientation ignored with only `x` specified.\n",
      "  warnings.warn(single_var_warning.format(\"Vertical\", \"x\"))\n"
     ]
    },
    {
     "data": {
      "text/plain": [
       "<AxesSubplot:xlabel='bath'>"
      ]
     },
     "execution_count": 50,
     "metadata": {},
     "output_type": "execute_result"
    },
    {
     "data": {
      "image/png": "[encoded data removed]",
      "text/plain": [
       "<Figure size 1440x720 with 1 Axes>"
      ]
     },
     "metadata": {
      "needs_background": "light"
     },
     "output_type": "display_data"
    }
   ],
   "source": [
    "sns.boxplot('bath', data = df4, orient = 'vertical')"
   ]
  },
  {
   "cell_type": "code",
   "execution_count": 51,
   "id": "occupied-poetry",
   "metadata": {
    "execution": {
     "iopub.execute_input": "2021-05-25T05:45:32.484427Z",
     "iopub.status.busy": "2021-05-25T05:45:32.478466Z",
     "iopub.status.idle": "2021-05-25T05:45:32.615779Z",
     "shell.execute_reply": "2021-05-25T05:45:32.615140Z",
     "shell.execute_reply.started": "2021-05-25T05:30:18.199556Z"
    },
    "papermill": {
     "duration": 0.248558,
     "end_time": "2021-05-25T05:45:32.615919",
     "exception": false,
     "start_time": "2021-05-25T05:45:32.367361",
     "status": "completed"
    },
    "tags": []
   },
   "outputs": [
    {
     "name": "stderr",
     "output_type": "stream",
     "text": [
      "/opt/conda/lib/python3.7/site-packages/seaborn/_decorators.py:43: FutureWarning: Pass the following variable as a keyword arg: x. From version 0.12, the only valid positional argument will be `data`, and passing other arguments without an explicit keyword will result in an error or misinterpretation.\n",
      "  FutureWarning\n",
      "/opt/conda/lib/python3.7/site-packages/seaborn/_core.py:1319: UserWarning: Vertical orientation ignored with only `x` specified.\n",
      "  warnings.warn(single_var_warning.format(\"Vertical\", \"x\"))\n"
     ]
    },
    {
     "data": {
      "text/plain": [
       "<AxesSubplot:xlabel='price'>"
      ]
     },
     "execution_count": 51,
     "metadata": {},
     "output_type": "execute_result"
    },
    {
     "data": {
      "image/png": "[encoded data removed]",
      "text/plain": [
       "<Figure size 1440x720 with 1 Axes>"
      ]
     },
     "metadata": {
      "needs_background": "light"
     },
     "output_type": "display_data"
    }
   ],
   "source": [
    "sns.boxplot('price', data = df4, orient = 'vertical')"
   ]
  },
  {
   "cell_type": "code",
   "execution_count": 52,
   "id": "large-structure",
   "metadata": {
    "execution": {
     "iopub.execute_input": "2021-05-25T05:45:32.808439Z",
     "iopub.status.busy": "2021-05-25T05:45:32.807348Z",
     "iopub.status.idle": "2021-05-25T05:45:32.817374Z",
     "shell.execute_reply": "2021-05-25T05:45:32.816680Z",
     "shell.execute_reply.started": "2021-05-25T05:30:33.399725Z"
    },
    "papermill": {
     "duration": 0.111067,
     "end_time": "2021-05-25T05:45:32.817520",
     "exception": false,
     "start_time": "2021-05-25T05:45:32.706453",
     "status": "completed"
    },
    "tags": []
   },
   "outputs": [
    {
     "data": {
      "text/plain": [
       "bath                  5.000000\n",
       "BHK                   5.000000\n",
       "total_sqft         3250.000000\n",
       "price               324.000000\n",
       "price_per_sqft    15293.303348\n",
       "Name: 0.95, dtype: float64"
      ]
     },
     "execution_count": 52,
     "metadata": {},
     "output_type": "execute_result"
    }
   ],
   "source": [
    "max_threshold = df4[[\"bath\",\"BHK\",\"total_sqft\", \"price\", \"price_per_sqft\"]].quantile(0.95)\n",
    "max_threshold"
   ]
  },
  {
   "cell_type": "code",
   "execution_count": 53,
   "id": "exotic-horizon",
   "metadata": {
    "execution": {
     "iopub.execute_input": "2021-05-25T05:45:33.005600Z",
     "iopub.status.busy": "2021-05-25T05:45:33.003975Z",
     "iopub.status.idle": "2021-05-25T05:45:33.019573Z",
     "shell.execute_reply": "2021-05-25T05:45:33.018954Z",
     "shell.execute_reply.started": "2021-05-25T05:30:46.196672Z"
    },
    "papermill": {
     "duration": 0.111877,
     "end_time": "2021-05-25T05:45:33.019721",
     "exception": false,
     "start_time": "2021-05-25T05:45:32.907844",
     "status": "completed"
    },
    "tags": []
   },
   "outputs": [],
   "source": [
    "df4 = df4.drop(df4[df4['BHK'] > 5].index)\n",
    "df4 = df4.drop(df4[df4['bath'] > 5].index)\n",
    "df4 = df4.drop(df4[df4['total_sqft'] > 3250.0].index)\n",
    "df4 = df4.drop(df4[df4['price'] > 324.0].index)\n",
    "df4 = df4.drop(df4[df4['price_per_sqft'] > 15293.303348].index)"
   ]
  },
  {
   "cell_type": "code",
   "execution_count": 54,
   "id": "painful-excerpt",
   "metadata": {
    "execution": {
     "iopub.execute_input": "2021-05-25T05:45:33.230865Z",
     "iopub.status.busy": "2021-05-25T05:45:33.218908Z",
     "iopub.status.idle": "2021-05-25T05:45:33.356069Z",
     "shell.execute_reply": "2021-05-25T05:45:33.355543Z",
     "shell.execute_reply.started": "2021-05-25T05:30:52.795575Z"
    },
    "papermill": {
     "duration": 0.245117,
     "end_time": "2021-05-25T05:45:33.356220",
     "exception": false,
     "start_time": "2021-05-25T05:45:33.111103",
     "status": "completed"
    },
    "tags": []
   },
   "outputs": [
    {
     "name": "stderr",
     "output_type": "stream",
     "text": [
      "/opt/conda/lib/python3.7/site-packages/seaborn/_decorators.py:43: FutureWarning: Pass the following variable as a keyword arg: x. From version 0.12, the only valid positional argument will be `data`, and passing other arguments without an explicit keyword will result in an error or misinterpretation.\n",
      "  FutureWarning\n",
      "/opt/conda/lib/python3.7/site-packages/seaborn/_core.py:1319: UserWarning: Vertical orientation ignored with only `x` specified.\n",
      "  warnings.warn(single_var_warning.format(\"Vertical\", \"x\"))\n"
     ]
    },
    {
     "data": {
      "text/plain": [
       "<AxesSubplot:xlabel='BHK'>"
      ]
     },
     "execution_count": 54,
     "metadata": {},
     "output_type": "execute_result"
    },
    {
     "data": {
      "image/png": "[encoded data removed]",
      "text/plain": [
       "<Figure size 1440x720 with 1 Axes>"
      ]
     },
     "metadata": {
      "needs_background": "light"
     },
     "output_type": "display_data"
    }
   ],
   "source": [
    "sns.boxplot('BHK', data = df4, orient = 'vertical')"
   ]
  },
  {
   "cell_type": "markdown",
   "id": "greatest-greek",
   "metadata": {
    "papermill": {
     "duration": 0.089803,
     "end_time": "2021-05-25T05:45:33.536521",
     "exception": false,
     "start_time": "2021-05-25T05:45:33.446718",
     "status": "completed"
    },
    "tags": []
   },
   "source": [
    "# Outlier Removal Using Real Estate Logic\n",
    "**Normally square ft per bedroom is 300 (i.e. 2 bhk apartment is minimum 600 sqft. If we have for example 400 sqft apartment with 2 bhk than that seems suspicious and can be removed as an outlier. We will remove such outliers by keeping our minimum threshold per bhk to be 300 sqft.**"
   ]
  },
  {
   "cell_type": "code",
   "execution_count": 55,
   "id": "appreciated-hopkins",
   "metadata": {
    "execution": {
     "iopub.execute_input": "2021-05-25T05:45:33.725032Z",
     "iopub.status.busy": "2021-05-25T05:45:33.724403Z",
     "iopub.status.idle": "2021-05-25T05:45:33.741676Z",
     "shell.execute_reply": "2021-05-25T05:45:33.741059Z",
     "shell.execute_reply.started": "2021-05-25T05:31:56.991729Z"
    },
    "papermill": {
     "duration": 0.115099,
     "end_time": "2021-05-25T05:45:33.741812",
     "exception": false,
     "start_time": "2021-05-25T05:45:33.626713",
     "status": "completed"
    },
    "tags": []
   },
   "outputs": [
    {
     "data": {
      "text/html": [
       "<div>\n",
       "<style scoped>\n",
       "    .dataframe tbody tr th:only-of-type {\n",
       "        vertical-align: middle;\n",
       "    }\n",
       "\n",
       "    .dataframe tbody tr th {\n",
       "        vertical-align: top;\n",
       "    }\n",
       "\n",
       "    .dataframe thead th {\n",
       "        text-align: right;\n",
       "    }\n",
       "</style>\n",
       "<table border=\"1\" class=\"dataframe\">\n",
       "  <thead>\n",
       "    <tr style=\"text-align: right;\">\n",
       "      <th></th>\n",
       "      <th>location</th>\n",
       "      <th>size</th>\n",
       "      <th>total_sqft</th>\n",
       "      <th>bath</th>\n",
       "      <th>price</th>\n",
       "      <th>area_type_numeric</th>\n",
       "      <th>BHK</th>\n",
       "      <th>price_per_sqft</th>\n",
       "    </tr>\n",
       "  </thead>\n",
       "  <tbody>\n",
       "    <tr>\n",
       "      <th>78</th>\n",
       "      <td>Kaval Byrasandra</td>\n",
       "      <td>2 BHK</td>\n",
       "      <td>460.0</td>\n",
       "      <td>1</td>\n",
       "      <td>22.0</td>\n",
       "      <td>2</td>\n",
       "      <td>2</td>\n",
       "      <td>4782.608696</td>\n",
       "    </tr>\n",
       "    <tr>\n",
       "      <th>119</th>\n",
       "      <td>Hennur Road</td>\n",
       "      <td>2 Bedroom</td>\n",
       "      <td>276.0</td>\n",
       "      <td>3</td>\n",
       "      <td>23.0</td>\n",
       "      <td>1</td>\n",
       "      <td>2</td>\n",
       "      <td>8333.333333</td>\n",
       "    </tr>\n",
       "    <tr>\n",
       "      <th>176</th>\n",
       "      <td>Kumaraswami Layout</td>\n",
       "      <td>5 Bedroom</td>\n",
       "      <td>600.0</td>\n",
       "      <td>3</td>\n",
       "      <td>85.0</td>\n",
       "      <td>1</td>\n",
       "      <td>5</td>\n",
       "      <td>14166.666667</td>\n",
       "    </tr>\n",
       "    <tr>\n",
       "      <th>258</th>\n",
       "      <td>other</td>\n",
       "      <td>5 Bedroom</td>\n",
       "      <td>1200.0</td>\n",
       "      <td>5</td>\n",
       "      <td>170.0</td>\n",
       "      <td>1</td>\n",
       "      <td>5</td>\n",
       "      <td>14166.666667</td>\n",
       "    </tr>\n",
       "    <tr>\n",
       "      <th>315</th>\n",
       "      <td>other</td>\n",
       "      <td>5 Bedroom</td>\n",
       "      <td>1200.0</td>\n",
       "      <td>5</td>\n",
       "      <td>180.0</td>\n",
       "      <td>1</td>\n",
       "      <td>5</td>\n",
       "      <td>15000.000000</td>\n",
       "    </tr>\n",
       "    <tr>\n",
       "      <th>409</th>\n",
       "      <td>Sultan Palaya</td>\n",
       "      <td>2 Bedroom</td>\n",
       "      <td>550.0</td>\n",
       "      <td>1</td>\n",
       "      <td>62.0</td>\n",
       "      <td>1</td>\n",
       "      <td>2</td>\n",
       "      <td>11272.727273</td>\n",
       "    </tr>\n",
       "    <tr>\n",
       "      <th>482</th>\n",
       "      <td>Kenchenahalli</td>\n",
       "      <td>5 Bedroom</td>\n",
       "      <td>500.0</td>\n",
       "      <td>3</td>\n",
       "      <td>65.0</td>\n",
       "      <td>1</td>\n",
       "      <td>5</td>\n",
       "      <td>13000.000000</td>\n",
       "    </tr>\n",
       "    <tr>\n",
       "      <th>491</th>\n",
       "      <td>Banjara Layout</td>\n",
       "      <td>3 Bedroom</td>\n",
       "      <td>600.0</td>\n",
       "      <td>3</td>\n",
       "      <td>58.0</td>\n",
       "      <td>1</td>\n",
       "      <td>3</td>\n",
       "      <td>9666.666667</td>\n",
       "    </tr>\n",
       "    <tr>\n",
       "      <th>513</th>\n",
       "      <td>8th Phase JP Nagar</td>\n",
       "      <td>4 Bedroom</td>\n",
       "      <td>660.0</td>\n",
       "      <td>4</td>\n",
       "      <td>90.0</td>\n",
       "      <td>1</td>\n",
       "      <td>4</td>\n",
       "      <td>13636.363636</td>\n",
       "    </tr>\n",
       "    <tr>\n",
       "      <th>679</th>\n",
       "      <td>other</td>\n",
       "      <td>5 Bedroom</td>\n",
       "      <td>1200.0</td>\n",
       "      <td>5</td>\n",
       "      <td>100.0</td>\n",
       "      <td>1</td>\n",
       "      <td>5</td>\n",
       "      <td>8333.333333</td>\n",
       "    </tr>\n",
       "  </tbody>\n",
       "</table>\n",
       "</div>"
      ],
      "text/plain": [
       "               location       size  total_sqft  bath  price  \\\n",
       "78     Kaval Byrasandra      2 BHK       460.0     1   22.0   \n",
       "119         Hennur Road  2 Bedroom       276.0     3   23.0   \n",
       "176  Kumaraswami Layout  5 Bedroom       600.0     3   85.0   \n",
       "258               other  5 Bedroom      1200.0     5  170.0   \n",
       "315               other  5 Bedroom      1200.0     5  180.0   \n",
       "409       Sultan Palaya  2 Bedroom       550.0     1   62.0   \n",
       "482       Kenchenahalli  5 Bedroom       500.0     3   65.0   \n",
       "491      Banjara Layout  3 Bedroom       600.0     3   58.0   \n",
       "513  8th Phase JP Nagar  4 Bedroom       660.0     4   90.0   \n",
       "679               other  5 Bedroom      1200.0     5  100.0   \n",
       "\n",
       "     area_type_numeric  BHK  price_per_sqft  \n",
       "78                   2    2     4782.608696  \n",
       "119                  1    2     8333.333333  \n",
       "176                  1    5    14166.666667  \n",
       "258                  1    5    14166.666667  \n",
       "315                  1    5    15000.000000  \n",
       "409                  1    2    11272.727273  \n",
       "482                  1    5    13000.000000  \n",
       "491                  1    3     9666.666667  \n",
       "513                  1    4    13636.363636  \n",
       "679                  1    5     8333.333333  "
      ]
     },
     "execution_count": 55,
     "metadata": {},
     "output_type": "execute_result"
    }
   ],
   "source": [
    "df4[df4.total_sqft/df4.BHK<300].head(10)"
   ]
  },
  {
   "cell_type": "code",
   "execution_count": 56,
   "id": "painful-raising",
   "metadata": {
    "execution": {
     "iopub.execute_input": "2021-05-25T05:45:33.931322Z",
     "iopub.status.busy": "2021-05-25T05:45:33.930711Z",
     "iopub.status.idle": "2021-05-25T05:45:33.935379Z",
     "shell.execute_reply": "2021-05-25T05:45:33.934769Z",
     "shell.execute_reply.started": "2021-05-25T05:32:11.330006Z"
    },
    "papermill": {
     "duration": 0.101428,
     "end_time": "2021-05-25T05:45:33.935513",
     "exception": false,
     "start_time": "2021-05-25T05:45:33.834085",
     "status": "completed"
    },
    "tags": []
   },
   "outputs": [],
   "source": [
    "df5 = df4[~(df4.total_sqft/df4.BHK<300)]"
   ]
  },
  {
   "cell_type": "code",
   "execution_count": 57,
   "id": "oriental-seafood",
   "metadata": {
    "execution": {
     "iopub.execute_input": "2021-05-25T05:45:34.125138Z",
     "iopub.status.busy": "2021-05-25T05:45:34.124507Z",
     "iopub.status.idle": "2021-05-25T05:45:34.133538Z",
     "shell.execute_reply": "2021-05-25T05:45:34.133977Z",
     "shell.execute_reply.started": "2021-05-25T05:32:21.593367Z"
    },
    "papermill": {
     "duration": 0.105905,
     "end_time": "2021-05-25T05:45:34.134153",
     "exception": false,
     "start_time": "2021-05-25T05:45:34.028248",
     "status": "completed"
    },
    "tags": []
   },
   "outputs": [
    {
     "data": {
      "text/plain": [
       "count    11303.000000\n",
       "mean      5576.658994\n",
       "std       2114.608104\n",
       "min        500.000000\n",
       "25%       4135.179721\n",
       "50%       5133.047210\n",
       "75%       6491.605694\n",
       "max      15090.909091\n",
       "Name: price_per_sqft, dtype: float64"
      ]
     },
     "execution_count": 57,
     "metadata": {},
     "output_type": "execute_result"
    }
   ],
   "source": [
    "df5['price_per_sqft'].describe()"
   ]
  },
  {
   "cell_type": "markdown",
   "id": "miniature-graphics",
   "metadata": {
    "papermill": {
     "duration": 0.092856,
     "end_time": "2021-05-25T05:45:34.320398",
     "exception": false,
     "start_time": "2021-05-25T05:45:34.227542",
     "status": "completed"
    },
    "tags": []
   },
   "source": [
    "# Outlier Removal Using Standard Deviation and Mean"
   ]
  },
  {
   "cell_type": "code",
   "execution_count": 58,
   "id": "excessive-staff",
   "metadata": {
    "execution": {
     "iopub.execute_input": "2021-05-25T05:45:34.511866Z",
     "iopub.status.busy": "2021-05-25T05:45:34.510908Z",
     "iopub.status.idle": "2021-05-25T05:45:35.332978Z",
     "shell.execute_reply": "2021-05-25T05:45:35.332427Z",
     "shell.execute_reply.started": "2021-05-25T05:32:50.363146Z"
    },
    "papermill": {
     "duration": 0.919859,
     "end_time": "2021-05-25T05:45:35.333115",
     "exception": false,
     "start_time": "2021-05-25T05:45:34.413256",
     "status": "completed"
    },
    "tags": []
   },
   "outputs": [
    {
     "data": {
      "text/plain": [
       "(8413, 8)"
      ]
     },
     "execution_count": 58,
     "metadata": {},
     "output_type": "execute_result"
    }
   ],
   "source": [
    "def remove_pps_outliers(df):\n",
    "    df_out = pd.DataFrame()\n",
    "    for key , subdf in df.groupby('location'):\n",
    "        m = np.mean(subdf.price_per_sqft)\n",
    "        st = np.std(subdf.price_per_sqft)\n",
    "        reduced_df = subdf[(subdf.price_per_sqft>(m-st)) & (subdf.price_per_sqft<(m+st))]\n",
    "        df_out = pd.concat([df_out , reduced_df] , ignore_index = True)\n",
    "    return df_out\n",
    "\n",
    "df6 = remove_pps_outliers(df5)\n",
    "df6.shape"
   ]
  },
  {
   "cell_type": "code",
   "execution_count": 59,
   "id": "hollow-copyright",
   "metadata": {
    "execution": {
     "iopub.execute_input": "2021-05-25T05:45:35.530624Z",
     "iopub.status.busy": "2021-05-25T05:45:35.529750Z",
     "iopub.status.idle": "2021-05-25T05:45:35.533345Z",
     "shell.execute_reply": "2021-05-25T05:45:35.533923Z",
     "shell.execute_reply.started": "2021-05-25T05:32:57.309683Z"
    },
    "papermill": {
     "duration": 0.108806,
     "end_time": "2021-05-25T05:45:35.534120",
     "exception": false,
     "start_time": "2021-05-25T05:45:35.425314",
     "status": "completed"
    },
    "tags": []
   },
   "outputs": [
    {
     "data": {
      "text/plain": [
       "(11342, 8)"
      ]
     },
     "execution_count": 59,
     "metadata": {},
     "output_type": "execute_result"
    }
   ],
   "source": [
    "df5.shape"
   ]
  },
  {
   "cell_type": "code",
   "execution_count": 60,
   "id": "neither-particular",
   "metadata": {
    "execution": {
     "iopub.execute_input": "2021-05-25T05:45:35.739520Z",
     "iopub.status.busy": "2021-05-25T05:45:35.738554Z",
     "iopub.status.idle": "2021-05-25T05:45:35.981451Z",
     "shell.execute_reply": "2021-05-25T05:45:35.980877Z",
     "shell.execute_reply.started": "2021-05-25T05:33:06.811459Z"
    },
    "papermill": {
     "duration": 0.338656,
     "end_time": "2021-05-25T05:45:35.981587",
     "exception": false,
     "start_time": "2021-05-25T05:45:35.642931",
     "status": "completed"
    },
    "tags": []
   },
   "outputs": [
    {
     "data": {
      "image/png": "[encoded data removed]",
      "text/plain": [
       "<Figure size 1080x720 with 1 Axes>"
      ]
     },
     "metadata": {
      "needs_background": "light"
     },
     "output_type": "display_data"
    }
   ],
   "source": [
    "def plot_scatter_chart(df , location):\n",
    "    bhk2 = df[(df.location == location) & (df.BHK==2)]\n",
    "    bhk3 = df[(df.location == location) & (df.BHK==3)]\n",
    "    matplotlib.rcParams['figure.figsize'] = (15 , 10)\n",
    "    plt.scatter(bhk2.total_sqft , bhk2.price , color = 'blue' , label = '2 BHK' , s = 50)\n",
    "    plt.scatter(bhk3.total_sqft , bhk3.price , marker = '+' , color = 'green' , label = '3 BHK' , s = 50)\n",
    "    plt.xlabel('Total Square feet Area')\n",
    "    plt.ylabel('Price(Lakhs Indian Rupees)')\n",
    "    plt.title(location)\n",
    "    plt.legend()\n",
    "\n",
    "plot_scatter_chart(df6 , 'Hebbal')  "
   ]
  },
  {
   "cell_type": "code",
   "execution_count": 61,
   "id": "therapeutic-crash",
   "metadata": {
    "execution": {
     "iopub.execute_input": "2021-05-25T05:45:36.181018Z",
     "iopub.status.busy": "2021-05-25T05:45:36.180359Z",
     "iopub.status.idle": "2021-05-25T05:45:36.911699Z",
     "shell.execute_reply": "2021-05-25T05:45:36.911180Z",
     "shell.execute_reply.started": "2021-05-25T05:33:14.677015Z"
    },
    "papermill": {
     "duration": 0.835498,
     "end_time": "2021-05-25T05:45:36.911840",
     "exception": false,
     "start_time": "2021-05-25T05:45:36.076342",
     "status": "completed"
    },
    "tags": []
   },
   "outputs": [
    {
     "data": {
      "text/plain": [
       "(6088, 8)"
      ]
     },
     "execution_count": 61,
     "metadata": {},
     "output_type": "execute_result"
    }
   ],
   "source": [
    "def remove_bhk_outliers(df):\n",
    "    exclude_indices = np.array([])\n",
    "    for location , location_df in df.groupby('location'):\n",
    "        bhk_stats = {}\n",
    "        for bhk , bhk_df in location_df.groupby('BHK'):\n",
    "            bhk_stats[bhk] = {\n",
    "                'mean' : np.mean(bhk_df.price_per_sqft),\n",
    "                'std' : np.std(bhk_df.price_per_sqft),\n",
    "                'count' : bhk_df.shape[0]\n",
    "            }\n",
    "        for bhk , bhk_df in location_df.groupby('BHK'):\n",
    "            stats = bhk_stats.get(bhk-1)\n",
    "            if stats and stats['count']>5:\n",
    "                exclude_indices = np.append(exclude_indices , bhk_df[bhk_df.price_per_sqft<(stats['mean'])].index.values)\n",
    "                \n",
    "    return df.drop(exclude_indices , axis = 'index')   \n",
    "\n",
    "df7 = remove_bhk_outliers(df6)\n",
    "df7.shape"
   ]
  },
  {
   "cell_type": "code",
   "execution_count": 62,
   "id": "incident-express",
   "metadata": {
    "execution": {
     "iopub.execute_input": "2021-05-25T05:45:37.125132Z",
     "iopub.status.busy": "2021-05-25T05:45:37.108753Z",
     "iopub.status.idle": "2021-05-25T05:45:37.333195Z",
     "shell.execute_reply": "2021-05-25T05:45:37.332577Z",
     "shell.execute_reply.started": "2021-05-25T05:33:22.673280Z"
    },
    "papermill": {
     "duration": 0.326748,
     "end_time": "2021-05-25T05:45:37.333352",
     "exception": false,
     "start_time": "2021-05-25T05:45:37.006604",
     "status": "completed"
    },
    "tags": []
   },
   "outputs": [
    {
     "data": {
      "image/png": "[encoded data removed]",
      "text/plain": [
       "<Figure size 1080x720 with 1 Axes>"
      ]
     },
     "metadata": {
      "needs_background": "light"
     },
     "output_type": "display_data"
    }
   ],
   "source": [
    "plot_scatter_chart(df7 , 'Hebbal')"
   ]
  },
  {
   "cell_type": "code",
   "execution_count": 63,
   "id": "wrong-portland",
   "metadata": {
    "execution": {
     "iopub.execute_input": "2021-05-25T05:45:37.553823Z",
     "iopub.status.busy": "2021-05-25T05:45:37.552319Z",
     "iopub.status.idle": "2021-05-25T05:45:37.700794Z",
     "shell.execute_reply": "2021-05-25T05:45:37.701240Z",
     "shell.execute_reply.started": "2021-05-25T05:33:31.326617Z"
    },
    "papermill": {
     "duration": 0.271878,
     "end_time": "2021-05-25T05:45:37.701427",
     "exception": false,
     "start_time": "2021-05-25T05:45:37.429549",
     "status": "completed"
    },
    "tags": []
   },
   "outputs": [
    {
     "data": {
      "text/plain": [
       "Text(0, 0.5, 'Count')"
      ]
     },
     "execution_count": 63,
     "metadata": {},
     "output_type": "execute_result"
    },
    {
     "data": {
      "image/png": "[encoded data removed]",
      "text/plain": [
       "<Figure size 1080x720 with 1 Axes>"
      ]
     },
     "metadata": {
      "needs_background": "light"
     },
     "output_type": "display_data"
    }
   ],
   "source": [
    "plt.hist(df7.price_per_sqft , rwidth = 0.8)\n",
    "plt.xlabel('Price per square feet')\n",
    "plt.ylabel('Count')"
   ]
  },
  {
   "cell_type": "code",
   "execution_count": 64,
   "id": "statistical-kennedy",
   "metadata": {
    "execution": {
     "iopub.execute_input": "2021-05-25T05:45:37.904205Z",
     "iopub.status.busy": "2021-05-25T05:45:37.903259Z",
     "iopub.status.idle": "2021-05-25T05:45:37.907740Z",
     "shell.execute_reply": "2021-05-25T05:45:37.907217Z",
     "shell.execute_reply.started": "2021-05-25T05:33:39.118576Z"
    },
    "papermill": {
     "duration": 0.108413,
     "end_time": "2021-05-25T05:45:37.907887",
     "exception": false,
     "start_time": "2021-05-25T05:45:37.799474",
     "status": "completed"
    },
    "tags": []
   },
   "outputs": [
    {
     "data": {
      "text/plain": [
       "array([3, 2, 4, 5, 1])"
      ]
     },
     "execution_count": 64,
     "metadata": {},
     "output_type": "execute_result"
    }
   ],
   "source": [
    "df7.bath.unique()"
   ]
  },
  {
   "cell_type": "code",
   "execution_count": 65,
   "id": "later-reform",
   "metadata": {
    "execution": {
     "iopub.execute_input": "2021-05-25T05:45:38.111307Z",
     "iopub.status.busy": "2021-05-25T05:45:38.110650Z",
     "iopub.status.idle": "2021-05-25T05:45:38.302992Z",
     "shell.execute_reply": "2021-05-25T05:45:38.302326Z",
     "shell.execute_reply.started": "2021-05-25T05:34:08.820360Z"
    },
    "papermill": {
     "duration": 0.296555,
     "end_time": "2021-05-25T05:45:38.303149",
     "exception": false,
     "start_time": "2021-05-25T05:45:38.006594",
     "status": "completed"
    },
    "tags": []
   },
   "outputs": [
    {
     "data": {
      "text/plain": [
       "Text(0, 0.5, 'Count')"
      ]
     },
     "execution_count": 65,
     "metadata": {},
     "output_type": "execute_result"
    },
    {
     "data": {
      "image/png": "[encoded data removed]",
      "text/plain": [
       "<Figure size 1080x720 with 1 Axes>"
      ]
     },
     "metadata": {
      "needs_background": "light"
     },
     "output_type": "display_data"
    }
   ],
   "source": [
    "plt.hist(df7.bath , rwidth = 0.8)\n",
    "plt.xlabel('number of bathrooms')\n",
    "plt.ylabel('Count')"
   ]
  },
  {
   "cell_type": "code",
   "execution_count": 66,
   "id": "martial-alias",
   "metadata": {
    "execution": {
     "iopub.execute_input": "2021-05-25T05:45:38.506238Z",
     "iopub.status.busy": "2021-05-25T05:45:38.504759Z",
     "iopub.status.idle": "2021-05-25T05:45:38.509682Z",
     "shell.execute_reply": "2021-05-25T05:45:38.510185Z",
     "shell.execute_reply.started": "2021-05-25T05:34:24.146899Z"
    },
    "papermill": {
     "duration": 0.108534,
     "end_time": "2021-05-25T05:45:38.510361",
     "exception": false,
     "start_time": "2021-05-25T05:45:38.401827",
     "status": "completed"
    },
    "tags": []
   },
   "outputs": [
    {
     "data": {
      "text/plain": [
       "(6077, 8)"
      ]
     },
     "execution_count": 66,
     "metadata": {},
     "output_type": "execute_result"
    }
   ],
   "source": [
    "df8 = df7[(df7.bath<df7.BHK+2)]\n",
    "df8.shape"
   ]
  },
  {
   "cell_type": "code",
   "execution_count": 67,
   "id": "blond-mason",
   "metadata": {
    "execution": {
     "iopub.execute_input": "2021-05-25T05:45:38.710712Z",
     "iopub.status.busy": "2021-05-25T05:45:38.709777Z",
     "iopub.status.idle": "2021-05-25T05:45:38.724409Z",
     "shell.execute_reply": "2021-05-25T05:45:38.723897Z",
     "shell.execute_reply.started": "2021-05-25T05:34:31.411453Z"
    },
    "papermill": {
     "duration": 0.116165,
     "end_time": "2021-05-25T05:45:38.724556",
     "exception": false,
     "start_time": "2021-05-25T05:45:38.608391",
     "status": "completed"
    },
    "tags": []
   },
   "outputs": [
    {
     "data": {
      "text/html": [
       "<div>\n",
       "<style scoped>\n",
       "    .dataframe tbody tr th:only-of-type {\n",
       "        vertical-align: middle;\n",
       "    }\n",
       "\n",
       "    .dataframe tbody tr th {\n",
       "        vertical-align: top;\n",
       "    }\n",
       "\n",
       "    .dataframe thead th {\n",
       "        text-align: right;\n",
       "    }\n",
       "</style>\n",
       "<table border=\"1\" class=\"dataframe\">\n",
       "  <thead>\n",
       "    <tr style=\"text-align: right;\">\n",
       "      <th></th>\n",
       "      <th>location</th>\n",
       "      <th>total_sqft</th>\n",
       "      <th>bath</th>\n",
       "      <th>price</th>\n",
       "      <th>BHK</th>\n",
       "    </tr>\n",
       "  </thead>\n",
       "  <tbody>\n",
       "    <tr>\n",
       "      <th>0</th>\n",
       "      <td>1st Block Jayanagar</td>\n",
       "      <td>1630.0</td>\n",
       "      <td>3</td>\n",
       "      <td>194.0</td>\n",
       "      <td>3</td>\n",
       "    </tr>\n",
       "    <tr>\n",
       "      <th>1</th>\n",
       "      <td>1st Block Jayanagar</td>\n",
       "      <td>1875.0</td>\n",
       "      <td>2</td>\n",
       "      <td>235.0</td>\n",
       "      <td>3</td>\n",
       "    </tr>\n",
       "    <tr>\n",
       "      <th>2</th>\n",
       "      <td>1st Block Jayanagar</td>\n",
       "      <td>1200.0</td>\n",
       "      <td>2</td>\n",
       "      <td>130.0</td>\n",
       "      <td>3</td>\n",
       "    </tr>\n",
       "    <tr>\n",
       "      <th>3</th>\n",
       "      <td>1st Block Jayanagar</td>\n",
       "      <td>1235.0</td>\n",
       "      <td>2</td>\n",
       "      <td>148.0</td>\n",
       "      <td>2</td>\n",
       "    </tr>\n",
       "    <tr>\n",
       "      <th>4</th>\n",
       "      <td>1st Phase JP Nagar</td>\n",
       "      <td>2825.0</td>\n",
       "      <td>4</td>\n",
       "      <td>250.0</td>\n",
       "      <td>4</td>\n",
       "    </tr>\n",
       "  </tbody>\n",
       "</table>\n",
       "</div>"
      ],
      "text/plain": [
       "              location  total_sqft  bath  price  BHK\n",
       "0  1st Block Jayanagar      1630.0     3  194.0    3\n",
       "1  1st Block Jayanagar      1875.0     2  235.0    3\n",
       "2  1st Block Jayanagar      1200.0     2  130.0    3\n",
       "3  1st Block Jayanagar      1235.0     2  148.0    2\n",
       "4   1st Phase JP Nagar      2825.0     4  250.0    4"
      ]
     },
     "execution_count": 67,
     "metadata": {},
     "output_type": "execute_result"
    }
   ],
   "source": [
    "df9 = df8.drop(['size' , 'price_per_sqft', 'area_type_numeric'] , axis = 'columns')\n",
    "df9.head()"
   ]
  },
  {
   "cell_type": "markdown",
   "id": "temporal-rogers",
   "metadata": {
    "papermill": {
     "duration": 0.098319,
     "end_time": "2021-05-25T05:45:38.921786",
     "exception": false,
     "start_time": "2021-05-25T05:45:38.823467",
     "status": "completed"
    },
    "tags": []
   },
   "source": [
    "# Using One Hot Encoding For Location"
   ]
  },
  {
   "cell_type": "code",
   "execution_count": 68,
   "id": "direct-circle",
   "metadata": {
    "execution": {
     "iopub.execute_input": "2021-05-25T05:45:39.125480Z",
     "iopub.status.busy": "2021-05-25T05:45:39.124861Z",
     "iopub.status.idle": "2021-05-25T05:45:39.143574Z",
     "shell.execute_reply": "2021-05-25T05:45:39.144068Z",
     "shell.execute_reply.started": "2021-05-25T05:34:53.651654Z"
    },
    "papermill": {
     "duration": 0.123653,
     "end_time": "2021-05-25T05:45:39.144240",
     "exception": false,
     "start_time": "2021-05-25T05:45:39.020587",
     "status": "completed"
    },
    "tags": []
   },
   "outputs": [
    {
     "data": {
      "text/html": [
       "<div>\n",
       "<style scoped>\n",
       "    .dataframe tbody tr th:only-of-type {\n",
       "        vertical-align: middle;\n",
       "    }\n",
       "\n",
       "    .dataframe tbody tr th {\n",
       "        vertical-align: top;\n",
       "    }\n",
       "\n",
       "    .dataframe thead th {\n",
       "        text-align: right;\n",
       "    }\n",
       "</style>\n",
       "<table border=\"1\" class=\"dataframe\">\n",
       "  <thead>\n",
       "    <tr style=\"text-align: right;\">\n",
       "      <th></th>\n",
       "      <th>1st Block Jayanagar</th>\n",
       "      <th>1st Phase JP Nagar</th>\n",
       "      <th>2nd Phase Judicial Layout</th>\n",
       "      <th>2nd Stage Nagarbhavi</th>\n",
       "      <th>5th Block Hbr Layout</th>\n",
       "      <th>5th Phase JP Nagar</th>\n",
       "      <th>6th Phase JP Nagar</th>\n",
       "      <th>7th Phase JP Nagar</th>\n",
       "      <th>8th Phase JP Nagar</th>\n",
       "      <th>9th Phase JP Nagar</th>\n",
       "      <th>...</th>\n",
       "      <th>Vishveshwarya Layout</th>\n",
       "      <th>Vishwapriya Layout</th>\n",
       "      <th>Vittasandra</th>\n",
       "      <th>Whitefield</th>\n",
       "      <th>Yelachenahalli</th>\n",
       "      <th>Yelahanka</th>\n",
       "      <th>Yelahanka New Town</th>\n",
       "      <th>Yelenahalli</th>\n",
       "      <th>Yeshwanthpur</th>\n",
       "      <th>other</th>\n",
       "    </tr>\n",
       "  </thead>\n",
       "  <tbody>\n",
       "    <tr>\n",
       "      <th>0</th>\n",
       "      <td>1</td>\n",
       "      <td>0</td>\n",
       "      <td>0</td>\n",
       "      <td>0</td>\n",
       "      <td>0</td>\n",
       "      <td>0</td>\n",
       "      <td>0</td>\n",
       "      <td>0</td>\n",
       "      <td>0</td>\n",
       "      <td>0</td>\n",
       "      <td>...</td>\n",
       "      <td>0</td>\n",
       "      <td>0</td>\n",
       "      <td>0</td>\n",
       "      <td>0</td>\n",
       "      <td>0</td>\n",
       "      <td>0</td>\n",
       "      <td>0</td>\n",
       "      <td>0</td>\n",
       "      <td>0</td>\n",
       "      <td>0</td>\n",
       "    </tr>\n",
       "    <tr>\n",
       "      <th>1</th>\n",
       "      <td>1</td>\n",
       "      <td>0</td>\n",
       "      <td>0</td>\n",
       "      <td>0</td>\n",
       "      <td>0</td>\n",
       "      <td>0</td>\n",
       "      <td>0</td>\n",
       "      <td>0</td>\n",
       "      <td>0</td>\n",
       "      <td>0</td>\n",
       "      <td>...</td>\n",
       "      <td>0</td>\n",
       "      <td>0</td>\n",
       "      <td>0</td>\n",
       "      <td>0</td>\n",
       "      <td>0</td>\n",
       "      <td>0</td>\n",
       "      <td>0</td>\n",
       "      <td>0</td>\n",
       "      <td>0</td>\n",
       "      <td>0</td>\n",
       "    </tr>\n",
       "    <tr>\n",
       "      <th>2</th>\n",
       "      <td>1</td>\n",
       "      <td>0</td>\n",
       "      <td>0</td>\n",
       "      <td>0</td>\n",
       "      <td>0</td>\n",
       "      <td>0</td>\n",
       "      <td>0</td>\n",
       "      <td>0</td>\n",
       "      <td>0</td>\n",
       "      <td>0</td>\n",
       "      <td>...</td>\n",
       "      <td>0</td>\n",
       "      <td>0</td>\n",
       "      <td>0</td>\n",
       "      <td>0</td>\n",
       "      <td>0</td>\n",
       "      <td>0</td>\n",
       "      <td>0</td>\n",
       "      <td>0</td>\n",
       "      <td>0</td>\n",
       "      <td>0</td>\n",
       "    </tr>\n",
       "    <tr>\n",
       "      <th>3</th>\n",
       "      <td>1</td>\n",
       "      <td>0</td>\n",
       "      <td>0</td>\n",
       "      <td>0</td>\n",
       "      <td>0</td>\n",
       "      <td>0</td>\n",
       "      <td>0</td>\n",
       "      <td>0</td>\n",
       "      <td>0</td>\n",
       "      <td>0</td>\n",
       "      <td>...</td>\n",
       "      <td>0</td>\n",
       "      <td>0</td>\n",
       "      <td>0</td>\n",
       "      <td>0</td>\n",
       "      <td>0</td>\n",
       "      <td>0</td>\n",
       "      <td>0</td>\n",
       "      <td>0</td>\n",
       "      <td>0</td>\n",
       "      <td>0</td>\n",
       "    </tr>\n",
       "    <tr>\n",
       "      <th>4</th>\n",
       "      <td>0</td>\n",
       "      <td>1</td>\n",
       "      <td>0</td>\n",
       "      <td>0</td>\n",
       "      <td>0</td>\n",
       "      <td>0</td>\n",
       "      <td>0</td>\n",
       "      <td>0</td>\n",
       "      <td>0</td>\n",
       "      <td>0</td>\n",
       "      <td>...</td>\n",
       "      <td>0</td>\n",
       "      <td>0</td>\n",
       "      <td>0</td>\n",
       "      <td>0</td>\n",
       "      <td>0</td>\n",
       "      <td>0</td>\n",
       "      <td>0</td>\n",
       "      <td>0</td>\n",
       "      <td>0</td>\n",
       "      <td>0</td>\n",
       "    </tr>\n",
       "  </tbody>\n",
       "</table>\n",
       "<p>5 rows × 241 columns</p>\n",
       "</div>"
      ],
      "text/plain": [
       "   1st Block Jayanagar  1st Phase JP Nagar  2nd Phase Judicial Layout  \\\n",
       "0                    1                   0                          0   \n",
       "1                    1                   0                          0   \n",
       "2                    1                   0                          0   \n",
       "3                    1                   0                          0   \n",
       "4                    0                   1                          0   \n",
       "\n",
       "   2nd Stage Nagarbhavi  5th Block Hbr Layout  5th Phase JP Nagar  \\\n",
       "0                     0                     0                   0   \n",
       "1                     0                     0                   0   \n",
       "2                     0                     0                   0   \n",
       "3                     0                     0                   0   \n",
       "4                     0                     0                   0   \n",
       "\n",
       "   6th Phase JP Nagar  7th Phase JP Nagar  8th Phase JP Nagar  \\\n",
       "0                   0                   0                   0   \n",
       "1                   0                   0                   0   \n",
       "2                   0                   0                   0   \n",
       "3                   0                   0                   0   \n",
       "4                   0                   0                   0   \n",
       "\n",
       "   9th Phase JP Nagar  ...  Vishveshwarya Layout  Vishwapriya Layout  \\\n",
       "0                   0  ...                     0                   0   \n",
       "1                   0  ...                     0                   0   \n",
       "2                   0  ...                     0                   0   \n",
       "3                   0  ...                     0                   0   \n",
       "4                   0  ...                     0                   0   \n",
       "\n",
       "   Vittasandra  Whitefield  Yelachenahalli  Yelahanka  Yelahanka New Town  \\\n",
       "0            0           0               0          0                   0   \n",
       "1            0           0               0          0                   0   \n",
       "2            0           0               0          0                   0   \n",
       "3            0           0               0          0                   0   \n",
       "4            0           0               0          0                   0   \n",
       "\n",
       "   Yelenahalli  Yeshwanthpur  other  \n",
       "0            0             0      0  \n",
       "1            0             0      0  \n",
       "2            0             0      0  \n",
       "3            0             0      0  \n",
       "4            0             0      0  \n",
       "\n",
       "[5 rows x 241 columns]"
      ]
     },
     "execution_count": 68,
     "metadata": {},
     "output_type": "execute_result"
    }
   ],
   "source": [
    "dummies = pd.get_dummies(df9.location)\n",
    "dummies.head()"
   ]
  },
  {
   "cell_type": "code",
   "execution_count": 69,
   "id": "strategic-reducing",
   "metadata": {
    "execution": {
     "iopub.execute_input": "2021-05-25T05:45:39.346430Z",
     "iopub.status.busy": "2021-05-25T05:45:39.345798Z",
     "iopub.status.idle": "2021-05-25T05:45:39.379359Z",
     "shell.execute_reply": "2021-05-25T05:45:39.379839Z",
     "shell.execute_reply.started": "2021-05-25T05:35:00.154511Z"
    },
    "papermill": {
     "duration": 0.136258,
     "end_time": "2021-05-25T05:45:39.380007",
     "exception": false,
     "start_time": "2021-05-25T05:45:39.243749",
     "status": "completed"
    },
    "tags": []
   },
   "outputs": [
    {
     "data": {
      "text/html": [
       "<div>\n",
       "<style scoped>\n",
       "    .dataframe tbody tr th:only-of-type {\n",
       "        vertical-align: middle;\n",
       "    }\n",
       "\n",
       "    .dataframe tbody tr th {\n",
       "        vertical-align: top;\n",
       "    }\n",
       "\n",
       "    .dataframe thead th {\n",
       "        text-align: right;\n",
       "    }\n",
       "</style>\n",
       "<table border=\"1\" class=\"dataframe\">\n",
       "  <thead>\n",
       "    <tr style=\"text-align: right;\">\n",
       "      <th></th>\n",
       "      <th>location</th>\n",
       "      <th>total_sqft</th>\n",
       "      <th>bath</th>\n",
       "      <th>price</th>\n",
       "      <th>BHK</th>\n",
       "      <th>1st Block Jayanagar</th>\n",
       "      <th>1st Phase JP Nagar</th>\n",
       "      <th>2nd Phase Judicial Layout</th>\n",
       "      <th>2nd Stage Nagarbhavi</th>\n",
       "      <th>5th Block Hbr Layout</th>\n",
       "      <th>...</th>\n",
       "      <th>Vijayanagar</th>\n",
       "      <th>Vishveshwarya Layout</th>\n",
       "      <th>Vishwapriya Layout</th>\n",
       "      <th>Vittasandra</th>\n",
       "      <th>Whitefield</th>\n",
       "      <th>Yelachenahalli</th>\n",
       "      <th>Yelahanka</th>\n",
       "      <th>Yelahanka New Town</th>\n",
       "      <th>Yelenahalli</th>\n",
       "      <th>Yeshwanthpur</th>\n",
       "    </tr>\n",
       "  </thead>\n",
       "  <tbody>\n",
       "    <tr>\n",
       "      <th>0</th>\n",
       "      <td>1st Block Jayanagar</td>\n",
       "      <td>1630.0</td>\n",
       "      <td>3</td>\n",
       "      <td>194.0</td>\n",
       "      <td>3</td>\n",
       "      <td>1</td>\n",
       "      <td>0</td>\n",
       "      <td>0</td>\n",
       "      <td>0</td>\n",
       "      <td>0</td>\n",
       "      <td>...</td>\n",
       "      <td>0</td>\n",
       "      <td>0</td>\n",
       "      <td>0</td>\n",
       "      <td>0</td>\n",
       "      <td>0</td>\n",
       "      <td>0</td>\n",
       "      <td>0</td>\n",
       "      <td>0</td>\n",
       "      <td>0</td>\n",
       "      <td>0</td>\n",
       "    </tr>\n",
       "    <tr>\n",
       "      <th>1</th>\n",
       "      <td>1st Block Jayanagar</td>\n",
       "      <td>1875.0</td>\n",
       "      <td>2</td>\n",
       "      <td>235.0</td>\n",
       "      <td>3</td>\n",
       "      <td>1</td>\n",
       "      <td>0</td>\n",
       "      <td>0</td>\n",
       "      <td>0</td>\n",
       "      <td>0</td>\n",
       "      <td>...</td>\n",
       "      <td>0</td>\n",
       "      <td>0</td>\n",
       "      <td>0</td>\n",
       "      <td>0</td>\n",
       "      <td>0</td>\n",
       "      <td>0</td>\n",
       "      <td>0</td>\n",
       "      <td>0</td>\n",
       "      <td>0</td>\n",
       "      <td>0</td>\n",
       "    </tr>\n",
       "    <tr>\n",
       "      <th>2</th>\n",
       "      <td>1st Block Jayanagar</td>\n",
       "      <td>1200.0</td>\n",
       "      <td>2</td>\n",
       "      <td>130.0</td>\n",
       "      <td>3</td>\n",
       "      <td>1</td>\n",
       "      <td>0</td>\n",
       "      <td>0</td>\n",
       "      <td>0</td>\n",
       "      <td>0</td>\n",
       "      <td>...</td>\n",
       "      <td>0</td>\n",
       "      <td>0</td>\n",
       "      <td>0</td>\n",
       "      <td>0</td>\n",
       "      <td>0</td>\n",
       "      <td>0</td>\n",
       "      <td>0</td>\n",
       "      <td>0</td>\n",
       "      <td>0</td>\n",
       "      <td>0</td>\n",
       "    </tr>\n",
       "    <tr>\n",
       "      <th>3</th>\n",
       "      <td>1st Block Jayanagar</td>\n",
       "      <td>1235.0</td>\n",
       "      <td>2</td>\n",
       "      <td>148.0</td>\n",
       "      <td>2</td>\n",
       "      <td>1</td>\n",
       "      <td>0</td>\n",
       "      <td>0</td>\n",
       "      <td>0</td>\n",
       "      <td>0</td>\n",
       "      <td>...</td>\n",
       "      <td>0</td>\n",
       "      <td>0</td>\n",
       "      <td>0</td>\n",
       "      <td>0</td>\n",
       "      <td>0</td>\n",
       "      <td>0</td>\n",
       "      <td>0</td>\n",
       "      <td>0</td>\n",
       "      <td>0</td>\n",
       "      <td>0</td>\n",
       "    </tr>\n",
       "    <tr>\n",
       "      <th>4</th>\n",
       "      <td>1st Phase JP Nagar</td>\n",
       "      <td>2825.0</td>\n",
       "      <td>4</td>\n",
       "      <td>250.0</td>\n",
       "      <td>4</td>\n",
       "      <td>0</td>\n",
       "      <td>1</td>\n",
       "      <td>0</td>\n",
       "      <td>0</td>\n",
       "      <td>0</td>\n",
       "      <td>...</td>\n",
       "      <td>0</td>\n",
       "      <td>0</td>\n",
       "      <td>0</td>\n",
       "      <td>0</td>\n",
       "      <td>0</td>\n",
       "      <td>0</td>\n",
       "      <td>0</td>\n",
       "      <td>0</td>\n",
       "      <td>0</td>\n",
       "      <td>0</td>\n",
       "    </tr>\n",
       "  </tbody>\n",
       "</table>\n",
       "<p>5 rows × 245 columns</p>\n",
       "</div>"
      ],
      "text/plain": [
       "              location  total_sqft  bath  price  BHK  1st Block Jayanagar  \\\n",
       "0  1st Block Jayanagar      1630.0     3  194.0    3                    1   \n",
       "1  1st Block Jayanagar      1875.0     2  235.0    3                    1   \n",
       "2  1st Block Jayanagar      1200.0     2  130.0    3                    1   \n",
       "3  1st Block Jayanagar      1235.0     2  148.0    2                    1   \n",
       "4   1st Phase JP Nagar      2825.0     4  250.0    4                    0   \n",
       "\n",
       "   1st Phase JP Nagar  2nd Phase Judicial Layout  2nd Stage Nagarbhavi  \\\n",
       "0                   0                          0                     0   \n",
       "1                   0                          0                     0   \n",
       "2                   0                          0                     0   \n",
       "3                   0                          0                     0   \n",
       "4                   1                          0                     0   \n",
       "\n",
       "   5th Block Hbr Layout  ...  Vijayanagar  Vishveshwarya Layout  \\\n",
       "0                     0  ...            0                     0   \n",
       "1                     0  ...            0                     0   \n",
       "2                     0  ...            0                     0   \n",
       "3                     0  ...            0                     0   \n",
       "4                     0  ...            0                     0   \n",
       "\n",
       "   Vishwapriya Layout  Vittasandra  Whitefield  Yelachenahalli  Yelahanka  \\\n",
       "0                   0            0           0               0          0   \n",
       "1                   0            0           0               0          0   \n",
       "2                   0            0           0               0          0   \n",
       "3                   0            0           0               0          0   \n",
       "4                   0            0           0               0          0   \n",
       "\n",
       "   Yelahanka New Town  Yelenahalli  Yeshwanthpur  \n",
       "0                   0            0             0  \n",
       "1                   0            0             0  \n",
       "2                   0            0             0  \n",
       "3                   0            0             0  \n",
       "4                   0            0             0  \n",
       "\n",
       "[5 rows x 245 columns]"
      ]
     },
     "execution_count": 69,
     "metadata": {},
     "output_type": "execute_result"
    }
   ],
   "source": [
    "df10 = pd.concat([df9 , dummies.drop('other' , axis = 'columns')] , axis = 'columns')\n",
    "df10.head()"
   ]
  },
  {
   "cell_type": "code",
   "execution_count": 70,
   "id": "superb-screening",
   "metadata": {
    "execution": {
     "iopub.execute_input": "2021-05-25T05:45:39.582851Z",
     "iopub.status.busy": "2021-05-25T05:45:39.582226Z",
     "iopub.status.idle": "2021-05-25T05:45:39.590150Z",
     "shell.execute_reply": "2021-05-25T05:45:39.590636Z",
     "shell.execute_reply.started": "2021-05-25T05:35:06.932809Z"
    },
    "papermill": {
     "duration": 0.111292,
     "end_time": "2021-05-25T05:45:39.590808",
     "exception": false,
     "start_time": "2021-05-25T05:45:39.479516",
     "status": "completed"
    },
    "tags": []
   },
   "outputs": [],
   "source": [
    "df11 = df10.drop(['location'] , axis = 'columns')"
   ]
  },
  {
   "cell_type": "markdown",
   "id": "touched-elite",
   "metadata": {
    "execution": {
     "iopub.execute_input": "2021-05-25T05:35:20.810714Z",
     "iopub.status.busy": "2021-05-25T05:35:20.810398Z",
     "iopub.status.idle": "2021-05-25T05:35:20.813915Z",
     "shell.execute_reply": "2021-05-25T05:35:20.813223Z",
     "shell.execute_reply.started": "2021-05-25T05:35:20.810688Z"
    },
    "papermill": {
     "duration": 0.100738,
     "end_time": "2021-05-25T05:45:39.790935",
     "exception": false,
     "start_time": "2021-05-25T05:45:39.690197",
     "status": "completed"
    },
    "tags": []
   },
   "source": [
    "# Model Building"
   ]
  },
  {
   "cell_type": "code",
   "execution_count": 71,
   "id": "utility-vampire",
   "metadata": {
    "execution": {
     "iopub.execute_input": "2021-05-25T05:45:39.998043Z",
     "iopub.status.busy": "2021-05-25T05:45:39.997456Z",
     "iopub.status.idle": "2021-05-25T05:45:40.004100Z",
     "shell.execute_reply": "2021-05-25T05:45:40.004592Z",
     "shell.execute_reply.started": "2021-05-25T05:35:36.840076Z"
    },
    "papermill": {
     "duration": 0.11311,
     "end_time": "2021-05-25T05:45:40.004766",
     "exception": false,
     "start_time": "2021-05-25T05:45:39.891656",
     "status": "completed"
    },
    "tags": []
   },
   "outputs": [],
   "source": [
    "x = df11.drop('price' , axis = 'columns')"
   ]
  },
  {
   "cell_type": "code",
   "execution_count": 72,
   "id": "genetic-values",
   "metadata": {
    "execution": {
     "iopub.execute_input": "2021-05-25T05:45:40.208171Z",
     "iopub.status.busy": "2021-05-25T05:45:40.207517Z",
     "iopub.status.idle": "2021-05-25T05:45:40.211057Z",
     "shell.execute_reply": "2021-05-25T05:45:40.211616Z",
     "shell.execute_reply.started": "2021-05-25T05:35:44.535151Z"
    },
    "papermill": {
     "duration": 0.107168,
     "end_time": "2021-05-25T05:45:40.211797",
     "exception": false,
     "start_time": "2021-05-25T05:45:40.104629",
     "status": "completed"
    },
    "tags": []
   },
   "outputs": [],
   "source": [
    "y = df11.price"
   ]
  },
  {
   "cell_type": "markdown",
   "id": "greatest-while",
   "metadata": {
    "papermill": {
     "duration": 0.099331,
     "end_time": "2021-05-25T05:45:40.411181",
     "exception": false,
     "start_time": "2021-05-25T05:45:40.311850",
     "status": "completed"
    },
    "tags": []
   },
   "source": [
    "# Feature Scaling"
   ]
  },
  {
   "cell_type": "code",
   "execution_count": 73,
   "id": "tamil-tutorial",
   "metadata": {
    "execution": {
     "iopub.execute_input": "2021-05-25T05:45:40.614467Z",
     "iopub.status.busy": "2021-05-25T05:45:40.613880Z",
     "iopub.status.idle": "2021-05-25T05:45:40.885453Z",
     "shell.execute_reply": "2021-05-25T05:45:40.885940Z",
     "shell.execute_reply.started": "2021-05-25T05:37:14.999039Z"
    },
    "papermill": {
     "duration": 0.374636,
     "end_time": "2021-05-25T05:45:40.886128",
     "exception": false,
     "start_time": "2021-05-25T05:45:40.511492",
     "status": "completed"
    },
    "tags": []
   },
   "outputs": [],
   "source": [
    "from sklearn.preprocessing import StandardScaler\n",
    "scaler = StandardScaler()\n",
    "X = scaler.fit_transform(x)"
   ]
  },
  {
   "cell_type": "code",
   "execution_count": 74,
   "id": "banned-ferry",
   "metadata": {
    "execution": {
     "iopub.execute_input": "2021-05-25T05:45:41.093031Z",
     "iopub.status.busy": "2021-05-25T05:45:41.092415Z",
     "iopub.status.idle": "2021-05-25T05:45:41.148882Z",
     "shell.execute_reply": "2021-05-25T05:45:41.149383Z",
     "shell.execute_reply.started": "2021-05-25T05:37:32.208744Z"
    },
    "papermill": {
     "duration": 0.162716,
     "end_time": "2021-05-25T05:45:41.149570",
     "exception": false,
     "start_time": "2021-05-25T05:45:40.986854",
     "status": "completed"
    },
    "tags": []
   },
   "outputs": [],
   "source": [
    "from sklearn.model_selection import ShuffleSplit\n",
    "from sklearn.model_selection import cross_val_score"
   ]
  },
  {
   "cell_type": "code",
   "execution_count": 75,
   "id": "announced-gravity",
   "metadata": {
    "execution": {
     "iopub.execute_input": "2021-05-25T05:45:41.352893Z",
     "iopub.status.busy": "2021-05-25T05:45:41.352214Z",
     "iopub.status.idle": "2021-05-25T05:45:41.528078Z",
     "shell.execute_reply": "2021-05-25T05:45:41.527503Z",
     "shell.execute_reply.started": "2021-05-25T05:37:33.726196Z"
    },
    "papermill": {
     "duration": 0.278304,
     "end_time": "2021-05-25T05:45:41.528213",
     "exception": false,
     "start_time": "2021-05-25T05:45:41.249909",
     "status": "completed"
    },
    "tags": []
   },
   "outputs": [],
   "source": [
    "from sklearn.model_selection import GridSearchCV\n",
    "\n",
    "from sklearn.linear_model import LinearRegression\n",
    "from sklearn.linear_model import Lasso\n",
    "from sklearn.linear_model import Ridge\n",
    "#import xgboost as xgb \n",
    "from sklearn.tree import DecisionTreeRegressor\n",
    "#from sklearn.ensemble import RandomForestRegressor\n",
    "\n",
    "def find_best_model_using_gridsearchcv(x , y):\n",
    "    algos = {\n",
    "        'LinearRegression' : {\n",
    "            'model' : LinearRegression(),\n",
    "            'params' : {\n",
    "                'normalize' : [True , False],\n",
    "                'fit_intercept': [True , False],\n",
    "                 'copy_X' : [True , False]\n",
    "            }\n",
    "        },\n",
    "        'lasso' : {\n",
    "            'model' : Lasso(),\n",
    "            'params' : {\n",
    "                'alpha' : [1, 10, 50, 200, 500],\n",
    "                'selection' : ['random' , 'cyclic']\n",
    "            } \n",
    "        },\n",
    "        'Ridge' : {\n",
    "            'model' : Ridge(), \n",
    "            'params' : {\n",
    "                'alpha' : [1, 10, 50, 200, 500],\n",
    "                'fit_intercept' : [True , False],\n",
    "                'normalize' : [True , False],\n",
    "            }\n",
    "        },\n",
    "        'descision_tree' : {\n",
    "            'model' : DecisionTreeRegressor(),\n",
    "            'params' :{\n",
    "                'criterion' : ['mse' , 'friedman_mse'],\n",
    "                'splitter' : ['best' , 'random']\n",
    "            }\n",
    "        }\n",
    "    }\n",
    "    \n",
    "    scores = []\n",
    "    cv = ShuffleSplit(n_splits = 5 , test_size = 0.2 , random_state = 0)\n",
    "    for algo_name , config in algos.items():\n",
    "        gs = GridSearchCV(config['model'] , config['params'] , cv = cv , return_train_score = False)\n",
    "        gs.fit(x , y)\n",
    "        scores.append({\n",
    "            'model' : algo_name , \n",
    "            'best_score' : gs.best_score_,\n",
    "            'best_params' : gs.best_params_\n",
    "        })\n",
    "        \n",
    "    return pd.DataFrame(scores , columns = ['model' , 'best_score' , 'best_params'])        "
   ]
  },
  {
   "cell_type": "code",
   "execution_count": 76,
   "id": "celtic-istanbul",
   "metadata": {
    "execution": {
     "iopub.execute_input": "2021-05-25T05:45:41.734174Z",
     "iopub.status.busy": "2021-05-25T05:45:41.733546Z",
     "iopub.status.idle": "2021-05-25T05:45:57.779067Z",
     "shell.execute_reply": "2021-05-25T05:45:57.778475Z",
     "shell.execute_reply.started": "2021-05-25T05:37:45.453609Z"
    },
    "papermill": {
     "duration": 16.151501,
     "end_time": "2021-05-25T05:45:57.779204",
     "exception": false,
     "start_time": "2021-05-25T05:45:41.627703",
     "status": "completed"
    },
    "tags": []
   },
   "outputs": [
    {
     "data": {
      "text/html": [
       "<div>\n",
       "<style scoped>\n",
       "    .dataframe tbody tr th:only-of-type {\n",
       "        vertical-align: middle;\n",
       "    }\n",
       "\n",
       "    .dataframe tbody tr th {\n",
       "        vertical-align: top;\n",
       "    }\n",
       "\n",
       "    .dataframe thead th {\n",
       "        text-align: right;\n",
       "    }\n",
       "</style>\n",
       "<table border=\"1\" class=\"dataframe\">\n",
       "  <thead>\n",
       "    <tr style=\"text-align: right;\">\n",
       "      <th></th>\n",
       "      <th>model</th>\n",
       "      <th>best_score</th>\n",
       "      <th>best_params</th>\n",
       "    </tr>\n",
       "  </thead>\n",
       "  <tbody>\n",
       "    <tr>\n",
       "      <th>0</th>\n",
       "      <td>LinearRegression</td>\n",
       "      <td>0.825672</td>\n",
       "      <td>{'copy_X': True, 'fit_intercept': True, 'norma...</td>\n",
       "    </tr>\n",
       "    <tr>\n",
       "      <th>1</th>\n",
       "      <td>lasso</td>\n",
       "      <td>0.837387</td>\n",
       "      <td>{'alpha': 1, 'selection': 'random'}</td>\n",
       "    </tr>\n",
       "    <tr>\n",
       "      <th>2</th>\n",
       "      <td>Ridge</td>\n",
       "      <td>0.904610</td>\n",
       "      <td>{'alpha': 1, 'fit_intercept': True, 'normalize...</td>\n",
       "    </tr>\n",
       "    <tr>\n",
       "      <th>3</th>\n",
       "      <td>descision_tree</td>\n",
       "      <td>0.823978</td>\n",
       "      <td>{'criterion': 'friedman_mse', 'splitter': 'ran...</td>\n",
       "    </tr>\n",
       "  </tbody>\n",
       "</table>\n",
       "</div>"
      ],
      "text/plain": [
       "              model  best_score  \\\n",
       "0  LinearRegression    0.825672   \n",
       "1             lasso    0.837387   \n",
       "2             Ridge    0.904610   \n",
       "3    descision_tree    0.823978   \n",
       "\n",
       "                                         best_params  \n",
       "0  {'copy_X': True, 'fit_intercept': True, 'norma...  \n",
       "1                {'alpha': 1, 'selection': 'random'}  \n",
       "2  {'alpha': 1, 'fit_intercept': True, 'normalize...  \n",
       "3  {'criterion': 'friedman_mse', 'splitter': 'ran...  "
      ]
     },
     "execution_count": 76,
     "metadata": {},
     "output_type": "execute_result"
    }
   ],
   "source": [
    "find_best_model_using_gridsearchcv(X , y) "
   ]
  },
  {
   "cell_type": "code",
   "execution_count": 77,
   "id": "ceramic-authentication",
   "metadata": {
    "execution": {
     "iopub.execute_input": "2021-05-25T05:45:57.989739Z",
     "iopub.status.busy": "2021-05-25T05:45:57.988791Z",
     "iopub.status.idle": "2021-05-25T05:45:58.002311Z",
     "shell.execute_reply": "2021-05-25T05:45:58.001756Z",
     "shell.execute_reply.started": "2021-05-25T05:38:04.966612Z"
    },
    "papermill": {
     "duration": 0.122157,
     "end_time": "2021-05-25T05:45:58.002467",
     "exception": false,
     "start_time": "2021-05-25T05:45:57.880310",
     "status": "completed"
    },
    "tags": []
   },
   "outputs": [],
   "source": [
    "from sklearn.model_selection import train_test_split\n",
    "X_train , X_test , y_train , y_test = train_test_split(x , y , test_size = 0.2 , random_state = 10)"
   ]
  },
  {
   "cell_type": "code",
   "execution_count": 78,
   "id": "collectible-orange",
   "metadata": {
    "execution": {
     "iopub.execute_input": "2021-05-25T05:45:58.217228Z",
     "iopub.status.busy": "2021-05-25T05:45:58.215840Z",
     "iopub.status.idle": "2021-05-25T05:45:58.253217Z",
     "shell.execute_reply": "2021-05-25T05:45:58.252509Z",
     "shell.execute_reply.started": "2021-05-25T05:38:20.421278Z"
    },
    "papermill": {
     "duration": 0.148267,
     "end_time": "2021-05-25T05:45:58.253402",
     "exception": false,
     "start_time": "2021-05-25T05:45:58.105135",
     "status": "completed"
    },
    "tags": []
   },
   "outputs": [],
   "source": [
    "from sklearn.preprocessing import StandardScaler\n",
    "scaler = StandardScaler()\n",
    "s_x = StandardScaler()\n",
    "s_y = StandardScaler()\n",
    "X_train_scaled = s_x.fit_transform(X_train)\n",
    "X_test_scaled = s_x.transform(X_test)"
   ]
  },
  {
   "cell_type": "markdown",
   "id": "improved-population",
   "metadata": {
    "papermill": {
     "duration": 0.109387,
     "end_time": "2021-05-25T05:45:58.479158",
     "exception": false,
     "start_time": "2021-05-25T05:45:58.369771",
     "status": "completed"
    },
    "tags": []
   },
   "source": [
    "# Model Training "
   ]
  },
  {
   "cell_type": "code",
   "execution_count": 79,
   "id": "deadly-juvenile",
   "metadata": {
    "execution": {
     "iopub.execute_input": "2021-05-25T05:45:58.718993Z",
     "iopub.status.busy": "2021-05-25T05:45:58.717190Z",
     "iopub.status.idle": "2021-05-25T05:45:58.770039Z",
     "shell.execute_reply": "2021-05-25T05:45:58.771973Z",
     "shell.execute_reply.started": "2021-05-25T05:38:40.455534Z"
    },
    "papermill": {
     "duration": 0.163436,
     "end_time": "2021-05-25T05:45:58.772241",
     "exception": false,
     "start_time": "2021-05-25T05:45:58.608805",
     "status": "completed"
    },
    "tags": []
   },
   "outputs": [
    {
     "data": {
      "text/plain": [
       "0.9073873331294475"
      ]
     },
     "execution_count": 79,
     "metadata": {},
     "output_type": "execute_result"
    }
   ],
   "source": [
    "from sklearn.linear_model import Ridge\n",
    "model = Ridge(alpha= 1, fit_intercept = True, normalize = False)\n",
    "model.fit(X_train_scaled, y_train)\n",
    "model.score(X_test_scaled , y_test)"
   ]
  },
  {
   "cell_type": "markdown",
   "id": "colonial-order",
   "metadata": {
    "execution": {
     "iopub.execute_input": "2021-05-25T05:38:50.383446Z",
     "iopub.status.busy": "2021-05-25T05:38:50.383129Z",
     "iopub.status.idle": "2021-05-25T05:38:50.387172Z",
     "shell.execute_reply": "2021-05-25T05:38:50.386126Z",
     "shell.execute_reply.started": "2021-05-25T05:38:50.383417Z"
    },
    "papermill": {
     "duration": 0.102936,
     "end_time": "2021-05-25T05:45:59.051455",
     "exception": false,
     "start_time": "2021-05-25T05:45:58.948519",
     "status": "completed"
    },
    "tags": []
   },
   "source": [
    "# Evaluation"
   ]
  },
  {
   "cell_type": "code",
   "execution_count": 80,
   "id": "utility-wesley",
   "metadata": {
    "execution": {
     "iopub.execute_input": "2021-05-25T05:45:59.261777Z",
     "iopub.status.busy": "2021-05-25T05:45:59.260023Z",
     "iopub.status.idle": "2021-05-25T05:45:59.291784Z",
     "shell.execute_reply": "2021-05-25T05:45:59.292650Z",
     "shell.execute_reply.started": "2021-05-25T05:39:03.292564Z"
    },
    "papermill": {
     "duration": 0.139621,
     "end_time": "2021-05-25T05:45:59.292927",
     "exception": false,
     "start_time": "2021-05-25T05:45:59.153306",
     "status": "completed"
    },
    "tags": []
   },
   "outputs": [],
   "source": [
    "from sklearn.metrics import mean_squared_error,r2_score\n",
    "model.fit(X_train_scaled,y_train)\n",
    "y_pred = model.predict(X_test_scaled)\n",
    "acc = mean_squared_error(y_pred,y_test)\n",
    "rscore = r2_score(y_pred,y_test)"
   ]
  },
  {
   "cell_type": "code",
   "execution_count": 81,
   "id": "difficult-contributor",
   "metadata": {
    "execution": {
     "iopub.execute_input": "2021-05-25T05:45:59.586247Z",
     "iopub.status.busy": "2021-05-25T05:45:59.585606Z",
     "iopub.status.idle": "2021-05-25T05:45:59.589479Z",
     "shell.execute_reply": "2021-05-25T05:45:59.588836Z",
     "shell.execute_reply.started": "2021-05-25T05:39:10.481883Z"
    },
    "papermill": {
     "duration": 0.112325,
     "end_time": "2021-05-25T05:45:59.589620",
     "exception": false,
     "start_time": "2021-05-25T05:45:59.477295",
     "status": "completed"
    },
    "tags": []
   },
   "outputs": [
    {
     "data": {
      "text/plain": [
       "0.8944523313771668"
      ]
     },
     "execution_count": 81,
     "metadata": {},
     "output_type": "execute_result"
    }
   ],
   "source": [
    "rscore"
   ]
  },
  {
   "cell_type": "code",
   "execution_count": 82,
   "id": "aware-emphasis",
   "metadata": {
    "execution": {
     "iopub.execute_input": "2021-05-25T05:45:59.797680Z",
     "iopub.status.busy": "2021-05-25T05:45:59.796848Z",
     "iopub.status.idle": "2021-05-25T05:45:59.800704Z",
     "shell.execute_reply": "2021-05-25T05:45:59.801155Z",
     "shell.execute_reply.started": "2021-05-25T05:39:17.349982Z"
    },
    "papermill": {
     "duration": 0.111315,
     "end_time": "2021-05-25T05:45:59.801348",
     "exception": false,
     "start_time": "2021-05-25T05:45:59.690033",
     "status": "completed"
    },
    "tags": []
   },
   "outputs": [
    {
     "data": {
      "text/plain": [
       "12.721318953730718"
      ]
     },
     "execution_count": 82,
     "metadata": {},
     "output_type": "execute_result"
    }
   ],
   "source": [
    "def rmse(y_pred, y_test):\n",
    "    return np.sqrt(mean_squared_error(y_pred,y_test))\n",
    "rmse(y_pred,y_test)"
   ]
  },
  {
   "cell_type": "code",
   "execution_count": 83,
   "id": "martial-webmaster",
   "metadata": {
    "execution": {
     "iopub.execute_input": "2021-05-25T05:46:00.013440Z",
     "iopub.status.busy": "2021-05-25T05:46:00.012072Z",
     "iopub.status.idle": "2021-05-25T05:46:00.464854Z",
     "shell.execute_reply": "2021-05-25T05:46:00.465768Z",
     "shell.execute_reply.started": "2021-05-25T05:39:36.102797Z"
    },
    "papermill": {
     "duration": 0.562146,
     "end_time": "2021-05-25T05:46:00.466030",
     "exception": false,
     "start_time": "2021-05-25T05:45:59.903884",
     "status": "completed"
    },
    "tags": []
   },
   "outputs": [
    {
     "data": {
      "text/plain": [
       "0.9038154470831115"
      ]
     },
     "execution_count": 83,
     "metadata": {},
     "output_type": "execute_result"
    }
   ],
   "source": [
    "from sklearn.model_selection import ShuffleSplit\n",
    "from sklearn.model_selection import cross_val_score\n",
    "\n",
    "cv = ShuffleSplit(n_splits = 10 , test_size = 0.2 , random_state = 0)\n",
    "cross_val_score(Ridge(alpha= 1, fit_intercept = True, normalize = False, tol = 0.0001) , X , y , cv=cv).mean()"
   ]
  },
  {
   "cell_type": "code",
   "execution_count": null,
   "id": "closed-fiber",
   "metadata": {
    "papermill": {
     "duration": 0.10031,
     "end_time": "2021-05-25T05:46:00.732769",
     "exception": false,
     "start_time": "2021-05-25T05:46:00.632459",
     "status": "completed"
    },
    "tags": []
   },
   "outputs": [],
   "source": []
  }
 ],
 "metadata": {
  "kernelspec": {
   "display_name": "Python 3 (ipykernel)",
   "language": "python",
   "name": "python3"
  },
  "language_info": {
   "codemirror_mode": {
    "name": "ipython",
    "version": 3
   },
   "file_extension": ".py",
   "mimetype": "text/x-python",
   "name": "python",
   "nbconvert_exporter": "python",
   "pygments_lexer": "ipython3",
   "version": "3.10.4"
  },
  "papermill": {
   "default_parameters": {},
   "duration": 46.360224,
   "end_time": "2021-05-25T05:46:01.544188",
   "environment_variables": {},
   "exception": null,
   "input_path": "__notebook__.ipynb",
   "output_path": "__notebook__.ipynb",
   "parameters": {},
   "start_time": "2021-05-25T05:45:15.183964",
   "version": "2.3.2"
  }
 },
 "nbformat": 4,
 "nbformat_minor": 5
}
