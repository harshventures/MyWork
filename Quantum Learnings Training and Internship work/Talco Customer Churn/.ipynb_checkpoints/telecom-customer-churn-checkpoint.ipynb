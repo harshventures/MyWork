{
 "cells": [
  {
   "cell_type": "code",
   "execution_count": 1,
   "id": "85292a5d",
   "metadata": {
    "_cell_guid": "b1076dfc-b9ad-4769-8c92-a6c4dae69d19",
    "_uuid": "8f2839f25d086af736a60e9eeb907d3b93b6e0e5",
    "execution": {
     "iopub.execute_input": "2022-04-12T14:28:22.419162Z",
     "iopub.status.busy": "2022-04-12T14:28:22.408774Z",
     "iopub.status.idle": "2022-04-12T14:28:22.432280Z",
     "shell.execute_reply": "2022-04-12T14:28:22.431278Z",
     "shell.execute_reply.started": "2022-04-12T14:25:25.269658Z"
    },
    "papermill": {
     "duration": 0.065411,
     "end_time": "2022-04-12T14:28:22.432521",
     "exception": false,
     "start_time": "2022-04-12T14:28:22.367110",
     "status": "completed"
    },
    "tags": []
   },
   "outputs": [
    {
     "name": "stdout",
     "output_type": "stream",
     "text": [
      "/kaggle/input/telco-customer-churn/WA_Fn-UseC_-Telco-Customer-Churn.csv\n"
     ]
    }
   ],
   "source": [
    "# This Python 3 environment comes with many helpful analytics libraries installed\n",
    "# It is defined by the kaggle/python Docker image: https://github.com/kaggle/docker-python\n",
    "# For example, here's several helpful packages to load\n",
    "\n",
    "import numpy as np # linear algebra\n",
    "import pandas as pd # data processing, CSV file I/O (e.g. pd.read_csv)\n",
    "\n",
    "# Input data files are available in the read-only \"../input/\" directory\n",
    "# For example, running this (by clicking run or pressing Shift+Enter) will list all files under the input directory\n",
    "\n",
    "import os\n",
    "for dirname, _, filenames in os.walk('/kaggle/input'):\n",
    "    for filename in filenames:\n",
    "        print(os.path.join(dirname, filename))\n",
    "\n",
    "# You can write up to 20GB to the current directory (/kaggle/working/) that gets preserved as output when you create a version using \"Save & Run All\" \n",
    "# You can also write temporary files to /kaggle/temp/, but they won't be saved outside of the current session"
   ]
  },
  {
   "cell_type": "code",
   "execution_count": 2,
   "id": "a8f03313",
   "metadata": {
    "execution": {
     "iopub.execute_input": "2022-04-12T14:28:22.523608Z",
     "iopub.status.busy": "2022-04-12T14:28:22.522832Z",
     "iopub.status.idle": "2022-04-12T14:28:22.604615Z",
     "shell.execute_reply": "2022-04-12T14:28:22.605112Z",
     "shell.execute_reply.started": "2022-04-12T14:26:35.948452Z"
    },
    "papermill": {
     "duration": 0.127968,
     "end_time": "2022-04-12T14:28:22.605278",
     "exception": false,
     "start_time": "2022-04-12T14:28:22.477310",
     "status": "completed"
    },
    "tags": []
   },
   "outputs": [
    {
     "data": {
      "text/html": [
       "<div>\n",
       "<style scoped>\n",
       "    .dataframe tbody tr th:only-of-type {\n",
       "        vertical-align: middle;\n",
       "    }\n",
       "\n",
       "    .dataframe tbody tr th {\n",
       "        vertical-align: top;\n",
       "    }\n",
       "\n",
       "    .dataframe thead th {\n",
       "        text-align: right;\n",
       "    }\n",
       "</style>\n",
       "<table border=\"1\" class=\"dataframe\">\n",
       "  <thead>\n",
       "    <tr style=\"text-align: right;\">\n",
       "      <th></th>\n",
       "      <th>customerID</th>\n",
       "      <th>gender</th>\n",
       "      <th>SeniorCitizen</th>\n",
       "      <th>Partner</th>\n",
       "      <th>Dependents</th>\n",
       "      <th>tenure</th>\n",
       "      <th>PhoneService</th>\n",
       "      <th>MultipleLines</th>\n",
       "      <th>InternetService</th>\n",
       "      <th>OnlineSecurity</th>\n",
       "      <th>...</th>\n",
       "      <th>DeviceProtection</th>\n",
       "      <th>TechSupport</th>\n",
       "      <th>StreamingTV</th>\n",
       "      <th>StreamingMovies</th>\n",
       "      <th>Contract</th>\n",
       "      <th>PaperlessBilling</th>\n",
       "      <th>PaymentMethod</th>\n",
       "      <th>MonthlyCharges</th>\n",
       "      <th>TotalCharges</th>\n",
       "      <th>Churn</th>\n",
       "    </tr>\n",
       "  </thead>\n",
       "  <tbody>\n",
       "    <tr>\n",
       "      <th>0</th>\n",
       "      <td>7590-VHVEG</td>\n",
       "      <td>Female</td>\n",
       "      <td>0</td>\n",
       "      <td>Yes</td>\n",
       "      <td>No</td>\n",
       "      <td>1</td>\n",
       "      <td>No</td>\n",
       "      <td>No phone service</td>\n",
       "      <td>DSL</td>\n",
       "      <td>No</td>\n",
       "      <td>...</td>\n",
       "      <td>No</td>\n",
       "      <td>No</td>\n",
       "      <td>No</td>\n",
       "      <td>No</td>\n",
       "      <td>Month-to-month</td>\n",
       "      <td>Yes</td>\n",
       "      <td>Electronic check</td>\n",
       "      <td>29.85</td>\n",
       "      <td>29.85</td>\n",
       "      <td>No</td>\n",
       "    </tr>\n",
       "    <tr>\n",
       "      <th>1</th>\n",
       "      <td>5575-GNVDE</td>\n",
       "      <td>Male</td>\n",
       "      <td>0</td>\n",
       "      <td>No</td>\n",
       "      <td>No</td>\n",
       "      <td>34</td>\n",
       "      <td>Yes</td>\n",
       "      <td>No</td>\n",
       "      <td>DSL</td>\n",
       "      <td>Yes</td>\n",
       "      <td>...</td>\n",
       "      <td>Yes</td>\n",
       "      <td>No</td>\n",
       "      <td>No</td>\n",
       "      <td>No</td>\n",
       "      <td>One year</td>\n",
       "      <td>No</td>\n",
       "      <td>Mailed check</td>\n",
       "      <td>56.95</td>\n",
       "      <td>1889.5</td>\n",
       "      <td>No</td>\n",
       "    </tr>\n",
       "    <tr>\n",
       "      <th>2</th>\n",
       "      <td>3668-QPYBK</td>\n",
       "      <td>Male</td>\n",
       "      <td>0</td>\n",
       "      <td>No</td>\n",
       "      <td>No</td>\n",
       "      <td>2</td>\n",
       "      <td>Yes</td>\n",
       "      <td>No</td>\n",
       "      <td>DSL</td>\n",
       "      <td>Yes</td>\n",
       "      <td>...</td>\n",
       "      <td>No</td>\n",
       "      <td>No</td>\n",
       "      <td>No</td>\n",
       "      <td>No</td>\n",
       "      <td>Month-to-month</td>\n",
       "      <td>Yes</td>\n",
       "      <td>Mailed check</td>\n",
       "      <td>53.85</td>\n",
       "      <td>108.15</td>\n",
       "      <td>Yes</td>\n",
       "    </tr>\n",
       "    <tr>\n",
       "      <th>3</th>\n",
       "      <td>7795-CFOCW</td>\n",
       "      <td>Male</td>\n",
       "      <td>0</td>\n",
       "      <td>No</td>\n",
       "      <td>No</td>\n",
       "      <td>45</td>\n",
       "      <td>No</td>\n",
       "      <td>No phone service</td>\n",
       "      <td>DSL</td>\n",
       "      <td>Yes</td>\n",
       "      <td>...</td>\n",
       "      <td>Yes</td>\n",
       "      <td>Yes</td>\n",
       "      <td>No</td>\n",
       "      <td>No</td>\n",
       "      <td>One year</td>\n",
       "      <td>No</td>\n",
       "      <td>Bank transfer (automatic)</td>\n",
       "      <td>42.30</td>\n",
       "      <td>1840.75</td>\n",
       "      <td>No</td>\n",
       "    </tr>\n",
       "    <tr>\n",
       "      <th>4</th>\n",
       "      <td>9237-HQITU</td>\n",
       "      <td>Female</td>\n",
       "      <td>0</td>\n",
       "      <td>No</td>\n",
       "      <td>No</td>\n",
       "      <td>2</td>\n",
       "      <td>Yes</td>\n",
       "      <td>No</td>\n",
       "      <td>Fiber optic</td>\n",
       "      <td>No</td>\n",
       "      <td>...</td>\n",
       "      <td>No</td>\n",
       "      <td>No</td>\n",
       "      <td>No</td>\n",
       "      <td>No</td>\n",
       "      <td>Month-to-month</td>\n",
       "      <td>Yes</td>\n",
       "      <td>Electronic check</td>\n",
       "      <td>70.70</td>\n",
       "      <td>151.65</td>\n",
       "      <td>Yes</td>\n",
       "    </tr>\n",
       "  </tbody>\n",
       "</table>\n",
       "<p>5 rows × 21 columns</p>\n",
       "</div>"
      ],
      "text/plain": [
       "   customerID  gender  SeniorCitizen Partner Dependents  tenure PhoneService  \\\n",
       "0  7590-VHVEG  Female              0     Yes         No       1           No   \n",
       "1  5575-GNVDE    Male              0      No         No      34          Yes   \n",
       "2  3668-QPYBK    Male              0      No         No       2          Yes   \n",
       "3  7795-CFOCW    Male              0      No         No      45           No   \n",
       "4  9237-HQITU  Female              0      No         No       2          Yes   \n",
       "\n",
       "      MultipleLines InternetService OnlineSecurity  ... DeviceProtection  \\\n",
       "0  No phone service             DSL             No  ...               No   \n",
       "1                No             DSL            Yes  ...              Yes   \n",
       "2                No             DSL            Yes  ...               No   \n",
       "3  No phone service             DSL            Yes  ...              Yes   \n",
       "4                No     Fiber optic             No  ...               No   \n",
       "\n",
       "  TechSupport StreamingTV StreamingMovies        Contract PaperlessBilling  \\\n",
       "0          No          No              No  Month-to-month              Yes   \n",
       "1          No          No              No        One year               No   \n",
       "2          No          No              No  Month-to-month              Yes   \n",
       "3         Yes          No              No        One year               No   \n",
       "4          No          No              No  Month-to-month              Yes   \n",
       "\n",
       "               PaymentMethod MonthlyCharges  TotalCharges Churn  \n",
       "0           Electronic check          29.85         29.85    No  \n",
       "1               Mailed check          56.95        1889.5    No  \n",
       "2               Mailed check          53.85        108.15   Yes  \n",
       "3  Bank transfer (automatic)          42.30       1840.75    No  \n",
       "4           Electronic check          70.70        151.65   Yes  \n",
       "\n",
       "[5 rows x 21 columns]"
      ]
     },
     "execution_count": 2,
     "metadata": {},
     "output_type": "execute_result"
    }
   ],
   "source": [
    "data = pd.read_csv('/kaggle/input/telco-customer-churn/WA_Fn-UseC_-Telco-Customer-Churn.csv')\n",
    "data.head()"
   ]
  },
  {
   "cell_type": "code",
   "execution_count": 3,
   "id": "64177f4a",
   "metadata": {
    "execution": {
     "iopub.execute_input": "2022-04-12T14:28:22.679744Z",
     "iopub.status.busy": "2022-04-12T14:28:22.678780Z",
     "iopub.status.idle": "2022-04-12T14:28:22.688700Z",
     "shell.execute_reply": "2022-04-12T14:28:22.689242Z",
     "shell.execute_reply.started": "2022-04-12T14:25:25.458253Z"
    },
    "papermill": {
     "duration": 0.048801,
     "end_time": "2022-04-12T14:28:22.689415",
     "exception": false,
     "start_time": "2022-04-12T14:28:22.640614",
     "status": "completed"
    },
    "tags": []
   },
   "outputs": [],
   "source": [
    "data.drop(columns = ['customerID'],inplace = True)"
   ]
  },
  {
   "cell_type": "code",
   "execution_count": 4,
   "id": "4022736d",
   "metadata": {
    "execution": {
     "iopub.execute_input": "2022-04-12T14:28:22.780398Z",
     "iopub.status.busy": "2022-04-12T14:28:22.779396Z",
     "iopub.status.idle": "2022-04-12T14:28:22.786858Z",
     "shell.execute_reply": "2022-04-12T14:28:22.787357Z",
     "shell.execute_reply.started": "2022-04-12T14:25:25.469613Z"
    },
    "papermill": {
     "duration": 0.062533,
     "end_time": "2022-04-12T14:28:22.787522",
     "exception": false,
     "start_time": "2022-04-12T14:28:22.724989",
     "status": "completed"
    },
    "tags": []
   },
   "outputs": [
    {
     "data": {
      "text/plain": [
       "gender              0\n",
       "SeniorCitizen       0\n",
       "Partner             0\n",
       "Dependents          0\n",
       "tenure              0\n",
       "PhoneService        0\n",
       "MultipleLines       0\n",
       "InternetService     0\n",
       "OnlineSecurity      0\n",
       "OnlineBackup        0\n",
       "DeviceProtection    0\n",
       "TechSupport         0\n",
       "StreamingTV         0\n",
       "StreamingMovies     0\n",
       "Contract            0\n",
       "PaperlessBilling    0\n",
       "PaymentMethod       0\n",
       "MonthlyCharges      0\n",
       "TotalCharges        0\n",
       "Churn               0\n",
       "dtype: int64"
      ]
     },
     "execution_count": 4,
     "metadata": {},
     "output_type": "execute_result"
    }
   ],
   "source": [
    "data.isnull().sum()"
   ]
  },
  {
   "cell_type": "code",
   "execution_count": 5,
   "id": "5070ff50",
   "metadata": {
    "execution": {
     "iopub.execute_input": "2022-04-12T14:28:22.865536Z",
     "iopub.status.busy": "2022-04-12T14:28:22.864510Z",
     "iopub.status.idle": "2022-04-12T14:28:22.886097Z",
     "shell.execute_reply": "2022-04-12T14:28:22.886624Z",
     "shell.execute_reply.started": "2022-04-12T14:25:25.503966Z"
    },
    "papermill": {
     "duration": 0.0623,
     "end_time": "2022-04-12T14:28:22.886790",
     "exception": false,
     "start_time": "2022-04-12T14:28:22.824490",
     "status": "completed"
    },
    "tags": []
   },
   "outputs": [
    {
     "data": {
      "text/html": [
       "<div>\n",
       "<style scoped>\n",
       "    .dataframe tbody tr th:only-of-type {\n",
       "        vertical-align: middle;\n",
       "    }\n",
       "\n",
       "    .dataframe tbody tr th {\n",
       "        vertical-align: top;\n",
       "    }\n",
       "\n",
       "    .dataframe thead th {\n",
       "        text-align: right;\n",
       "    }\n",
       "</style>\n",
       "<table border=\"1\" class=\"dataframe\">\n",
       "  <thead>\n",
       "    <tr style=\"text-align: right;\">\n",
       "      <th></th>\n",
       "      <th>gender</th>\n",
       "      <th>SeniorCitizen</th>\n",
       "      <th>Partner</th>\n",
       "      <th>Dependents</th>\n",
       "      <th>tenure</th>\n",
       "      <th>PhoneService</th>\n",
       "      <th>MultipleLines</th>\n",
       "      <th>InternetService</th>\n",
       "      <th>OnlineSecurity</th>\n",
       "      <th>OnlineBackup</th>\n",
       "      <th>DeviceProtection</th>\n",
       "      <th>TechSupport</th>\n",
       "      <th>StreamingTV</th>\n",
       "      <th>StreamingMovies</th>\n",
       "      <th>Contract</th>\n",
       "      <th>PaperlessBilling</th>\n",
       "      <th>PaymentMethod</th>\n",
       "      <th>MonthlyCharges</th>\n",
       "      <th>TotalCharges</th>\n",
       "      <th>Churn</th>\n",
       "    </tr>\n",
       "  </thead>\n",
       "  <tbody>\n",
       "    <tr>\n",
       "      <th>0</th>\n",
       "      <td>Female</td>\n",
       "      <td>0</td>\n",
       "      <td>Yes</td>\n",
       "      <td>No</td>\n",
       "      <td>1</td>\n",
       "      <td>No</td>\n",
       "      <td>No phone service</td>\n",
       "      <td>DSL</td>\n",
       "      <td>No</td>\n",
       "      <td>Yes</td>\n",
       "      <td>No</td>\n",
       "      <td>No</td>\n",
       "      <td>No</td>\n",
       "      <td>No</td>\n",
       "      <td>Month-to-month</td>\n",
       "      <td>Yes</td>\n",
       "      <td>Electronic check</td>\n",
       "      <td>29.85</td>\n",
       "      <td>29.85</td>\n",
       "      <td>No</td>\n",
       "    </tr>\n",
       "    <tr>\n",
       "      <th>1</th>\n",
       "      <td>Male</td>\n",
       "      <td>0</td>\n",
       "      <td>No</td>\n",
       "      <td>No</td>\n",
       "      <td>34</td>\n",
       "      <td>Yes</td>\n",
       "      <td>No</td>\n",
       "      <td>DSL</td>\n",
       "      <td>Yes</td>\n",
       "      <td>No</td>\n",
       "      <td>Yes</td>\n",
       "      <td>No</td>\n",
       "      <td>No</td>\n",
       "      <td>No</td>\n",
       "      <td>One year</td>\n",
       "      <td>No</td>\n",
       "      <td>Mailed check</td>\n",
       "      <td>56.95</td>\n",
       "      <td>1889.5</td>\n",
       "      <td>No</td>\n",
       "    </tr>\n",
       "    <tr>\n",
       "      <th>2</th>\n",
       "      <td>Male</td>\n",
       "      <td>0</td>\n",
       "      <td>No</td>\n",
       "      <td>No</td>\n",
       "      <td>2</td>\n",
       "      <td>Yes</td>\n",
       "      <td>No</td>\n",
       "      <td>DSL</td>\n",
       "      <td>Yes</td>\n",
       "      <td>Yes</td>\n",
       "      <td>No</td>\n",
       "      <td>No</td>\n",
       "      <td>No</td>\n",
       "      <td>No</td>\n",
       "      <td>Month-to-month</td>\n",
       "      <td>Yes</td>\n",
       "      <td>Mailed check</td>\n",
       "      <td>53.85</td>\n",
       "      <td>108.15</td>\n",
       "      <td>Yes</td>\n",
       "    </tr>\n",
       "    <tr>\n",
       "      <th>3</th>\n",
       "      <td>Male</td>\n",
       "      <td>0</td>\n",
       "      <td>No</td>\n",
       "      <td>No</td>\n",
       "      <td>45</td>\n",
       "      <td>No</td>\n",
       "      <td>No phone service</td>\n",
       "      <td>DSL</td>\n",
       "      <td>Yes</td>\n",
       "      <td>No</td>\n",
       "      <td>Yes</td>\n",
       "      <td>Yes</td>\n",
       "      <td>No</td>\n",
       "      <td>No</td>\n",
       "      <td>One year</td>\n",
       "      <td>No</td>\n",
       "      <td>Bank transfer (automatic)</td>\n",
       "      <td>42.30</td>\n",
       "      <td>1840.75</td>\n",
       "      <td>No</td>\n",
       "    </tr>\n",
       "    <tr>\n",
       "      <th>4</th>\n",
       "      <td>Female</td>\n",
       "      <td>0</td>\n",
       "      <td>No</td>\n",
       "      <td>No</td>\n",
       "      <td>2</td>\n",
       "      <td>Yes</td>\n",
       "      <td>No</td>\n",
       "      <td>Fiber optic</td>\n",
       "      <td>No</td>\n",
       "      <td>No</td>\n",
       "      <td>No</td>\n",
       "      <td>No</td>\n",
       "      <td>No</td>\n",
       "      <td>No</td>\n",
       "      <td>Month-to-month</td>\n",
       "      <td>Yes</td>\n",
       "      <td>Electronic check</td>\n",
       "      <td>70.70</td>\n",
       "      <td>151.65</td>\n",
       "      <td>Yes</td>\n",
       "    </tr>\n",
       "  </tbody>\n",
       "</table>\n",
       "</div>"
      ],
      "text/plain": [
       "   gender  SeniorCitizen Partner Dependents  tenure PhoneService  \\\n",
       "0  Female              0     Yes         No       1           No   \n",
       "1    Male              0      No         No      34          Yes   \n",
       "2    Male              0      No         No       2          Yes   \n",
       "3    Male              0      No         No      45           No   \n",
       "4  Female              0      No         No       2          Yes   \n",
       "\n",
       "      MultipleLines InternetService OnlineSecurity OnlineBackup  \\\n",
       "0  No phone service             DSL             No          Yes   \n",
       "1                No             DSL            Yes           No   \n",
       "2                No             DSL            Yes          Yes   \n",
       "3  No phone service             DSL            Yes           No   \n",
       "4                No     Fiber optic             No           No   \n",
       "\n",
       "  DeviceProtection TechSupport StreamingTV StreamingMovies        Contract  \\\n",
       "0               No          No          No              No  Month-to-month   \n",
       "1              Yes          No          No              No        One year   \n",
       "2               No          No          No              No  Month-to-month   \n",
       "3              Yes         Yes          No              No        One year   \n",
       "4               No          No          No              No  Month-to-month   \n",
       "\n",
       "  PaperlessBilling              PaymentMethod  MonthlyCharges TotalCharges  \\\n",
       "0              Yes           Electronic check           29.85        29.85   \n",
       "1               No               Mailed check           56.95       1889.5   \n",
       "2              Yes               Mailed check           53.85       108.15   \n",
       "3               No  Bank transfer (automatic)           42.30      1840.75   \n",
       "4              Yes           Electronic check           70.70       151.65   \n",
       "\n",
       "  Churn  \n",
       "0    No  \n",
       "1    No  \n",
       "2   Yes  \n",
       "3    No  \n",
       "4   Yes  "
      ]
     },
     "execution_count": 5,
     "metadata": {},
     "output_type": "execute_result"
    }
   ],
   "source": [
    "data.head()"
   ]
  },
  {
   "cell_type": "code",
   "execution_count": 6,
   "id": "a6d65445",
   "metadata": {
    "execution": {
     "iopub.execute_input": "2022-04-12T14:28:22.969396Z",
     "iopub.status.busy": "2022-04-12T14:28:22.968433Z",
     "iopub.status.idle": "2022-04-12T14:28:22.974585Z",
     "shell.execute_reply": "2022-04-12T14:28:22.975152Z",
     "shell.execute_reply.started": "2022-04-12T14:25:25.542783Z"
    },
    "papermill": {
     "duration": 0.051396,
     "end_time": "2022-04-12T14:28:22.975324",
     "exception": false,
     "start_time": "2022-04-12T14:28:22.923928",
     "status": "completed"
    },
    "tags": []
   },
   "outputs": [],
   "source": [
    "data.drop(columns = ['TotalCharges'],inplace = True)"
   ]
  },
  {
   "cell_type": "code",
   "execution_count": 7,
   "id": "34be4b8a",
   "metadata": {
    "execution": {
     "iopub.execute_input": "2022-04-12T14:28:23.052320Z",
     "iopub.status.busy": "2022-04-12T14:28:23.051326Z",
     "iopub.status.idle": "2022-04-12T14:28:23.072346Z",
     "shell.execute_reply": "2022-04-12T14:28:23.072941Z",
     "shell.execute_reply.started": "2022-04-12T14:25:25.581397Z"
    },
    "papermill": {
     "duration": 0.061442,
     "end_time": "2022-04-12T14:28:23.073128",
     "exception": false,
     "start_time": "2022-04-12T14:28:23.011686",
     "status": "completed"
    },
    "tags": []
   },
   "outputs": [
    {
     "data": {
      "text/html": [
       "<div>\n",
       "<style scoped>\n",
       "    .dataframe tbody tr th:only-of-type {\n",
       "        vertical-align: middle;\n",
       "    }\n",
       "\n",
       "    .dataframe tbody tr th {\n",
       "        vertical-align: top;\n",
       "    }\n",
       "\n",
       "    .dataframe thead th {\n",
       "        text-align: right;\n",
       "    }\n",
       "</style>\n",
       "<table border=\"1\" class=\"dataframe\">\n",
       "  <thead>\n",
       "    <tr style=\"text-align: right;\">\n",
       "      <th></th>\n",
       "      <th>gender</th>\n",
       "      <th>SeniorCitizen</th>\n",
       "      <th>Partner</th>\n",
       "      <th>Dependents</th>\n",
       "      <th>tenure</th>\n",
       "      <th>PhoneService</th>\n",
       "      <th>MultipleLines</th>\n",
       "      <th>InternetService</th>\n",
       "      <th>OnlineSecurity</th>\n",
       "      <th>OnlineBackup</th>\n",
       "      <th>DeviceProtection</th>\n",
       "      <th>TechSupport</th>\n",
       "      <th>StreamingTV</th>\n",
       "      <th>StreamingMovies</th>\n",
       "      <th>Contract</th>\n",
       "      <th>PaperlessBilling</th>\n",
       "      <th>PaymentMethod</th>\n",
       "      <th>MonthlyCharges</th>\n",
       "      <th>Churn</th>\n",
       "    </tr>\n",
       "  </thead>\n",
       "  <tbody>\n",
       "    <tr>\n",
       "      <th>0</th>\n",
       "      <td>Female</td>\n",
       "      <td>0</td>\n",
       "      <td>Yes</td>\n",
       "      <td>No</td>\n",
       "      <td>1</td>\n",
       "      <td>No</td>\n",
       "      <td>No phone service</td>\n",
       "      <td>DSL</td>\n",
       "      <td>No</td>\n",
       "      <td>Yes</td>\n",
       "      <td>No</td>\n",
       "      <td>No</td>\n",
       "      <td>No</td>\n",
       "      <td>No</td>\n",
       "      <td>Month-to-month</td>\n",
       "      <td>Yes</td>\n",
       "      <td>Electronic check</td>\n",
       "      <td>29.85</td>\n",
       "      <td>No</td>\n",
       "    </tr>\n",
       "    <tr>\n",
       "      <th>1</th>\n",
       "      <td>Male</td>\n",
       "      <td>0</td>\n",
       "      <td>No</td>\n",
       "      <td>No</td>\n",
       "      <td>34</td>\n",
       "      <td>Yes</td>\n",
       "      <td>No</td>\n",
       "      <td>DSL</td>\n",
       "      <td>Yes</td>\n",
       "      <td>No</td>\n",
       "      <td>Yes</td>\n",
       "      <td>No</td>\n",
       "      <td>No</td>\n",
       "      <td>No</td>\n",
       "      <td>One year</td>\n",
       "      <td>No</td>\n",
       "      <td>Mailed check</td>\n",
       "      <td>56.95</td>\n",
       "      <td>No</td>\n",
       "    </tr>\n",
       "    <tr>\n",
       "      <th>2</th>\n",
       "      <td>Male</td>\n",
       "      <td>0</td>\n",
       "      <td>No</td>\n",
       "      <td>No</td>\n",
       "      <td>2</td>\n",
       "      <td>Yes</td>\n",
       "      <td>No</td>\n",
       "      <td>DSL</td>\n",
       "      <td>Yes</td>\n",
       "      <td>Yes</td>\n",
       "      <td>No</td>\n",
       "      <td>No</td>\n",
       "      <td>No</td>\n",
       "      <td>No</td>\n",
       "      <td>Month-to-month</td>\n",
       "      <td>Yes</td>\n",
       "      <td>Mailed check</td>\n",
       "      <td>53.85</td>\n",
       "      <td>Yes</td>\n",
       "    </tr>\n",
       "    <tr>\n",
       "      <th>3</th>\n",
       "      <td>Male</td>\n",
       "      <td>0</td>\n",
       "      <td>No</td>\n",
       "      <td>No</td>\n",
       "      <td>45</td>\n",
       "      <td>No</td>\n",
       "      <td>No phone service</td>\n",
       "      <td>DSL</td>\n",
       "      <td>Yes</td>\n",
       "      <td>No</td>\n",
       "      <td>Yes</td>\n",
       "      <td>Yes</td>\n",
       "      <td>No</td>\n",
       "      <td>No</td>\n",
       "      <td>One year</td>\n",
       "      <td>No</td>\n",
       "      <td>Bank transfer (automatic)</td>\n",
       "      <td>42.30</td>\n",
       "      <td>No</td>\n",
       "    </tr>\n",
       "    <tr>\n",
       "      <th>4</th>\n",
       "      <td>Female</td>\n",
       "      <td>0</td>\n",
       "      <td>No</td>\n",
       "      <td>No</td>\n",
       "      <td>2</td>\n",
       "      <td>Yes</td>\n",
       "      <td>No</td>\n",
       "      <td>Fiber optic</td>\n",
       "      <td>No</td>\n",
       "      <td>No</td>\n",
       "      <td>No</td>\n",
       "      <td>No</td>\n",
       "      <td>No</td>\n",
       "      <td>No</td>\n",
       "      <td>Month-to-month</td>\n",
       "      <td>Yes</td>\n",
       "      <td>Electronic check</td>\n",
       "      <td>70.70</td>\n",
       "      <td>Yes</td>\n",
       "    </tr>\n",
       "  </tbody>\n",
       "</table>\n",
       "</div>"
      ],
      "text/plain": [
       "   gender  SeniorCitizen Partner Dependents  tenure PhoneService  \\\n",
       "0  Female              0     Yes         No       1           No   \n",
       "1    Male              0      No         No      34          Yes   \n",
       "2    Male              0      No         No       2          Yes   \n",
       "3    Male              0      No         No      45           No   \n",
       "4  Female              0      No         No       2          Yes   \n",
       "\n",
       "      MultipleLines InternetService OnlineSecurity OnlineBackup  \\\n",
       "0  No phone service             DSL             No          Yes   \n",
       "1                No             DSL            Yes           No   \n",
       "2                No             DSL            Yes          Yes   \n",
       "3  No phone service             DSL            Yes           No   \n",
       "4                No     Fiber optic             No           No   \n",
       "\n",
       "  DeviceProtection TechSupport StreamingTV StreamingMovies        Contract  \\\n",
       "0               No          No          No              No  Month-to-month   \n",
       "1              Yes          No          No              No        One year   \n",
       "2               No          No          No              No  Month-to-month   \n",
       "3              Yes         Yes          No              No        One year   \n",
       "4               No          No          No              No  Month-to-month   \n",
       "\n",
       "  PaperlessBilling              PaymentMethod  MonthlyCharges Churn  \n",
       "0              Yes           Electronic check           29.85    No  \n",
       "1               No               Mailed check           56.95    No  \n",
       "2              Yes               Mailed check           53.85   Yes  \n",
       "3               No  Bank transfer (automatic)           42.30    No  \n",
       "4              Yes           Electronic check           70.70   Yes  "
      ]
     },
     "execution_count": 7,
     "metadata": {},
     "output_type": "execute_result"
    }
   ],
   "source": [
    "data.head()"
   ]
  },
  {
   "cell_type": "code",
   "execution_count": 8,
   "id": "3afeec49",
   "metadata": {
    "execution": {
     "iopub.execute_input": "2022-04-12T14:28:23.150746Z",
     "iopub.status.busy": "2022-04-12T14:28:23.149805Z",
     "iopub.status.idle": "2022-04-12T14:28:23.160257Z",
     "shell.execute_reply": "2022-04-12T14:28:23.160815Z",
     "shell.execute_reply.started": "2022-04-12T14:25:25.613922Z"
    },
    "papermill": {
     "duration": 0.050678,
     "end_time": "2022-04-12T14:28:23.161003",
     "exception": false,
     "start_time": "2022-04-12T14:28:23.110325",
     "status": "completed"
    },
    "tags": []
   },
   "outputs": [
    {
     "data": {
      "text/plain": [
       "array(['Yes', 'No'], dtype=object)"
      ]
     },
     "execution_count": 8,
     "metadata": {},
     "output_type": "execute_result"
    }
   ],
   "source": [
    "data.PaperlessBilling.unique()"
   ]
  },
  {
   "cell_type": "code",
   "execution_count": 9,
   "id": "134de83e",
   "metadata": {
    "execution": {
     "iopub.execute_input": "2022-04-12T14:28:23.238958Z",
     "iopub.status.busy": "2022-04-12T14:28:23.237992Z",
     "iopub.status.idle": "2022-04-12T14:28:23.242068Z",
     "shell.execute_reply": "2022-04-12T14:28:23.242667Z",
     "shell.execute_reply.started": "2022-04-12T14:25:25.656695Z"
    },
    "papermill": {
     "duration": 0.044634,
     "end_time": "2022-04-12T14:28:23.242911",
     "exception": false,
     "start_time": "2022-04-12T14:28:23.198277",
     "status": "completed"
    },
    "tags": []
   },
   "outputs": [],
   "source": [
    "nom_col = [0,6,7,9,16]\n",
    "ordinal_col =[2,3,5,8,10,11,12,13,14,15]"
   ]
  },
  {
   "cell_type": "code",
   "execution_count": 10,
   "id": "ec59227f",
   "metadata": {
    "execution": {
     "iopub.execute_input": "2022-04-12T14:28:23.321720Z",
     "iopub.status.busy": "2022-04-12T14:28:23.320753Z",
     "iopub.status.idle": "2022-04-12T14:28:24.323663Z",
     "shell.execute_reply": "2022-04-12T14:28:24.324497Z",
     "shell.execute_reply.started": "2022-04-12T14:25:25.677397Z"
    },
    "papermill": {
     "duration": 1.044062,
     "end_time": "2022-04-12T14:28:24.324742",
     "exception": false,
     "start_time": "2022-04-12T14:28:23.280680",
     "status": "completed"
    },
    "tags": []
   },
   "outputs": [
    {
     "data": {
      "text/html": [
       "<style>div.sk-top-container {color: black;background-color: white;}div.sk-toggleable {background-color: white;}label.sk-toggleable__label {cursor: pointer;display: block;width: 100%;margin-bottom: 0;padding: 0.2em 0.3em;box-sizing: border-box;text-align: center;}div.sk-toggleable__content {max-height: 0;max-width: 0;overflow: hidden;text-align: left;background-color: #f0f8ff;}div.sk-toggleable__content pre {margin: 0.2em;color: black;border-radius: 0.25em;background-color: #f0f8ff;}input.sk-toggleable__control:checked~div.sk-toggleable__content {max-height: 200px;max-width: 100%;overflow: auto;}div.sk-estimator input.sk-toggleable__control:checked~label.sk-toggleable__label {background-color: #d4ebff;}div.sk-label input.sk-toggleable__control:checked~label.sk-toggleable__label {background-color: #d4ebff;}input.sk-hidden--visually {border: 0;clip: rect(1px 1px 1px 1px);clip: rect(1px, 1px, 1px, 1px);height: 1px;margin: -1px;overflow: hidden;padding: 0;position: absolute;width: 1px;}div.sk-estimator {font-family: monospace;background-color: #f0f8ff;margin: 0.25em 0.25em;border: 1px dotted black;border-radius: 0.25em;box-sizing: border-box;}div.sk-estimator:hover {background-color: #d4ebff;}div.sk-parallel-item::after {content: \"\";width: 100%;border-bottom: 1px solid gray;flex-grow: 1;}div.sk-label:hover label.sk-toggleable__label {background-color: #d4ebff;}div.sk-serial::before {content: \"\";position: absolute;border-left: 1px solid gray;box-sizing: border-box;top: 2em;bottom: 0;left: 50%;}div.sk-serial {display: flex;flex-direction: column;align-items: center;background-color: white;}div.sk-item {z-index: 1;}div.sk-parallel {display: flex;align-items: stretch;justify-content: center;background-color: white;}div.sk-parallel-item {display: flex;flex-direction: column;position: relative;background-color: white;}div.sk-parallel-item:first-child::after {align-self: flex-end;width: 50%;}div.sk-parallel-item:last-child::after {align-self: flex-start;width: 50%;}div.sk-parallel-item:only-child::after {width: 0;}div.sk-dashed-wrapped {border: 1px dashed gray;margin: 0.2em;box-sizing: border-box;padding-bottom: 0.1em;background-color: white;position: relative;}div.sk-label label {font-family: monospace;font-weight: bold;background-color: white;display: inline-block;line-height: 1.2em;}div.sk-label-container {position: relative;z-index: 2;text-align: center;}div.sk-container {display: inline-block;position: relative;}</style><div class=\"sk-top-container\"><div class=\"sk-container\"><div class=\"sk-item sk-dashed-wrapped\"><div class=\"sk-label-container\"><div class=\"sk-label sk-toggleable\"><input class=\"sk-toggleable__control sk-hidden--visually\" id=\"99ed5c7e-2d72-469d-9d78-582e3d3c20b1\" type=\"checkbox\" ><label class=\"sk-toggleable__label\" for=\"99ed5c7e-2d72-469d-9d78-582e3d3c20b1\">ColumnTransformer</label><div class=\"sk-toggleable__content\"><pre>ColumnTransformer(remainder='passthrough',\n",
       "                  transformers=[('onehotencoder', OneHotEncoder(sparse=False),\n",
       "                                 [0, 6, 7, 9, 16]),\n",
       "                                ('ordinalencoder', OrdinalEncoder(),\n",
       "                                 [2, 3, 5, 8, 10, 11, 12, 13, 14, 15])])</pre></div></div></div><div class=\"sk-parallel\"><div class=\"sk-parallel-item\"><div class=\"sk-item\"><div class=\"sk-label-container\"><div class=\"sk-label sk-toggleable\"><input class=\"sk-toggleable__control sk-hidden--visually\" id=\"26310c58-dff3-4b68-ba9c-4e5cf54478f2\" type=\"checkbox\" ><label class=\"sk-toggleable__label\" for=\"26310c58-dff3-4b68-ba9c-4e5cf54478f2\">onehotencoder</label><div class=\"sk-toggleable__content\"><pre>[0, 6, 7, 9, 16]</pre></div></div></div><div class=\"sk-serial\"><div class=\"sk-item\"><div class=\"sk-estimator sk-toggleable\"><input class=\"sk-toggleable__control sk-hidden--visually\" id=\"33e53bd6-d8fe-4393-aecf-f33313a4c377\" type=\"checkbox\" ><label class=\"sk-toggleable__label\" for=\"33e53bd6-d8fe-4393-aecf-f33313a4c377\">OneHotEncoder</label><div class=\"sk-toggleable__content\"><pre>OneHotEncoder(sparse=False)</pre></div></div></div></div></div></div><div class=\"sk-parallel-item\"><div class=\"sk-item\"><div class=\"sk-label-container\"><div class=\"sk-label sk-toggleable\"><input class=\"sk-toggleable__control sk-hidden--visually\" id=\"cbb9206c-13bf-407f-90b2-a0725550bb62\" type=\"checkbox\" ><label class=\"sk-toggleable__label\" for=\"cbb9206c-13bf-407f-90b2-a0725550bb62\">ordinalencoder</label><div class=\"sk-toggleable__content\"><pre>[2, 3, 5, 8, 10, 11, 12, 13, 14, 15]</pre></div></div></div><div class=\"sk-serial\"><div class=\"sk-item\"><div class=\"sk-estimator sk-toggleable\"><input class=\"sk-toggleable__control sk-hidden--visually\" id=\"431eb7e0-1cff-4f1a-99e9-da2140332aaf\" type=\"checkbox\" ><label class=\"sk-toggleable__label\" for=\"431eb7e0-1cff-4f1a-99e9-da2140332aaf\">OrdinalEncoder</label><div class=\"sk-toggleable__content\"><pre>OrdinalEncoder()</pre></div></div></div></div></div></div></div></div></div></div>"
      ],
      "text/plain": [
       "ColumnTransformer(remainder='passthrough',\n",
       "                  transformers=[('onehotencoder', OneHotEncoder(sparse=False),\n",
       "                                 [0, 6, 7, 9, 16]),\n",
       "                                ('ordinalencoder', OrdinalEncoder(),\n",
       "                                 [2, 3, 5, 8, 10, 11, 12, 13, 14, 15])])"
      ]
     },
     "execution_count": 10,
     "metadata": {},
     "output_type": "execute_result"
    }
   ],
   "source": [
    "from sklearn.preprocessing import OneHotEncoder,OrdinalEncoder\n",
    "from sklearn.compose import make_column_transformer\n",
    "from sklearn import set_config\n",
    "trans = make_column_transformer((OneHotEncoder(sparse = False),nom_col),\n",
    "                               (OrdinalEncoder(),ordinal_col),\n",
    "                               remainder = 'passthrough')\n",
    "set_config(display ='diagram')\n",
    "trans"
   ]
  },
  {
   "cell_type": "code",
   "execution_count": 11,
   "id": "65179f6e",
   "metadata": {
    "execution": {
     "iopub.execute_input": "2022-04-12T14:28:24.410629Z",
     "iopub.status.busy": "2022-04-12T14:28:24.409804Z",
     "iopub.status.idle": "2022-04-12T14:28:24.412816Z",
     "shell.execute_reply": "2022-04-12T14:28:24.413373Z",
     "shell.execute_reply.started": "2022-04-12T14:25:26.721922Z"
    },
    "papermill": {
     "duration": 0.049071,
     "end_time": "2022-04-12T14:28:24.413549",
     "exception": false,
     "start_time": "2022-04-12T14:28:24.364478",
     "status": "completed"
    },
    "tags": []
   },
   "outputs": [],
   "source": [
    "x = data.iloc[:,0:18]\n",
    "y = data.Churn"
   ]
  },
  {
   "cell_type": "code",
   "execution_count": 12,
   "id": "14d0773c",
   "metadata": {
    "execution": {
     "iopub.execute_input": "2022-04-12T14:28:24.493648Z",
     "iopub.status.busy": "2022-04-12T14:28:24.492671Z",
     "iopub.status.idle": "2022-04-12T14:28:24.519221Z",
     "shell.execute_reply": "2022-04-12T14:28:24.519771Z",
     "shell.execute_reply.started": "2022-04-12T14:25:26.731065Z"
    },
    "papermill": {
     "duration": 0.068645,
     "end_time": "2022-04-12T14:28:24.519958",
     "exception": false,
     "start_time": "2022-04-12T14:28:24.451313",
     "status": "completed"
    },
    "tags": []
   },
   "outputs": [
    {
     "data": {
      "text/html": [
       "<div>\n",
       "<style scoped>\n",
       "    .dataframe tbody tr th:only-of-type {\n",
       "        vertical-align: middle;\n",
       "    }\n",
       "\n",
       "    .dataframe tbody tr th {\n",
       "        vertical-align: top;\n",
       "    }\n",
       "\n",
       "    .dataframe thead th {\n",
       "        text-align: right;\n",
       "    }\n",
       "</style>\n",
       "<table border=\"1\" class=\"dataframe\">\n",
       "  <thead>\n",
       "    <tr style=\"text-align: right;\">\n",
       "      <th></th>\n",
       "      <th>gender</th>\n",
       "      <th>SeniorCitizen</th>\n",
       "      <th>Partner</th>\n",
       "      <th>Dependents</th>\n",
       "      <th>tenure</th>\n",
       "      <th>PhoneService</th>\n",
       "      <th>MultipleLines</th>\n",
       "      <th>InternetService</th>\n",
       "      <th>OnlineSecurity</th>\n",
       "      <th>OnlineBackup</th>\n",
       "      <th>DeviceProtection</th>\n",
       "      <th>TechSupport</th>\n",
       "      <th>StreamingTV</th>\n",
       "      <th>StreamingMovies</th>\n",
       "      <th>Contract</th>\n",
       "      <th>PaperlessBilling</th>\n",
       "      <th>PaymentMethod</th>\n",
       "      <th>MonthlyCharges</th>\n",
       "    </tr>\n",
       "  </thead>\n",
       "  <tbody>\n",
       "    <tr>\n",
       "      <th>0</th>\n",
       "      <td>Female</td>\n",
       "      <td>0</td>\n",
       "      <td>Yes</td>\n",
       "      <td>No</td>\n",
       "      <td>1</td>\n",
       "      <td>No</td>\n",
       "      <td>No phone service</td>\n",
       "      <td>DSL</td>\n",
       "      <td>No</td>\n",
       "      <td>Yes</td>\n",
       "      <td>No</td>\n",
       "      <td>No</td>\n",
       "      <td>No</td>\n",
       "      <td>No</td>\n",
       "      <td>Month-to-month</td>\n",
       "      <td>Yes</td>\n",
       "      <td>Electronic check</td>\n",
       "      <td>29.85</td>\n",
       "    </tr>\n",
       "    <tr>\n",
       "      <th>1</th>\n",
       "      <td>Male</td>\n",
       "      <td>0</td>\n",
       "      <td>No</td>\n",
       "      <td>No</td>\n",
       "      <td>34</td>\n",
       "      <td>Yes</td>\n",
       "      <td>No</td>\n",
       "      <td>DSL</td>\n",
       "      <td>Yes</td>\n",
       "      <td>No</td>\n",
       "      <td>Yes</td>\n",
       "      <td>No</td>\n",
       "      <td>No</td>\n",
       "      <td>No</td>\n",
       "      <td>One year</td>\n",
       "      <td>No</td>\n",
       "      <td>Mailed check</td>\n",
       "      <td>56.95</td>\n",
       "    </tr>\n",
       "    <tr>\n",
       "      <th>2</th>\n",
       "      <td>Male</td>\n",
       "      <td>0</td>\n",
       "      <td>No</td>\n",
       "      <td>No</td>\n",
       "      <td>2</td>\n",
       "      <td>Yes</td>\n",
       "      <td>No</td>\n",
       "      <td>DSL</td>\n",
       "      <td>Yes</td>\n",
       "      <td>Yes</td>\n",
       "      <td>No</td>\n",
       "      <td>No</td>\n",
       "      <td>No</td>\n",
       "      <td>No</td>\n",
       "      <td>Month-to-month</td>\n",
       "      <td>Yes</td>\n",
       "      <td>Mailed check</td>\n",
       "      <td>53.85</td>\n",
       "    </tr>\n",
       "    <tr>\n",
       "      <th>3</th>\n",
       "      <td>Male</td>\n",
       "      <td>0</td>\n",
       "      <td>No</td>\n",
       "      <td>No</td>\n",
       "      <td>45</td>\n",
       "      <td>No</td>\n",
       "      <td>No phone service</td>\n",
       "      <td>DSL</td>\n",
       "      <td>Yes</td>\n",
       "      <td>No</td>\n",
       "      <td>Yes</td>\n",
       "      <td>Yes</td>\n",
       "      <td>No</td>\n",
       "      <td>No</td>\n",
       "      <td>One year</td>\n",
       "      <td>No</td>\n",
       "      <td>Bank transfer (automatic)</td>\n",
       "      <td>42.30</td>\n",
       "    </tr>\n",
       "    <tr>\n",
       "      <th>4</th>\n",
       "      <td>Female</td>\n",
       "      <td>0</td>\n",
       "      <td>No</td>\n",
       "      <td>No</td>\n",
       "      <td>2</td>\n",
       "      <td>Yes</td>\n",
       "      <td>No</td>\n",
       "      <td>Fiber optic</td>\n",
       "      <td>No</td>\n",
       "      <td>No</td>\n",
       "      <td>No</td>\n",
       "      <td>No</td>\n",
       "      <td>No</td>\n",
       "      <td>No</td>\n",
       "      <td>Month-to-month</td>\n",
       "      <td>Yes</td>\n",
       "      <td>Electronic check</td>\n",
       "      <td>70.70</td>\n",
       "    </tr>\n",
       "    <tr>\n",
       "      <th>...</th>\n",
       "      <td>...</td>\n",
       "      <td>...</td>\n",
       "      <td>...</td>\n",
       "      <td>...</td>\n",
       "      <td>...</td>\n",
       "      <td>...</td>\n",
       "      <td>...</td>\n",
       "      <td>...</td>\n",
       "      <td>...</td>\n",
       "      <td>...</td>\n",
       "      <td>...</td>\n",
       "      <td>...</td>\n",
       "      <td>...</td>\n",
       "      <td>...</td>\n",
       "      <td>...</td>\n",
       "      <td>...</td>\n",
       "      <td>...</td>\n",
       "      <td>...</td>\n",
       "    </tr>\n",
       "    <tr>\n",
       "      <th>7038</th>\n",
       "      <td>Male</td>\n",
       "      <td>0</td>\n",
       "      <td>Yes</td>\n",
       "      <td>Yes</td>\n",
       "      <td>24</td>\n",
       "      <td>Yes</td>\n",
       "      <td>Yes</td>\n",
       "      <td>DSL</td>\n",
       "      <td>Yes</td>\n",
       "      <td>No</td>\n",
       "      <td>Yes</td>\n",
       "      <td>Yes</td>\n",
       "      <td>Yes</td>\n",
       "      <td>Yes</td>\n",
       "      <td>One year</td>\n",
       "      <td>Yes</td>\n",
       "      <td>Mailed check</td>\n",
       "      <td>84.80</td>\n",
       "    </tr>\n",
       "    <tr>\n",
       "      <th>7039</th>\n",
       "      <td>Female</td>\n",
       "      <td>0</td>\n",
       "      <td>Yes</td>\n",
       "      <td>Yes</td>\n",
       "      <td>72</td>\n",
       "      <td>Yes</td>\n",
       "      <td>Yes</td>\n",
       "      <td>Fiber optic</td>\n",
       "      <td>No</td>\n",
       "      <td>Yes</td>\n",
       "      <td>Yes</td>\n",
       "      <td>No</td>\n",
       "      <td>Yes</td>\n",
       "      <td>Yes</td>\n",
       "      <td>One year</td>\n",
       "      <td>Yes</td>\n",
       "      <td>Credit card (automatic)</td>\n",
       "      <td>103.20</td>\n",
       "    </tr>\n",
       "    <tr>\n",
       "      <th>7040</th>\n",
       "      <td>Female</td>\n",
       "      <td>0</td>\n",
       "      <td>Yes</td>\n",
       "      <td>Yes</td>\n",
       "      <td>11</td>\n",
       "      <td>No</td>\n",
       "      <td>No phone service</td>\n",
       "      <td>DSL</td>\n",
       "      <td>Yes</td>\n",
       "      <td>No</td>\n",
       "      <td>No</td>\n",
       "      <td>No</td>\n",
       "      <td>No</td>\n",
       "      <td>No</td>\n",
       "      <td>Month-to-month</td>\n",
       "      <td>Yes</td>\n",
       "      <td>Electronic check</td>\n",
       "      <td>29.60</td>\n",
       "    </tr>\n",
       "    <tr>\n",
       "      <th>7041</th>\n",
       "      <td>Male</td>\n",
       "      <td>1</td>\n",
       "      <td>Yes</td>\n",
       "      <td>No</td>\n",
       "      <td>4</td>\n",
       "      <td>Yes</td>\n",
       "      <td>Yes</td>\n",
       "      <td>Fiber optic</td>\n",
       "      <td>No</td>\n",
       "      <td>No</td>\n",
       "      <td>No</td>\n",
       "      <td>No</td>\n",
       "      <td>No</td>\n",
       "      <td>No</td>\n",
       "      <td>Month-to-month</td>\n",
       "      <td>Yes</td>\n",
       "      <td>Mailed check</td>\n",
       "      <td>74.40</td>\n",
       "    </tr>\n",
       "    <tr>\n",
       "      <th>7042</th>\n",
       "      <td>Male</td>\n",
       "      <td>0</td>\n",
       "      <td>No</td>\n",
       "      <td>No</td>\n",
       "      <td>66</td>\n",
       "      <td>Yes</td>\n",
       "      <td>No</td>\n",
       "      <td>Fiber optic</td>\n",
       "      <td>Yes</td>\n",
       "      <td>No</td>\n",
       "      <td>Yes</td>\n",
       "      <td>Yes</td>\n",
       "      <td>Yes</td>\n",
       "      <td>Yes</td>\n",
       "      <td>Two year</td>\n",
       "      <td>Yes</td>\n",
       "      <td>Bank transfer (automatic)</td>\n",
       "      <td>105.65</td>\n",
       "    </tr>\n",
       "  </tbody>\n",
       "</table>\n",
       "<p>7043 rows × 18 columns</p>\n",
       "</div>"
      ],
      "text/plain": [
       "      gender  SeniorCitizen Partner Dependents  tenure PhoneService  \\\n",
       "0     Female              0     Yes         No       1           No   \n",
       "1       Male              0      No         No      34          Yes   \n",
       "2       Male              0      No         No       2          Yes   \n",
       "3       Male              0      No         No      45           No   \n",
       "4     Female              0      No         No       2          Yes   \n",
       "...      ...            ...     ...        ...     ...          ...   \n",
       "7038    Male              0     Yes        Yes      24          Yes   \n",
       "7039  Female              0     Yes        Yes      72          Yes   \n",
       "7040  Female              0     Yes        Yes      11           No   \n",
       "7041    Male              1     Yes         No       4          Yes   \n",
       "7042    Male              0      No         No      66          Yes   \n",
       "\n",
       "         MultipleLines InternetService OnlineSecurity OnlineBackup  \\\n",
       "0     No phone service             DSL             No          Yes   \n",
       "1                   No             DSL            Yes           No   \n",
       "2                   No             DSL            Yes          Yes   \n",
       "3     No phone service             DSL            Yes           No   \n",
       "4                   No     Fiber optic             No           No   \n",
       "...                ...             ...            ...          ...   \n",
       "7038               Yes             DSL            Yes           No   \n",
       "7039               Yes     Fiber optic             No          Yes   \n",
       "7040  No phone service             DSL            Yes           No   \n",
       "7041               Yes     Fiber optic             No           No   \n",
       "7042                No     Fiber optic            Yes           No   \n",
       "\n",
       "     DeviceProtection TechSupport StreamingTV StreamingMovies        Contract  \\\n",
       "0                  No          No          No              No  Month-to-month   \n",
       "1                 Yes          No          No              No        One year   \n",
       "2                  No          No          No              No  Month-to-month   \n",
       "3                 Yes         Yes          No              No        One year   \n",
       "4                  No          No          No              No  Month-to-month   \n",
       "...               ...         ...         ...             ...             ...   \n",
       "7038              Yes         Yes         Yes             Yes        One year   \n",
       "7039              Yes          No         Yes             Yes        One year   \n",
       "7040               No          No          No              No  Month-to-month   \n",
       "7041               No          No          No              No  Month-to-month   \n",
       "7042              Yes         Yes         Yes             Yes        Two year   \n",
       "\n",
       "     PaperlessBilling              PaymentMethod  MonthlyCharges  \n",
       "0                 Yes           Electronic check           29.85  \n",
       "1                  No               Mailed check           56.95  \n",
       "2                 Yes               Mailed check           53.85  \n",
       "3                  No  Bank transfer (automatic)           42.30  \n",
       "4                 Yes           Electronic check           70.70  \n",
       "...               ...                        ...             ...  \n",
       "7038              Yes               Mailed check           84.80  \n",
       "7039              Yes    Credit card (automatic)          103.20  \n",
       "7040              Yes           Electronic check           29.60  \n",
       "7041              Yes               Mailed check           74.40  \n",
       "7042              Yes  Bank transfer (automatic)          105.65  \n",
       "\n",
       "[7043 rows x 18 columns]"
      ]
     },
     "execution_count": 12,
     "metadata": {},
     "output_type": "execute_result"
    }
   ],
   "source": [
    "x"
   ]
  },
  {
   "cell_type": "code",
   "execution_count": 13,
   "id": "0670bbe8",
   "metadata": {
    "execution": {
     "iopub.execute_input": "2022-04-12T14:28:24.600935Z",
     "iopub.status.busy": "2022-04-12T14:28:24.600001Z",
     "iopub.status.idle": "2022-04-12T14:28:24.606553Z",
     "shell.execute_reply": "2022-04-12T14:28:24.607150Z",
     "shell.execute_reply.started": "2022-04-12T14:25:26.768744Z"
    },
    "papermill": {
     "duration": 0.04884,
     "end_time": "2022-04-12T14:28:24.607312",
     "exception": false,
     "start_time": "2022-04-12T14:28:24.558472",
     "status": "completed"
    },
    "tags": []
   },
   "outputs": [
    {
     "data": {
      "text/plain": [
       "0        No\n",
       "1        No\n",
       "2       Yes\n",
       "3        No\n",
       "4       Yes\n",
       "       ... \n",
       "7038     No\n",
       "7039     No\n",
       "7040     No\n",
       "7041    Yes\n",
       "7042     No\n",
       "Name: Churn, Length: 7043, dtype: object"
      ]
     },
     "execution_count": 13,
     "metadata": {},
     "output_type": "execute_result"
    }
   ],
   "source": [
    "y"
   ]
  },
  {
   "cell_type": "code",
   "execution_count": 14,
   "id": "12aa919a",
   "metadata": {
    "execution": {
     "iopub.execute_input": "2022-04-12T14:28:24.690003Z",
     "iopub.status.busy": "2022-04-12T14:28:24.688067Z",
     "iopub.status.idle": "2022-04-12T14:28:24.741726Z",
     "shell.execute_reply": "2022-04-12T14:28:24.742940Z",
     "shell.execute_reply.started": "2022-04-12T14:25:26.781983Z"
    },
    "papermill": {
     "duration": 0.097083,
     "end_time": "2022-04-12T14:28:24.743112",
     "exception": false,
     "start_time": "2022-04-12T14:28:24.646029",
     "status": "completed"
    },
    "tags": []
   },
   "outputs": [],
   "source": [
    "from sklearn.model_selection import train_test_split\n",
    "x_train,x_test,y_train,y_test = train_test_split(x,y,test_size = 0.35)"
   ]
  },
  {
   "cell_type": "code",
   "execution_count": 15,
   "id": "86b50ddc",
   "metadata": {
    "execution": {
     "iopub.execute_input": "2022-04-12T14:28:24.827373Z",
     "iopub.status.busy": "2022-04-12T14:28:24.826572Z",
     "iopub.status.idle": "2022-04-12T14:28:24.829535Z",
     "shell.execute_reply": "2022-04-12T14:28:24.830052Z",
     "shell.execute_reply.started": "2022-04-12T14:25:26.845601Z"
    },
    "papermill": {
     "duration": 0.047566,
     "end_time": "2022-04-12T14:28:24.830217",
     "exception": false,
     "start_time": "2022-04-12T14:28:24.782651",
     "status": "completed"
    },
    "tags": []
   },
   "outputs": [
    {
     "data": {
      "text/plain": [
       "(4577, 18)"
      ]
     },
     "execution_count": 15,
     "metadata": {},
     "output_type": "execute_result"
    }
   ],
   "source": [
    "x_train.shape"
   ]
  },
  {
   "cell_type": "code",
   "execution_count": 16,
   "id": "55d68d94",
   "metadata": {
    "execution": {
     "iopub.execute_input": "2022-04-12T14:28:24.913422Z",
     "iopub.status.busy": "2022-04-12T14:28:24.912484Z",
     "iopub.status.idle": "2022-04-12T14:28:24.917537Z",
     "shell.execute_reply": "2022-04-12T14:28:24.918088Z",
     "shell.execute_reply.started": "2022-04-12T14:25:26.853466Z"
    },
    "papermill": {
     "duration": 0.048361,
     "end_time": "2022-04-12T14:28:24.918252",
     "exception": false,
     "start_time": "2022-04-12T14:28:24.869891",
     "status": "completed"
    },
    "tags": []
   },
   "outputs": [
    {
     "data": {
      "text/plain": [
       "(4577,)"
      ]
     },
     "execution_count": 16,
     "metadata": {},
     "output_type": "execute_result"
    }
   ],
   "source": [
    "y_train.shape"
   ]
  },
  {
   "cell_type": "code",
   "execution_count": 17,
   "id": "d439096a",
   "metadata": {
    "execution": {
     "iopub.execute_input": "2022-04-12T14:28:25.003044Z",
     "iopub.status.busy": "2022-04-12T14:28:25.002144Z",
     "iopub.status.idle": "2022-04-12T14:28:25.005283Z",
     "shell.execute_reply": "2022-04-12T14:28:25.005893Z",
     "shell.execute_reply.started": "2022-04-12T14:25:26.867011Z"
    },
    "papermill": {
     "duration": 0.048389,
     "end_time": "2022-04-12T14:28:25.006058",
     "exception": false,
     "start_time": "2022-04-12T14:28:24.957669",
     "status": "completed"
    },
    "tags": []
   },
   "outputs": [
    {
     "data": {
      "text/plain": [
       "(2466, 18)"
      ]
     },
     "execution_count": 17,
     "metadata": {},
     "output_type": "execute_result"
    }
   ],
   "source": [
    "x_test.shape"
   ]
  },
  {
   "cell_type": "code",
   "execution_count": 18,
   "id": "c3ae2df5",
   "metadata": {
    "execution": {
     "iopub.execute_input": "2022-04-12T14:28:25.090767Z",
     "iopub.status.busy": "2022-04-12T14:28:25.089816Z",
     "iopub.status.idle": "2022-04-12T14:28:25.094677Z",
     "shell.execute_reply": "2022-04-12T14:28:25.095185Z",
     "shell.execute_reply.started": "2022-04-12T14:25:26.878672Z"
    },
    "papermill": {
     "duration": 0.049079,
     "end_time": "2022-04-12T14:28:25.095352",
     "exception": false,
     "start_time": "2022-04-12T14:28:25.046273",
     "status": "completed"
    },
    "tags": []
   },
   "outputs": [
    {
     "data": {
      "text/plain": [
       "(2466,)"
      ]
     },
     "execution_count": 18,
     "metadata": {},
     "output_type": "execute_result"
    }
   ],
   "source": [
    "y_test.shape"
   ]
  },
  {
   "cell_type": "code",
   "execution_count": 19,
   "id": "92e270ec",
   "metadata": {
    "execution": {
     "iopub.execute_input": "2022-04-12T14:28:25.180478Z",
     "iopub.status.busy": "2022-04-12T14:28:25.179498Z",
     "iopub.status.idle": "2022-04-12T14:28:25.313453Z",
     "shell.execute_reply": "2022-04-12T14:28:25.312729Z",
     "shell.execute_reply.started": "2022-04-12T14:25:26.894099Z"
    },
    "papermill": {
     "duration": 0.177876,
     "end_time": "2022-04-12T14:28:25.313596",
     "exception": false,
     "start_time": "2022-04-12T14:28:25.135720",
     "status": "completed"
    },
    "tags": []
   },
   "outputs": [],
   "source": [
    "from sklearn.neighbors import KNeighborsClassifier\n",
    "from sklearn.pipeline import make_pipeline\n",
    "KNN = KNeighborsClassifier(9)\n",
    "pipe_KNN = make_pipeline(trans,KNN)"
   ]
  },
  {
   "cell_type": "code",
   "execution_count": 20,
   "id": "f477f757",
   "metadata": {
    "execution": {
     "iopub.execute_input": "2022-04-12T14:28:25.402290Z",
     "iopub.status.busy": "2022-04-12T14:28:25.401437Z",
     "iopub.status.idle": "2022-04-12T14:28:25.404885Z",
     "shell.execute_reply": "2022-04-12T14:28:25.405372Z",
     "shell.execute_reply.started": "2022-04-12T14:25:27.030799Z"
    },
    "papermill": {
     "duration": 0.05116,
     "end_time": "2022-04-12T14:28:25.405543",
     "exception": false,
     "start_time": "2022-04-12T14:28:25.354383",
     "status": "completed"
    },
    "tags": []
   },
   "outputs": [
    {
     "data": {
      "text/html": [
       "<style>div.sk-top-container {color: black;background-color: white;}div.sk-toggleable {background-color: white;}label.sk-toggleable__label {cursor: pointer;display: block;width: 100%;margin-bottom: 0;padding: 0.2em 0.3em;box-sizing: border-box;text-align: center;}div.sk-toggleable__content {max-height: 0;max-width: 0;overflow: hidden;text-align: left;background-color: #f0f8ff;}div.sk-toggleable__content pre {margin: 0.2em;color: black;border-radius: 0.25em;background-color: #f0f8ff;}input.sk-toggleable__control:checked~div.sk-toggleable__content {max-height: 200px;max-width: 100%;overflow: auto;}div.sk-estimator input.sk-toggleable__control:checked~label.sk-toggleable__label {background-color: #d4ebff;}div.sk-label input.sk-toggleable__control:checked~label.sk-toggleable__label {background-color: #d4ebff;}input.sk-hidden--visually {border: 0;clip: rect(1px 1px 1px 1px);clip: rect(1px, 1px, 1px, 1px);height: 1px;margin: -1px;overflow: hidden;padding: 0;position: absolute;width: 1px;}div.sk-estimator {font-family: monospace;background-color: #f0f8ff;margin: 0.25em 0.25em;border: 1px dotted black;border-radius: 0.25em;box-sizing: border-box;}div.sk-estimator:hover {background-color: #d4ebff;}div.sk-parallel-item::after {content: \"\";width: 100%;border-bottom: 1px solid gray;flex-grow: 1;}div.sk-label:hover label.sk-toggleable__label {background-color: #d4ebff;}div.sk-serial::before {content: \"\";position: absolute;border-left: 1px solid gray;box-sizing: border-box;top: 2em;bottom: 0;left: 50%;}div.sk-serial {display: flex;flex-direction: column;align-items: center;background-color: white;}div.sk-item {z-index: 1;}div.sk-parallel {display: flex;align-items: stretch;justify-content: center;background-color: white;}div.sk-parallel-item {display: flex;flex-direction: column;position: relative;background-color: white;}div.sk-parallel-item:first-child::after {align-self: flex-end;width: 50%;}div.sk-parallel-item:last-child::after {align-self: flex-start;width: 50%;}div.sk-parallel-item:only-child::after {width: 0;}div.sk-dashed-wrapped {border: 1px dashed gray;margin: 0.2em;box-sizing: border-box;padding-bottom: 0.1em;background-color: white;position: relative;}div.sk-label label {font-family: monospace;font-weight: bold;background-color: white;display: inline-block;line-height: 1.2em;}div.sk-label-container {position: relative;z-index: 2;text-align: center;}div.sk-container {display: inline-block;position: relative;}</style><div class=\"sk-top-container\"><div class=\"sk-container\"><div class=\"sk-item\"><div class=\"sk-estimator sk-toggleable\"><input class=\"sk-toggleable__control sk-hidden--visually\" id=\"588a627f-ea75-4b16-b308-0a5c982a0ca4\" type=\"checkbox\" checked><label class=\"sk-toggleable__label\" for=\"588a627f-ea75-4b16-b308-0a5c982a0ca4\">KNeighborsClassifier</label><div class=\"sk-toggleable__content\"><pre>KNeighborsClassifier(n_neighbors=9)</pre></div></div></div></div></div>"
      ],
      "text/plain": [
       "KNeighborsClassifier(n_neighbors=9)"
      ]
     },
     "execution_count": 20,
     "metadata": {},
     "output_type": "execute_result"
    }
   ],
   "source": [
    "KNN"
   ]
  },
  {
   "cell_type": "code",
   "execution_count": 21,
   "id": "3b9006ad",
   "metadata": {
    "execution": {
     "iopub.execute_input": "2022-04-12T14:28:25.522649Z",
     "iopub.status.busy": "2022-04-12T14:28:25.511695Z",
     "iopub.status.idle": "2022-04-12T14:28:25.525473Z",
     "shell.execute_reply": "2022-04-12T14:28:25.525972Z",
     "shell.execute_reply.started": "2022-04-12T14:25:27.041837Z"
    },
    "papermill": {
     "duration": 0.079849,
     "end_time": "2022-04-12T14:28:25.526140",
     "exception": false,
     "start_time": "2022-04-12T14:28:25.446291",
     "status": "completed"
    },
    "tags": []
   },
   "outputs": [
    {
     "data": {
      "text/html": [
       "<style>div.sk-top-container {color: black;background-color: white;}div.sk-toggleable {background-color: white;}label.sk-toggleable__label {cursor: pointer;display: block;width: 100%;margin-bottom: 0;padding: 0.2em 0.3em;box-sizing: border-box;text-align: center;}div.sk-toggleable__content {max-height: 0;max-width: 0;overflow: hidden;text-align: left;background-color: #f0f8ff;}div.sk-toggleable__content pre {margin: 0.2em;color: black;border-radius: 0.25em;background-color: #f0f8ff;}input.sk-toggleable__control:checked~div.sk-toggleable__content {max-height: 200px;max-width: 100%;overflow: auto;}div.sk-estimator input.sk-toggleable__control:checked~label.sk-toggleable__label {background-color: #d4ebff;}div.sk-label input.sk-toggleable__control:checked~label.sk-toggleable__label {background-color: #d4ebff;}input.sk-hidden--visually {border: 0;clip: rect(1px 1px 1px 1px);clip: rect(1px, 1px, 1px, 1px);height: 1px;margin: -1px;overflow: hidden;padding: 0;position: absolute;width: 1px;}div.sk-estimator {font-family: monospace;background-color: #f0f8ff;margin: 0.25em 0.25em;border: 1px dotted black;border-radius: 0.25em;box-sizing: border-box;}div.sk-estimator:hover {background-color: #d4ebff;}div.sk-parallel-item::after {content: \"\";width: 100%;border-bottom: 1px solid gray;flex-grow: 1;}div.sk-label:hover label.sk-toggleable__label {background-color: #d4ebff;}div.sk-serial::before {content: \"\";position: absolute;border-left: 1px solid gray;box-sizing: border-box;top: 2em;bottom: 0;left: 50%;}div.sk-serial {display: flex;flex-direction: column;align-items: center;background-color: white;}div.sk-item {z-index: 1;}div.sk-parallel {display: flex;align-items: stretch;justify-content: center;background-color: white;}div.sk-parallel-item {display: flex;flex-direction: column;position: relative;background-color: white;}div.sk-parallel-item:first-child::after {align-self: flex-end;width: 50%;}div.sk-parallel-item:last-child::after {align-self: flex-start;width: 50%;}div.sk-parallel-item:only-child::after {width: 0;}div.sk-dashed-wrapped {border: 1px dashed gray;margin: 0.2em;box-sizing: border-box;padding-bottom: 0.1em;background-color: white;position: relative;}div.sk-label label {font-family: monospace;font-weight: bold;background-color: white;display: inline-block;line-height: 1.2em;}div.sk-label-container {position: relative;z-index: 2;text-align: center;}div.sk-container {display: inline-block;position: relative;}</style><div class=\"sk-top-container\"><div class=\"sk-container\"><div class=\"sk-item sk-dashed-wrapped\"><div class=\"sk-label-container\"><div class=\"sk-label sk-toggleable\"><input class=\"sk-toggleable__control sk-hidden--visually\" id=\"85ea906f-ee1c-4c9d-b73b-8305281a9185\" type=\"checkbox\" ><label class=\"sk-toggleable__label\" for=\"85ea906f-ee1c-4c9d-b73b-8305281a9185\">Pipeline</label><div class=\"sk-toggleable__content\"><pre>Pipeline(steps=[('columntransformer',\n",
       "                 ColumnTransformer(remainder='passthrough',\n",
       "                                   transformers=[('onehotencoder',\n",
       "                                                  OneHotEncoder(sparse=False),\n",
       "                                                  [0, 6, 7, 9, 16]),\n",
       "                                                 ('ordinalencoder',\n",
       "                                                  OrdinalEncoder(),\n",
       "                                                  [2, 3, 5, 8, 10, 11, 12, 13,\n",
       "                                                   14, 15])])),\n",
       "                ('kneighborsclassifier', KNeighborsClassifier(n_neighbors=9))])</pre></div></div></div><div class=\"sk-serial\"><div class=\"sk-item sk-dashed-wrapped\"><div class=\"sk-label-container\"><div class=\"sk-label sk-toggleable\"><input class=\"sk-toggleable__control sk-hidden--visually\" id=\"fcc3a820-1e54-413b-a9e6-3f1198f10deb\" type=\"checkbox\" ><label class=\"sk-toggleable__label\" for=\"fcc3a820-1e54-413b-a9e6-3f1198f10deb\">columntransformer: ColumnTransformer</label><div class=\"sk-toggleable__content\"><pre>ColumnTransformer(remainder='passthrough',\n",
       "                  transformers=[('onehotencoder', OneHotEncoder(sparse=False),\n",
       "                                 [0, 6, 7, 9, 16]),\n",
       "                                ('ordinalencoder', OrdinalEncoder(),\n",
       "                                 [2, 3, 5, 8, 10, 11, 12, 13, 14, 15])])</pre></div></div></div><div class=\"sk-parallel\"><div class=\"sk-parallel-item\"><div class=\"sk-item\"><div class=\"sk-label-container\"><div class=\"sk-label sk-toggleable\"><input class=\"sk-toggleable__control sk-hidden--visually\" id=\"81ad931d-51ed-4c8a-937e-b600bd18d296\" type=\"checkbox\" ><label class=\"sk-toggleable__label\" for=\"81ad931d-51ed-4c8a-937e-b600bd18d296\">onehotencoder</label><div class=\"sk-toggleable__content\"><pre>[0, 6, 7, 9, 16]</pre></div></div></div><div class=\"sk-serial\"><div class=\"sk-item\"><div class=\"sk-estimator sk-toggleable\"><input class=\"sk-toggleable__control sk-hidden--visually\" id=\"058e0056-5311-4d0e-a2de-148d5ccfe327\" type=\"checkbox\" ><label class=\"sk-toggleable__label\" for=\"058e0056-5311-4d0e-a2de-148d5ccfe327\">OneHotEncoder</label><div class=\"sk-toggleable__content\"><pre>OneHotEncoder(sparse=False)</pre></div></div></div></div></div></div><div class=\"sk-parallel-item\"><div class=\"sk-item\"><div class=\"sk-label-container\"><div class=\"sk-label sk-toggleable\"><input class=\"sk-toggleable__control sk-hidden--visually\" id=\"02984fb9-a075-4812-b4cb-8cd74e177d20\" type=\"checkbox\" ><label class=\"sk-toggleable__label\" for=\"02984fb9-a075-4812-b4cb-8cd74e177d20\">ordinalencoder</label><div class=\"sk-toggleable__content\"><pre>[2, 3, 5, 8, 10, 11, 12, 13, 14, 15]</pre></div></div></div><div class=\"sk-serial\"><div class=\"sk-item\"><div class=\"sk-estimator sk-toggleable\"><input class=\"sk-toggleable__control sk-hidden--visually\" id=\"a9875776-97d9-491d-a59c-15713f0f19d2\" type=\"checkbox\" ><label class=\"sk-toggleable__label\" for=\"a9875776-97d9-491d-a59c-15713f0f19d2\">OrdinalEncoder</label><div class=\"sk-toggleable__content\"><pre>OrdinalEncoder()</pre></div></div></div></div></div></div></div></div><div class=\"sk-item\"><div class=\"sk-estimator sk-toggleable\"><input class=\"sk-toggleable__control sk-hidden--visually\" id=\"e4f6c53b-d7fa-4db7-91f3-b5689d73cff7\" type=\"checkbox\" ><label class=\"sk-toggleable__label\" for=\"e4f6c53b-d7fa-4db7-91f3-b5689d73cff7\">KNeighborsClassifier</label><div class=\"sk-toggleable__content\"><pre>KNeighborsClassifier(n_neighbors=9)</pre></div></div></div></div></div></div></div>"
      ],
      "text/plain": [
       "Pipeline(steps=[('columntransformer',\n",
       "                 ColumnTransformer(remainder='passthrough',\n",
       "                                   transformers=[('onehotencoder',\n",
       "                                                  OneHotEncoder(sparse=False),\n",
       "                                                  [0, 6, 7, 9, 16]),\n",
       "                                                 ('ordinalencoder',\n",
       "                                                  OrdinalEncoder(),\n",
       "                                                  [2, 3, 5, 8, 10, 11, 12, 13,\n",
       "                                                   14, 15])])),\n",
       "                ('kneighborsclassifier', KNeighborsClassifier(n_neighbors=9))])"
      ]
     },
     "execution_count": 21,
     "metadata": {},
     "output_type": "execute_result"
    }
   ],
   "source": [
    "pipe_KNN"
   ]
  },
  {
   "cell_type": "code",
   "execution_count": 22,
   "id": "19e03b8f",
   "metadata": {
    "execution": {
     "iopub.execute_input": "2022-04-12T14:28:25.613081Z",
     "iopub.status.busy": "2022-04-12T14:28:25.612332Z",
     "iopub.status.idle": "2022-04-12T14:28:25.713577Z",
     "shell.execute_reply": "2022-04-12T14:28:25.713031Z",
     "shell.execute_reply.started": "2022-04-12T14:25:27.085967Z"
    },
    "papermill": {
     "duration": 0.145547,
     "end_time": "2022-04-12T14:28:25.713720",
     "exception": false,
     "start_time": "2022-04-12T14:28:25.568173",
     "status": "completed"
    },
    "tags": []
   },
   "outputs": [
    {
     "data": {
      "text/html": [
       "<style>div.sk-top-container {color: black;background-color: white;}div.sk-toggleable {background-color: white;}label.sk-toggleable__label {cursor: pointer;display: block;width: 100%;margin-bottom: 0;padding: 0.2em 0.3em;box-sizing: border-box;text-align: center;}div.sk-toggleable__content {max-height: 0;max-width: 0;overflow: hidden;text-align: left;background-color: #f0f8ff;}div.sk-toggleable__content pre {margin: 0.2em;color: black;border-radius: 0.25em;background-color: #f0f8ff;}input.sk-toggleable__control:checked~div.sk-toggleable__content {max-height: 200px;max-width: 100%;overflow: auto;}div.sk-estimator input.sk-toggleable__control:checked~label.sk-toggleable__label {background-color: #d4ebff;}div.sk-label input.sk-toggleable__control:checked~label.sk-toggleable__label {background-color: #d4ebff;}input.sk-hidden--visually {border: 0;clip: rect(1px 1px 1px 1px);clip: rect(1px, 1px, 1px, 1px);height: 1px;margin: -1px;overflow: hidden;padding: 0;position: absolute;width: 1px;}div.sk-estimator {font-family: monospace;background-color: #f0f8ff;margin: 0.25em 0.25em;border: 1px dotted black;border-radius: 0.25em;box-sizing: border-box;}div.sk-estimator:hover {background-color: #d4ebff;}div.sk-parallel-item::after {content: \"\";width: 100%;border-bottom: 1px solid gray;flex-grow: 1;}div.sk-label:hover label.sk-toggleable__label {background-color: #d4ebff;}div.sk-serial::before {content: \"\";position: absolute;border-left: 1px solid gray;box-sizing: border-box;top: 2em;bottom: 0;left: 50%;}div.sk-serial {display: flex;flex-direction: column;align-items: center;background-color: white;}div.sk-item {z-index: 1;}div.sk-parallel {display: flex;align-items: stretch;justify-content: center;background-color: white;}div.sk-parallel-item {display: flex;flex-direction: column;position: relative;background-color: white;}div.sk-parallel-item:first-child::after {align-self: flex-end;width: 50%;}div.sk-parallel-item:last-child::after {align-self: flex-start;width: 50%;}div.sk-parallel-item:only-child::after {width: 0;}div.sk-dashed-wrapped {border: 1px dashed gray;margin: 0.2em;box-sizing: border-box;padding-bottom: 0.1em;background-color: white;position: relative;}div.sk-label label {font-family: monospace;font-weight: bold;background-color: white;display: inline-block;line-height: 1.2em;}div.sk-label-container {position: relative;z-index: 2;text-align: center;}div.sk-container {display: inline-block;position: relative;}</style><div class=\"sk-top-container\"><div class=\"sk-container\"><div class=\"sk-item sk-dashed-wrapped\"><div class=\"sk-label-container\"><div class=\"sk-label sk-toggleable\"><input class=\"sk-toggleable__control sk-hidden--visually\" id=\"3b0b3f7e-33ed-4990-a7bb-8730cb224e62\" type=\"checkbox\" ><label class=\"sk-toggleable__label\" for=\"3b0b3f7e-33ed-4990-a7bb-8730cb224e62\">Pipeline</label><div class=\"sk-toggleable__content\"><pre>Pipeline(steps=[('columntransformer',\n",
       "                 ColumnTransformer(remainder='passthrough',\n",
       "                                   transformers=[('onehotencoder',\n",
       "                                                  OneHotEncoder(sparse=False),\n",
       "                                                  [0, 6, 7, 9, 16]),\n",
       "                                                 ('ordinalencoder',\n",
       "                                                  OrdinalEncoder(),\n",
       "                                                  [2, 3, 5, 8, 10, 11, 12, 13,\n",
       "                                                   14, 15])])),\n",
       "                ('kneighborsclassifier', KNeighborsClassifier(n_neighbors=9))])</pre></div></div></div><div class=\"sk-serial\"><div class=\"sk-item sk-dashed-wrapped\"><div class=\"sk-label-container\"><div class=\"sk-label sk-toggleable\"><input class=\"sk-toggleable__control sk-hidden--visually\" id=\"2c93c53f-c3cb-4305-b7ff-e3878cae6198\" type=\"checkbox\" ><label class=\"sk-toggleable__label\" for=\"2c93c53f-c3cb-4305-b7ff-e3878cae6198\">columntransformer: ColumnTransformer</label><div class=\"sk-toggleable__content\"><pre>ColumnTransformer(remainder='passthrough',\n",
       "                  transformers=[('onehotencoder', OneHotEncoder(sparse=False),\n",
       "                                 [0, 6, 7, 9, 16]),\n",
       "                                ('ordinalencoder', OrdinalEncoder(),\n",
       "                                 [2, 3, 5, 8, 10, 11, 12, 13, 14, 15])])</pre></div></div></div><div class=\"sk-parallel\"><div class=\"sk-parallel-item\"><div class=\"sk-item\"><div class=\"sk-label-container\"><div class=\"sk-label sk-toggleable\"><input class=\"sk-toggleable__control sk-hidden--visually\" id=\"15598222-7c4a-4386-a408-8c0ed1b93555\" type=\"checkbox\" ><label class=\"sk-toggleable__label\" for=\"15598222-7c4a-4386-a408-8c0ed1b93555\">onehotencoder</label><div class=\"sk-toggleable__content\"><pre>[0, 6, 7, 9, 16]</pre></div></div></div><div class=\"sk-serial\"><div class=\"sk-item\"><div class=\"sk-estimator sk-toggleable\"><input class=\"sk-toggleable__control sk-hidden--visually\" id=\"1d8383b4-4b8c-433a-8e0c-a779c18d8874\" type=\"checkbox\" ><label class=\"sk-toggleable__label\" for=\"1d8383b4-4b8c-433a-8e0c-a779c18d8874\">OneHotEncoder</label><div class=\"sk-toggleable__content\"><pre>OneHotEncoder(sparse=False)</pre></div></div></div></div></div></div><div class=\"sk-parallel-item\"><div class=\"sk-item\"><div class=\"sk-label-container\"><div class=\"sk-label sk-toggleable\"><input class=\"sk-toggleable__control sk-hidden--visually\" id=\"5e2991d5-009b-4356-98fd-fe5edd1ff15c\" type=\"checkbox\" ><label class=\"sk-toggleable__label\" for=\"5e2991d5-009b-4356-98fd-fe5edd1ff15c\">ordinalencoder</label><div class=\"sk-toggleable__content\"><pre>[2, 3, 5, 8, 10, 11, 12, 13, 14, 15]</pre></div></div></div><div class=\"sk-serial\"><div class=\"sk-item\"><div class=\"sk-estimator sk-toggleable\"><input class=\"sk-toggleable__control sk-hidden--visually\" id=\"32a7e3bc-97de-434f-b09a-c0657381b88e\" type=\"checkbox\" ><label class=\"sk-toggleable__label\" for=\"32a7e3bc-97de-434f-b09a-c0657381b88e\">OrdinalEncoder</label><div class=\"sk-toggleable__content\"><pre>OrdinalEncoder()</pre></div></div></div></div></div></div></div></div><div class=\"sk-item\"><div class=\"sk-estimator sk-toggleable\"><input class=\"sk-toggleable__control sk-hidden--visually\" id=\"2eac7e6a-de1e-41d5-8f43-db3ab7472447\" type=\"checkbox\" ><label class=\"sk-toggleable__label\" for=\"2eac7e6a-de1e-41d5-8f43-db3ab7472447\">KNeighborsClassifier</label><div class=\"sk-toggleable__content\"><pre>KNeighborsClassifier(n_neighbors=9)</pre></div></div></div></div></div></div></div>"
      ],
      "text/plain": [
       "Pipeline(steps=[('columntransformer',\n",
       "                 ColumnTransformer(remainder='passthrough',\n",
       "                                   transformers=[('onehotencoder',\n",
       "                                                  OneHotEncoder(sparse=False),\n",
       "                                                  [0, 6, 7, 9, 16]),\n",
       "                                                 ('ordinalencoder',\n",
       "                                                  OrdinalEncoder(),\n",
       "                                                  [2, 3, 5, 8, 10, 11, 12, 13,\n",
       "                                                   14, 15])])),\n",
       "                ('kneighborsclassifier', KNeighborsClassifier(n_neighbors=9))])"
      ]
     },
     "execution_count": 22,
     "metadata": {},
     "output_type": "execute_result"
    }
   ],
   "source": [
    "pipe_KNN.fit(x_train,y_train)"
   ]
  },
  {
   "cell_type": "code",
   "execution_count": 23,
   "id": "f438a8f5",
   "metadata": {
    "execution": {
     "iopub.execute_input": "2022-04-12T14:28:25.804420Z",
     "iopub.status.busy": "2022-04-12T14:28:25.803737Z",
     "iopub.status.idle": "2022-04-12T14:28:25.951929Z",
     "shell.execute_reply": "2022-04-12T14:28:25.951339Z",
     "shell.execute_reply.started": "2022-04-12T14:25:27.188118Z"
    },
    "papermill": {
     "duration": 0.193437,
     "end_time": "2022-04-12T14:28:25.952079",
     "exception": false,
     "start_time": "2022-04-12T14:28:25.758642",
     "status": "completed"
    },
    "tags": []
   },
   "outputs": [
    {
     "data": {
      "text/plain": [
       "array(['Yes', 'No', 'Yes', ..., 'No', 'No', 'Yes'], dtype=object)"
      ]
     },
     "execution_count": 23,
     "metadata": {},
     "output_type": "execute_result"
    }
   ],
   "source": [
    "pred_KNN = pipe_KNN.predict(x_test)\n",
    "pred_KNN"
   ]
  },
  {
   "cell_type": "code",
   "execution_count": 24,
   "id": "72c5085c",
   "metadata": {
    "execution": {
     "iopub.execute_input": "2022-04-12T14:28:26.051087Z",
     "iopub.status.busy": "2022-04-12T14:28:26.050281Z",
     "iopub.status.idle": "2022-04-12T14:28:26.053234Z",
     "shell.execute_reply": "2022-04-12T14:28:26.053794Z",
     "shell.execute_reply.started": "2022-04-12T14:25:27.363583Z"
    },
    "papermill": {
     "duration": 0.059072,
     "end_time": "2022-04-12T14:28:26.053982",
     "exception": false,
     "start_time": "2022-04-12T14:28:25.994910",
     "status": "completed"
    },
    "tags": []
   },
   "outputs": [
    {
     "data": {
      "text/plain": [
       "78.79156528791566"
      ]
     },
     "execution_count": 24,
     "metadata": {},
     "output_type": "execute_result"
    }
   ],
   "source": [
    "from sklearn.metrics import accuracy_score\n",
    "accuracy_score(pred_KNN,y_test)*100"
   ]
  },
  {
   "cell_type": "code",
   "execution_count": 25,
   "id": "20ad0848",
   "metadata": {
    "execution": {
     "iopub.execute_input": "2022-04-12T14:28:26.151435Z",
     "iopub.status.busy": "2022-04-12T14:28:26.150713Z",
     "iopub.status.idle": "2022-04-12T14:28:26.568673Z",
     "shell.execute_reply": "2022-04-12T14:28:26.567965Z",
     "shell.execute_reply.started": "2022-04-12T14:25:27.378511Z"
    },
    "papermill": {
     "duration": 0.472408,
     "end_time": "2022-04-12T14:28:26.568814",
     "exception": false,
     "start_time": "2022-04-12T14:28:26.096406",
     "status": "completed"
    },
    "tags": []
   },
   "outputs": [
    {
     "data": {
      "text/plain": [
       "<sklearn.metrics._plot.confusion_matrix.ConfusionMatrixDisplay at 0x7fd3d66e3c10>"
      ]
     },
     "execution_count": 25,
     "metadata": {},
     "output_type": "execute_result"
    },
    {
     "data": {
      "image/png": "[encoded data removed]",
      "text/plain": [
       "<Figure size 432x288 with 2 Axes>"
      ]
     },
     "metadata": {
      "needs_background": "light"
     },
     "output_type": "display_data"
    }
   ],
   "source": [
    "from sklearn.metrics import plot_confusion_matrix\n",
    "plot_confusion_matrix(pipe_KNN,x_test,y_test)"
   ]
  },
  {
   "cell_type": "code",
   "execution_count": 26,
   "id": "2dcae194",
   "metadata": {
    "execution": {
     "iopub.execute_input": "2022-04-12T14:28:26.666695Z",
     "iopub.status.busy": "2022-04-12T14:28:26.666038Z",
     "iopub.status.idle": "2022-04-12T14:28:26.668627Z",
     "shell.execute_reply": "2022-04-12T14:28:26.669123Z",
     "shell.execute_reply.started": "2022-04-12T14:25:27.867277Z"
    },
    "papermill": {
     "duration": 0.055985,
     "end_time": "2022-04-12T14:28:26.669286",
     "exception": false,
     "start_time": "2022-04-12T14:28:26.613301",
     "status": "completed"
    },
    "tags": []
   },
   "outputs": [
    {
     "data": {
      "text/plain": [
       "No     0.73463\n",
       "Yes    0.26537\n",
       "Name: Churn, dtype: float64"
      ]
     },
     "execution_count": 26,
     "metadata": {},
     "output_type": "execute_result"
    }
   ],
   "source": [
    "y.value_counts(normalize = True)"
   ]
  },
  {
   "cell_type": "code",
   "execution_count": 27,
   "id": "034f4e5f",
   "metadata": {
    "execution": {
     "iopub.execute_input": "2022-04-12T14:28:26.761744Z",
     "iopub.status.busy": "2022-04-12T14:28:26.760774Z",
     "iopub.status.idle": "2022-04-12T14:28:27.077858Z",
     "shell.execute_reply": "2022-04-12T14:28:27.078491Z",
     "shell.execute_reply.started": "2022-04-12T14:25:27.879982Z"
    },
    "papermill": {
     "duration": 0.365656,
     "end_time": "2022-04-12T14:28:27.078662",
     "exception": false,
     "start_time": "2022-04-12T14:28:26.713006",
     "status": "completed"
    },
    "tags": []
   },
   "outputs": [
    {
     "name": "stderr",
     "output_type": "stream",
     "text": [
      "/opt/conda/lib/python3.7/site-packages/seaborn/_decorators.py:43: FutureWarning: Pass the following variable as a keyword arg: x. From version 0.12, the only valid positional argument will be `data`, and passing other arguments without an explicit keyword will result in an error or misinterpretation.\n",
      "  FutureWarning\n"
     ]
    },
    {
     "data": {
      "text/plain": [
       "<AxesSubplot:xlabel='Churn', ylabel='count'>"
      ]
     },
     "execution_count": 27,
     "metadata": {},
     "output_type": "execute_result"
    },
    {
     "data": {
      "image/png": "[encoded data removed]",
      "text/plain": [
       "<Figure size 432x288 with 1 Axes>"
      ]
     },
     "metadata": {
      "needs_background": "light"
     },
     "output_type": "display_data"
    }
   ],
   "source": [
    "import seaborn as sns\n",
    "sns.countplot(y)"
   ]
  },
  {
   "cell_type": "code",
   "execution_count": 28,
   "id": "23f99e28",
   "metadata": {
    "execution": {
     "iopub.execute_input": "2022-04-12T14:28:27.173971Z",
     "iopub.status.busy": "2022-04-12T14:28:27.171391Z",
     "iopub.status.idle": "2022-04-12T14:28:27.375284Z",
     "shell.execute_reply": "2022-04-12T14:28:27.375781Z",
     "shell.execute_reply.started": "2022-04-12T14:25:28.229370Z"
    },
    "papermill": {
     "duration": 0.252075,
     "end_time": "2022-04-12T14:28:27.375999",
     "exception": false,
     "start_time": "2022-04-12T14:28:27.123924",
     "status": "completed"
    },
    "tags": []
   },
   "outputs": [
    {
     "data": {
      "text/plain": [
       "No     1869\n",
       "Yes    1869\n",
       "Name: Churn, dtype: int64"
      ]
     },
     "execution_count": 28,
     "metadata": {},
     "output_type": "execute_result"
    }
   ],
   "source": [
    "from imblearn.under_sampling import RandomUnderSampler\n",
    "under = RandomUnderSampler()\n",
    "u_x,u_y = under.fit_resample(x,y)\n",
    "u_y.value_counts()"
   ]
  },
  {
   "cell_type": "code",
   "execution_count": 29,
   "id": "66d057c2",
   "metadata": {
    "execution": {
     "iopub.execute_input": "2022-04-12T14:28:27.470496Z",
     "iopub.status.busy": "2022-04-12T14:28:27.469885Z",
     "iopub.status.idle": "2022-04-12T14:28:27.523593Z",
     "shell.execute_reply": "2022-04-12T14:28:27.524433Z",
     "shell.execute_reply.started": "2022-04-12T14:25:28.450565Z"
    },
    "papermill": {
     "duration": 0.102867,
     "end_time": "2022-04-12T14:28:27.524626",
     "exception": false,
     "start_time": "2022-04-12T14:28:27.421759",
     "status": "completed"
    },
    "tags": []
   },
   "outputs": [
    {
     "data": {
      "text/plain": [
       "No     5174\n",
       "Yes    5174\n",
       "Name: Churn, dtype: int64"
      ]
     },
     "execution_count": 29,
     "metadata": {},
     "output_type": "execute_result"
    }
   ],
   "source": [
    "from imblearn.over_sampling import RandomOverSampler,SMOTE\n",
    "over = RandomOverSampler()\n",
    "o_x,o_y = over.fit_resample(x,y)\n",
    "o_y.value_counts()"
   ]
  },
  {
   "cell_type": "code",
   "execution_count": 30,
   "id": "ec57c286",
   "metadata": {
    "execution": {
     "iopub.execute_input": "2022-04-12T14:28:27.619471Z",
     "iopub.status.busy": "2022-04-12T14:28:27.618826Z",
     "iopub.status.idle": "2022-04-12T14:28:27.654010Z",
     "shell.execute_reply": "2022-04-12T14:28:27.654581Z",
     "shell.execute_reply.started": "2022-04-12T14:25:28.505500Z"
    },
    "papermill": {
     "duration": 0.083921,
     "end_time": "2022-04-12T14:28:27.654748",
     "exception": false,
     "start_time": "2022-04-12T14:28:27.570827",
     "status": "completed"
    },
    "tags": []
   },
   "outputs": [
    {
     "data": {
      "text/html": [
       "<style>div.sk-top-container {color: black;background-color: white;}div.sk-toggleable {background-color: white;}label.sk-toggleable__label {cursor: pointer;display: block;width: 100%;margin-bottom: 0;padding: 0.2em 0.3em;box-sizing: border-box;text-align: center;}div.sk-toggleable__content {max-height: 0;max-width: 0;overflow: hidden;text-align: left;background-color: #f0f8ff;}div.sk-toggleable__content pre {margin: 0.2em;color: black;border-radius: 0.25em;background-color: #f0f8ff;}input.sk-toggleable__control:checked~div.sk-toggleable__content {max-height: 200px;max-width: 100%;overflow: auto;}div.sk-estimator input.sk-toggleable__control:checked~label.sk-toggleable__label {background-color: #d4ebff;}div.sk-label input.sk-toggleable__control:checked~label.sk-toggleable__label {background-color: #d4ebff;}input.sk-hidden--visually {border: 0;clip: rect(1px 1px 1px 1px);clip: rect(1px, 1px, 1px, 1px);height: 1px;margin: -1px;overflow: hidden;padding: 0;position: absolute;width: 1px;}div.sk-estimator {font-family: monospace;background-color: #f0f8ff;margin: 0.25em 0.25em;border: 1px dotted black;border-radius: 0.25em;box-sizing: border-box;}div.sk-estimator:hover {background-color: #d4ebff;}div.sk-parallel-item::after {content: \"\";width: 100%;border-bottom: 1px solid gray;flex-grow: 1;}div.sk-label:hover label.sk-toggleable__label {background-color: #d4ebff;}div.sk-serial::before {content: \"\";position: absolute;border-left: 1px solid gray;box-sizing: border-box;top: 2em;bottom: 0;left: 50%;}div.sk-serial {display: flex;flex-direction: column;align-items: center;background-color: white;}div.sk-item {z-index: 1;}div.sk-parallel {display: flex;align-items: stretch;justify-content: center;background-color: white;}div.sk-parallel-item {display: flex;flex-direction: column;position: relative;background-color: white;}div.sk-parallel-item:first-child::after {align-self: flex-end;width: 50%;}div.sk-parallel-item:last-child::after {align-self: flex-start;width: 50%;}div.sk-parallel-item:only-child::after {width: 0;}div.sk-dashed-wrapped {border: 1px dashed gray;margin: 0.2em;box-sizing: border-box;padding-bottom: 0.1em;background-color: white;position: relative;}div.sk-label label {font-family: monospace;font-weight: bold;background-color: white;display: inline-block;line-height: 1.2em;}div.sk-label-container {position: relative;z-index: 2;text-align: center;}div.sk-container {display: inline-block;position: relative;}</style><div class=\"sk-top-container\"><div class=\"sk-container\"><div class=\"sk-item sk-dashed-wrapped\"><div class=\"sk-label-container\"><div class=\"sk-label sk-toggleable\"><input class=\"sk-toggleable__control sk-hidden--visually\" id=\"a0e5dd98-b4fa-4e48-9332-b4df6327fefa\" type=\"checkbox\" ><label class=\"sk-toggleable__label\" for=\"a0e5dd98-b4fa-4e48-9332-b4df6327fefa\">Pipeline</label><div class=\"sk-toggleable__content\"><pre>Pipeline(steps=[('columntransformer',\n",
       "                 ColumnTransformer(remainder='passthrough',\n",
       "                                   transformers=[('onehotencoder',\n",
       "                                                  OneHotEncoder(sparse=False),\n",
       "                                                  [0, 6, 7, 9, 16]),\n",
       "                                                 ('ordinalencoder',\n",
       "                                                  OrdinalEncoder(),\n",
       "                                                  [2, 3, 5, 8, 10, 11, 12, 13,\n",
       "                                                   14, 15])])),\n",
       "                ('smote', SMOTE()),\n",
       "                ('kneighborsclassifier', KNeighborsClassifier(n_neighbors=9))])</pre></div></div></div><div class=\"sk-serial\"><div class=\"sk-item sk-dashed-wrapped\"><div class=\"sk-label-container\"><div class=\"sk-label sk-toggleable\"><input class=\"sk-toggleable__control sk-hidden--visually\" id=\"2867333c-cc94-4889-8946-0153fe8fd2e4\" type=\"checkbox\" ><label class=\"sk-toggleable__label\" for=\"2867333c-cc94-4889-8946-0153fe8fd2e4\">columntransformer: ColumnTransformer</label><div class=\"sk-toggleable__content\"><pre>ColumnTransformer(remainder='passthrough',\n",
       "                  transformers=[('onehotencoder', OneHotEncoder(sparse=False),\n",
       "                                 [0, 6, 7, 9, 16]),\n",
       "                                ('ordinalencoder', OrdinalEncoder(),\n",
       "                                 [2, 3, 5, 8, 10, 11, 12, 13, 14, 15])])</pre></div></div></div><div class=\"sk-parallel\"><div class=\"sk-parallel-item\"><div class=\"sk-item\"><div class=\"sk-label-container\"><div class=\"sk-label sk-toggleable\"><input class=\"sk-toggleable__control sk-hidden--visually\" id=\"28b3ced0-d932-4baa-b84a-62b8ece7425b\" type=\"checkbox\" ><label class=\"sk-toggleable__label\" for=\"28b3ced0-d932-4baa-b84a-62b8ece7425b\">onehotencoder</label><div class=\"sk-toggleable__content\"><pre>[0, 6, 7, 9, 16]</pre></div></div></div><div class=\"sk-serial\"><div class=\"sk-item\"><div class=\"sk-estimator sk-toggleable\"><input class=\"sk-toggleable__control sk-hidden--visually\" id=\"3f6fab03-11ac-4d04-97b5-47343b694de1\" type=\"checkbox\" ><label class=\"sk-toggleable__label\" for=\"3f6fab03-11ac-4d04-97b5-47343b694de1\">OneHotEncoder</label><div class=\"sk-toggleable__content\"><pre>OneHotEncoder(sparse=False)</pre></div></div></div></div></div></div><div class=\"sk-parallel-item\"><div class=\"sk-item\"><div class=\"sk-label-container\"><div class=\"sk-label sk-toggleable\"><input class=\"sk-toggleable__control sk-hidden--visually\" id=\"baa2462f-4344-4047-88f4-cb6d602b422e\" type=\"checkbox\" ><label class=\"sk-toggleable__label\" for=\"baa2462f-4344-4047-88f4-cb6d602b422e\">ordinalencoder</label><div class=\"sk-toggleable__content\"><pre>[2, 3, 5, 8, 10, 11, 12, 13, 14, 15]</pre></div></div></div><div class=\"sk-serial\"><div class=\"sk-item\"><div class=\"sk-estimator sk-toggleable\"><input class=\"sk-toggleable__control sk-hidden--visually\" id=\"784439fa-c672-41a5-a249-cbd4e73bb41b\" type=\"checkbox\" ><label class=\"sk-toggleable__label\" for=\"784439fa-c672-41a5-a249-cbd4e73bb41b\">OrdinalEncoder</label><div class=\"sk-toggleable__content\"><pre>OrdinalEncoder()</pre></div></div></div></div></div></div></div></div><div class=\"sk-item\"><div class=\"sk-estimator sk-toggleable\"><input class=\"sk-toggleable__control sk-hidden--visually\" id=\"8678cd70-946d-4975-ac04-9d45c756ca77\" type=\"checkbox\" ><label class=\"sk-toggleable__label\" for=\"8678cd70-946d-4975-ac04-9d45c756ca77\">SMOTE</label><div class=\"sk-toggleable__content\"><pre>SMOTE()</pre></div></div></div><div class=\"sk-item\"><div class=\"sk-estimator sk-toggleable\"><input class=\"sk-toggleable__control sk-hidden--visually\" id=\"1b7a3ba5-421e-4b43-833c-8367256702e0\" type=\"checkbox\" ><label class=\"sk-toggleable__label\" for=\"1b7a3ba5-421e-4b43-833c-8367256702e0\">KNeighborsClassifier</label><div class=\"sk-toggleable__content\"><pre>KNeighborsClassifier(n_neighbors=9)</pre></div></div></div></div></div></div></div>"
      ],
      "text/plain": [
       "Pipeline(steps=[('columntransformer',\n",
       "                 ColumnTransformer(remainder='passthrough',\n",
       "                                   transformers=[('onehotencoder',\n",
       "                                                  OneHotEncoder(sparse=False),\n",
       "                                                  [0, 6, 7, 9, 16]),\n",
       "                                                 ('ordinalencoder',\n",
       "                                                  OrdinalEncoder(),\n",
       "                                                  [2, 3, 5, 8, 10, 11, 12, 13,\n",
       "                                                   14, 15])])),\n",
       "                ('smote', SMOTE()),\n",
       "                ('kneighborsclassifier', KNeighborsClassifier(n_neighbors=9))])"
      ]
     },
     "execution_count": 30,
     "metadata": {},
     "output_type": "execute_result"
    }
   ],
   "source": [
    "from imblearn.pipeline import make_pipeline\n",
    "s = SMOTE()\n",
    "n_pipe = make_pipeline(trans,s,KNN)\n",
    "n_pipe"
   ]
  },
  {
   "cell_type": "code",
   "execution_count": 31,
   "id": "704e8c9d",
   "metadata": {
    "execution": {
     "iopub.execute_input": "2022-04-12T14:28:27.750200Z",
     "iopub.status.busy": "2022-04-12T14:28:27.749556Z",
     "iopub.status.idle": "2022-04-12T14:28:27.890005Z",
     "shell.execute_reply": "2022-04-12T14:28:27.889363Z",
     "shell.execute_reply.started": "2022-04-12T14:25:28.553524Z"
    },
    "papermill": {
     "duration": 0.189215,
     "end_time": "2022-04-12T14:28:27.890147",
     "exception": false,
     "start_time": "2022-04-12T14:28:27.700932",
     "status": "completed"
    },
    "tags": []
   },
   "outputs": [
    {
     "data": {
      "text/html": [
       "<style>div.sk-top-container {color: black;background-color: white;}div.sk-toggleable {background-color: white;}label.sk-toggleable__label {cursor: pointer;display: block;width: 100%;margin-bottom: 0;padding: 0.2em 0.3em;box-sizing: border-box;text-align: center;}div.sk-toggleable__content {max-height: 0;max-width: 0;overflow: hidden;text-align: left;background-color: #f0f8ff;}div.sk-toggleable__content pre {margin: 0.2em;color: black;border-radius: 0.25em;background-color: #f0f8ff;}input.sk-toggleable__control:checked~div.sk-toggleable__content {max-height: 200px;max-width: 100%;overflow: auto;}div.sk-estimator input.sk-toggleable__control:checked~label.sk-toggleable__label {background-color: #d4ebff;}div.sk-label input.sk-toggleable__control:checked~label.sk-toggleable__label {background-color: #d4ebff;}input.sk-hidden--visually {border: 0;clip: rect(1px 1px 1px 1px);clip: rect(1px, 1px, 1px, 1px);height: 1px;margin: -1px;overflow: hidden;padding: 0;position: absolute;width: 1px;}div.sk-estimator {font-family: monospace;background-color: #f0f8ff;margin: 0.25em 0.25em;border: 1px dotted black;border-radius: 0.25em;box-sizing: border-box;}div.sk-estimator:hover {background-color: #d4ebff;}div.sk-parallel-item::after {content: \"\";width: 100%;border-bottom: 1px solid gray;flex-grow: 1;}div.sk-label:hover label.sk-toggleable__label {background-color: #d4ebff;}div.sk-serial::before {content: \"\";position: absolute;border-left: 1px solid gray;box-sizing: border-box;top: 2em;bottom: 0;left: 50%;}div.sk-serial {display: flex;flex-direction: column;align-items: center;background-color: white;}div.sk-item {z-index: 1;}div.sk-parallel {display: flex;align-items: stretch;justify-content: center;background-color: white;}div.sk-parallel-item {display: flex;flex-direction: column;position: relative;background-color: white;}div.sk-parallel-item:first-child::after {align-self: flex-end;width: 50%;}div.sk-parallel-item:last-child::after {align-self: flex-start;width: 50%;}div.sk-parallel-item:only-child::after {width: 0;}div.sk-dashed-wrapped {border: 1px dashed gray;margin: 0.2em;box-sizing: border-box;padding-bottom: 0.1em;background-color: white;position: relative;}div.sk-label label {font-family: monospace;font-weight: bold;background-color: white;display: inline-block;line-height: 1.2em;}div.sk-label-container {position: relative;z-index: 2;text-align: center;}div.sk-container {display: inline-block;position: relative;}</style><div class=\"sk-top-container\"><div class=\"sk-container\"><div class=\"sk-item sk-dashed-wrapped\"><div class=\"sk-label-container\"><div class=\"sk-label sk-toggleable\"><input class=\"sk-toggleable__control sk-hidden--visually\" id=\"e6ce8771-1c6b-4923-b07f-732e61cb61ff\" type=\"checkbox\" ><label class=\"sk-toggleable__label\" for=\"e6ce8771-1c6b-4923-b07f-732e61cb61ff\">Pipeline</label><div class=\"sk-toggleable__content\"><pre>Pipeline(steps=[('columntransformer',\n",
       "                 ColumnTransformer(remainder='passthrough',\n",
       "                                   transformers=[('onehotencoder',\n",
       "                                                  OneHotEncoder(sparse=False),\n",
       "                                                  [0, 6, 7, 9, 16]),\n",
       "                                                 ('ordinalencoder',\n",
       "                                                  OrdinalEncoder(),\n",
       "                                                  [2, 3, 5, 8, 10, 11, 12, 13,\n",
       "                                                   14, 15])])),\n",
       "                ('smote', SMOTE()),\n",
       "                ('kneighborsclassifier', KNeighborsClassifier(n_neighbors=9))])</pre></div></div></div><div class=\"sk-serial\"><div class=\"sk-item sk-dashed-wrapped\"><div class=\"sk-label-container\"><div class=\"sk-label sk-toggleable\"><input class=\"sk-toggleable__control sk-hidden--visually\" id=\"757c7a95-f983-49a3-82c0-c48811c10f76\" type=\"checkbox\" ><label class=\"sk-toggleable__label\" for=\"757c7a95-f983-49a3-82c0-c48811c10f76\">columntransformer: ColumnTransformer</label><div class=\"sk-toggleable__content\"><pre>ColumnTransformer(remainder='passthrough',\n",
       "                  transformers=[('onehotencoder', OneHotEncoder(sparse=False),\n",
       "                                 [0, 6, 7, 9, 16]),\n",
       "                                ('ordinalencoder', OrdinalEncoder(),\n",
       "                                 [2, 3, 5, 8, 10, 11, 12, 13, 14, 15])])</pre></div></div></div><div class=\"sk-parallel\"><div class=\"sk-parallel-item\"><div class=\"sk-item\"><div class=\"sk-label-container\"><div class=\"sk-label sk-toggleable\"><input class=\"sk-toggleable__control sk-hidden--visually\" id=\"90a5c0b9-f218-4874-bfca-c14fa3a874c4\" type=\"checkbox\" ><label class=\"sk-toggleable__label\" for=\"90a5c0b9-f218-4874-bfca-c14fa3a874c4\">onehotencoder</label><div class=\"sk-toggleable__content\"><pre>[0, 6, 7, 9, 16]</pre></div></div></div><div class=\"sk-serial\"><div class=\"sk-item\"><div class=\"sk-estimator sk-toggleable\"><input class=\"sk-toggleable__control sk-hidden--visually\" id=\"0130d9ca-cc50-4b87-bfa8-b7d53f6fe84f\" type=\"checkbox\" ><label class=\"sk-toggleable__label\" for=\"0130d9ca-cc50-4b87-bfa8-b7d53f6fe84f\">OneHotEncoder</label><div class=\"sk-toggleable__content\"><pre>OneHotEncoder(sparse=False)</pre></div></div></div></div></div></div><div class=\"sk-parallel-item\"><div class=\"sk-item\"><div class=\"sk-label-container\"><div class=\"sk-label sk-toggleable\"><input class=\"sk-toggleable__control sk-hidden--visually\" id=\"93d3ad85-17ca-40f3-862a-9cdb79f28b15\" type=\"checkbox\" ><label class=\"sk-toggleable__label\" for=\"93d3ad85-17ca-40f3-862a-9cdb79f28b15\">ordinalencoder</label><div class=\"sk-toggleable__content\"><pre>[2, 3, 5, 8, 10, 11, 12, 13, 14, 15]</pre></div></div></div><div class=\"sk-serial\"><div class=\"sk-item\"><div class=\"sk-estimator sk-toggleable\"><input class=\"sk-toggleable__control sk-hidden--visually\" id=\"f80b7c88-ae75-4e6e-97fe-a6074c1db617\" type=\"checkbox\" ><label class=\"sk-toggleable__label\" for=\"f80b7c88-ae75-4e6e-97fe-a6074c1db617\">OrdinalEncoder</label><div class=\"sk-toggleable__content\"><pre>OrdinalEncoder()</pre></div></div></div></div></div></div></div></div><div class=\"sk-item\"><div class=\"sk-estimator sk-toggleable\"><input class=\"sk-toggleable__control sk-hidden--visually\" id=\"3710c995-94d8-48df-9a18-a37dc4a0b494\" type=\"checkbox\" ><label class=\"sk-toggleable__label\" for=\"3710c995-94d8-48df-9a18-a37dc4a0b494\">SMOTE</label><div class=\"sk-toggleable__content\"><pre>SMOTE()</pre></div></div></div><div class=\"sk-item\"><div class=\"sk-estimator sk-toggleable\"><input class=\"sk-toggleable__control sk-hidden--visually\" id=\"d4e818e4-57f3-4c92-bc61-61f98d67d5f8\" type=\"checkbox\" ><label class=\"sk-toggleable__label\" for=\"d4e818e4-57f3-4c92-bc61-61f98d67d5f8\">KNeighborsClassifier</label><div class=\"sk-toggleable__content\"><pre>KNeighborsClassifier(n_neighbors=9)</pre></div></div></div></div></div></div></div>"
      ],
      "text/plain": [
       "Pipeline(steps=[('columntransformer',\n",
       "                 ColumnTransformer(remainder='passthrough',\n",
       "                                   transformers=[('onehotencoder',\n",
       "                                                  OneHotEncoder(sparse=False),\n",
       "                                                  [0, 6, 7, 9, 16]),\n",
       "                                                 ('ordinalencoder',\n",
       "                                                  OrdinalEncoder(),\n",
       "                                                  [2, 3, 5, 8, 10, 11, 12, 13,\n",
       "                                                   14, 15])])),\n",
       "                ('smote', SMOTE()),\n",
       "                ('kneighborsclassifier', KNeighborsClassifier(n_neighbors=9))])"
      ]
     },
     "execution_count": 31,
     "metadata": {},
     "output_type": "execute_result"
    }
   ],
   "source": [
    "n_pipe.fit(x_train,y_train)"
   ]
  },
  {
   "cell_type": "code",
   "execution_count": 32,
   "id": "268b7839",
   "metadata": {
    "execution": {
     "iopub.execute_input": "2022-04-12T14:28:27.988744Z",
     "iopub.status.busy": "2022-04-12T14:28:27.988149Z",
     "iopub.status.idle": "2022-04-12T14:28:28.142410Z",
     "shell.execute_reply": "2022-04-12T14:28:28.141858Z",
     "shell.execute_reply.started": "2022-04-12T14:25:28.707176Z"
    },
    "papermill": {
     "duration": 0.205643,
     "end_time": "2022-04-12T14:28:28.142549",
     "exception": false,
     "start_time": "2022-04-12T14:28:27.936906",
     "status": "completed"
    },
    "tags": []
   },
   "outputs": [
    {
     "data": {
      "text/plain": [
       "array(['Yes', 'Yes', 'Yes', ..., 'No', 'No', 'Yes'], dtype=object)"
      ]
     },
     "execution_count": 32,
     "metadata": {},
     "output_type": "execute_result"
    }
   ],
   "source": [
    "pred_n = n_pipe.predict(x_test)\n",
    "pred_n"
   ]
  },
  {
   "cell_type": "code",
   "execution_count": 33,
   "id": "7d5144d9",
   "metadata": {
    "execution": {
     "iopub.execute_input": "2022-04-12T14:28:28.240778Z",
     "iopub.status.busy": "2022-04-12T14:28:28.240113Z",
     "iopub.status.idle": "2022-04-12T14:28:28.252461Z",
     "shell.execute_reply": "2022-04-12T14:28:28.253011Z",
     "shell.execute_reply.started": "2022-04-12T14:25:28.890737Z"
    },
    "papermill": {
     "duration": 0.063013,
     "end_time": "2022-04-12T14:28:28.253180",
     "exception": false,
     "start_time": "2022-04-12T14:28:28.190167",
     "status": "completed"
    },
    "tags": []
   },
   "outputs": [
    {
     "data": {
      "text/plain": [
       "69.4647201946472"
      ]
     },
     "execution_count": 33,
     "metadata": {},
     "output_type": "execute_result"
    }
   ],
   "source": [
    "accuracy_score(pred_n,y_test)*100"
   ]
  },
  {
   "cell_type": "code",
   "execution_count": 34,
   "id": "31e53734",
   "metadata": {
    "execution": {
     "iopub.execute_input": "2022-04-12T14:28:28.356549Z",
     "iopub.status.busy": "2022-04-12T14:28:28.355872Z",
     "iopub.status.idle": "2022-04-12T14:28:28.740631Z",
     "shell.execute_reply": "2022-04-12T14:28:28.741151Z",
     "shell.execute_reply.started": "2022-04-12T14:25:28.906531Z"
    },
    "papermill": {
     "duration": 0.439869,
     "end_time": "2022-04-12T14:28:28.741319",
     "exception": false,
     "start_time": "2022-04-12T14:28:28.301450",
     "status": "completed"
    },
    "tags": []
   },
   "outputs": [
    {
     "data": {
      "text/plain": [
       "<sklearn.metrics._plot.confusion_matrix.ConfusionMatrixDisplay at 0x7fd3cbe53510>"
      ]
     },
     "execution_count": 34,
     "metadata": {},
     "output_type": "execute_result"
    },
    {
     "data": {
      "image/png": "[encoded data removed]",
      "text/plain": [
       "<Figure size 432x288 with 2 Axes>"
      ]
     },
     "metadata": {
      "needs_background": "light"
     },
     "output_type": "display_data"
    }
   ],
   "source": [
    "from sklearn.metrics import plot_confusion_matrix\n",
    "plot_confusion_matrix(n_pipe,x_test,y_test)"
   ]
  },
  {
   "cell_type": "code",
   "execution_count": 35,
   "id": "6803f58e",
   "metadata": {
    "execution": {
     "iopub.execute_input": "2022-04-12T14:28:28.862438Z",
     "iopub.status.busy": "2022-04-12T14:28:28.851797Z",
     "iopub.status.idle": "2022-04-12T14:28:28.880911Z",
     "shell.execute_reply": "2022-04-12T14:28:28.881427Z",
     "shell.execute_reply.started": "2022-04-12T14:25:29.369233Z"
    },
    "papermill": {
     "duration": 0.091669,
     "end_time": "2022-04-12T14:28:28.881597",
     "exception": false,
     "start_time": "2022-04-12T14:28:28.789928",
     "status": "completed"
    },
    "tags": []
   },
   "outputs": [
    {
     "data": {
      "text/html": [
       "<style>div.sk-top-container {color: black;background-color: white;}div.sk-toggleable {background-color: white;}label.sk-toggleable__label {cursor: pointer;display: block;width: 100%;margin-bottom: 0;padding: 0.2em 0.3em;box-sizing: border-box;text-align: center;}div.sk-toggleable__content {max-height: 0;max-width: 0;overflow: hidden;text-align: left;background-color: #f0f8ff;}div.sk-toggleable__content pre {margin: 0.2em;color: black;border-radius: 0.25em;background-color: #f0f8ff;}input.sk-toggleable__control:checked~div.sk-toggleable__content {max-height: 200px;max-width: 100%;overflow: auto;}div.sk-estimator input.sk-toggleable__control:checked~label.sk-toggleable__label {background-color: #d4ebff;}div.sk-label input.sk-toggleable__control:checked~label.sk-toggleable__label {background-color: #d4ebff;}input.sk-hidden--visually {border: 0;clip: rect(1px 1px 1px 1px);clip: rect(1px, 1px, 1px, 1px);height: 1px;margin: -1px;overflow: hidden;padding: 0;position: absolute;width: 1px;}div.sk-estimator {font-family: monospace;background-color: #f0f8ff;margin: 0.25em 0.25em;border: 1px dotted black;border-radius: 0.25em;box-sizing: border-box;}div.sk-estimator:hover {background-color: #d4ebff;}div.sk-parallel-item::after {content: \"\";width: 100%;border-bottom: 1px solid gray;flex-grow: 1;}div.sk-label:hover label.sk-toggleable__label {background-color: #d4ebff;}div.sk-serial::before {content: \"\";position: absolute;border-left: 1px solid gray;box-sizing: border-box;top: 2em;bottom: 0;left: 50%;}div.sk-serial {display: flex;flex-direction: column;align-items: center;background-color: white;}div.sk-item {z-index: 1;}div.sk-parallel {display: flex;align-items: stretch;justify-content: center;background-color: white;}div.sk-parallel-item {display: flex;flex-direction: column;position: relative;background-color: white;}div.sk-parallel-item:first-child::after {align-self: flex-end;width: 50%;}div.sk-parallel-item:last-child::after {align-self: flex-start;width: 50%;}div.sk-parallel-item:only-child::after {width: 0;}div.sk-dashed-wrapped {border: 1px dashed gray;margin: 0.2em;box-sizing: border-box;padding-bottom: 0.1em;background-color: white;position: relative;}div.sk-label label {font-family: monospace;font-weight: bold;background-color: white;display: inline-block;line-height: 1.2em;}div.sk-label-container {position: relative;z-index: 2;text-align: center;}div.sk-container {display: inline-block;position: relative;}</style><div class=\"sk-top-container\"><div class=\"sk-container\"><div class=\"sk-item sk-dashed-wrapped\"><div class=\"sk-label-container\"><div class=\"sk-label sk-toggleable\"><input class=\"sk-toggleable__control sk-hidden--visually\" id=\"41d1e0b5-19c4-46c1-896d-bb136989f91a\" type=\"checkbox\" ><label class=\"sk-toggleable__label\" for=\"41d1e0b5-19c4-46c1-896d-bb136989f91a\">Pipeline</label><div class=\"sk-toggleable__content\"><pre>Pipeline(steps=[('columntransformer',\n",
       "                 ColumnTransformer(remainder='passthrough',\n",
       "                                   transformers=[('onehotencoder',\n",
       "                                                  OneHotEncoder(sparse=False),\n",
       "                                                  [0, 6, 7, 9, 16]),\n",
       "                                                 ('ordinalencoder',\n",
       "                                                  OrdinalEncoder(),\n",
       "                                                  [2, 3, 5, 8, 10, 11, 12, 13,\n",
       "                                                   14, 15])])),\n",
       "                ('logisticregression', LogisticRegression(solver='liblinear'))])</pre></div></div></div><div class=\"sk-serial\"><div class=\"sk-item sk-dashed-wrapped\"><div class=\"sk-label-container\"><div class=\"sk-label sk-toggleable\"><input class=\"sk-toggleable__control sk-hidden--visually\" id=\"20edbaa0-79f2-450e-aaf4-57bce6503e82\" type=\"checkbox\" ><label class=\"sk-toggleable__label\" for=\"20edbaa0-79f2-450e-aaf4-57bce6503e82\">columntransformer: ColumnTransformer</label><div class=\"sk-toggleable__content\"><pre>ColumnTransformer(remainder='passthrough',\n",
       "                  transformers=[('onehotencoder', OneHotEncoder(sparse=False),\n",
       "                                 [0, 6, 7, 9, 16]),\n",
       "                                ('ordinalencoder', OrdinalEncoder(),\n",
       "                                 [2, 3, 5, 8, 10, 11, 12, 13, 14, 15])])</pre></div></div></div><div class=\"sk-parallel\"><div class=\"sk-parallel-item\"><div class=\"sk-item\"><div class=\"sk-label-container\"><div class=\"sk-label sk-toggleable\"><input class=\"sk-toggleable__control sk-hidden--visually\" id=\"f8810454-2857-4e6c-9d02-5839d6db0796\" type=\"checkbox\" ><label class=\"sk-toggleable__label\" for=\"f8810454-2857-4e6c-9d02-5839d6db0796\">onehotencoder</label><div class=\"sk-toggleable__content\"><pre>[0, 6, 7, 9, 16]</pre></div></div></div><div class=\"sk-serial\"><div class=\"sk-item\"><div class=\"sk-estimator sk-toggleable\"><input class=\"sk-toggleable__control sk-hidden--visually\" id=\"6cb65607-2c52-4973-916c-5677e4b4cb01\" type=\"checkbox\" ><label class=\"sk-toggleable__label\" for=\"6cb65607-2c52-4973-916c-5677e4b4cb01\">OneHotEncoder</label><div class=\"sk-toggleable__content\"><pre>OneHotEncoder(sparse=False)</pre></div></div></div></div></div></div><div class=\"sk-parallel-item\"><div class=\"sk-item\"><div class=\"sk-label-container\"><div class=\"sk-label sk-toggleable\"><input class=\"sk-toggleable__control sk-hidden--visually\" id=\"c62449e3-511a-464b-b5f9-217c9d22703c\" type=\"checkbox\" ><label class=\"sk-toggleable__label\" for=\"c62449e3-511a-464b-b5f9-217c9d22703c\">ordinalencoder</label><div class=\"sk-toggleable__content\"><pre>[2, 3, 5, 8, 10, 11, 12, 13, 14, 15]</pre></div></div></div><div class=\"sk-serial\"><div class=\"sk-item\"><div class=\"sk-estimator sk-toggleable\"><input class=\"sk-toggleable__control sk-hidden--visually\" id=\"bd66dbfc-f5b0-4557-bd96-52ee7e188f12\" type=\"checkbox\" ><label class=\"sk-toggleable__label\" for=\"bd66dbfc-f5b0-4557-bd96-52ee7e188f12\">OrdinalEncoder</label><div class=\"sk-toggleable__content\"><pre>OrdinalEncoder()</pre></div></div></div></div></div></div></div></div><div class=\"sk-item\"><div class=\"sk-estimator sk-toggleable\"><input class=\"sk-toggleable__control sk-hidden--visually\" id=\"24e68842-3fcd-45ab-90ea-1f74645886f2\" type=\"checkbox\" ><label class=\"sk-toggleable__label\" for=\"24e68842-3fcd-45ab-90ea-1f74645886f2\">LogisticRegression</label><div class=\"sk-toggleable__content\"><pre>LogisticRegression(solver='liblinear')</pre></div></div></div></div></div></div></div>"
      ],
      "text/plain": [
       "Pipeline(steps=[('columntransformer',\n",
       "                 ColumnTransformer(remainder='passthrough',\n",
       "                                   transformers=[('onehotencoder',\n",
       "                                                  OneHotEncoder(sparse=False),\n",
       "                                                  [0, 6, 7, 9, 16]),\n",
       "                                                 ('ordinalencoder',\n",
       "                                                  OrdinalEncoder(),\n",
       "                                                  [2, 3, 5, 8, 10, 11, 12, 13,\n",
       "                                                   14, 15])])),\n",
       "                ('logisticregression', LogisticRegression(solver='liblinear'))])"
      ]
     },
     "execution_count": 35,
     "metadata": {},
     "output_type": "execute_result"
    }
   ],
   "source": [
    "from sklearn.linear_model import LogisticRegression as lr\n",
    "algorithm_1 = lr(solver = 'liblinear')\n",
    "pipe_2 = make_pipeline(trans,algorithm_1)\n",
    "pipe_2"
   ]
  },
  {
   "cell_type": "code",
   "execution_count": 36,
   "id": "b3389eb1",
   "metadata": {
    "execution": {
     "iopub.execute_input": "2022-04-12T14:28:28.986638Z",
     "iopub.status.busy": "2022-04-12T14:28:28.985638Z",
     "iopub.status.idle": "2022-04-12T14:28:29.058337Z",
     "shell.execute_reply": "2022-04-12T14:28:29.058783Z",
     "shell.execute_reply.started": "2022-04-12T14:25:29.416864Z"
    },
    "papermill": {
     "duration": 0.128352,
     "end_time": "2022-04-12T14:28:29.058995",
     "exception": false,
     "start_time": "2022-04-12T14:28:28.930643",
     "status": "completed"
    },
    "tags": []
   },
   "outputs": [
    {
     "data": {
      "text/html": [
       "<style>div.sk-top-container {color: black;background-color: white;}div.sk-toggleable {background-color: white;}label.sk-toggleable__label {cursor: pointer;display: block;width: 100%;margin-bottom: 0;padding: 0.2em 0.3em;box-sizing: border-box;text-align: center;}div.sk-toggleable__content {max-height: 0;max-width: 0;overflow: hidden;text-align: left;background-color: #f0f8ff;}div.sk-toggleable__content pre {margin: 0.2em;color: black;border-radius: 0.25em;background-color: #f0f8ff;}input.sk-toggleable__control:checked~div.sk-toggleable__content {max-height: 200px;max-width: 100%;overflow: auto;}div.sk-estimator input.sk-toggleable__control:checked~label.sk-toggleable__label {background-color: #d4ebff;}div.sk-label input.sk-toggleable__control:checked~label.sk-toggleable__label {background-color: #d4ebff;}input.sk-hidden--visually {border: 0;clip: rect(1px 1px 1px 1px);clip: rect(1px, 1px, 1px, 1px);height: 1px;margin: -1px;overflow: hidden;padding: 0;position: absolute;width: 1px;}div.sk-estimator {font-family: monospace;background-color: #f0f8ff;margin: 0.25em 0.25em;border: 1px dotted black;border-radius: 0.25em;box-sizing: border-box;}div.sk-estimator:hover {background-color: #d4ebff;}div.sk-parallel-item::after {content: \"\";width: 100%;border-bottom: 1px solid gray;flex-grow: 1;}div.sk-label:hover label.sk-toggleable__label {background-color: #d4ebff;}div.sk-serial::before {content: \"\";position: absolute;border-left: 1px solid gray;box-sizing: border-box;top: 2em;bottom: 0;left: 50%;}div.sk-serial {display: flex;flex-direction: column;align-items: center;background-color: white;}div.sk-item {z-index: 1;}div.sk-parallel {display: flex;align-items: stretch;justify-content: center;background-color: white;}div.sk-parallel-item {display: flex;flex-direction: column;position: relative;background-color: white;}div.sk-parallel-item:first-child::after {align-self: flex-end;width: 50%;}div.sk-parallel-item:last-child::after {align-self: flex-start;width: 50%;}div.sk-parallel-item:only-child::after {width: 0;}div.sk-dashed-wrapped {border: 1px dashed gray;margin: 0.2em;box-sizing: border-box;padding-bottom: 0.1em;background-color: white;position: relative;}div.sk-label label {font-family: monospace;font-weight: bold;background-color: white;display: inline-block;line-height: 1.2em;}div.sk-label-container {position: relative;z-index: 2;text-align: center;}div.sk-container {display: inline-block;position: relative;}</style><div class=\"sk-top-container\"><div class=\"sk-container\"><div class=\"sk-item sk-dashed-wrapped\"><div class=\"sk-label-container\"><div class=\"sk-label sk-toggleable\"><input class=\"sk-toggleable__control sk-hidden--visually\" id=\"2f9f9455-4654-4f4f-8e07-776d944cb0d0\" type=\"checkbox\" ><label class=\"sk-toggleable__label\" for=\"2f9f9455-4654-4f4f-8e07-776d944cb0d0\">Pipeline</label><div class=\"sk-toggleable__content\"><pre>Pipeline(steps=[('columntransformer',\n",
       "                 ColumnTransformer(remainder='passthrough',\n",
       "                                   transformers=[('onehotencoder',\n",
       "                                                  OneHotEncoder(sparse=False),\n",
       "                                                  [0, 6, 7, 9, 16]),\n",
       "                                                 ('ordinalencoder',\n",
       "                                                  OrdinalEncoder(),\n",
       "                                                  [2, 3, 5, 8, 10, 11, 12, 13,\n",
       "                                                   14, 15])])),\n",
       "                ('logisticregression', LogisticRegression(solver='liblinear'))])</pre></div></div></div><div class=\"sk-serial\"><div class=\"sk-item sk-dashed-wrapped\"><div class=\"sk-label-container\"><div class=\"sk-label sk-toggleable\"><input class=\"sk-toggleable__control sk-hidden--visually\" id=\"3fbd1ec4-84be-4d4e-9900-76d356847c37\" type=\"checkbox\" ><label class=\"sk-toggleable__label\" for=\"3fbd1ec4-84be-4d4e-9900-76d356847c37\">columntransformer: ColumnTransformer</label><div class=\"sk-toggleable__content\"><pre>ColumnTransformer(remainder='passthrough',\n",
       "                  transformers=[('onehotencoder', OneHotEncoder(sparse=False),\n",
       "                                 [0, 6, 7, 9, 16]),\n",
       "                                ('ordinalencoder', OrdinalEncoder(),\n",
       "                                 [2, 3, 5, 8, 10, 11, 12, 13, 14, 15])])</pre></div></div></div><div class=\"sk-parallel\"><div class=\"sk-parallel-item\"><div class=\"sk-item\"><div class=\"sk-label-container\"><div class=\"sk-label sk-toggleable\"><input class=\"sk-toggleable__control sk-hidden--visually\" id=\"3b317f22-4e20-4c40-82c2-c041cda118b5\" type=\"checkbox\" ><label class=\"sk-toggleable__label\" for=\"3b317f22-4e20-4c40-82c2-c041cda118b5\">onehotencoder</label><div class=\"sk-toggleable__content\"><pre>[0, 6, 7, 9, 16]</pre></div></div></div><div class=\"sk-serial\"><div class=\"sk-item\"><div class=\"sk-estimator sk-toggleable\"><input class=\"sk-toggleable__control sk-hidden--visually\" id=\"058f38f6-08ef-42bf-a7a4-b1ebcffa7f7a\" type=\"checkbox\" ><label class=\"sk-toggleable__label\" for=\"058f38f6-08ef-42bf-a7a4-b1ebcffa7f7a\">OneHotEncoder</label><div class=\"sk-toggleable__content\"><pre>OneHotEncoder(sparse=False)</pre></div></div></div></div></div></div><div class=\"sk-parallel-item\"><div class=\"sk-item\"><div class=\"sk-label-container\"><div class=\"sk-label sk-toggleable\"><input class=\"sk-toggleable__control sk-hidden--visually\" id=\"9b1128d3-846b-4811-8e77-c2814f084fac\" type=\"checkbox\" ><label class=\"sk-toggleable__label\" for=\"9b1128d3-846b-4811-8e77-c2814f084fac\">ordinalencoder</label><div class=\"sk-toggleable__content\"><pre>[2, 3, 5, 8, 10, 11, 12, 13, 14, 15]</pre></div></div></div><div class=\"sk-serial\"><div class=\"sk-item\"><div class=\"sk-estimator sk-toggleable\"><input class=\"sk-toggleable__control sk-hidden--visually\" id=\"074a9891-aae6-4fb5-98ce-6ca73c697760\" type=\"checkbox\" ><label class=\"sk-toggleable__label\" for=\"074a9891-aae6-4fb5-98ce-6ca73c697760\">OrdinalEncoder</label><div class=\"sk-toggleable__content\"><pre>OrdinalEncoder()</pre></div></div></div></div></div></div></div></div><div class=\"sk-item\"><div class=\"sk-estimator sk-toggleable\"><input class=\"sk-toggleable__control sk-hidden--visually\" id=\"074aa459-050b-4520-9316-159db726b0e5\" type=\"checkbox\" ><label class=\"sk-toggleable__label\" for=\"074aa459-050b-4520-9316-159db726b0e5\">LogisticRegression</label><div class=\"sk-toggleable__content\"><pre>LogisticRegression(solver='liblinear')</pre></div></div></div></div></div></div></div>"
      ],
      "text/plain": [
       "Pipeline(steps=[('columntransformer',\n",
       "                 ColumnTransformer(remainder='passthrough',\n",
       "                                   transformers=[('onehotencoder',\n",
       "                                                  OneHotEncoder(sparse=False),\n",
       "                                                  [0, 6, 7, 9, 16]),\n",
       "                                                 ('ordinalencoder',\n",
       "                                                  OrdinalEncoder(),\n",
       "                                                  [2, 3, 5, 8, 10, 11, 12, 13,\n",
       "                                                   14, 15])])),\n",
       "                ('logisticregression', LogisticRegression(solver='liblinear'))])"
      ]
     },
     "execution_count": 36,
     "metadata": {},
     "output_type": "execute_result"
    }
   ],
   "source": [
    "pipe_2.fit(x_test,y_test)"
   ]
  },
  {
   "cell_type": "code",
   "execution_count": 37,
   "id": "694e5d33",
   "metadata": {
    "execution": {
     "iopub.execute_input": "2022-04-12T14:28:29.162446Z",
     "iopub.status.busy": "2022-04-12T14:28:29.161497Z",
     "iopub.status.idle": "2022-04-12T14:28:29.194206Z",
     "shell.execute_reply": "2022-04-12T14:28:29.195236Z",
     "shell.execute_reply.started": "2022-04-12T14:25:29.504136Z"
    },
    "papermill": {
     "duration": 0.086657,
     "end_time": "2022-04-12T14:28:29.195523",
     "exception": false,
     "start_time": "2022-04-12T14:28:29.108866",
     "status": "completed"
    },
    "tags": []
   },
   "outputs": [
    {
     "data": {
      "text/plain": [
       "array(['Yes', 'No', 'Yes', ..., 'No', 'No', 'Yes'], dtype=object)"
      ]
     },
     "execution_count": 37,
     "metadata": {},
     "output_type": "execute_result"
    }
   ],
   "source": [
    "pred_1 = pipe_2.predict(x_test)\n",
    "pred_1"
   ]
  },
  {
   "cell_type": "code",
   "execution_count": 38,
   "id": "36f89bd7",
   "metadata": {
    "execution": {
     "iopub.execute_input": "2022-04-12T14:28:29.358536Z",
     "iopub.status.busy": "2022-04-12T14:28:29.357604Z",
     "iopub.status.idle": "2022-04-12T14:28:29.367326Z",
     "shell.execute_reply": "2022-04-12T14:28:29.367872Z",
     "shell.execute_reply.started": "2022-04-12T14:25:29.546965Z"
    },
    "papermill": {
     "duration": 0.069779,
     "end_time": "2022-04-12T14:28:29.368041",
     "exception": false,
     "start_time": "2022-04-12T14:28:29.298262",
     "status": "completed"
    },
    "tags": []
   },
   "outputs": [
    {
     "data": {
      "text/plain": [
       "80.81914030819141"
      ]
     },
     "execution_count": 38,
     "metadata": {},
     "output_type": "execute_result"
    }
   ],
   "source": [
    "accuracy_score(pred_1,y_test)*100"
   ]
  },
  {
   "cell_type": "code",
   "execution_count": 39,
   "id": "938ee0bf",
   "metadata": {
    "execution": {
     "iopub.execute_input": "2022-04-12T14:28:29.474625Z",
     "iopub.status.busy": "2022-04-12T14:28:29.473928Z",
     "iopub.status.idle": "2022-04-12T14:28:29.509377Z",
     "shell.execute_reply": "2022-04-12T14:28:29.508824Z",
     "shell.execute_reply.started": "2022-04-12T14:25:29.581523Z"
    },
    "papermill": {
     "duration": 0.091211,
     "end_time": "2022-04-12T14:28:29.509525",
     "exception": false,
     "start_time": "2022-04-12T14:28:29.418314",
     "status": "completed"
    },
    "tags": []
   },
   "outputs": [
    {
     "data": {
      "text/html": [
       "<style>div.sk-top-container {color: black;background-color: white;}div.sk-toggleable {background-color: white;}label.sk-toggleable__label {cursor: pointer;display: block;width: 100%;margin-bottom: 0;padding: 0.2em 0.3em;box-sizing: border-box;text-align: center;}div.sk-toggleable__content {max-height: 0;max-width: 0;overflow: hidden;text-align: left;background-color: #f0f8ff;}div.sk-toggleable__content pre {margin: 0.2em;color: black;border-radius: 0.25em;background-color: #f0f8ff;}input.sk-toggleable__control:checked~div.sk-toggleable__content {max-height: 200px;max-width: 100%;overflow: auto;}div.sk-estimator input.sk-toggleable__control:checked~label.sk-toggleable__label {background-color: #d4ebff;}div.sk-label input.sk-toggleable__control:checked~label.sk-toggleable__label {background-color: #d4ebff;}input.sk-hidden--visually {border: 0;clip: rect(1px 1px 1px 1px);clip: rect(1px, 1px, 1px, 1px);height: 1px;margin: -1px;overflow: hidden;padding: 0;position: absolute;width: 1px;}div.sk-estimator {font-family: monospace;background-color: #f0f8ff;margin: 0.25em 0.25em;border: 1px dotted black;border-radius: 0.25em;box-sizing: border-box;}div.sk-estimator:hover {background-color: #d4ebff;}div.sk-parallel-item::after {content: \"\";width: 100%;border-bottom: 1px solid gray;flex-grow: 1;}div.sk-label:hover label.sk-toggleable__label {background-color: #d4ebff;}div.sk-serial::before {content: \"\";position: absolute;border-left: 1px solid gray;box-sizing: border-box;top: 2em;bottom: 0;left: 50%;}div.sk-serial {display: flex;flex-direction: column;align-items: center;background-color: white;}div.sk-item {z-index: 1;}div.sk-parallel {display: flex;align-items: stretch;justify-content: center;background-color: white;}div.sk-parallel-item {display: flex;flex-direction: column;position: relative;background-color: white;}div.sk-parallel-item:first-child::after {align-self: flex-end;width: 50%;}div.sk-parallel-item:last-child::after {align-self: flex-start;width: 50%;}div.sk-parallel-item:only-child::after {width: 0;}div.sk-dashed-wrapped {border: 1px dashed gray;margin: 0.2em;box-sizing: border-box;padding-bottom: 0.1em;background-color: white;position: relative;}div.sk-label label {font-family: monospace;font-weight: bold;background-color: white;display: inline-block;line-height: 1.2em;}div.sk-label-container {position: relative;z-index: 2;text-align: center;}div.sk-container {display: inline-block;position: relative;}</style><div class=\"sk-top-container\"><div class=\"sk-container\"><div class=\"sk-item sk-dashed-wrapped\"><div class=\"sk-label-container\"><div class=\"sk-label sk-toggleable\"><input class=\"sk-toggleable__control sk-hidden--visually\" id=\"ae506050-2b06-4b2a-862b-0f4112d72b54\" type=\"checkbox\" ><label class=\"sk-toggleable__label\" for=\"ae506050-2b06-4b2a-862b-0f4112d72b54\">Pipeline</label><div class=\"sk-toggleable__content\"><pre>Pipeline(steps=[('columntransformer',\n",
       "                 ColumnTransformer(remainder='passthrough',\n",
       "                                   transformers=[('onehotencoder',\n",
       "                                                  OneHotEncoder(sparse=False),\n",
       "                                                  [0, 6, 7, 9, 16]),\n",
       "                                                 ('ordinalencoder',\n",
       "                                                  OrdinalEncoder(),\n",
       "                                                  [2, 3, 5, 8, 10, 11, 12, 13,\n",
       "                                                   14, 15])])),\n",
       "                ('gaussiannb', GaussianNB(var_smoothing=0.0001))])</pre></div></div></div><div class=\"sk-serial\"><div class=\"sk-item sk-dashed-wrapped\"><div class=\"sk-label-container\"><div class=\"sk-label sk-toggleable\"><input class=\"sk-toggleable__control sk-hidden--visually\" id=\"dbd78540-e041-4d6d-a34a-bc07caf1b09b\" type=\"checkbox\" ><label class=\"sk-toggleable__label\" for=\"dbd78540-e041-4d6d-a34a-bc07caf1b09b\">columntransformer: ColumnTransformer</label><div class=\"sk-toggleable__content\"><pre>ColumnTransformer(remainder='passthrough',\n",
       "                  transformers=[('onehotencoder', OneHotEncoder(sparse=False),\n",
       "                                 [0, 6, 7, 9, 16]),\n",
       "                                ('ordinalencoder', OrdinalEncoder(),\n",
       "                                 [2, 3, 5, 8, 10, 11, 12, 13, 14, 15])])</pre></div></div></div><div class=\"sk-parallel\"><div class=\"sk-parallel-item\"><div class=\"sk-item\"><div class=\"sk-label-container\"><div class=\"sk-label sk-toggleable\"><input class=\"sk-toggleable__control sk-hidden--visually\" id=\"a0744bf1-f2a9-43c6-b590-ca4734d2c4f7\" type=\"checkbox\" ><label class=\"sk-toggleable__label\" for=\"a0744bf1-f2a9-43c6-b590-ca4734d2c4f7\">onehotencoder</label><div class=\"sk-toggleable__content\"><pre>[0, 6, 7, 9, 16]</pre></div></div></div><div class=\"sk-serial\"><div class=\"sk-item\"><div class=\"sk-estimator sk-toggleable\"><input class=\"sk-toggleable__control sk-hidden--visually\" id=\"2729cb7f-8f5c-4812-9eba-94951546baa5\" type=\"checkbox\" ><label class=\"sk-toggleable__label\" for=\"2729cb7f-8f5c-4812-9eba-94951546baa5\">OneHotEncoder</label><div class=\"sk-toggleable__content\"><pre>OneHotEncoder(sparse=False)</pre></div></div></div></div></div></div><div class=\"sk-parallel-item\"><div class=\"sk-item\"><div class=\"sk-label-container\"><div class=\"sk-label sk-toggleable\"><input class=\"sk-toggleable__control sk-hidden--visually\" id=\"864a2c71-65ce-49b4-b7da-a94b07bb9720\" type=\"checkbox\" ><label class=\"sk-toggleable__label\" for=\"864a2c71-65ce-49b4-b7da-a94b07bb9720\">ordinalencoder</label><div class=\"sk-toggleable__content\"><pre>[2, 3, 5, 8, 10, 11, 12, 13, 14, 15]</pre></div></div></div><div class=\"sk-serial\"><div class=\"sk-item\"><div class=\"sk-estimator sk-toggleable\"><input class=\"sk-toggleable__control sk-hidden--visually\" id=\"bb80ea2c-cf28-4bba-8806-13ffaad9ca3b\" type=\"checkbox\" ><label class=\"sk-toggleable__label\" for=\"bb80ea2c-cf28-4bba-8806-13ffaad9ca3b\">OrdinalEncoder</label><div class=\"sk-toggleable__content\"><pre>OrdinalEncoder()</pre></div></div></div></div></div></div></div></div><div class=\"sk-item\"><div class=\"sk-estimator sk-toggleable\"><input class=\"sk-toggleable__control sk-hidden--visually\" id=\"17b546f3-f305-4631-99f8-98382dab96da\" type=\"checkbox\" ><label class=\"sk-toggleable__label\" for=\"17b546f3-f305-4631-99f8-98382dab96da\">GaussianNB</label><div class=\"sk-toggleable__content\"><pre>GaussianNB(var_smoothing=0.0001)</pre></div></div></div></div></div></div></div>"
      ],
      "text/plain": [
       "Pipeline(steps=[('columntransformer',\n",
       "                 ColumnTransformer(remainder='passthrough',\n",
       "                                   transformers=[('onehotencoder',\n",
       "                                                  OneHotEncoder(sparse=False),\n",
       "                                                  [0, 6, 7, 9, 16]),\n",
       "                                                 ('ordinalencoder',\n",
       "                                                  OrdinalEncoder(),\n",
       "                                                  [2, 3, 5, 8, 10, 11, 12, 13,\n",
       "                                                   14, 15])])),\n",
       "                ('gaussiannb', GaussianNB(var_smoothing=0.0001))])"
      ]
     },
     "execution_count": 39,
     "metadata": {},
     "output_type": "execute_result"
    }
   ],
   "source": [
    "from sklearn.naive_bayes import GaussianNB\n",
    "GNB = GaussianNB(var_smoothing=1e-04)\n",
    "from sklearn.pipeline import make_pipeline\n",
    "pipe_GNB = make_pipeline(trans,GNB)\n",
    "pipe_GNB"
   ]
  },
  {
   "cell_type": "code",
   "execution_count": 40,
   "id": "3c7b2a8a",
   "metadata": {
    "execution": {
     "iopub.execute_input": "2022-04-12T14:28:29.614400Z",
     "iopub.status.busy": "2022-04-12T14:28:29.613675Z",
     "iopub.status.idle": "2022-04-12T14:28:29.700218Z",
     "shell.execute_reply": "2022-04-12T14:28:29.699650Z",
     "shell.execute_reply.started": "2022-04-12T14:25:29.662101Z"
    },
    "papermill": {
     "duration": 0.140107,
     "end_time": "2022-04-12T14:28:29.700421",
     "exception": false,
     "start_time": "2022-04-12T14:28:29.560314",
     "status": "completed"
    },
    "tags": []
   },
   "outputs": [
    {
     "data": {
      "text/html": [
       "<style>div.sk-top-container {color: black;background-color: white;}div.sk-toggleable {background-color: white;}label.sk-toggleable__label {cursor: pointer;display: block;width: 100%;margin-bottom: 0;padding: 0.2em 0.3em;box-sizing: border-box;text-align: center;}div.sk-toggleable__content {max-height: 0;max-width: 0;overflow: hidden;text-align: left;background-color: #f0f8ff;}div.sk-toggleable__content pre {margin: 0.2em;color: black;border-radius: 0.25em;background-color: #f0f8ff;}input.sk-toggleable__control:checked~div.sk-toggleable__content {max-height: 200px;max-width: 100%;overflow: auto;}div.sk-estimator input.sk-toggleable__control:checked~label.sk-toggleable__label {background-color: #d4ebff;}div.sk-label input.sk-toggleable__control:checked~label.sk-toggleable__label {background-color: #d4ebff;}input.sk-hidden--visually {border: 0;clip: rect(1px 1px 1px 1px);clip: rect(1px, 1px, 1px, 1px);height: 1px;margin: -1px;overflow: hidden;padding: 0;position: absolute;width: 1px;}div.sk-estimator {font-family: monospace;background-color: #f0f8ff;margin: 0.25em 0.25em;border: 1px dotted black;border-radius: 0.25em;box-sizing: border-box;}div.sk-estimator:hover {background-color: #d4ebff;}div.sk-parallel-item::after {content: \"\";width: 100%;border-bottom: 1px solid gray;flex-grow: 1;}div.sk-label:hover label.sk-toggleable__label {background-color: #d4ebff;}div.sk-serial::before {content: \"\";position: absolute;border-left: 1px solid gray;box-sizing: border-box;top: 2em;bottom: 0;left: 50%;}div.sk-serial {display: flex;flex-direction: column;align-items: center;background-color: white;}div.sk-item {z-index: 1;}div.sk-parallel {display: flex;align-items: stretch;justify-content: center;background-color: white;}div.sk-parallel-item {display: flex;flex-direction: column;position: relative;background-color: white;}div.sk-parallel-item:first-child::after {align-self: flex-end;width: 50%;}div.sk-parallel-item:last-child::after {align-self: flex-start;width: 50%;}div.sk-parallel-item:only-child::after {width: 0;}div.sk-dashed-wrapped {border: 1px dashed gray;margin: 0.2em;box-sizing: border-box;padding-bottom: 0.1em;background-color: white;position: relative;}div.sk-label label {font-family: monospace;font-weight: bold;background-color: white;display: inline-block;line-height: 1.2em;}div.sk-label-container {position: relative;z-index: 2;text-align: center;}div.sk-container {display: inline-block;position: relative;}</style><div class=\"sk-top-container\"><div class=\"sk-container\"><div class=\"sk-item sk-dashed-wrapped\"><div class=\"sk-label-container\"><div class=\"sk-label sk-toggleable\"><input class=\"sk-toggleable__control sk-hidden--visually\" id=\"8e20089f-2b75-4b48-9781-56f5de22e8f3\" type=\"checkbox\" ><label class=\"sk-toggleable__label\" for=\"8e20089f-2b75-4b48-9781-56f5de22e8f3\">Pipeline</label><div class=\"sk-toggleable__content\"><pre>Pipeline(steps=[('columntransformer',\n",
       "                 ColumnTransformer(remainder='passthrough',\n",
       "                                   transformers=[('onehotencoder',\n",
       "                                                  OneHotEncoder(sparse=False),\n",
       "                                                  [0, 6, 7, 9, 16]),\n",
       "                                                 ('ordinalencoder',\n",
       "                                                  OrdinalEncoder(),\n",
       "                                                  [2, 3, 5, 8, 10, 11, 12, 13,\n",
       "                                                   14, 15])])),\n",
       "                ('gaussiannb', GaussianNB(var_smoothing=0.0001))])</pre></div></div></div><div class=\"sk-serial\"><div class=\"sk-item sk-dashed-wrapped\"><div class=\"sk-label-container\"><div class=\"sk-label sk-toggleable\"><input class=\"sk-toggleable__control sk-hidden--visually\" id=\"4a1a8b45-f19e-4ec0-9d9c-54b8c9a78737\" type=\"checkbox\" ><label class=\"sk-toggleable__label\" for=\"4a1a8b45-f19e-4ec0-9d9c-54b8c9a78737\">columntransformer: ColumnTransformer</label><div class=\"sk-toggleable__content\"><pre>ColumnTransformer(remainder='passthrough',\n",
       "                  transformers=[('onehotencoder', OneHotEncoder(sparse=False),\n",
       "                                 [0, 6, 7, 9, 16]),\n",
       "                                ('ordinalencoder', OrdinalEncoder(),\n",
       "                                 [2, 3, 5, 8, 10, 11, 12, 13, 14, 15])])</pre></div></div></div><div class=\"sk-parallel\"><div class=\"sk-parallel-item\"><div class=\"sk-item\"><div class=\"sk-label-container\"><div class=\"sk-label sk-toggleable\"><input class=\"sk-toggleable__control sk-hidden--visually\" id=\"ae8a5b01-6ecc-4373-8a11-e05290153f36\" type=\"checkbox\" ><label class=\"sk-toggleable__label\" for=\"ae8a5b01-6ecc-4373-8a11-e05290153f36\">onehotencoder</label><div class=\"sk-toggleable__content\"><pre>[0, 6, 7, 9, 16]</pre></div></div></div><div class=\"sk-serial\"><div class=\"sk-item\"><div class=\"sk-estimator sk-toggleable\"><input class=\"sk-toggleable__control sk-hidden--visually\" id=\"6424ed2a-9daf-4f1d-84e2-c314f832b078\" type=\"checkbox\" ><label class=\"sk-toggleable__label\" for=\"6424ed2a-9daf-4f1d-84e2-c314f832b078\">OneHotEncoder</label><div class=\"sk-toggleable__content\"><pre>OneHotEncoder(sparse=False)</pre></div></div></div></div></div></div><div class=\"sk-parallel-item\"><div class=\"sk-item\"><div class=\"sk-label-container\"><div class=\"sk-label sk-toggleable\"><input class=\"sk-toggleable__control sk-hidden--visually\" id=\"aef3e60b-3d96-4f79-95b1-9fc6831bae44\" type=\"checkbox\" ><label class=\"sk-toggleable__label\" for=\"aef3e60b-3d96-4f79-95b1-9fc6831bae44\">ordinalencoder</label><div class=\"sk-toggleable__content\"><pre>[2, 3, 5, 8, 10, 11, 12, 13, 14, 15]</pre></div></div></div><div class=\"sk-serial\"><div class=\"sk-item\"><div class=\"sk-estimator sk-toggleable\"><input class=\"sk-toggleable__control sk-hidden--visually\" id=\"726e7a48-7449-49c2-baea-243c95a3afb2\" type=\"checkbox\" ><label class=\"sk-toggleable__label\" for=\"726e7a48-7449-49c2-baea-243c95a3afb2\">OrdinalEncoder</label><div class=\"sk-toggleable__content\"><pre>OrdinalEncoder()</pre></div></div></div></div></div></div></div></div><div class=\"sk-item\"><div class=\"sk-estimator sk-toggleable\"><input class=\"sk-toggleable__control sk-hidden--visually\" id=\"81c79a83-67e2-46e5-b961-d9542c94a43d\" type=\"checkbox\" ><label class=\"sk-toggleable__label\" for=\"81c79a83-67e2-46e5-b961-d9542c94a43d\">GaussianNB</label><div class=\"sk-toggleable__content\"><pre>GaussianNB(var_smoothing=0.0001)</pre></div></div></div></div></div></div></div>"
      ],
      "text/plain": [
       "Pipeline(steps=[('columntransformer',\n",
       "                 ColumnTransformer(remainder='passthrough',\n",
       "                                   transformers=[('onehotencoder',\n",
       "                                                  OneHotEncoder(sparse=False),\n",
       "                                                  [0, 6, 7, 9, 16]),\n",
       "                                                 ('ordinalencoder',\n",
       "                                                  OrdinalEncoder(),\n",
       "                                                  [2, 3, 5, 8, 10, 11, 12, 13,\n",
       "                                                   14, 15])])),\n",
       "                ('gaussiannb', GaussianNB(var_smoothing=0.0001))])"
      ]
     },
     "execution_count": 40,
     "metadata": {},
     "output_type": "execute_result"
    }
   ],
   "source": [
    "pipe_GNB.fit(x_train,y_train)"
   ]
  },
  {
   "cell_type": "code",
   "execution_count": 41,
   "id": "764d9971",
   "metadata": {
    "execution": {
     "iopub.execute_input": "2022-04-12T14:28:29.814961Z",
     "iopub.status.busy": "2022-04-12T14:28:29.814242Z",
     "iopub.status.idle": "2022-04-12T14:28:29.833304Z",
     "shell.execute_reply": "2022-04-12T14:28:29.833822Z",
     "shell.execute_reply.started": "2022-04-12T14:25:29.773713Z"
    },
    "papermill": {
     "duration": 0.08206,
     "end_time": "2022-04-12T14:28:29.834017",
     "exception": false,
     "start_time": "2022-04-12T14:28:29.751957",
     "status": "completed"
    },
    "tags": []
   },
   "outputs": [
    {
     "data": {
      "text/plain": [
       "array(['Yes', 'Yes', 'Yes', ..., 'No', 'Yes', 'Yes'], dtype='<U3')"
      ]
     },
     "execution_count": 41,
     "metadata": {},
     "output_type": "execute_result"
    }
   ],
   "source": [
    "pred_GNB = pipe_GNB.predict(x_test)\n",
    "pred_GNB"
   ]
  },
  {
   "cell_type": "code",
   "execution_count": 42,
   "id": "69e9cb03",
   "metadata": {
    "execution": {
     "iopub.execute_input": "2022-04-12T14:28:29.942638Z",
     "iopub.status.busy": "2022-04-12T14:28:29.942006Z",
     "iopub.status.idle": "2022-04-12T14:28:29.955271Z",
     "shell.execute_reply": "2022-04-12T14:28:29.955804Z",
     "shell.execute_reply.started": "2022-04-12T14:25:29.810101Z"
    },
    "papermill": {
     "duration": 0.069496,
     "end_time": "2022-04-12T14:28:29.955996",
     "exception": false,
     "start_time": "2022-04-12T14:28:29.886500",
     "status": "completed"
    },
    "tags": []
   },
   "outputs": [
    {
     "data": {
      "text/plain": [
       "74.93917274939173"
      ]
     },
     "execution_count": 42,
     "metadata": {},
     "output_type": "execute_result"
    }
   ],
   "source": [
    "from sklearn.metrics import accuracy_score\n",
    "accuracy_score(pred_GNB,y_test)*100"
   ]
  },
  {
   "cell_type": "code",
   "execution_count": 43,
   "id": "c4b0a99e",
   "metadata": {
    "execution": {
     "iopub.execute_input": "2022-04-12T14:28:30.065946Z",
     "iopub.status.busy": "2022-04-12T14:28:30.064944Z",
     "iopub.status.idle": "2022-04-12T14:28:30.068545Z",
     "shell.execute_reply": "2022-04-12T14:28:30.069086Z",
     "shell.execute_reply.started": "2022-04-12T14:25:29.827451Z"
    },
    "papermill": {
     "duration": 0.060214,
     "end_time": "2022-04-12T14:28:30.069267",
     "exception": false,
     "start_time": "2022-04-12T14:28:30.009053",
     "status": "completed"
    },
    "tags": []
   },
   "outputs": [],
   "source": [
    "#from sklearn.model_selection import train_test_split\n",
    "#X_train, X_test, y_train, y_test = train_test_split(X, y, stratify=y, random_state=42)\n",
    "#clf.fit(X_train, y_train).score(X_test, y_test)\n"
   ]
  },
  {
   "cell_type": "code",
   "execution_count": null,
   "id": "1b059d59",
   "metadata": {
    "papermill": {
     "duration": 0.051763,
     "end_time": "2022-04-12T14:28:30.172957",
     "exception": false,
     "start_time": "2022-04-12T14:28:30.121194",
     "status": "completed"
    },
    "tags": []
   },
   "outputs": [],
   "source": []
  }
 ],
 "metadata": {
  "kernelspec": {
   "display_name": "Python 3 (ipykernel)",
   "language": "python",
   "name": "python3"
  },
  "language_info": {
   "codemirror_mode": {
    "name": "ipython",
    "version": 3
   },
   "file_extension": ".py",
   "mimetype": "text/x-python",
   "name": "python",
   "nbconvert_exporter": "python",
   "pygments_lexer": "ipython3",
   "version": "3.10.4"
  },
  "papermill": {
   "default_parameters": {},
   "duration": 18.348739,
   "end_time": "2022-04-12T14:28:30.936414",
   "environment_variables": {},
   "exception": null,
   "input_path": "__notebook__.ipynb",
   "output_path": "__notebook__.ipynb",
   "parameters": {},
   "start_time": "2022-04-12T14:28:12.587675",
   "version": "2.3.3"
  }
 },
 "nbformat": 4,
 "nbformat_minor": 5
}
