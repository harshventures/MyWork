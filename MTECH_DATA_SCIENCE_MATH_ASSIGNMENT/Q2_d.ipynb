{
 "cells": [
  {
   "cell_type": "markdown",
   "id": "4d831dc7",
   "metadata": {},
   "source": [
    "#  Do the diagonalization of a matrix (assume it is symmetric)"
   ]
  },
  {
   "cell_type": "markdown",
   "id": "f49a0565",
   "metadata": {},
   "source": [
    "# Implementation for Diagonalization of a Square Matrix (assuming that matrix is symmetric):"
   ]
  },
  {
   "cell_type": "code",
   "execution_count": 1,
   "id": "7c9aa287",
   "metadata": {},
   "outputs": [],
   "source": [
    "import numpy as np  \n",
    "from sympy import *"
   ]
  },
  {
   "cell_type": "code",
   "execution_count": 2,
   "id": "e0d99f25",
   "metadata": {},
   "outputs": [
    {
     "name": "stdout",
     "output_type": "stream",
     "text": [
      "Implementation for Diagonalization of a Square Matrix\n"
     ]
    }
   ],
   "source": [
    "print(\"Implementation for Diagonalization of a Square Matrix\")"
   ]
  },
  {
   "cell_type": "code",
   "execution_count": 3,
   "id": "dd7d81f3",
   "metadata": {},
   "outputs": [
    {
     "data": {
      "text/latex": [
       "$\\displaystyle \\left[\\begin{matrix}1 & 0 & -1\\\\1 & 2 & 1\\\\2 & 2 & 3\\end{matrix}\\right]$"
      ],
      "text/plain": [
       "Matrix([\n",
       "[1, 0, -1],\n",
       "[1, 2,  1],\n",
       "[2, 2,  3]])"
      ]
     },
     "execution_count": 3,
     "metadata": {},
     "output_type": "execute_result"
    }
   ],
   "source": [
    "A=np.array([[1,0,-1],[1,2,1],[2,2,3]])\n",
    "A1=Matrix(A)\n",
    "A1"
   ]
  },
  {
   "cell_type": "code",
   "execution_count": 4,
   "id": "ef2d5b2c",
   "metadata": {},
   "outputs": [],
   "source": [
    "from numpy.linalg import eig\n",
    "eigen =eig(A)"
   ]
  },
  {
   "cell_type": "code",
   "execution_count": 5,
   "id": "df4eb225",
   "metadata": {},
   "outputs": [
    {
     "name": "stdout",
     "output_type": "stream",
     "text": [
      "Diagonal form 'D' of Input Matrix 'A' is:\n"
     ]
    },
    {
     "data": {
      "text/latex": [
       "$\\displaystyle \\left[\\begin{matrix}2.0 & 0 & 0\\\\0 & 3.0 & 0\\\\0 & 0 & 1.0\\end{matrix}\\right]$"
      ],
      "text/plain": [
       "Matrix([\n",
       "[2.0,   0,   0],\n",
       "[  0, 3.0,   0],\n",
       "[  0,   0, 1.0]])"
      ]
     },
     "execution_count": 5,
     "metadata": {},
     "output_type": "execute_result"
    }
   ],
   "source": [
    "D= np.diag(eigen[0]) # diagonalisation of A from its eigen values\n",
    "print(\"Diagonal form 'D' of Input Matrix 'A' is:\")\n",
    "D1=Matrix(D)\n",
    "D1"
   ]
  }
 ],
 "metadata": {
  "kernelspec": {
   "display_name": "Python 3 (ipykernel)",
   "language": "python",
   "name": "python3"
  },
  "language_info": {
   "codemirror_mode": {
    "name": "ipython",
    "version": 3
   },
   "file_extension": ".py",
   "mimetype": "text/x-python",
   "name": "python",
   "nbconvert_exporter": "python",
   "pygments_lexer": "ipython3",
   "version": "3.10.4"
  }
 },
 "nbformat": 4,
 "nbformat_minor": 5
}
