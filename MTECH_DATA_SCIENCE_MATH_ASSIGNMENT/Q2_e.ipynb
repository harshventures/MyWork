{
 "cells": [
  {
   "cell_type": "markdown",
   "id": "503aa7d3",
   "metadata": {},
   "source": [
    "# Give exponential, sine and sigmoid functions on A"
   ]
  },
  {
   "cell_type": "code",
   "execution_count": 1,
   "id": "25209021",
   "metadata": {},
   "outputs": [],
   "source": [
    "import numpy as np  \n",
    "import csv\n",
    "from sympy import *"
   ]
  },
  {
   "cell_type": "code",
   "execution_count": 2,
   "id": "6ef850f5",
   "metadata": {},
   "outputs": [
    {
     "data": {
      "text/latex": [
       "$\\displaystyle \\left[\\begin{matrix}7 & 2 & -3\\\\-5 & 6 & 4\\\\2 & 3 & -13\\end{matrix}\\right]$"
      ],
      "text/plain": [
       "Matrix([\n",
       "[ 7, 2,  -3],\n",
       "[-5, 6,   4],\n",
       "[ 2, 3, -13]])"
      ]
     },
     "execution_count": 2,
     "metadata": {},
     "output_type": "execute_result"
    }
   ],
   "source": [
    "matrix=open(\"matrix.csv\")\n",
    "A=np.loadtxt(matrix, dtype='int', delimiter=',')\n",
    "A1=Matrix(A)\n",
    "A1"
   ]
  },
  {
   "cell_type": "markdown",
   "id": "456b7981",
   "metadata": {},
   "source": [
    "# Exponential Function"
   ]
  },
  {
   "cell_type": "code",
   "execution_count": 3,
   "id": "51be1806",
   "metadata": {},
   "outputs": [
    {
     "name": "stdout",
     "output_type": "stream",
     "text": [
      "\n",
      " Exponential Value:\n",
      "[[1.09663316e+03 7.38905610e+00 4.97870684e-02]\n",
      " [6.73794700e-03 4.03428793e+02 5.45981500e+01]\n",
      " [7.38905610e+00 2.00855369e+01 2.26032941e-06]]\n"
     ]
    }
   ],
   "source": [
    "print(\"\\n Exponential Value:\")\n",
    "print(np.exp(A))"
   ]
  },
  {
   "cell_type": "markdown",
   "id": "915a6cf1",
   "metadata": {},
   "source": [
    "### Proper Matrix Format Output"
   ]
  },
  {
   "cell_type": "code",
   "execution_count": 4,
   "id": "112b6262",
   "metadata": {},
   "outputs": [
    {
     "data": {
      "text/latex": [
       "$\\displaystyle \\left[\\begin{matrix}1096.63315842846 & 7.38905609893065 & 0.0497870683678639\\\\0.00673794699908547 & 403.428793492735 & 54.5981500331442\\\\7.38905609893065 & 20.0855369231877 & 2.26032940698105 \\cdot 10^{-6}\\end{matrix}\\right]$"
      ],
      "text/plain": [
       "Matrix([\n",
       "[   1096.63315842846, 7.38905609893065,  0.0497870683678639],\n",
       "[0.00673794699908547, 403.428793492735,    54.5981500331442],\n",
       "[   7.38905609893065, 20.0855369231877, 2.26032940698105e-6]])"
      ]
     },
     "execution_count": 4,
     "metadata": {},
     "output_type": "execute_result"
    }
   ],
   "source": [
    "EXP1=Matrix(np.exp(A))\n",
    "EXP1"
   ]
  },
  {
   "cell_type": "markdown",
   "id": "d34da7cd",
   "metadata": {},
   "source": [
    "# Sine Function"
   ]
  },
  {
   "cell_type": "code",
   "execution_count": 5,
   "id": "3bee717f",
   "metadata": {},
   "outputs": [
    {
     "name": "stdout",
     "output_type": "stream",
     "text": [
      "\n",
      " Sine Value:\n",
      "[[ 0.12186934  0.0348995  -0.05233596]\n",
      " [-0.08715574  0.10452846  0.06975647]\n",
      " [ 0.0348995   0.05233596 -0.22495105]]\n"
     ]
    }
   ],
   "source": [
    "print(\"\\n Sine Value:\")\n",
    "print(np.sin(A * np.pi / 180))"
   ]
  },
  {
   "cell_type": "markdown",
   "id": "6af484f6",
   "metadata": {},
   "source": [
    "### Proper Matrix Format Output"
   ]
  },
  {
   "cell_type": "code",
   "execution_count": 6,
   "id": "34c84f15",
   "metadata": {},
   "outputs": [
    {
     "data": {
      "text/latex": [
       "$\\displaystyle \\left[\\begin{matrix}0.121869343405147 & 0.034899496702501 & -0.0523359562429438\\\\-0.0871557427476582 & 0.104528463267653 & 0.0697564737441253\\\\0.034899496702501 & 0.0523359562429438 & -0.224951054343865\\end{matrix}\\right]$"
      ],
      "text/plain": [
       "Matrix([\n",
       "[  0.121869343405147,  0.034899496702501, -0.0523359562429438],\n",
       "[-0.0871557427476582,  0.104528463267653,  0.0697564737441253],\n",
       "[  0.034899496702501, 0.0523359562429438,  -0.224951054343865]])"
      ]
     },
     "execution_count": 6,
     "metadata": {},
     "output_type": "execute_result"
    }
   ],
   "source": [
    "SINE=Matrix(np.sin(A * np.pi / 180))\n",
    "SINE"
   ]
  },
  {
   "cell_type": "markdown",
   "id": "323db6b3",
   "metadata": {},
   "source": [
    "# Sigmoid Function"
   ]
  },
  {
   "cell_type": "code",
   "execution_count": 7,
   "id": "b30a898d",
   "metadata": {},
   "outputs": [
    {
     "name": "stdout",
     "output_type": "stream",
     "text": [
      "\n",
      " Sigmoid Value:\n",
      "[[9.99088949e-01 8.80797078e-01 4.74258732e-02]\n",
      " [6.69285092e-03 9.97527377e-01 9.82013790e-01]\n",
      " [8.80797078e-01 9.52574127e-01 2.26032430e-06]]\n"
     ]
    }
   ],
   "source": [
    "print(\"\\n Sigmoid Value:\")\n",
    "def sigmoid(x):\n",
    "    return 1.0 / (1.0 + np.exp(-x))\n",
    "\n",
    "print(sigmoid(A))"
   ]
  },
  {
   "cell_type": "markdown",
   "id": "fbe8fa7d",
   "metadata": {},
   "source": [
    "### Proper Matrix Format Output"
   ]
  },
  {
   "cell_type": "code",
   "execution_count": 8,
   "id": "5719d13d",
   "metadata": {},
   "outputs": [
    {
     "data": {
      "text/latex": [
       "$\\displaystyle \\left[\\begin{matrix}0.999088948805599 & 0.880797077977882 & 0.0474258731775668\\\\0.00669285092428486 & 0.997527376843365 & 0.982013790037908\\\\0.880797077977882 & 0.952574126822433 & 2.26032429790357 \\cdot 10^{-6}\\end{matrix}\\right]$"
      ],
      "text/plain": [
       "Matrix([\n",
       "[  0.999088948805599, 0.880797077977882,  0.0474258731775668],\n",
       "[0.00669285092428486, 0.997527376843365,   0.982013790037908],\n",
       "[  0.880797077977882, 0.952574126822433, 2.26032429790357e-6]])"
      ]
     },
     "execution_count": 8,
     "metadata": {},
     "output_type": "execute_result"
    }
   ],
   "source": [
    "SIG=Matrix(sigmoid(A))\n",
    "SIG"
   ]
  }
 ],
 "metadata": {
  "kernelspec": {
   "display_name": "Python 3 (ipykernel)",
   "language": "python",
   "name": "python3"
  },
  "language_info": {
   "codemirror_mode": {
    "name": "ipython",
    "version": 3
   },
   "file_extension": ".py",
   "mimetype": "text/x-python",
   "name": "python",
   "nbconvert_exporter": "python",
   "pygments_lexer": "ipython3",
   "version": "3.10.4"
  }
 },
 "nbformat": 4,
 "nbformat_minor": 5
}
