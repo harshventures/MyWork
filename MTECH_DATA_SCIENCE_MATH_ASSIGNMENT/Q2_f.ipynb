{
 "cells": [
  {
   "cell_type": "markdown",
   "id": "7197ff0d",
   "metadata": {},
   "source": [
    "# Find all the eigenpairs of A"
   ]
  },
  {
   "cell_type": "code",
   "execution_count": 1,
   "id": "672ca98e",
   "metadata": {},
   "outputs": [],
   "source": [
    "import numpy as np\n",
    "from numpy.linalg import eig\n",
    "from sympy import *"
   ]
  },
  {
   "cell_type": "code",
   "execution_count": 2,
   "id": "294c969d",
   "metadata": {},
   "outputs": [
    {
     "data": {
      "text/latex": [
       "$\\displaystyle \\left[\\begin{matrix}7 & 2 & -3\\\\-5 & 6 & 4\\\\2 & 3 & -13\\end{matrix}\\right]$"
      ],
      "text/plain": [
       "Matrix([\n",
       "[ 7, 2,  -3],\n",
       "[-5, 6,   4],\n",
       "[ 2, 3, -13]])"
      ]
     },
     "execution_count": 2,
     "metadata": {},
     "output_type": "execute_result"
    }
   ],
   "source": [
    "matrix=open(\"matrix.csv\")\n",
    "A=np.loadtxt(matrix, dtype='int', delimiter=',')\n",
    "A1=Matrix(A)\n",
    "A1"
   ]
  },
  {
   "cell_type": "markdown",
   "id": "04986b01",
   "metadata": {},
   "source": [
    "# EIGEN VALUES"
   ]
  },
  {
   "cell_type": "code",
   "execution_count": 3,
   "id": "e06194ad",
   "metadata": {},
   "outputs": [],
   "source": [
    "EigenValues,EigenVector=eig(A)"
   ]
  },
  {
   "cell_type": "code",
   "execution_count": 4,
   "id": "874a1ad0",
   "metadata": {},
   "outputs": [
    {
     "name": "stdout",
     "output_type": "stream",
     "text": [
      "\n",
      " Eigen-value: \n",
      " [  6.58322257+2.64885979j   6.58322257-2.64885979j\n",
      " -13.16644514+0.j        ]\n"
     ]
    }
   ],
   "source": [
    "print(\"\\n Eigen-value: \\n\", EigenValues)"
   ]
  },
  {
   "cell_type": "markdown",
   "id": "dc5c5a8c",
   "metadata": {},
   "source": [
    "### Proper Matrix Format Output"
   ]
  },
  {
   "cell_type": "code",
   "execution_count": 5,
   "id": "115a3176",
   "metadata": {},
   "outputs": [
    {
     "data": {
      "text/latex": [
       "$\\displaystyle \\left[\\begin{matrix}6.58322256955403 + 2.64885979260075 i\\\\6.58322256955403 - 2.64885979260075 i\\\\-13.1664451391081\\end{matrix}\\right]$"
      ],
      "text/plain": [
       "Matrix([\n",
       "[6.58322256955403 + 2.64885979260075*I],\n",
       "[6.58322256955403 - 2.64885979260075*I],\n",
       "[                    -13.1664451391081]])"
      ]
     },
     "execution_count": 5,
     "metadata": {},
     "output_type": "execute_result"
    }
   ],
   "source": [
    "EVal=Matrix(EigenValues)\n",
    "EVal"
   ]
  },
  {
   "cell_type": "markdown",
   "id": "1ec9775a",
   "metadata": {},
   "source": [
    "# EIGEN VECTOR"
   ]
  },
  {
   "cell_type": "code",
   "execution_count": 6,
   "id": "b75a74c8",
   "metadata": {},
   "outputs": [
    {
     "name": "stdout",
     "output_type": "stream",
     "text": [
      "\n",
      " E-vector \n",
      " [[-0.00253243-0.50553275j -0.00253243+0.50553275j  0.16084441+0.j        ]\n",
      " [ 0.85156702+0.j          0.85156702-0.j         -0.16125314+0.j        ]\n",
      " [ 0.12099773-0.06799553j  0.12099773+0.06799553j  0.97371788+0.j        ]]\n"
     ]
    }
   ],
   "source": [
    "print(\"\\n E-vector \\n\", EigenVector)"
   ]
  },
  {
   "cell_type": "markdown",
   "id": "b44d827f",
   "metadata": {},
   "source": [
    "### Proper Matrix Format Output"
   ]
  },
  {
   "cell_type": "code",
   "execution_count": 7,
   "id": "a0555b9d",
   "metadata": {},
   "outputs": [
    {
     "data": {
      "text/latex": [
       "$\\displaystyle \\left[\\begin{matrix}-0.00253243301502495 - 0.505532747624385 i & -0.00253243301502495 + 0.505532747624385 i & 0.160844406909711\\\\0.851567016996992 & 0.851567016996992 & -0.161253140364978\\\\0.120997734681331 - 0.0679955265234083 i & 0.120997734681331 + 0.0679955265234083 i & 0.9737178757157\\end{matrix}\\right]$"
      ],
      "text/plain": [
       "Matrix([\n",
       "[-0.00253243301502495 - 0.505532747624385*I, -0.00253243301502495 + 0.505532747624385*I,  0.160844406909711],\n",
       "[                         0.851567016996992,                          0.851567016996992, -0.161253140364978],\n",
       "[  0.120997734681331 - 0.0679955265234083*I,   0.120997734681331 + 0.0679955265234083*I,    0.9737178757157]])"
      ]
     },
     "execution_count": 7,
     "metadata": {},
     "output_type": "execute_result"
    }
   ],
   "source": [
    "EVec=Matrix(EigenVector)\n",
    "EVec"
   ]
  }
 ],
 "metadata": {
  "kernelspec": {
   "display_name": "Python 3 (ipykernel)",
   "language": "python",
   "name": "python3"
  },
  "language_info": {
   "codemirror_mode": {
    "name": "ipython",
    "version": 3
   },
   "file_extension": ".py",
   "mimetype": "text/x-python",
   "name": "python",
   "nbconvert_exporter": "python",
   "pygments_lexer": "ipython3",
   "version": "3.10.4"
  }
 },
 "nbformat": 4,
 "nbformat_minor": 5
}
