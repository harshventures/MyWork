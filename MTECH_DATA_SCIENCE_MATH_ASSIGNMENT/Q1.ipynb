{
 "cells": [
  {
   "cell_type": "markdown",
   "id": "bdd6b593",
   "metadata": {},
   "source": [
    "# Read a matrix A from a csv file and a vector b from another csv file"
   ]
  },
  {
   "cell_type": "code",
   "execution_count": 1,
   "id": "5a37191d",
   "metadata": {},
   "outputs": [],
   "source": [
    "import numpy as np\n",
    "import csv\n",
    "from sympy import *"
   ]
  },
  {
   "cell_type": "code",
   "execution_count": 2,
   "id": "ca49d954",
   "metadata": {},
   "outputs": [],
   "source": [
    "x1=open(\"matrix.csv\")\n",
    "y1=np.loadtxt(x1,dtype='int',delimiter=',')"
   ]
  },
  {
   "cell_type": "code",
   "execution_count": 3,
   "id": "87b57332",
   "metadata": {},
   "outputs": [
    {
     "name": "stdout",
     "output_type": "stream",
     "text": [
      "Reading the matrix from CSV file : \n",
      "\n"
     ]
    },
    {
     "data": {
      "text/latex": [
       "$\\displaystyle \\left[\\begin{matrix}7 & 2 & -3\\\\-5 & 6 & 4\\\\2 & 3 & -13\\end{matrix}\\right]$"
      ],
      "text/plain": [
       "Matrix([\n",
       "[ 7, 2,  -3],\n",
       "[-5, 6,   4],\n",
       "[ 2, 3, -13]])"
      ]
     },
     "execution_count": 3,
     "metadata": {},
     "output_type": "execute_result"
    }
   ],
   "source": [
    "print(\"Reading the matrix from CSV file : \\n\")\n",
    "z1=Matrix(y1)\n",
    "z1"
   ]
  },
  {
   "cell_type": "code",
   "execution_count": 4,
   "id": "3dad2086",
   "metadata": {},
   "outputs": [
    {
     "name": "stdout",
     "output_type": "stream",
     "text": [
      "Reading the vector from CSV file : \n",
      "\n"
     ]
    }
   ],
   "source": [
    "print(\"Reading the vector from CSV file : \\n\")"
   ]
  },
  {
   "cell_type": "code",
   "execution_count": 5,
   "id": "cb53f87b",
   "metadata": {},
   "outputs": [],
   "source": [
    "x2=open(\"vector b.csv\")"
   ]
  },
  {
   "cell_type": "code",
   "execution_count": 6,
   "id": "d2451d4c",
   "metadata": {},
   "outputs": [
    {
     "data": {
      "text/latex": [
       "$\\displaystyle \\left[\\begin{matrix}8\\\\14\\\\7\\end{matrix}\\right]$"
      ],
      "text/plain": [
       "Matrix([\n",
       "[ 8],\n",
       "[14],\n",
       "[ 7]])"
      ]
     },
     "execution_count": 6,
     "metadata": {},
     "output_type": "execute_result"
    }
   ],
   "source": [
    "y2=np.loadtxt(x2,dtype='int',delimiter=',')\n",
    "z2=Matrix(y2)\n",
    "z2"
   ]
  }
 ],
 "metadata": {
  "kernelspec": {
   "display_name": "Python 3 (ipykernel)",
   "language": "python",
   "name": "python3"
  },
  "language_info": {
   "codemirror_mode": {
    "name": "ipython",
    "version": 3
   },
   "file_extension": ".py",
   "mimetype": "text/x-python",
   "name": "python",
   "nbconvert_exporter": "python",
   "pygments_lexer": "ipython3",
   "version": "3.10.4"
  }
 },
 "nbformat": 4,
 "nbformat_minor": 5
}
