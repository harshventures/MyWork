{
 "cells": [
  {
   "cell_type": "markdown",
   "id": "86f312ca",
   "metadata": {},
   "source": [
    "# Perform LU decomposition for square matrix"
   ]
  },
  {
   "cell_type": "code",
   "execution_count": 1,
   "id": "b8327b13",
   "metadata": {},
   "outputs": [],
   "source": [
    "import numpy as np\n",
    "import scipy.linalg as lg\n",
    "import csv\n",
    "from sympy import *"
   ]
  },
  {
   "cell_type": "code",
   "execution_count": 2,
   "id": "f581cfa4",
   "metadata": {},
   "outputs": [
    {
     "data": {
      "text/latex": [
       "$\\displaystyle \\left[\\begin{matrix}7 & 2 & -3\\\\-5 & 6 & 4\\\\2 & 3 & -13\\end{matrix}\\right]$"
      ],
      "text/plain": [
       "Matrix([\n",
       "[ 7, 2,  -3],\n",
       "[-5, 6,   4],\n",
       "[ 2, 3, -13]])"
      ]
     },
     "execution_count": 2,
     "metadata": {},
     "output_type": "execute_result"
    }
   ],
   "source": [
    "matrix=open(\"matrix.csv\")\n",
    "A=Matrix(np.loadtxt(matrix, dtype='int', delimiter=','))\n",
    "A"
   ]
  },
  {
   "cell_type": "code",
   "execution_count": 3,
   "id": "b34c40ff",
   "metadata": {},
   "outputs": [],
   "source": [
    "P, L, U=lg.lu(A)"
   ]
  },
  {
   "cell_type": "code",
   "execution_count": 4,
   "id": "4c2ba8a1",
   "metadata": {},
   "outputs": [
    {
     "name": "stdout",
     "output_type": "stream",
     "text": [
      " \n",
      " Permutation Matrix:\n",
      "\n"
     ]
    },
    {
     "data": {
      "text/latex": [
       "$\\displaystyle \\left[\\begin{matrix}1.0 & 0 & 0\\\\0 & 1.0 & 0\\\\0 & 0 & 1.0\\end{matrix}\\right]$"
      ],
      "text/plain": [
       "Matrix([\n",
       "[1.0,   0,   0],\n",
       "[  0, 1.0,   0],\n",
       "[  0,   0, 1.0]])"
      ]
     },
     "execution_count": 4,
     "metadata": {},
     "output_type": "execute_result"
    }
   ],
   "source": [
    "print(\" \\n Permutation Matrix:\\n\")\n",
    "P1=Matrix(P)\n",
    "P1"
   ]
  },
  {
   "cell_type": "code",
   "execution_count": 5,
   "id": "36a367a4",
   "metadata": {},
   "outputs": [
    {
     "name": "stdout",
     "output_type": "stream",
     "text": [
      " \n",
      " Lower Traingle:\n",
      "\n"
     ]
    },
    {
     "data": {
      "text/latex": [
       "$\\displaystyle \\left[\\begin{matrix}1.0 & 0 & 0\\\\-0.714285714285714 & 1.0 & 0\\\\0.285714285714286 & 0.326923076923077 & 1.0\\end{matrix}\\right]$"
      ],
      "text/plain": [
       "Matrix([\n",
       "[               1.0,                 0,   0],\n",
       "[-0.714285714285714,               1.0,   0],\n",
       "[ 0.285714285714286, 0.326923076923077, 1.0]])"
      ]
     },
     "execution_count": 5,
     "metadata": {},
     "output_type": "execute_result"
    }
   ],
   "source": [
    "print(\" \\n Lower Traingle:\\n\")\n",
    "L1=Matrix(L)\n",
    "L1"
   ]
  },
  {
   "cell_type": "code",
   "execution_count": 6,
   "id": "2e2a8240",
   "metadata": {},
   "outputs": [
    {
     "name": "stdout",
     "output_type": "stream",
     "text": [
      " \n",
      " Upper Traingle:\n",
      "\n"
     ]
    },
    {
     "data": {
      "text/latex": [
       "$\\displaystyle \\left[\\begin{matrix}7.0 & 2.0 & -3.0\\\\0 & 7.42857142857143 & 1.85714285714286\\\\0 & 0 & -12.75\\end{matrix}\\right]$"
      ],
      "text/plain": [
       "Matrix([\n",
       "[7.0,              2.0,             -3.0],\n",
       "[  0, 7.42857142857143, 1.85714285714286],\n",
       "[  0,                0,           -12.75]])"
      ]
     },
     "execution_count": 6,
     "metadata": {},
     "output_type": "execute_result"
    }
   ],
   "source": [
    "print(\" \\n Upper Traingle:\\n\")\n",
    "U1=Matrix(U)\n",
    "U1"
   ]
  },
  {
   "cell_type": "code",
   "execution_count": 7,
   "id": "5521328b",
   "metadata": {},
   "outputs": [],
   "source": [
    "decomposition=P.dot((L.dot(U)))"
   ]
  },
  {
   "cell_type": "code",
   "execution_count": 8,
   "id": "72b8e9f2",
   "metadata": {},
   "outputs": [
    {
     "name": "stdout",
     "output_type": "stream",
     "text": [
      "\n",
      " After LU decomposition, Original matrix is given below: \n",
      "\n"
     ]
    },
    {
     "data": {
      "text/latex": [
       "$\\displaystyle \\left[\\begin{matrix}7.0 & 2.0 & -3.0\\\\-5.0 & 6.0 & 4.0\\\\2.0 & 3.0 & -13.0\\end{matrix}\\right]$"
      ],
      "text/plain": [
       "Matrix([\n",
       "[ 7.0, 2.0,  -3.0],\n",
       "[-5.0, 6.0,   4.0],\n",
       "[ 2.0, 3.0, -13.0]])"
      ]
     },
     "execution_count": 8,
     "metadata": {},
     "output_type": "execute_result"
    }
   ],
   "source": [
    "print(\"\\n After LU decomposition, Original matrix is given below: \\n\")\n",
    "d1=Matrix(decomposition)\n",
    "d1"
   ]
  }
 ],
 "metadata": {
  "kernelspec": {
   "display_name": "Python 3 (ipykernel)",
   "language": "python",
   "name": "python3"
  },
  "language_info": {
   "codemirror_mode": {
    "name": "ipython",
    "version": 3
   },
   "file_extension": ".py",
   "mimetype": "text/x-python",
   "name": "python",
   "nbconvert_exporter": "python",
   "pygments_lexer": "ipython3",
   "version": "3.10.4"
  }
 },
 "nbformat": 4,
 "nbformat_minor": 5
}
