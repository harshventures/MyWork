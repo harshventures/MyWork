{
 "cells": [
  {
   "cell_type": "markdown",
   "id": "0d7e51c2",
   "metadata": {},
   "source": [
    "# Read a matrix A from a csv file and a vector b from another csv file"
   ]
  },
  {
   "cell_type": "code",
   "execution_count": 1,
   "id": "617fbf01",
   "metadata": {},
   "outputs": [],
   "source": [
    "import numpy as np\n",
    "from sympy import *\n",
    "import csv"
   ]
  },
  {
   "cell_type": "code",
   "execution_count": 2,
   "id": "cc2d0c6f",
   "metadata": {},
   "outputs": [
    {
     "name": "stdout",
     "output_type": "stream",
     "text": [
      "Reading the matrix from CSV file : \n",
      "\n"
     ]
    },
    {
     "data": {
      "text/latex": [
       "$\\displaystyle \\left[\\begin{matrix}7 & 2 & -3\\\\-5 & 6 & 4\\\\2 & 3 & -13\\end{matrix}\\right]$"
      ],
      "text/plain": [
       "Matrix([\n",
       "[ 7, 2,  -3],\n",
       "[-5, 6,   4],\n",
       "[ 2, 3, -13]])"
      ]
     },
     "execution_count": 2,
     "metadata": {},
     "output_type": "execute_result"
    }
   ],
   "source": [
    "# Reading the Matrix A from the CSV file\n",
    "matrix = open(\"matrix.csv\")\n",
    "A1=Matrix(np.loadtxt(matrix,dtype='int',delimiter=','))\n",
    "print(\"Reading the matrix from CSV file : \\n\")\n",
    "A1"
   ]
  },
  {
   "cell_type": "code",
   "execution_count": 3,
   "id": "f1ba8d6c",
   "metadata": {},
   "outputs": [
    {
     "name": "stdout",
     "output_type": "stream",
     "text": [
      "Reading vector from csv file is shown below: \n",
      "\n"
     ]
    },
    {
     "data": {
      "text/latex": [
       "$\\displaystyle \\left[\\begin{matrix}8\\\\14\\\\7\\end{matrix}\\right]$"
      ],
      "text/plain": [
       "Matrix([\n",
       "[ 8],\n",
       "[14],\n",
       "[ 7]])"
      ]
     },
     "execution_count": 3,
     "metadata": {},
     "output_type": "execute_result"
    }
   ],
   "source": [
    "# Reading the Vector B from the CSV file\n",
    "vector=open(\"vector b.csv\")\n",
    "print(\"Reading vector from csv file is shown below: \\n\")\n",
    "B1=Matrix(np.loadtxt(vector, dtype='int', delimiter=','))\n",
    "B1"
   ]
  }
 ],
 "metadata": {
  "kernelspec": {
   "display_name": "Python 3 (ipykernel)",
   "language": "python",
   "name": "python3"
  },
  "language_info": {
   "codemirror_mode": {
    "name": "ipython",
    "version": 3
   },
   "file_extension": ".py",
   "mimetype": "text/x-python",
   "name": "python",
   "nbconvert_exporter": "python",
   "pygments_lexer": "ipython3",
   "version": "3.10.4"
  }
 },
 "nbformat": 4,
 "nbformat_minor": 5
}
