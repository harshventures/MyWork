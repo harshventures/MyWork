{
 "cells": [
  {
   "cell_type": "markdown",
   "id": "b33380d9",
   "metadata": {},
   "source": [
    "# Solve the equation Ax=b and check whether there are 0,1 or infinitely many solutions"
   ]
  },
  {
   "cell_type": "code",
   "execution_count": 1,
   "id": "d6ce9843",
   "metadata": {},
   "outputs": [],
   "source": [
    "import numpy as np\n",
    "import csv\n",
    "from sympy import *"
   ]
  },
  {
   "cell_type": "code",
   "execution_count": 2,
   "id": "f92ef411",
   "metadata": {},
   "outputs": [
    {
     "data": {
      "text/latex": [
       "$\\displaystyle \\left[\\begin{matrix}7 & 2 & -3\\\\-5 & 6 & 4\\\\2 & 3 & -13\\end{matrix}\\right]$"
      ],
      "text/plain": [
       "Matrix([\n",
       "[ 7, 2,  -3],\n",
       "[-5, 6,   4],\n",
       "[ 2, 3, -13]])"
      ]
     },
     "execution_count": 2,
     "metadata": {},
     "output_type": "execute_result"
    }
   ],
   "source": [
    "matrix=open(\"matrix.csv\")\n",
    "A1=np.loadtxt(matrix, dtype='int', delimiter=',')\n",
    "A11=Matrix(A1)\n",
    "A11"
   ]
  },
  {
   "cell_type": "code",
   "execution_count": 3,
   "id": "83ac3509",
   "metadata": {},
   "outputs": [
    {
     "data": {
      "text/latex": [
       "$\\displaystyle \\left[\\begin{matrix}8\\\\14\\\\7\\end{matrix}\\right]$"
      ],
      "text/plain": [
       "Matrix([\n",
       "[ 8],\n",
       "[14],\n",
       "[ 7]])"
      ]
     },
     "execution_count": 3,
     "metadata": {},
     "output_type": "execute_result"
    }
   ],
   "source": [
    "vector=open(\"vector b.csv\")\n",
    "B1=np.loadtxt(vector, dtype='int', delimiter=',')\n",
    "B11=Matrix(B1)\n",
    "B11"
   ]
  },
  {
   "cell_type": "code",
   "execution_count": 4,
   "id": "bf8ad7e8",
   "metadata": {},
   "outputs": [
    {
     "name": "stdout",
     "output_type": "stream",
     "text": [
      "result : \n"
     ]
    },
    {
     "data": {
      "text/latex": [
       "$\\displaystyle \\left[\\begin{matrix}0.452488687782805\\\\2.61990950226244\\\\0.135746606334842\\end{matrix}\\right]$"
      ],
      "text/plain": [
       "Matrix([\n",
       "[0.452488687782805],\n",
       "[ 2.61990950226244],\n",
       "[0.135746606334842]])"
      ]
     },
     "execution_count": 4,
     "metadata": {},
     "output_type": "execute_result"
    }
   ],
   "source": [
    "result=np.linalg.solve(A1,B1)\n",
    "print(\"result : \")\n",
    "res=Matrix(result)\n",
    "res"
   ]
  }
 ],
 "metadata": {
  "kernelspec": {
   "display_name": "Python 3 (ipykernel)",
   "language": "python",
   "name": "python3"
  },
  "language_info": {
   "codemirror_mode": {
    "name": "ipython",
    "version": 3
   },
   "file_extension": ".py",
   "mimetype": "text/x-python",
   "name": "python",
   "nbconvert_exporter": "python",
   "pygments_lexer": "ipython3",
   "version": "3.10.4"
  }
 },
 "nbformat": 4,
 "nbformat_minor": 5
}
